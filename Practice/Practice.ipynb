{
 "cells": [
  {
   "cell_type": "code",
   "execution_count": 5,
   "id": "75fe2d31-278f-40b8-b842-d42112936cb2",
   "metadata": {},
   "outputs": [
    {
     "name": "stdout",
     "output_type": "stream",
     "text": [
      "Hello Meet\n"
     ]
    }
   ],
   "source": [
    "name=\"meet\"\n",
    "if name==\"meet\":\n",
    "    print(\"Hello Meet\")\n",
    "elif name==\"mavani\":\n",
    "    print(\"hello mavani\")\n",
    "else:\n",
    "    print(\"enter the correct name:\")"
   ]
  },
  {
   "cell_type": "code",
   "execution_count": 9,
   "id": "c3aa1fd1-dca0-46da-b9ba-14b95775255e",
   "metadata": {},
   "outputs": [
    {
     "name": "stdout",
     "output_type": "stream",
     "text": [
      "number is odd:1\n",
      "number is even:2\n",
      "number is odd:3\n",
      "number is even:4\n",
      "number is odd:5\n",
      "number is even:6\n",
      "number is odd:7\n",
      "number is even:8\n",
      "number is odd:9\n",
      "number is even:10\n"
     ]
    }
   ],
   "source": [
    "for num in list:\n",
    "    if num%2==0:\n",
    "        print(f\"number is even:{num}\")\n",
    "    else:\n",
    "        print(f\"number is odd:{num}\")"
   ]
  },
  {
   "cell_type": "code",
   "execution_count": 17,
   "id": "caccc8ef-4a2e-4331-8efa-9198f0340cf3",
   "metadata": {},
   "outputs": [
    {
     "data": {
      "text/plain": [
       "55"
      ]
     },
     "execution_count": 17,
     "metadata": {},
     "output_type": "execute_result"
    }
   ],
   "source": [
    "list_sum=0\n",
    "for num in list:\n",
    "    list_sum+=num\n",
    "list_sum\n"
   ]
  },
  {
   "cell_type": "code",
   "execution_count": 19,
   "id": "f81e83b5-5080-43d0-a33d-fcf57cec2d4a",
   "metadata": {},
   "outputs": [
    {
     "name": "stdout",
     "output_type": "stream",
     "text": [
      "m\n",
      "e\n",
      "e\n",
      "t\n",
      "m\n",
      "a\n",
      "v\n",
      "a\n",
      "n\n",
      "i\n"
     ]
    }
   ],
   "source": [
    "name=\"meetmavani\"\n",
    "for let in name:\n",
    "    print(let)"
   ]
  },
  {
   "cell_type": "code",
   "execution_count": 21,
   "id": "55874980-e4f8-416c-aac7-61738342e338",
   "metadata": {},
   "outputs": [
    {
     "name": "stdout",
     "output_type": "stream",
     "text": [
      "m\n",
      "e\n",
      "e\n",
      "t\n",
      "m\n",
      "a\n",
      "v\n",
      "a\n",
      "n\n",
      "i\n"
     ]
    }
   ],
   "source": [
    "\n",
    "for let in \"meetmavani\":\n",
    "    print(let)"
   ]
  },
  {
   "cell_type": "code",
   "execution_count": 25,
   "id": "26515c43-805f-41c5-ae01-4373fd7b7dfc",
   "metadata": {},
   "outputs": [
    {
     "name": "stdout",
     "output_type": "stream",
     "text": [
      "Nice!!\n",
      "Nice!!\n",
      "Nice!!\n",
      "Nice!!\n",
      "Nice!!\n",
      "Nice!!\n",
      "Nice!!\n",
      "Nice!!\n",
      "Nice!!\n",
      "Nice!!\n"
     ]
    }
   ],
   "source": [
    "for _ in \"meetmavani\":  ##_ used when we have to use no iterator name\n",
    "    print(\"Nice!!\")\n",
    "    "
   ]
  },
  {
   "cell_type": "code",
   "execution_count": 27,
   "id": "94074f96-83c3-4152-adaf-2df0e93f0eb7",
   "metadata": {},
   "outputs": [
    {
     "name": "stdout",
     "output_type": "stream",
     "text": [
      "1\n",
      "2\n",
      "3\n"
     ]
    }
   ],
   "source": [
    "tup=(1,2,3)\n",
    "for it in tup:\n",
    "    print(it)"
   ]
  },
  {
   "cell_type": "code",
   "execution_count": 29,
   "id": "f11fd2fc-bfc3-463c-8ae0-96f0bcfc6410",
   "metadata": {},
   "outputs": [
    {
     "data": {
      "text/plain": [
       "4"
      ]
     },
     "execution_count": 29,
     "metadata": {},
     "output_type": "execute_result"
    }
   ],
   "source": [
    "mylist=[(1,2),(3,4),(5,6),(7,8)]\n",
    "len(mylist)"
   ]
  },
  {
   "cell_type": "code",
   "execution_count": 31,
   "id": "23625e8c-ee6d-4bc2-b147-e52c46f5060a",
   "metadata": {},
   "outputs": [
    {
     "name": "stdout",
     "output_type": "stream",
     "text": [
      "(1, 2)\n",
      "(3, 4)\n",
      "(5, 6)\n",
      "(7, 8)\n"
     ]
    }
   ],
   "source": [
    "for it in mylist:\n",
    "    print(it)"
   ]
  },
  {
   "cell_type": "code",
   "execution_count": 39,
   "id": "4c7aa443-a900-4d68-92d1-42a21ff56a37",
   "metadata": {},
   "outputs": [
    {
     "name": "stdout",
     "output_type": "stream",
     "text": [
      "1\n",
      "2\n",
      "3\n",
      "4\n",
      "5\n",
      "6\n",
      "7\n",
      "8\n"
     ]
    }
   ],
   "source": [
    "for(a,b) in mylist:\n",
    "    print(a)\n",
    "    print(b)\n",
    "    "
   ]
  },
  {
   "cell_type": "code",
   "execution_count": 41,
   "id": "2c2c2cda-d51d-43e3-8303-47b7c8d84eae",
   "metadata": {},
   "outputs": [],
   "source": [
    "mylist=[(1,2,3),(4,5,6),(7,8,9)]"
   ]
  },
  {
   "cell_type": "code",
   "execution_count": 45,
   "id": "61c5f3b6-a92c-4e55-b162-089aedbabb11",
   "metadata": {},
   "outputs": [
    {
     "name": "stdout",
     "output_type": "stream",
     "text": [
      "3\n",
      "6\n",
      "9\n"
     ]
    }
   ],
   "source": [
    "for a,b,c in mylist:\n",
    "    print(c)"
   ]
  },
  {
   "cell_type": "code",
   "execution_count": 49,
   "id": "da4c7ac5-3f73-4349-8426-b364060a4fb1",
   "metadata": {},
   "outputs": [
    {
     "name": "stdout",
     "output_type": "stream",
     "text": [
      "k1\n",
      "1\n",
      "k2\n",
      "2\n",
      "k3\n",
      "3\n"
     ]
    }
   ],
   "source": [
    "d={'k1':1,'k2':2,'k3':3}\n",
    "for key,value in d.items():\n",
    "    print(key)\n",
    "    print(value)"
   ]
  },
  {
   "cell_type": "markdown",
   "id": "79106961-9edf-4d2a-b318-f4666c4776a4",
   "metadata": {},
   "source": [
    "## While Loop"
   ]
  },
  {
   "cell_type": "markdown",
   "id": "57f33cc3-67ca-4571-8bc9-9fc15cee4469",
   "metadata": {},
   "source": [
    "While condition:\n",
    "    execution of desired code"
   ]
  },
  {
   "cell_type": "code",
   "execution_count": 1,
   "id": "79ad1cd2-4033-42dd-b8b1-ca7847dcdc1e",
   "metadata": {},
   "outputs": [
    {
     "data": {
      "text/plain": [
       "2"
      ]
     },
     "execution_count": 1,
     "metadata": {},
     "output_type": "execute_result"
    }
   ],
   "source": [
    "1+1"
   ]
  },
  {
   "cell_type": "code",
   "execution_count": 9,
   "id": "cfa0149f-0432-4ce7-9115-979cda29028c",
   "metadata": {},
   "outputs": [
    {
     "name": "stdout",
     "output_type": "stream",
     "text": [
      "0\n",
      "1\n",
      "2\n",
      "3\n",
      "4\n",
      "X is not less than 5\n"
     ]
    }
   ],
   "source": [
    "x=0\n",
    "while x<5:\n",
    "    print(x)\n",
    "    x=x+1\n",
    "    #x+=1\n",
    "else:\n",
    "    print(\"X is not less than 5\")"
   ]
  },
  {
   "cell_type": "markdown",
   "id": "7f360e0f-6190-4678-8212-25d9c08ca835",
   "metadata": {},
   "source": [
    "### Break, continue and pass"
   ]
  },
  {
   "cell_type": "markdown",
   "id": "ad0076ff-46c5-4137-8625-66c6ea53b183",
   "metadata": {},
   "source": [
    "#### break: breaks out the current closest enclosing loop\n",
    "#### continue: goes to the top of the closest enclosing loop\n",
    "#### pass: does nothing at all"
   ]
  },
  {
   "cell_type": "code",
   "execution_count": 13,
   "id": "371ad324-6231-41b7-9d16-cbe912930e59",
   "metadata": {},
   "outputs": [],
   "source": [
    "x=[1,2,3]"
   ]
  },
  {
   "cell_type": "code",
   "execution_count": 15,
   "id": "ca8ce76f-59fc-49f7-9ca6-3df8bb6ad595",
   "metadata": {},
   "outputs": [],
   "source": [
    "for item in x:\n",
    "    pass\n",
    "    #pass used as a placement holder to pass the condition in for \n",
    "    #loop it just pass the iteration and do nothing\n",
    "\n"
   ]
  },
  {
   "cell_type": "code",
   "execution_count": 21,
   "id": "d9e54584-7fe6-43d3-bd96-b09205f3d4ee",
   "metadata": {},
   "outputs": [
    {
     "name": "stdout",
     "output_type": "stream",
     "text": [
      "e\n",
      "e\n",
      "t\n"
     ]
    }
   ],
   "source": [
    "myname=\"meet\"\n",
    "for lt in myname:\n",
    "    if lt=='m':\n",
    "        continue\n",
    "    print(lt)"
   ]
  },
  {
   "cell_type": "code",
   "execution_count": 28,
   "id": "701a8045-0336-4991-a07a-25e4e691a706",
   "metadata": {},
   "outputs": [
    {
     "name": "stdout",
     "output_type": "stream",
     "text": [
      "m\n",
      "e\n",
      "e\n"
     ]
    }
   ],
   "source": [
    "myname=\"meet\"\n",
    "for lt in myname:\n",
    "    if lt=='t':\n",
    "        break\n",
    "    print(lt)"
   ]
  },
  {
   "cell_type": "markdown",
   "id": "3a25178e-dcf3-4b72-83ec-e7366ea3d7cb",
   "metadata": {},
   "source": [
    "#### Useful Operators"
   ]
  },
  {
   "cell_type": "code",
   "execution_count": 33,
   "id": "ec03efe4-b418-402b-a335-5ea1ae825d25",
   "metadata": {},
   "outputs": [
    {
     "name": "stdout",
     "output_type": "stream",
     "text": [
      "4\n",
      "5\n",
      "6\n",
      "7\n",
      "8\n",
      "9\n"
     ]
    }
   ],
   "source": [
    "for num in range(4,10):\n",
    "    print(num)"
   ]
  },
  {
   "cell_type": "code",
   "execution_count": 37,
   "id": "20ea3164-6525-4644-b795-628b4d742e98",
   "metadata": {},
   "outputs": [
    {
     "name": "stdout",
     "output_type": "stream",
     "text": [
      "4\n",
      "6\n",
      "8\n"
     ]
    }
   ],
   "source": [
    "for num in range(4,10,2): ##(start,end,step)\n",
    "    print(num)"
   ]
  },
  {
   "cell_type": "code",
   "execution_count": 41,
   "id": "0bac3d91-c066-40f1-8e81-c77d71be2966",
   "metadata": {},
   "outputs": [
    {
     "data": {
      "text/plain": [
       "[0, 2, 4, 6, 8, 10]"
      ]
     },
     "execution_count": 41,
     "metadata": {},
     "output_type": "execute_result"
    }
   ],
   "source": [
    "list(range(0,11,2))"
   ]
  },
  {
   "cell_type": "code",
   "execution_count": 45,
   "id": "06ab3085-fe89-4b10-b472-d7e02ef63c80",
   "metadata": {},
   "outputs": [
    {
     "name": "stdout",
     "output_type": "stream",
     "text": [
      "at index 0 the letter is:a\n",
      "at index 1 the letter is:b\n",
      "at index 2 the letter is:c\n",
      "at index 3 the letter is:d\n",
      "at index 4 the letter is:e\n",
      "at index 5 the letter is:f\n",
      "at index 6 the letter is:g\n",
      "at index 7 the letter is:h\n",
      "at index 8 the letter is:i\n"
     ]
    }
   ],
   "source": [
    "ind=0\n",
    "for lt in \"abcdefghi\":\n",
    "     print(\"at index {} the letter is:{}\".format(ind,lt))\n",
    "     ind+=1"
   ]
  },
  {
   "cell_type": "code",
   "execution_count": 49,
   "id": "045ff82a-2280-424d-91c7-6f5f2aeaea44",
   "metadata": {},
   "outputs": [
    {
     "name": "stdout",
     "output_type": "stream",
     "text": [
      "m\n",
      "e\n",
      "e\n",
      "t\n",
      "m\n",
      "a\n",
      "v\n",
      "a\n",
      "n\n",
      "i\n"
     ]
    }
   ],
   "source": [
    "ind=0\n",
    "name=\"meetmavani\"\n",
    "for lt in name:\n",
    "    print(name[ind])\n",
    "    ind+=1"
   ]
  },
  {
   "cell_type": "code",
   "execution_count": 59,
   "id": "62835ad2-2fa6-4811-a66c-a8e3555c843b",
   "metadata": {},
   "outputs": [
    {
     "name": "stdout",
     "output_type": "stream",
     "text": [
      "0 m\n",
      "\n",
      "\n",
      "1 e\n",
      "\n",
      "\n",
      "2 e\n",
      "\n",
      "\n",
      "3 t\n",
      "\n",
      "\n",
      "4 m\n",
      "\n",
      "\n",
      "5 a\n",
      "\n",
      "\n",
      "6 v\n",
      "\n",
      "\n",
      "7 a\n",
      "\n",
      "\n",
      "8 n\n",
      "\n",
      "\n",
      "9 i\n",
      "\n",
      "\n"
     ]
    }
   ],
   "source": [
    "ind=0\n",
    "name=\"meetmavani\"\n",
    "for ind,let in enumerate(name):\n",
    "    print(ind,let)\n",
    "    print('\\n')"
   ]
  },
  {
   "cell_type": "code",
   "execution_count": 63,
   "id": "f79a3d8f-42e4-45f2-afbb-3a8575a9e4e8",
   "metadata": {},
   "outputs": [
    {
     "data": {
      "text/plain": [
       "<zip at 0x1511014efc0>"
      ]
     },
     "execution_count": 63,
     "metadata": {},
     "output_type": "execute_result"
    }
   ],
   "source": [
    "list=[1,2,3,4]\n",
    "list1=['a','b','c','d']\n",
    "\n",
    "zip(list,list1)"
   ]
  },
  {
   "cell_type": "code",
   "execution_count": 71,
   "id": "b1cb2389-9db5-40fc-8c51-26b189b2e938",
   "metadata": {},
   "outputs": [
    {
     "name": "stdout",
     "output_type": "stream",
     "text": [
      "(1, 'a')\n",
      "(2, 'b')\n",
      "(3, 'c')\n",
      "(4, 'd')\n"
     ]
    }
   ],
   "source": [
    "for item in zip(list,list1):\n",
    "    print(item)"
   ]
  },
  {
   "cell_type": "code",
   "execution_count": 75,
   "id": "a0db00f4-f177-432f-8cb5-340ffd906184",
   "metadata": {},
   "outputs": [
    {
     "data": {
      "text/plain": [
       "False"
      ]
     },
     "execution_count": 75,
     "metadata": {},
     "output_type": "execute_result"
    }
   ],
   "source": [
    "'m' in [1,2,4]"
   ]
  },
  {
   "cell_type": "code",
   "execution_count": 77,
   "id": "52306023-bbbd-469f-8faf-18b9c8ae8e1d",
   "metadata": {},
   "outputs": [],
   "source": [
    "list=[1,2,3,4,55,6] "
   ]
  },
  {
   "cell_type": "code",
   "execution_count": 79,
   "id": "5ae72e34-c26f-4533-a1f7-235703503ad6",
   "metadata": {},
   "outputs": [
    {
     "data": {
      "text/plain": [
       "55"
      ]
     },
     "execution_count": 79,
     "metadata": {},
     "output_type": "execute_result"
    }
   ],
   "source": [
    "max(list)"
   ]
  },
  {
   "cell_type": "code",
   "execution_count": 81,
   "id": "1c17dba9-1208-4da5-8082-1abb55ef469f",
   "metadata": {},
   "outputs": [],
   "source": [
    "from random import shuffle"
   ]
  },
  {
   "cell_type": "code",
   "execution_count": 87,
   "id": "e9a30e21-77c3-4e55-b2b1-eb21be7e7b81",
   "metadata": {},
   "outputs": [],
   "source": [
    "shuffle(list) ## doesnt return anything\n"
   ]
  },
  {
   "cell_type": "code",
   "execution_count": 89,
   "id": "36218e3b-f0f1-4c52-b653-a646a0e49c56",
   "metadata": {},
   "outputs": [
    {
     "data": {
      "text/plain": [
       "[2, 55, 1, 6, 4, 3]"
      ]
     },
     "execution_count": 89,
     "metadata": {},
     "output_type": "execute_result"
    }
   ],
   "source": [
    "list"
   ]
  },
  {
   "cell_type": "raw",
   "id": "47fae64a-3920-4dda-8082-f19e4553284f",
   "metadata": {},
   "source": [
    "from random import randint\n",
    "randint(1,10)"
   ]
  },
  {
   "cell_type": "code",
   "execution_count": 93,
   "id": "34928b35-7a28-45c9-bf50-00fa8783d269",
   "metadata": {},
   "outputs": [
    {
     "ename": "NameError",
     "evalue": "name 'a' is not defined",
     "output_type": "error",
     "traceback": [
      "\u001b[1;31m---------------------------------------------------------------------------\u001b[0m",
      "\u001b[1;31mNameError\u001b[0m                                 Traceback (most recent call last)",
      "Cell \u001b[1;32mIn[93], line 1\u001b[0m\n\u001b[1;32m----> 1\u001b[0m \u001b[43ma\u001b[49m\n",
      "\u001b[1;31mNameError\u001b[0m: name 'a' is not defined"
     ]
    }
   ],
   "source": [
    "a"
   ]
  },
  {
   "cell_type": "code",
   "execution_count": 97,
   "id": "fbd17da3-a663-4112-92ca-d78a83745c46",
   "metadata": {},
   "outputs": [
    {
     "name": "stdout",
     "output_type": "stream",
     "text": [
      "enter the number 5\n"
     ]
    },
    {
     "data": {
      "text/plain": [
       "5"
      ]
     },
     "execution_count": 97,
     "metadata": {},
     "output_type": "execute_result"
    }
   ],
   "source": [
    "int(input(\"enter the number\"))"
   ]
  },
  {
   "cell_type": "code",
   "execution_count": 99,
   "id": "66fbf410-a5f0-4970-a232-5be3317e1ea3",
   "metadata": {},
   "outputs": [],
   "source": [
    "name=\"meet\""
   ]
  },
  {
   "cell_type": "code",
   "execution_count": 101,
   "id": "12a7142b-2982-4076-87f3-6f0ee0d4242a",
   "metadata": {},
   "outputs": [],
   "source": [
    "list=[]\n",
    "for lt in name:\n",
    "    list.append(lt)"
   ]
  },
  {
   "cell_type": "code",
   "execution_count": 103,
   "id": "7f3f1d83-b04e-46bf-a6e4-30ec327827c7",
   "metadata": {},
   "outputs": [
    {
     "data": {
      "text/plain": [
       "['m', 'e', 'e', 't']"
      ]
     },
     "execution_count": 103,
     "metadata": {},
     "output_type": "execute_result"
    }
   ],
   "source": [
    "list"
   ]
  },
  {
   "cell_type": "code",
   "execution_count": 107,
   "id": "5f8fc05e-4681-4220-a846-d2534281fdb0",
   "metadata": {},
   "outputs": [],
   "source": [
    "mylist=[x for x in name]"
   ]
  },
  {
   "cell_type": "code",
   "execution_count": 109,
   "id": "9dcaf8d0-04b7-4da5-9aa9-b8270886a3fe",
   "metadata": {},
   "outputs": [
    {
     "data": {
      "text/plain": [
       "['m', 'e', 'e', 't']"
      ]
     },
     "execution_count": 109,
     "metadata": {},
     "output_type": "execute_result"
    }
   ],
   "source": [
    "mylist"
   ]
  },
  {
   "cell_type": "code",
   "execution_count": 113,
   "id": "cef899ce-9d68-44ae-a333-03647c7bc412",
   "metadata": {},
   "outputs": [],
   "source": [
    "mylist=[num**2 for num in range(0,5)]"
   ]
  },
  {
   "cell_type": "code",
   "execution_count": 115,
   "id": "c22d05f5-ae46-4f82-8858-eb0c2ed4cef1",
   "metadata": {},
   "outputs": [
    {
     "data": {
      "text/plain": [
       "[0, 1, 4, 9, 16]"
      ]
     },
     "execution_count": 115,
     "metadata": {},
     "output_type": "execute_result"
    }
   ],
   "source": [
    "mylist"
   ]
  },
  {
   "cell_type": "code",
   "execution_count": 117,
   "id": "5bfcc026-68d1-448e-88c2-5ae9e4b6a597",
   "metadata": {},
   "outputs": [],
   "source": [
    "results=[\"even\" if x%2==0 else \"odd\" for x in range(0,11)]"
   ]
  },
  {
   "cell_type": "code",
   "execution_count": 119,
   "id": "2701fc74-96ca-4de1-a3ef-99f551736383",
   "metadata": {},
   "outputs": [
    {
     "data": {
      "text/plain": [
       "['even',\n",
       " 'odd',\n",
       " 'even',\n",
       " 'odd',\n",
       " 'even',\n",
       " 'odd',\n",
       " 'even',\n",
       " 'odd',\n",
       " 'even',\n",
       " 'odd',\n",
       " 'even']"
      ]
     },
     "execution_count": 119,
     "metadata": {},
     "output_type": "execute_result"
    }
   ],
   "source": [
    "results"
   ]
  },
  {
   "cell_type": "markdown",
   "id": "59b7da05-01ea-4bca-bba2-4c778a410c9f",
   "metadata": {},
   "source": [
    "### Functions"
   ]
  },
  {
   "cell_type": "code",
   "execution_count": 124,
   "id": "2d9ba5d4-974c-4e8b-ada5-b920ab81d986",
   "metadata": {},
   "outputs": [
    {
     "data": {
      "text/plain": [
       "3"
      ]
     },
     "execution_count": 124,
     "metadata": {},
     "output_type": "execute_result"
    }
   ],
   "source": [
    "mlist=[1,2,3]\n",
    "mlist.pop()"
   ]
  },
  {
   "cell_type": "code",
   "execution_count": 126,
   "id": "c3985009-cb5b-4eac-bc0d-a183c01462d5",
   "metadata": {},
   "outputs": [
    {
     "data": {
      "text/plain": [
       "[1, 2]"
      ]
     },
     "execution_count": 126,
     "metadata": {},
     "output_type": "execute_result"
    }
   ],
   "source": [
    "mlist"
   ]
  },
  {
   "cell_type": "code",
   "execution_count": 130,
   "id": "4a38b510-339e-4f40-b7bc-e49b39603991",
   "metadata": {},
   "outputs": [
    {
     "data": {
      "text/plain": [
       "1"
      ]
     },
     "execution_count": 130,
     "metadata": {},
     "output_type": "execute_result"
    }
   ],
   "source": [
    " mlist.count(2)"
   ]
  },
  {
   "cell_type": "code",
   "execution_count": 134,
   "id": "de05840c-c63d-442a-8771-ab88b4b395c5",
   "metadata": {},
   "outputs": [],
   "source": [
    "mlist.insert(3,4)"
   ]
  },
  {
   "cell_type": "code",
   "execution_count": 136,
   "id": "7bdcadf8-24cc-47b8-ae2e-6043e0c8afbc",
   "metadata": {},
   "outputs": [
    {
     "data": {
      "text/plain": [
       "[1, 2, 4]"
      ]
     },
     "execution_count": 136,
     "metadata": {},
     "output_type": "execute_result"
    }
   ],
   "source": [
    "mlist"
   ]
  },
  {
   "cell_type": "code",
   "execution_count": 138,
   "id": "e827caeb-f829-4fc2-ac93-2000f1476aee",
   "metadata": {},
   "outputs": [
    {
     "data": {
      "text/plain": [
       "True"
      ]
     },
     "execution_count": 138,
     "metadata": {},
     "output_type": "execute_result"
    }
   ],
   "source": [
    "def check_even(num):\n",
    "    return num%2==0\n",
    "check_even(20)"
   ]
  },
  {
   "cell_type": "code",
   "execution_count": 156,
   "id": "1d258f0b-3269-404a-8111-10ff7d057331",
   "metadata": {},
   "outputs": [],
   "source": [
    "def check_even_list(list):\n",
    "    for num,ind in enumerate(list):\n",
    "        if num%2==0:\n",
    "            print(\"at ind {}:true\".format(ind))\n",
    "        else:\n",
    "            pass"
   ]
  },
  {
   "cell_type": "code",
   "execution_count": 162,
   "id": "dd991330-9344-4e36-b089-9d589b2be18b",
   "metadata": {},
   "outputs": [
    {
     "name": "stdout",
     "output_type": "stream",
     "text": [
      "at ind 1:true\n",
      "at ind 3:true\n",
      "at ind 5:true\n"
     ]
    }
   ],
   "source": [
    "check_even_list([1,2,3,4,5])"
   ]
  },
  {
   "cell_type": "code",
   "execution_count": 164,
   "id": "cb30933a-55b2-4ad9-9882-3a7b013d99bc",
   "metadata": {},
   "outputs": [],
   "source": [
    "### tuple unpacking\n"
   ]
  },
  {
   "cell_type": "code",
   "execution_count": 166,
   "id": "d2372658-8a87-458c-991b-209db3d9c4c7",
   "metadata": {},
   "outputs": [],
   "source": [
    "stock=[('apple',200),('goog',400),('msft',500)]"
   ]
  },
  {
   "cell_type": "code",
   "execution_count": 168,
   "id": "4949b0d2-3676-4be8-9637-64056549b26e",
   "metadata": {},
   "outputs": [
    {
     "name": "stdout",
     "output_type": "stream",
     "text": [
      "('apple', 200)\n",
      "('goog', 400)\n",
      "('msft', 500)\n"
     ]
    }
   ],
   "source": [
    "for item in stock:\n",
    "    print(item)"
   ]
  },
  {
   "cell_type": "code",
   "execution_count": 170,
   "id": "6f82d941-d411-4fb9-89ee-37ad77150365",
   "metadata": {},
   "outputs": [],
   "source": [
    "## Lambda expression"
   ]
  },
  {
   "cell_type": "code",
   "execution_count": 3,
   "id": "ee0ed858-33f2-4bf2-9541-800fbe2593bf",
   "metadata": {},
   "outputs": [
    {
     "name": "stdout",
     "output_type": "stream",
     "text": [
      "Requirement already satisfied: pylint in c:\\users\\meetmavani\\anaconda3\\lib\\site-packages (2.16.2)\n",
      "Requirement already satisfied: platformdirs>=2.2.0 in c:\\users\\meetmavani\\appdata\\roaming\\python\\python312\\site-packages (from pylint) (4.3.6)\n",
      "Requirement already satisfied: astroid<=2.16.0-dev0,>=2.14.2 in c:\\users\\meetmavani\\anaconda3\\lib\\site-packages (from pylint) (2.14.2)\n",
      "Requirement already satisfied: isort<6,>=4.2.5 in c:\\users\\meetmavani\\anaconda3\\lib\\site-packages (from pylint) (5.13.2)\n",
      "Requirement already satisfied: mccabe<0.8,>=0.6 in c:\\users\\meetmavani\\anaconda3\\lib\\site-packages (from pylint) (0.7.0)\n",
      "Requirement already satisfied: tomlkit>=0.10.1 in c:\\users\\meetmavani\\anaconda3\\lib\\site-packages (from pylint) (0.11.1)\n",
      "Requirement already satisfied: dill>=0.3.6 in c:\\users\\meetmavani\\anaconda3\\lib\\site-packages (from pylint) (0.3.8)\n",
      "Requirement already satisfied: colorama>=0.4.5 in c:\\users\\meetmavani\\appdata\\roaming\\python\\python312\\site-packages (from pylint) (0.4.6)\n",
      "Requirement already satisfied: lazy-object-proxy>=1.4.0 in c:\\users\\meetmavani\\anaconda3\\lib\\site-packages (from astroid<=2.16.0-dev0,>=2.14.2->pylint) (1.10.0)\n",
      "Requirement already satisfied: wrapt<2,>=1.14 in c:\\users\\meetmavani\\anaconda3\\lib\\site-packages (from astroid<=2.16.0-dev0,>=2.14.2->pylint) (1.14.1)\n"
     ]
    }
   ],
   "source": [
    "!pip install pylint\n"
   ]
  },
  {
   "cell_type": "code",
   "execution_count": 7,
   "id": "52a37d2c-9a7d-45ea-84f5-c9eee0c3ad29",
   "metadata": {},
   "outputs": [
    {
     "ename": "SyntaxError",
     "evalue": "invalid syntax (2523617418.py, line 1)",
     "output_type": "error",
     "traceback": [
      "\u001b[1;36m  Cell \u001b[1;32mIn[7], line 1\u001b[1;36m\u001b[0m\n\u001b[1;33m    pylint practice.py\u001b[0m\n\u001b[1;37m           ^\u001b[0m\n\u001b[1;31mSyntaxError\u001b[0m\u001b[1;31m:\u001b[0m invalid syntax\n"
     ]
    }
   ],
   "source": [
    " pylint practice.py"
   ]
  },
  {
   "cell_type": "code",
   "execution_count": 10,
   "id": "8b6b1745-b597-4e45-b84a-6245b3ec61b2",
   "metadata": {},
   "outputs": [
    {
     "ename": "SyntaxError",
     "evalue": "invalid syntax (1645310874.py, line 1)",
     "output_type": "error",
     "traceback": [
      "\u001b[1;36m  Cell \u001b[1;32mIn[10], line 1\u001b[1;36m\u001b[0m\n\u001b[1;33m    pylint simple1.py\u001b[0m\n\u001b[1;37m           ^\u001b[0m\n\u001b[1;31mSyntaxError\u001b[0m\u001b[1;31m:\u001b[0m invalid syntax\n"
     ]
    }
   ],
   "source": [
    "pylint simple1.py"
   ]
  },
  {
   "cell_type": "code",
   "execution_count": 12,
   "id": "cc47d74b-e700-4d0c-9f0e-f74126229211",
   "metadata": {},
   "outputs": [
    {
     "ename": "SyntaxError",
     "evalue": "invalid syntax (1645310874.py, line 1)",
     "output_type": "error",
     "traceback": [
      "\u001b[1;36m  Cell \u001b[1;32mIn[12], line 1\u001b[1;36m\u001b[0m\n\u001b[1;33m    pylint simple1.py\u001b[0m\n\u001b[1;37m           ^\u001b[0m\n\u001b[1;31mSyntaxError\u001b[0m\u001b[1;31m:\u001b[0m invalid syntax\n"
     ]
    }
   ],
   "source": [
    "pylint simple1.py"
   ]
  },
  {
   "cell_type": "code",
   "execution_count": null,
   "id": "92284f1e-4536-4be9-90bf-22b1e6e203cf",
   "metadata": {},
   "outputs": [],
   "source": []
  }
 ],
 "metadata": {
  "kernelspec": {
   "display_name": "Python 3 (ipykernel)",
   "language": "python",
   "name": "python3"
  },
  "language_info": {
   "codemirror_mode": {
    "name": "ipython",
    "version": 3
   },
   "file_extension": ".py",
   "mimetype": "text/x-python",
   "name": "python",
   "nbconvert_exporter": "python",
   "pygments_lexer": "ipython3",
   "version": "3.12.7"
  }
 },
 "nbformat": 4,
 "nbformat_minor": 5
}
