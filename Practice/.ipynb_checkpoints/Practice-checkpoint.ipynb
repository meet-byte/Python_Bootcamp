{
 "cells": [
  {
   "cell_type": "code",
   "execution_count": 1,
   "id": "9e5ea7dd-0f84-4cfd-8e5d-7bac3cdff0ef",
   "metadata": {},
   "outputs": [
    {
     "name": "stdout",
     "output_type": "stream",
     "text": [
      "1\n",
      "2\n",
      "3\n",
      "4\n",
      "5\n",
      "6\n",
      "7\n",
      "8\n",
      "9\n",
      "10\n"
     ]
    }
   ],
   "source": [
    "list=[1,2,3,4,5,6,7,8,9,10]\n",
    "for i in list:\n",
    "    print(i)"
   ]
  },
  {
   "cell_type": "code",
   "execution_count": 5,
   "id": "75fe2d31-278f-40b8-b842-d42112936cb2",
   "metadata": {},
   "outputs": [
    {
     "name": "stdout",
     "output_type": "stream",
     "text": [
      "Hello Meet\n"
     ]
    }
   ],
   "source": [
    "name=\"meet\"\n",
    "if name==\"meet\":\n",
    "    print(\"Hello Meet\")\n",
    "elif name==\"mavani\":\n",
    "    print(\"hello mavani\")\n",
    "else:\n",
    "    print(\"enter the correct name:\")"
   ]
  },
  {
   "cell_type": "code",
   "execution_count": 9,
   "id": "c3aa1fd1-dca0-46da-b9ba-14b95775255e",
   "metadata": {},
   "outputs": [
    {
     "name": "stdout",
     "output_type": "stream",
     "text": [
      "number is odd:1\n",
      "number is even:2\n",
      "number is odd:3\n",
      "number is even:4\n",
      "number is odd:5\n",
      "number is even:6\n",
      "number is odd:7\n",
      "number is even:8\n",
      "number is odd:9\n",
      "number is even:10\n"
     ]
    }
   ],
   "source": [
    "for num in list:\n",
    "    if num%2==0:\n",
    "        print(f\"number is even:{num}\")\n",
    "    else:\n",
    "        print(f\"number is odd:{num}\")"
   ]
  },
  {
   "cell_type": "code",
   "execution_count": 17,
   "id": "caccc8ef-4a2e-4331-8efa-9198f0340cf3",
   "metadata": {},
   "outputs": [
    {
     "data": {
      "text/plain": [
       "55"
      ]
     },
     "execution_count": 17,
     "metadata": {},
     "output_type": "execute_result"
    }
   ],
   "source": [
    "list_sum=0\n",
    "for num in list:\n",
    "    list_sum+=num\n",
    "list_sum\n"
   ]
  },
  {
   "cell_type": "code",
   "execution_count": 19,
   "id": "f81e83b5-5080-43d0-a33d-fcf57cec2d4a",
   "metadata": {},
   "outputs": [
    {
     "name": "stdout",
     "output_type": "stream",
     "text": [
      "m\n",
      "e\n",
      "e\n",
      "t\n",
      "m\n",
      "a\n",
      "v\n",
      "a\n",
      "n\n",
      "i\n"
     ]
    }
   ],
   "source": [
    "name=\"meetmavani\"\n",
    "for let in name:\n",
    "    print(let)"
   ]
  },
  {
   "cell_type": "code",
   "execution_count": 21,
   "id": "55874980-e4f8-416c-aac7-61738342e338",
   "metadata": {},
   "outputs": [
    {
     "name": "stdout",
     "output_type": "stream",
     "text": [
      "m\n",
      "e\n",
      "e\n",
      "t\n",
      "m\n",
      "a\n",
      "v\n",
      "a\n",
      "n\n",
      "i\n"
     ]
    }
   ],
   "source": [
    "\n",
    "for let in \"meetmavani\":\n",
    "    print(let)"
   ]
  },
  {
   "cell_type": "code",
   "execution_count": 25,
   "id": "26515c43-805f-41c5-ae01-4373fd7b7dfc",
   "metadata": {},
   "outputs": [
    {
     "name": "stdout",
     "output_type": "stream",
     "text": [
      "Nice!!\n",
      "Nice!!\n",
      "Nice!!\n",
      "Nice!!\n",
      "Nice!!\n",
      "Nice!!\n",
      "Nice!!\n",
      "Nice!!\n",
      "Nice!!\n",
      "Nice!!\n"
     ]
    }
   ],
   "source": [
    "for _ in \"meetmavani\":  ##_ used when we have to use no iterator name\n",
    "    print(\"Nice!!\")\n",
    "    "
   ]
  },
  {
   "cell_type": "code",
   "execution_count": 27,
   "id": "94074f96-83c3-4152-adaf-2df0e93f0eb7",
   "metadata": {},
   "outputs": [
    {
     "name": "stdout",
     "output_type": "stream",
     "text": [
      "1\n",
      "2\n",
      "3\n"
     ]
    }
   ],
   "source": [
    "tup=(1,2,3)\n",
    "for it in tup:\n",
    "    print(it)"
   ]
  },
  {
   "cell_type": "code",
   "execution_count": 29,
   "id": "f11fd2fc-bfc3-463c-8ae0-96f0bcfc6410",
   "metadata": {},
   "outputs": [
    {
     "data": {
      "text/plain": [
       "4"
      ]
     },
     "execution_count": 29,
     "metadata": {},
     "output_type": "execute_result"
    }
   ],
   "source": [
    "mylist=[(1,2),(3,4),(5,6),(7,8)]\n",
    "len(mylist)"
   ]
  },
  {
   "cell_type": "code",
   "execution_count": 31,
   "id": "23625e8c-ee6d-4bc2-b147-e52c46f5060a",
   "metadata": {},
   "outputs": [
    {
     "name": "stdout",
     "output_type": "stream",
     "text": [
      "(1, 2)\n",
      "(3, 4)\n",
      "(5, 6)\n",
      "(7, 8)\n"
     ]
    }
   ],
   "source": [
    "for it in mylist:\n",
    "    print(it)"
   ]
  },
  {
   "cell_type": "code",
   "execution_count": 39,
   "id": "4c7aa443-a900-4d68-92d1-42a21ff56a37",
   "metadata": {},
   "outputs": [
    {
     "name": "stdout",
     "output_type": "stream",
     "text": [
      "1\n",
      "2\n",
      "3\n",
      "4\n",
      "5\n",
      "6\n",
      "7\n",
      "8\n"
     ]
    }
   ],
   "source": [
    "for(a,b) in mylist:\n",
    "    print(a)\n",
    "    print(b)\n",
    "    "
   ]
  },
  {
   "cell_type": "code",
   "execution_count": 41,
   "id": "2c2c2cda-d51d-43e3-8303-47b7c8d84eae",
   "metadata": {},
   "outputs": [],
   "source": [
    "mylist=[(1,2,3),(4,5,6),(7,8,9)]"
   ]
  },
  {
   "cell_type": "code",
   "execution_count": 45,
   "id": "61c5f3b6-a92c-4e55-b162-089aedbabb11",
   "metadata": {},
   "outputs": [
    {
     "name": "stdout",
     "output_type": "stream",
     "text": [
      "3\n",
      "6\n",
      "9\n"
     ]
    }
   ],
   "source": [
    "for a,b,c in mylist:\n",
    "    print(c)"
   ]
  },
  {
   "cell_type": "code",
   "execution_count": 49,
   "id": "da4c7ac5-3f73-4349-8426-b364060a4fb1",
   "metadata": {},
   "outputs": [
    {
     "name": "stdout",
     "output_type": "stream",
     "text": [
      "k1\n",
      "1\n",
      "k2\n",
      "2\n",
      "k3\n",
      "3\n"
     ]
    }
   ],
   "source": [
    "d={'k1':1,'k2':2,'k3':3}\n",
    "for key,value in d.items():\n",
    "    print(key)\n",
    "    print(value)"
   ]
  },
  {
   "cell_type": "markdown",
   "id": "79106961-9edf-4d2a-b318-f4666c4776a4",
   "metadata": {},
   "source": [
    "## While Loop"
   ]
  },
  {
   "cell_type": "markdown",
   "id": "57f33cc3-67ca-4571-8bc9-9fc15cee4469",
   "metadata": {},
   "source": [
    "While condition:\n",
    "    execution of desired code"
   ]
  },
  {
   "cell_type": "code",
   "execution_count": null,
   "id": "501bab98-fe3e-47ba-855d-9f8da8e0f5dd",
   "metadata": {},
   "outputs": [],
   "source": [
    "x=0\n",
    "while x<5:\n",
    "    print(x)\n",
    "    x=x+1"
   ]
  },
  {
   "cell_type": "code",
   "execution_count": null,
   "id": "673cc6ce-422b-4601-bfad-f3bd071bc9ae",
   "metadata": {},
   "outputs": [],
   "source": [
    "x=0\n",
    "while x<5:\n",
    "    print(x)\n"
   ]
  },
  {
   "cell_type": "code",
   "execution_count": null,
   "id": "c31e9e80-fc8e-4e7f-b59d-961009ac864e",
   "metadata": {},
   "outputs": [],
   "source": []
  }
 ],
 "metadata": {
  "kernelspec": {
   "display_name": "Python 3 (ipykernel)",
   "language": "python",
   "name": "python3"
  },
  "language_info": {
   "codemirror_mode": {
    "name": "ipython",
    "version": 3
   },
   "file_extension": ".py",
   "mimetype": "text/x-python",
   "name": "python",
   "nbconvert_exporter": "python",
   "pygments_lexer": "ipython3",
   "version": "3.12.7"
  }
 },
 "nbformat": 4,
 "nbformat_minor": 5
}
