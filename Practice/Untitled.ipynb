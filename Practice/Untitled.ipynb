{
 "cells": [
  {
   "cell_type": "code",
   "execution_count": 1,
   "id": "c5255686-caa2-4f20-83ad-73af9e40644f",
   "metadata": {},
   "outputs": [
    {
     "name": "stdout",
     "output_type": "stream",
     "text": [
      "Requirement already satisfied: pylint in c:\\users\\meetmavani\\anaconda3\\lib\\site-packages (2.16.2)\n",
      "Requirement already satisfied: platformdirs>=2.2.0 in c:\\users\\meetmavani\\appdata\\roaming\\python\\python312\\site-packages (from pylint) (4.3.6)\n",
      "Requirement already satisfied: astroid<=2.16.0-dev0,>=2.14.2 in c:\\users\\meetmavani\\anaconda3\\lib\\site-packages (from pylint) (2.14.2)\n",
      "Requirement already satisfied: isort<6,>=4.2.5 in c:\\users\\meetmavani\\anaconda3\\lib\\site-packages (from pylint) (5.13.2)\n",
      "Requirement already satisfied: mccabe<0.8,>=0.6 in c:\\users\\meetmavani\\anaconda3\\lib\\site-packages (from pylint) (0.7.0)\n",
      "Requirement already satisfied: tomlkit>=0.10.1 in c:\\users\\meetmavani\\anaconda3\\lib\\site-packages (from pylint) (0.11.1)\n",
      "Requirement already satisfied: dill>=0.3.6 in c:\\users\\meetmavani\\anaconda3\\lib\\site-packages (from pylint) (0.3.8)\n",
      "Requirement already satisfied: colorama>=0.4.5 in c:\\users\\meetmavani\\appdata\\roaming\\python\\python312\\site-packages (from pylint) (0.4.6)\n",
      "Requirement already satisfied: lazy-object-proxy>=1.4.0 in c:\\users\\meetmavani\\anaconda3\\lib\\site-packages (from astroid<=2.16.0-dev0,>=2.14.2->pylint) (1.10.0)\n",
      "Requirement already satisfied: wrapt<2,>=1.14 in c:\\users\\meetmavani\\anaconda3\\lib\\site-packages (from astroid<=2.16.0-dev0,>=2.14.2->pylint) (1.14.1)\n"
     ]
    }
   ],
   "source": [
    "!pip install pylint"
   ]
  },
  {
   "cell_type": "code",
   "execution_count": 3,
   "id": "a65f6235-9d66-4036-84bf-36619dd56f35",
   "metadata": {},
   "outputs": [
    {
     "ename": "SyntaxError",
     "evalue": "invalid syntax (3566715108.py, line 1)",
     "output_type": "error",
     "traceback": [
      "\u001b[1;36m  Cell \u001b[1;32mIn[3], line 1\u001b[1;36m\u001b[0m\n\u001b[1;33m    pylint simple1.py\u001b[0m\n\u001b[1;37m           ^\u001b[0m\n\u001b[1;31mSyntaxError\u001b[0m\u001b[1;31m:\u001b[0m invalid syntax\n"
     ]
    }
   ],
   "source": [
    "pylint simple1.py\n"
   ]
  },
  {
   "cell_type": "code",
   "execution_count": null,
   "id": "ef818538-af24-430a-baa5-cde6864d55e7",
   "metadata": {},
   "outputs": [],
   "source": []
  }
 ],
 "metadata": {
  "kernelspec": {
   "display_name": "Python 3 (ipykernel)",
   "language": "python",
   "name": "python3"
  },
  "language_info": {
   "codemirror_mode": {
    "name": "ipython",
    "version": 3
   },
   "file_extension": ".py",
   "mimetype": "text/x-python",
   "name": "python",
   "nbconvert_exporter": "python",
   "pygments_lexer": "ipython3",
   "version": "3.12.7"
  }
 },
 "nbformat": 4,
 "nbformat_minor": 5
}
