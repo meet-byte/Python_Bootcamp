{
 "cells": [
  {
   "cell_type": "markdown",
   "metadata": {},
   "source": [
    "Create a  Python project to perform some simple  statistics on a list of values.\n",
    "\n"
   ]
  },
  {
   "cell_type": "code",
   "execution_count": 3,
   "metadata": {},
   "outputs": [
    {
     "name": "stdout",
     "output_type": "stream",
     "text": [
      "Collecting stats\n",
      "  Downloading stats-0.1.2a.tar.gz (127 kB)\n",
      "  Preparing metadata (setup.py): started\n",
      "  Preparing metadata (setup.py): finished with status 'done'\n",
      "Building wheels for collected packages: stats\n",
      "  Building wheel for stats (setup.py): started\n",
      "  Building wheel for stats (setup.py): finished with status 'done'\n",
      "  Created wheel for stats: filename=stats-0.1.2a0-py3-none-any.whl size=24297 sha256=3371223a6a04171935e5fd2d46eb81c9f8acafe31bc5fefb2849a2e120147e03\n",
      "  Stored in directory: c:\\users\\meetmavani\\appdata\\local\\pip\\cache\\wheels\\cf\\4f\\48\\be81fb2b5f67ca31d8bfe2e92a9ff516bd21a4824c85b19f5f\n",
      "Successfully built stats\n",
      "Installing collected packages: stats\n",
      "Successfully installed stats-0.1.2a0\n",
      "Note: you may need to restart the kernel to use updated packages.\n"
     ]
    }
   ],
   "source": [
    "pip install stats"
   ]
  },
  {
   "cell_type": "code",
   "execution_count": 5,
   "metadata": {},
   "outputs": [
    {
     "ename": "AttributeError",
     "evalue": "module 'stats' has no attribute 'Stat'",
     "output_type": "error",
     "traceback": [
      "\u001b[1;31m---------------------------------------------------------------------------\u001b[0m",
      "\u001b[1;31mAttributeError\u001b[0m                            Traceback (most recent call last)",
      "Cell \u001b[1;32mIn[5], line 2\u001b[0m\n\u001b[0;32m      1\u001b[0m \u001b[38;5;28;01mimport\u001b[39;00m \u001b[38;5;21;01mstats\u001b[39;00m\n\u001b[1;32m----> 2\u001b[0m Stats\u001b[38;5;241m=\u001b[39m\u001b[43mstats\u001b[49m\u001b[38;5;241;43m.\u001b[39;49m\u001b[43mStat\u001b[49m\n",
      "\u001b[1;31mAttributeError\u001b[0m: module 'stats' has no attribute 'Stat'"
     ]
    }
   ],
   "source": [
    "import stats\n",
    "Stats=stats.Stat"
   ]
  },
  {
   "cell_type": "code",
   "execution_count": 6,
   "metadata": {},
   "outputs": [
    {
     "ename": "AttributeError",
     "evalue": "module 'stats' has no attribute 'Stats'",
     "output_type": "error",
     "traceback": [
      "\u001b[1;31m---------------------------------------------------------------------------\u001b[0m",
      "\u001b[1;31mAttributeError\u001b[0m                            Traceback (most recent call last)",
      "Cell \u001b[1;32mIn[6], line 3\u001b[0m\n\u001b[0;32m      1\u001b[0m \u001b[38;5;28;01mimport\u001b[39;00m \u001b[38;5;21;01mstats\u001b[39;00m\n\u001b[0;32m      2\u001b[0m lst     \u001b[38;5;241m=\u001b[39m [\u001b[38;5;241m6\u001b[39m, \u001b[38;5;241m6\u001b[39m, \u001b[38;5;241m10\u001b[39m, \u001b[38;5;241m15\u001b[39m , \u001b[38;5;241m9\u001b[39m , \u001b[38;5;241m8\u001b[39m, \u001b[38;5;241m17\u001b[39m, \u001b[38;5;241m5\u001b[39m]\n\u001b[1;32m----> 3\u001b[0m Stats   \u001b[38;5;241m=\u001b[39m \u001b[43mstats\u001b[49m\u001b[38;5;241;43m.\u001b[39;49m\u001b[43mStats\u001b[49m\n",
      "\u001b[1;31mAttributeError\u001b[0m: module 'stats' has no attribute 'Stats'"
     ]
    }
   ],
   "source": [
    "import stats\n",
    "lst     = [6, 6, 10, 15 , 9 , 8, 17, 5]\n",
    "Stats   = stats.Stats"
   ]
  },
  {
   "cell_type": "code",
   "execution_count": null,
   "metadata": {},
   "outputs": [],
   "source": []
  }
 ],
 "metadata": {
  "kernelspec": {
   "display_name": "venv",
   "language": "python",
   "name": "python3"
  },
  "language_info": {
   "codemirror_mode": {
    "name": "ipython",
    "version": 3
   },
   "file_extension": ".py",
   "mimetype": "text/x-python",
   "name": "python",
   "nbconvert_exporter": "python",
   "pygments_lexer": "ipython3",
   "version": "3.12.0"
  }
 },
 "nbformat": 4,
 "nbformat_minor": 2
}
