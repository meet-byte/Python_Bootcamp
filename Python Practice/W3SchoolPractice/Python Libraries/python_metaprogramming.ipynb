{
 "cells": [
  {
   "cell_type": "markdown",
   "metadata": {},
   "source": [
    "1. Write a Python program to create a metaclass \"UpperAttrMeta\" that converts all attribute names of a class to uppercase.\n"
   ]
  },
  {
   "cell_type": "code",
   "execution_count": 2,
   "metadata": {},
   "outputs": [
    {
     "name": "stdout",
     "output_type": "stream",
     "text": [
      "False\n",
      "True\n",
      "bar\n"
     ]
    }
   ],
   "source": [
    "class UpperAttrMeta(type):\n",
    "    def __new__(cls, name, bases, dct):\n",
    "        uppercase_attr = {}\n",
    "        for name, value in dct.items():\n",
    "            if not name.startswith('__'):\n",
    "                uppercase_attr[name.upper()] = value\n",
    "            else:\n",
    "                uppercase_attr[name] = value\n",
    "        return super().__new__(cls, name, bases, uppercase_attr)\n",
    "\n",
    "class MyClass(metaclass=UpperAttrMeta):\n",
    "    foo = 'bar'\n",
    "    baz = 'qux'\n",
    "\n",
    "print(hasattr(MyClass, 'foo'))  \n",
    "print(hasattr(MyClass, 'FOO'))  \n",
    "print(MyClass.FOO)  "
   ]
  },
  {
   "cell_type": "code",
   "execution_count": null,
   "metadata": {},
   "outputs": [],
   "source": []
  },
  {
   "cell_type": "code",
   "execution_count": null,
   "metadata": {},
   "outputs": [],
   "source": []
  }
 ],
 "metadata": {
  "kernelspec": {
   "display_name": "venv",
   "language": "python",
   "name": "python3"
  },
  "language_info": {
   "codemirror_mode": {
    "name": "ipython",
    "version": 3
   },
   "file_extension": ".py",
   "mimetype": "text/x-python",
   "name": "python",
   "nbconvert_exporter": "python",
   "pygments_lexer": "ipython3",
   "version": "3.12.0"
  }
 },
 "nbformat": 4,
 "nbformat_minor": 2
}
