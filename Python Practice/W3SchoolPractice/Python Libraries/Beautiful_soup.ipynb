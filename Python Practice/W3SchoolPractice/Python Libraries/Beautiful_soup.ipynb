{
 "cells": [
  {
   "cell_type": "markdown",
   "metadata": {
    "vscode": {
     "languageId": "plaintext"
    }
   },
   "source": [
    "BeautifulSoup is a Python library used for parsing HTML and XML documents. It is part of the bs4 package and is widely used for web scraping, data extraction, and working with structured data in HTML or XML. Below is a detailed explanation of BeautifulSoup, including its features, methods, and common use cases.\n",
    "\n"
   ]
  },
  {
   "cell_type": "code",
   "execution_count": 1,
   "metadata": {},
   "outputs": [
    {
     "name": "stdout",
     "output_type": "stream",
     "text": [
      "Requirement already satisfied: beautifulsoup4 in c:\\users\\meetmavani\\appdata\\roaming\\python\\python312\\site-packages (4.12.3)\n",
      "Requirement already satisfied: lxml in c:\\users\\meetmavani\\desktop\\python\\venv\\lib\\site-packages (5.3.0)\n",
      "Requirement already satisfied: soupsieve>1.2 in c:\\users\\meetmavani\\appdata\\roaming\\python\\python312\\site-packages (from beautifulsoup4) (2.6)\n",
      "Note: you may need to restart the kernel to use updated packages.\n"
     ]
    }
   ],
   "source": [
    "pip install beautifulsoup4 lxml\n"
   ]
  },
  {
   "cell_type": "markdown",
   "metadata": {},
   "source": [
    "Key Features of BeautifulSoup\n",
    "\n",
    "Parse and navigate HTML/XML documents.\n",
    "\n",
    "Modify or extract data from web pages.\n",
    "\n",
    "Handle malformed or poorly structured HTML gracefully.\n",
    "\n",
    "Works with different parsers like:\n",
    "\n",
    "html.parser (built-in parser).\n",
    "\n",
    "lxml (faster and more powerful).\n",
    "\n",
    "html5lib (more forgiving for badly-formed HTML)."
   ]
  },
  {
   "cell_type": "code",
   "execution_count": 3,
   "metadata": {},
   "outputs": [],
   "source": [
    "from bs4 import BeautifulSoup"
   ]
  },
  {
   "cell_type": "code",
   "execution_count": 5,
   "metadata": {},
   "outputs": [],
   "source": [
    "html_doc = \"\"\"\n",
    "<html>\n",
    "  <head><title>Sample Page</title></head>\n",
    "  <body>\n",
    "    <h1>Main Heading</h1>\n",
    "    <p class=\"intro\">Welcome to the page!</p>\n",
    "    <a href=\"http://example.com\">Example Link</a>\n",
    "  </body>\n",
    "</html>\n",
    "\"\"\"\n",
    "\n",
    "soup=BeautifulSoup(html_doc,\"html.parser\")"
   ]
  },
  {
   "cell_type": "code",
   "execution_count": 12,
   "metadata": {},
   "outputs": [
    {
     "name": "stdout",
     "output_type": "stream",
     "text": [
      "Main Heading\n"
     ]
    }
   ],
   "source": [
    "print(soup.h1.string)"
   ]
  },
  {
   "cell_type": "code",
   "execution_count": 13,
   "metadata": {},
   "outputs": [],
   "source": [
    "ptag=soup.find('p')"
   ]
  },
  {
   "cell_type": "code",
   "execution_count": 14,
   "metadata": {},
   "outputs": [
    {
     "name": "stdout",
     "output_type": "stream",
     "text": [
      "<p class=\"intro\">Welcome to the page!</p>\n"
     ]
    }
   ],
   "source": [
    "print(ptag)"
   ]
  },
  {
   "cell_type": "code",
   "execution_count": 15,
   "metadata": {},
   "outputs": [
    {
     "name": "stdout",
     "output_type": "stream",
     "text": [
      "<class 'bs4.element.Tag'>\n"
     ]
    }
   ],
   "source": [
    "print(ptag.__class__)"
   ]
  },
  {
   "cell_type": "code",
   "execution_count": 17,
   "metadata": {},
   "outputs": [
    {
     "name": "stdout",
     "output_type": "stream",
     "text": [
      "Welcome to the page!\n"
     ]
    }
   ],
   "source": [
    "print(ptag.string)"
   ]
  },
  {
   "cell_type": "code",
   "execution_count": 18,
   "metadata": {},
   "outputs": [],
   "source": [
    "atag=soup.find('a')"
   ]
  },
  {
   "cell_type": "code",
   "execution_count": 19,
   "metadata": {},
   "outputs": [
    {
     "name": "stdout",
     "output_type": "stream",
     "text": [
      "<a href=\"http://example.com\">Example Link</a>\n"
     ]
    }
   ],
   "source": [
    "print(atag)"
   ]
  },
  {
   "cell_type": "code",
   "execution_count": 27,
   "metadata": {},
   "outputs": [
    {
     "name": "stdout",
     "output_type": "stream",
     "text": [
      "http://example.com\n"
     ]
    }
   ],
   "source": [
    "print(atag['href'])"
   ]
  },
  {
   "cell_type": "code",
   "execution_count": 30,
   "metadata": {},
   "outputs": [
    {
     "name": "stdout",
     "output_type": "stream",
     "text": [
      "[<p class=\"intro\">Welcome to the page!</p>]\n"
     ]
    }
   ],
   "source": [
    "print(soup.select(\".intro\"))"
   ]
  },
  {
   "cell_type": "code",
   "execution_count": 31,
   "metadata": {},
   "outputs": [],
   "source": [
    "ptag.string=\"Hello Meet Mavani\"\n",
    "atag['href']=\"_blank\""
   ]
  },
  {
   "cell_type": "code",
   "execution_count": 32,
   "metadata": {},
   "outputs": [
    {
     "name": "stdout",
     "output_type": "stream",
     "text": [
      "<a href=\"_blank\">Example Link</a>\n"
     ]
    }
   ],
   "source": [
    "print(atag)"
   ]
  },
  {
   "cell_type": "code",
   "execution_count": 33,
   "metadata": {},
   "outputs": [
    {
     "name": "stdout",
     "output_type": "stream",
     "text": [
      "\n",
      "\n",
      "Sample Page\n",
      "\n",
      "Main Heading\n",
      "Hello Meet Mavani\n",
      "Example Link\n",
      "\n",
      "\n",
      "\n"
     ]
    }
   ],
   "source": [
    "print(soup.get_text())"
   ]
  },
  {
   "cell_type": "markdown",
   "metadata": {},
   "source": [
    "Write a Python program to replace a given tag with whatever’s inside a given tag.\n",
    "\n"
   ]
  },
  {
   "cell_type": "code",
   "execution_count": 37,
   "metadata": {},
   "outputs": [
    {
     "name": "stdout",
     "output_type": "stream",
     "text": [
      "<i></i>\n",
      "<a href=\"https://w3resource.com/\">Python exercises.w3resource.com</a>\n"
     ]
    }
   ],
   "source": [
    "from bs4 import BeautifulSoup\n",
    "markup = '<a href=\"https://w3resource.com/\">Python exercises.<i>w3resource.com</i></a>'\n",
    "soup = BeautifulSoup(markup, \"html.parser\")\n",
    "atag=soup.find('a')\n",
    "\n",
    "print(atag.i.unwrap())\n",
    "\n",
    "print(atag)\n"
   ]
  },
  {
   "cell_type": "code",
   "execution_count": null,
   "metadata": {},
   "outputs": [],
   "source": []
  }
 ],
 "metadata": {
  "kernelspec": {
   "display_name": "venv",
   "language": "python",
   "name": "python3"
  },
  "language_info": {
   "codemirror_mode": {
    "name": "ipython",
    "version": 3
   },
   "file_extension": ".py",
   "mimetype": "text/x-python",
   "name": "python",
   "nbconvert_exporter": "python",
   "pygments_lexer": "ipython3",
   "version": "3.12.0"
  }
 },
 "nbformat": 4,
 "nbformat_minor": 2
}
