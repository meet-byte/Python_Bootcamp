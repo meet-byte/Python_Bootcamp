{
 "cells": [
  {
   "cell_type": "code",
   "execution_count": 1,
   "metadata": {},
   "outputs": [
    {
     "name": "stdout",
     "output_type": "stream",
     "text": [
      "CSV file as a dictionary:\n",
      "\n",
      "{'id': \"['1', '2', '3']\", 'Column1': '[33, 25, 56]', 'Column2': '[35, 30, 30]', 'Column3': '[21, 40, 55]', 'Column4': '[71, 25, 55]', 'Column5': '[10, 10, 40]'}\n",
      "{'id': \"['1', '2', '3']\", 'Column1': '[33, 25, 56]', 'Column2': '[35, 30, 30]', 'Column3': '[21, 40, 55]', 'Column4': '[71, 25, 55]', 'Column5': '[10, 10, 40]'}\n",
      "{'id': \"['1', '2', '3']\", 'Column1': '[33, 25, 56]', 'Column2': '[35, 30, 30]', 'Column3': '[21, 40, 55]', 'Column4': '[71, 25, 55]', 'Column5': '[10, 10, 40]'}\n",
      "{'id': \"['1', '2', '3']\", 'Column1': '[33, 25, 56]', 'Column2': '[35, 30, 30]', 'Column3': '[21, 40, 55]', 'Column4': '[71, 25, 55]', 'Column5': '[10, 10, 40]'}\n",
      "{'id': \"['1', '2', '3']\", 'Column1': '[33, 25, 56]', 'Column2': '[35, 30, 30]', 'Column3': '[21, 40, 55]', 'Column4': '[71, 25, 55]', 'Column5': '[10, 10, 40]'}\n",
      "{'id': \"['1', '2', '3']\", 'Column1': '[33, 25, 56]', 'Column2': '[35, 30, 30]', 'Column3': '[21, 40, 55]', 'Column4': '[71, 25, 55]', 'Column5': '[10, 10, 40]'}\n"
     ]
    }
   ],
   "source": [
    "import csv\n",
    "csv_columns = ['id','Column1', 'Column2', 'Column3', 'Column4', 'Column5']\n",
    "dict_data = {'id':['1', '2', '3'],\n",
    "    'Column1':[33, 25, 56],\n",
    "    'Column2':[35, 30, 30],\n",
    "    'Column3':[21, 40, 55],\n",
    "    'Column4':[71, 25, 55],\n",
    "    'Column5':[10, 10, 40], }\n",
    "csv_file = \"temp.csv\"\n",
    "try:\n",
    "   with open(csv_file, 'w') as csvfile:\n",
    "       writer = csv.DictWriter(csvfile, fieldnames=csv_columns)\n",
    "       writer.writeheader()\n",
    "       for data in dict_data:\n",
    "           writer.writerow(dict_data)\n",
    "except IOError:\n",
    "   print(\"I/O error\")\n",
    "data = csv.DictReader(open(csv_file))\n",
    "print(\"CSV file as a dictionary:\\n\")\n",
    "for row in data:\n",
    "   print(row)"
   ]
  },
  {
   "cell_type": "code",
   "execution_count": null,
   "metadata": {},
   "outputs": [],
   "source": []
  }
 ],
 "metadata": {
  "kernelspec": {
   "display_name": "venv",
   "language": "python",
   "name": "python3"
  },
  "language_info": {
   "codemirror_mode": {
    "name": "ipython",
    "version": 3
   },
   "file_extension": ".py",
   "mimetype": "text/x-python",
   "name": "python",
   "nbconvert_exporter": "python",
   "pygments_lexer": "ipython3",
   "version": "3.12.0"
  }
 },
 "nbformat": 4,
 "nbformat_minor": 2
}
