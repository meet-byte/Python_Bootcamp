{
 "cells": [
  {
   "cell_type": "code",
   "execution_count": 1,
   "metadata": {},
   "outputs": [
    {
     "name": "stdout",
     "output_type": "stream",
     "text": [
      "Reserved Seat 1-2\n",
      "Reserved Seat 3-3\n",
      "Reserved Seat 3-4\n",
      "Reserved Seat 1-4\n",
      "Reserved Seat 3-5\n",
      "Reserved Seat 4-2\n",
      "Reserved Seat 5-3\n",
      "Reserved Seat 5-4\n",
      "Reserved Seat 5-6\n",
      "Reserved Seat 4-6\n",
      "Reserved Seat 2-6\n",
      "Reserved Seat 2-5\n",
      "Reserved Seat 2-3\n",
      "Reserved Seat 2-1\n",
      "Reserved Seat 4-1\n",
      "Reserved Seat 4-4\n",
      "Reserved Seat 1-6\n",
      "Reserved Seat 3-1\n",
      "Reserved Seat 5-5\n",
      "Reserved Seat 1-5\n",
      "Reserved Seat 2-4\n",
      "Reserved Seat 4-3\n",
      "Reserved Seat 5-2\n",
      "Reserved Seat 5-1\n",
      "Reserved Seat 3-2\n",
      "Reserved Seat 2-2\n",
      "Reserved Seat 1-3\n",
      "Reserved Seat 1-1\n",
      "Reserved Seat 4-5\n",
      "Reserved Seat 3-6\n"
     ]
    }
   ],
   "source": [
    "import tkinter as tk\n",
    "\n",
    "class AuditoriumReservationSystem:\n",
    "    def __init__(self, parent):\n",
    "        self.parent = parent\n",
    "        self.parent.title(\"Auditorium Reservation\")\n",
    "\n",
    "        self.rows = 5\n",
    "        self.columns = 6\n",
    "\n",
    "        self.seating_frame = tk.Frame(parent)\n",
    "        self.seating_frame.pack()\n",
    "\n",
    "        # Create and display seat buttons in a grid\n",
    "        self.create_seats()\n",
    "\n",
    "    def create_seats(self):\n",
    "        self.seat_buttons = []\n",
    "\n",
    "        for row in range(self.rows):\n",
    "            seat_row = []\n",
    "            for col in range(self.columns):\n",
    "                seat_button = tk.Button(self.seating_frame, text=f\"Seat {row+1}-{col+1}\", width=8, height=2, command=lambda r=row, c=col: self.reserve_seat(r, c))\n",
    "                seat_button.grid(row=row, column=col, padx=5, pady=5)\n",
    "                seat_row.append(seat_button)\n",
    "            self.seat_buttons.append(seat_row)\n",
    "\n",
    "    def reserve_seat(self, row, col):\n",
    "        seat_button = self.seat_buttons[row][col]\n",
    "        if seat_button['state'] == 'normal':\n",
    "            seat_button.configure(bg='lightgreen', state='disabled')\n",
    "            print(f\"Reserved Seat {row+1}-{col+1}\")\n",
    "        else:\n",
    "            print(f\"Seat {row+1}-{col+1} is already reserved.\")\n",
    "\n",
    "if __name__ == \"__main__\":\n",
    "    parent = tk.Tk()\n",
    "    app = AuditoriumReservationSystem(parent)\n",
    "    parent.mainloop()\n"
   ]
  },
  {
   "cell_type": "code",
   "execution_count": 2,
   "metadata": {},
   "outputs": [],
   "source": [
    "import tkinter as tk\n",
    "# Create the main Tkinter window\n",
    "parent = tk.Tk()\n",
    "parent.title(\"Vertical Labels with Pack\")\n",
    "# Create three label widgets\n",
    "label1 = tk.Label(parent, text=\"Python Exercises\", padx=10, pady=5)\n",
    "label2 = tk.Label(parent, text=\"Java Exercises\", padx=10, pady=5)\n",
    "label3 = tk.Label(parent, text=\"C++ Exercises\", padx=10, pady=5)\n",
    "# Use the Pack geometry manager to arrange labels vertically\n",
    "label1.pack(side=\"top\")\n",
    "label2.pack(side=\"top\")\n",
    "label3.pack(side=\"top\")\n",
    "# Run the Tkinter main loop\n",
    "parent.mainloop()\n"
   ]
  },
  {
   "cell_type": "code",
   "execution_count": null,
   "metadata": {},
   "outputs": [],
   "source": []
  }
 ],
 "metadata": {
  "kernelspec": {
   "display_name": "venv",
   "language": "python",
   "name": "python3"
  },
  "language_info": {
   "codemirror_mode": {
    "name": "ipython",
    "version": 3
   },
   "file_extension": ".py",
   "mimetype": "text/x-python",
   "name": "python",
   "nbconvert_exporter": "python",
   "pygments_lexer": "ipython3",
   "version": "3.12.0"
  }
 },
 "nbformat": 4,
 "nbformat_minor": 2
}
