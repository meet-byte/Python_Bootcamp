{
 "cells": [
  {
   "cell_type": "markdown",
   "metadata": {},
   "source": [
    "Python GeoPY"
   ]
  },
  {
   "cell_type": "code",
   "execution_count": 2,
   "metadata": {},
   "outputs": [
    {
     "name": "stdout",
     "output_type": "stream",
     "text": [
      "Defaulting to user installation because normal site-packages is not writeable\n",
      "Collecting geopy\n",
      "  Using cached geopy-2.4.1-py3-none-any.whl.metadata (6.8 kB)\n",
      "Collecting geographiclib<3,>=1.52 (from geopy)\n",
      "  Using cached geographiclib-2.0-py3-none-any.whl.metadata (1.4 kB)\n",
      "Using cached geopy-2.4.1-py3-none-any.whl (125 kB)\n",
      "Using cached geographiclib-2.0-py3-none-any.whl (40 kB)\n",
      "Installing collected packages: geographiclib, geopy\n",
      "Successfully installed geographiclib-2.0 geopy-2.4.1\n"
     ]
    }
   ],
   "source": [
    "!pip install geopy"
   ]
  },
  {
   "cell_type": "code",
   "execution_count": 10,
   "metadata": {},
   "outputs": [
    {
     "name": "stdout",
     "output_type": "stream",
     "text": [
      "Address: Mini Bazar, Surat, Katargam Taluka, Surat, Gujarat, 395101, India\n",
      "Latitude: 21.2103907\n",
      "Longitude: 72.8512421\n"
     ]
    }
   ],
   "source": [
    "from geopy.geocoders import Nominatim\n",
    "from geopy.exc import GeocoderTimedOut\n",
    "\n",
    "geolocator = Nominatim(user_agent=\"my_geopy_app_1.0\")  \n",
    "\n",
    "address = \"Mini Bazar, Surat, Katargam Taluka, Surat, Gujarat, 395101, India\"\n",
    "\n",
    "try:\n",
    "    location = geolocator.geocode(address)\n",
    "\n",
    "    if location:\n",
    "        print(\"Address:\", location.address)\n",
    "        print(\"Latitude:\", location.latitude)\n",
    "        print(\"Longitude:\", location.longitude)\n",
    "    else:\n",
    "        print(\"Location not found.\")\n",
    "except GeocoderTimedOut:\n",
    "    print(\"Geocoding service timed out. Please try again later.\")\n",
    "except Exception as e:\n",
    "    print(f\"An error occurred: {e}\")\n"
   ]
  },
  {
   "cell_type": "code",
   "execution_count": 11,
   "metadata": {},
   "outputs": [
    {
     "name": "stdout",
     "output_type": "stream",
     "text": [
      "An error occurred: The provided API key is invalid. \n"
     ]
    }
   ],
   "source": [
    "from geopy.geocoders import GoogleV3\n",
    "from geopy.exc import GeocoderTimedOut\n",
    "\n",
    "# Replace 'YOUR_GOOGLE_MAPS_API_KEY' with your actual API key\n",
    "api_key = \"https://maps.googleapis.com/maps/api/js?key=&callback=initMap\"\n",
    "\n",
    "# Initialize the geolocator with the Google Maps API and your API key\n",
    "geolocator = GoogleV3(api_key=api_key)\n",
    "\n",
    "# Define the address to geocode\n",
    "address = \"Veer Vinayak Damodar Savarkar Flyover, opp. STAR BAZAR, Jalaram Society, Adajan Gam, Adajan, Surat, Gujarat 395009\"\n",
    "\n",
    "try:\n",
    "    # Perform geocoding\n",
    "    location = geolocator.geocode(address)\n",
    "\n",
    "    # Check if the location was found\n",
    "    if location:\n",
    "        print(\"Address:\", location.address)\n",
    "        print(\"Latitude:\", location.latitude)\n",
    "        print(\"Longitude:\", location.longitude)\n",
    "    else:\n",
    "        print(\"Location not found.\")\n",
    "except GeocoderTimedOut:\n",
    "    print(\"Geocoding service timed out. Please try again later.\")\n",
    "except Exception as e:\n",
    "    print(f\"An error occurred: {e}\")\n"
   ]
  },
  {
   "cell_type": "code",
   "execution_count": null,
   "metadata": {},
   "outputs": [],
   "source": []
  }
 ],
 "metadata": {
  "kernelspec": {
   "display_name": "venv",
   "language": "python",
   "name": "python3"
  },
  "language_info": {
   "codemirror_mode": {
    "name": "ipython",
    "version": 3
   },
   "file_extension": ".py",
   "mimetype": "text/x-python",
   "name": "python",
   "nbconvert_exporter": "python",
   "pygments_lexer": "ipython3",
   "version": "3.12.0"
  }
 },
 "nbformat": 4,
 "nbformat_minor": 2
}
