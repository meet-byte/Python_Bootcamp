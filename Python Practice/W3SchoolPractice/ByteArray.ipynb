{
 "cells": [
  {
   "cell_type": "markdown",
   "metadata": {},
   "source": [
    "10. Write a Python function that converts a bytearray to a bytes object.\n"
   ]
  },
  {
   "cell_type": "code",
   "execution_count": 1,
   "metadata": {},
   "outputs": [],
   "source": [
    "def bytearray_to_bytes(byte_obj):\n",
    "    bytes_obj=bytes(byte_obj)\n",
    "    return bytes_obj\n",
    "original_bytearray=bytearray([1,2,3,4,5,6,7,8,9])\n"
   ]
  },
  {
   "cell_type": "code",
   "execution_count": 2,
   "metadata": {},
   "outputs": [
    {
     "name": "stdout",
     "output_type": "stream",
     "text": [
      "Original Bytearray: bytearray(b'\\x01\\x02\\x03\\x04\\x05\\x06\\x07\\x08\\t')\n",
      "Bytes Object: b'\\x01\\x02\\x03\\x04\\x05\\x06\\x07\\x08\\t'\n",
      "Decoded String: \u0001\u0002\u0003\u0004\u0005\u0006\t\n"
     ]
    }
   ],
   "source": [
    "bytes_result = bytearray_to_bytes(original_bytearray)\n",
    "        \n",
    "print(\"Original Bytearray:\", original_bytearray)\n",
    "print(\"Bytes Object:\", bytes_result)\n",
    "print(\"Decoded String:\", bytes_result.decode(\"utf-8\"))"
   ]
  },
  {
   "cell_type": "code",
   "execution_count": null,
   "metadata": {},
   "outputs": [],
   "source": []
  }
 ],
 "metadata": {
  "kernelspec": {
   "display_name": "venv",
   "language": "python",
   "name": "python3"
  },
  "language_info": {
   "codemirror_mode": {
    "name": "ipython",
    "version": 3
   },
   "file_extension": ".py",
   "mimetype": "text/x-python",
   "name": "python",
   "nbconvert_exporter": "python",
   "pygments_lexer": "ipython3",
   "version": "3.12.0"
  }
 },
 "nbformat": 4,
 "nbformat_minor": 2
}
