{
 "cells": [
  {
   "cell_type": "markdown",
   "metadata": {},
   "source": [
    "Python Object-Oriented Programming"
   ]
  },
  {
   "cell_type": "markdown",
   "metadata": {},
   "source": [
    "11. Write a Python program to create a class representing a bank. Include methods for managing customer accounts and transactions."
   ]
  },
  {
   "cell_type": "code",
   "execution_count": 1,
   "metadata": {},
   "outputs": [
    {
     "name": "stdout",
     "output_type": "stream",
     "text": [
      "New a/c No.:  SB-123 Deposit Amount: 1000\n",
      "Account created successfully.\n",
      "New a/c No.:  SB-124 Deposit Amount: 1500\n",
      "Account created successfully.\n",
      "\n",
      "Deposit Rs. 600 to A/c No. SB-123\n",
      "Deposit successful.\n",
      "Withdraw Rs. 350 From A/c No. SB-124\n",
      "Withdrawal successful.\n",
      "A/c. No. SB-123\n",
      "Account balance: 1600\n",
      "A/c. No. SB-124\n",
      "Account balance: 1150\n",
      "Withdraw Rs. 1200 From A/c No. SB-124\n",
      "Insufficient funds.\n",
      "A/c. No. SB-134\n",
      "Account number does not exist.\n"
     ]
    }
   ],
   "source": [
    "class Bank:\n",
    "    def __init__(self):\n",
    "        self.customers = {}\n",
    "\n",
    "    def create_account(self, account_number, initial_balance=0):\n",
    "        if account_number in self.customers:\n",
    "            print(\"Account number already exists.\")\n",
    "        else:\n",
    "            self.customers[account_number] = initial_balance\n",
    "            print(\"Account created successfully.\")\n",
    "\n",
    "    def make_deposit(self, account_number, amount):\n",
    "        if account_number in self.customers:\n",
    "            self.customers[account_number] += amount\n",
    "            print(\"Deposit successful.\")\n",
    "        else:\n",
    "            print(\"Account number does not exist.\")\n",
    "\n",
    "    def make_withdrawal(self, account_number, amount):\n",
    "        if account_number in self.customers:\n",
    "            if self.customers[account_number] >= amount:\n",
    "                self.customers[account_number] -= amount\n",
    "                print(\"Withdrawal successful.\")\n",
    "            else:\n",
    "                print(\"Insufficient funds.\")\n",
    "        else:\n",
    "            print(\"Account number does not exist.\")\n",
    "\n",
    "    def check_balance(self, account_number):\n",
    "        if account_number in self.customers:\n",
    "            balance = self.customers[account_number]\n",
    "            print(f\"Account balance: {balance}\")\n",
    "        else:\n",
    "            print(\"Account number does not exist.\")\n",
    "\n",
    "bank = Bank()\n",
    "\n",
    "acno1= \"SB-123\"\n",
    "damt1 = 1000\n",
    "print(\"New a/c No.: \",acno1,\"Deposit Amount:\",damt1)\n",
    "bank.create_account(acno1, damt1)\n",
    "\n",
    "acno2= \"SB-124\"\n",
    "damt2 = 1500\n",
    "print(\"New a/c No.: \",acno2,\"Deposit Amount:\",damt2)\n",
    "bank.create_account(acno2, damt2)\n",
    "\n",
    "wamt1 = 600\n",
    "print(\"\\nDeposit Rs.\",wamt1,\"to A/c No.\",acno1)\n",
    "bank.make_deposit(acno1, wamt1)\n",
    "\n",
    "wamt2 = 350\n",
    "print(\"Withdraw Rs.\",wamt2,\"From A/c No.\",acno2)\n",
    "bank.make_withdrawal(acno2, wamt2)\n",
    "\n",
    "print(\"A/c. No.\",acno1)\n",
    "bank.check_balance(acno1)\n",
    "\n",
    "print(\"A/c. No.\",acno2)\n",
    "bank.check_balance(acno2)\n",
    "\n",
    "wamt3 = 1200\n",
    "print(\"Withdraw Rs.\",wamt3,\"From A/c No.\",acno2)\n",
    "bank.make_withdrawal(acno2, wamt3)\n",
    "\n",
    "acno3 = \"SB-134\"\n",
    "print(\"A/c. No.\",acno3)\n",
    "bank.check_balance(acno3)  "
   ]
  },
  {
   "cell_type": "code",
   "execution_count": null,
   "metadata": {},
   "outputs": [],
   "source": []
  }
 ],
 "metadata": {
  "kernelspec": {
   "display_name": "venv",
   "language": "python",
   "name": "python3"
  },
  "language_info": {
   "codemirror_mode": {
    "name": "ipython",
    "version": 3
   },
   "file_extension": ".py",
   "mimetype": "text/x-python",
   "name": "python",
   "nbconvert_exporter": "python",
   "pygments_lexer": "ipython3",
   "version": "3.12.0"
  }
 },
 "nbformat": 4,
 "nbformat_minor": 2
}
