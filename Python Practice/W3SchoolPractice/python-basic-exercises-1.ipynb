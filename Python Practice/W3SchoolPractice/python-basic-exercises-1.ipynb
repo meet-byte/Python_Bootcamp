{
 "cells": [
  {
   "cell_type": "markdown",
   "metadata": {},
   "source": [
    "149. Cube Sum of Smaller Integers\n",
    "\n",
    "Write a Python function that takes a positive integer and returns the sum of the cube of all positive integers smaller than the specified number."
   ]
  },
  {
   "cell_type": "code",
   "execution_count": 1,
   "metadata": {},
   "outputs": [],
   "source": [
    "def cubesum(num):\n",
    "    sum=0\n",
    "    for i in range(1,num):\n",
    "        sum+=i**3\n",
    "    return sum\n"
   ]
  },
  {
   "cell_type": "code",
   "execution_count": 3,
   "metadata": {},
   "outputs": [
    {
     "data": {
      "text/plain": [
       "13359025"
      ]
     },
     "execution_count": 3,
     "metadata": {},
     "output_type": "execute_result"
    }
   ],
   "source": [
    "n=int(input(\"enter the number\"))\n",
    "cubesum(n)"
   ]
  },
  {
   "cell_type": "markdown",
   "metadata": {},
   "source": [
    "150. Odd Product Pair Checker\n",
    "Write a Python function to check whether a distinct pair of numbers whose product is odd is present in a sequence of integer values."
   ]
  },
  {
   "cell_type": "code",
   "execution_count": 4,
   "metadata": {},
   "outputs": [],
   "source": [
    "def odd_product(num):\n",
    "    for i in range(0,len(num)):\n",
    "        for j in range(0,len(num)):\n",
    "            if i!=j:\n",
    "                if num[i]*num[j]%2==1:\n",
    "                    return True\n",
    "                \n",
    "    return False\n"
   ]
  },
  {
   "cell_type": "code",
   "execution_count": 7,
   "metadata": {},
   "outputs": [
    {
     "name": "stdout",
     "output_type": "stream",
     "text": [
      "False\n",
      "True\n",
      "True\n"
     ]
    }
   ],
   "source": [
    "dt1 = [2, 4, 6, 8]\n",
    "dt2 = [1, 6, 4, 7, 8]\n",
    "dt3 = [1, 3, 5, 7, 9]\n",
    "print(odd_product(dt1))\n",
    "print(odd_product(dt2))\n",
    "print(odd_product(dt3))"
   ]
  },
  {
   "cell_type": "markdown",
   "metadata": {},
   "source": []
  }
 ],
 "metadata": {
  "kernelspec": {
   "display_name": "venv",
   "language": "python",
   "name": "python3"
  },
  "language_info": {
   "codemirror_mode": {
    "name": "ipython",
    "version": 3
   },
   "file_extension": ".py",
   "mimetype": "text/x-python",
   "name": "python",
   "nbconvert_exporter": "python",
   "pygments_lexer": "ipython3",
   "version": "3.12.0"
  }
 },
 "nbformat": 4,
 "nbformat_minor": 2
}
