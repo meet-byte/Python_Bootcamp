{
 "cells": [
  {
   "cell_type": "markdown",
   "metadata": {},
   "source": [
    "Python Sorting Exercises\n"
   ]
  },
  {
   "cell_type": "markdown",
   "metadata": {},
   "source": [
    "Sort a String\n"
   ]
  },
  {
   "cell_type": "code",
   "execution_count": 1,
   "metadata": {},
   "outputs": [],
   "source": [
    " def sort(self, s): \n",
    "        ls=[]\n",
    "        for x in s:\n",
    "            ls.append(x)\n",
    "        ls.sort()\n",
    "        st=''\n",
    "        for x in ls:\n",
    "            st+=x\n",
    "        return st"
   ]
  },
  {
   "cell_type": "markdown",
   "metadata": {},
   "source": [
    "Counting Sort\n"
   ]
  },
  {
   "cell_type": "code",
   "execution_count": null,
   "metadata": {},
   "outputs": [],
   "source": [
    "class Solution:\n",
    "    def countSort(self,arr):\n",
    "        # code here\n",
    "        temp=[0]*26\n",
    "        st=\"\"\n",
    "        for ch in arr:\n",
    "            rem=ord(ch)-97\n",
    "            temp[rem]+=1\n",
    "        i=0\n",
    "        for ch in temp:\n",
    "          \n",
    "                st+=chr((97+i))*ch\n",
    "                i+=1\n",
    "        return st"
   ]
  },
  {
   "cell_type": "markdown",
   "metadata": {},
   "source": [
    "Topological sort\n"
   ]
  },
  {
   "cell_type": "code",
   "execution_count": 4,
   "metadata": {},
   "outputs": [],
   "source": [
    "def dfs(self , node , stack , adj , vis):\n",
    "        vis[node] = 1\n",
    "        \n",
    "        for i in range(0,len(adj[node])):\n",
    "            if vis[adj[node][i]] == 0 :\n",
    "                temp = adj[node][i]\n",
    "                self.dfs(temp , stack , adj , vis)\n",
    "                \n",
    "        stack.append(node)        \n",
    "    \n",
    "def topologicalSort(self,adj):\n",
    "        n = len(adj)\n",
    "        stack = []\n",
    "        vis = [0]*(n+1) \n",
    "\n",
    "        for i in range(n):\n",
    "            if vis[i] == 0:\n",
    "                self.dfs(i ,stack,adj ,vis)\n",
    "                \n",
    "        ans = []\n",
    "        \n",
    "        while(len(stack) != 0):\n",
    "            ans.append(stack.pop())\n",
    "    \n",
    "        return ans"
   ]
  },
  {
   "cell_type": "markdown",
   "metadata": {},
   "source": [
    "Bubble Sort"
   ]
  },
  {
   "cell_type": "code",
   "execution_count": 29,
   "metadata": {},
   "outputs": [
    {
     "name": "stdout",
     "output_type": "stream",
     "text": [
      "[5, 32, 43, 2, 65]\n"
     ]
    }
   ],
   "source": [
    "inp=int(input(\"enter the no of the elements in the array:\"))\n",
    "k=inp\n",
    "arr1=[]\n",
    "while inp>0:\n",
    "\n",
    "    arr=int(input(\"enter the element of the array\"))\n",
    "    arr1.append(arr)\n",
    "    inp-=1\n",
    "\n",
    "print(arr1)\n",
    "swapped=False"
   ]
  },
  {
   "cell_type": "code",
   "execution_count": 30,
   "metadata": {},
   "outputs": [
    {
     "name": "stdout",
     "output_type": "stream",
     "text": [
      "array is already sorted\n",
      "array is already sorted\n",
      "array is already sorted\n",
      "array is already sorted\n",
      "array is already sorted\n",
      "[2, 5, 32, 43, 65]\n"
     ]
    }
   ],
   "source": [
    "for i in range(0,k):\n",
    "    for j in range(0,k-i-1):\n",
    "        if arr1[j]>arr1[j+1]:\n",
    "            arr1[j],arr1[j+1]=arr1[j+1],arr1[j]\n",
    "            swaped=True\n",
    "print(arr1)"
   ]
  },
  {
   "cell_type": "markdown",
   "metadata": {},
   "source": [
    "Selection Sort"
   ]
  },
  {
   "cell_type": "code",
   "execution_count": 12,
   "metadata": {},
   "outputs": [
    {
     "name": "stdout",
     "output_type": "stream",
     "text": [
      "[1, 32, 2, 5, 6]\n"
     ]
    }
   ],
   "source": [
    "inp=int(input(\"enter the no of the elements in the array:\"))\n",
    "k=inp\n",
    "arr1=[]\n",
    "while inp>0:\n",
    "\n",
    "    arr=int(input(\"enter the element of the array\"))\n",
    "    arr1.append(arr)\n",
    "    inp-=1\n",
    "\n",
    "print(arr1)"
   ]
  },
  {
   "cell_type": "code",
   "execution_count": 13,
   "metadata": {},
   "outputs": [
    {
     "name": "stdout",
     "output_type": "stream",
     "text": [
      "[1, 32, 2, 5, 6]\n",
      "[1, 2, 32, 5, 6]\n",
      "[1, 2, 5, 32, 6]\n",
      "[1, 2, 5, 6, 32]\n",
      "[1, 2, 5, 6, 32]\n"
     ]
    }
   ],
   "source": [
    "for i in range(0,k):\n",
    "    min=arr1[i]\n",
    "    ind=i\n",
    "    for j in range(i,k):\n",
    "        \n",
    "        if(arr1[j]<min):\n",
    "            min=arr1[j]\n",
    "            ind=j\n",
    "        else:\n",
    "            pass\n",
    "    arr1[i],arr1[ind]=arr1[ind],arr1[i]\n",
    "    \n",
    "\n",
    "        "
   ]
  },
  {
   "cell_type": "code",
   "execution_count": 10,
   "metadata": {},
   "outputs": [
    {
     "name": "stdout",
     "output_type": "stream",
     "text": [
      "[1, 2, 3, 4, 5]\n"
     ]
    }
   ],
   "source": [
    "print(arr1)"
   ]
  },
  {
   "cell_type": "markdown",
   "metadata": {},
   "source": [
    "Insertion Sort\n"
   ]
  },
  {
   "cell_type": "code",
   "execution_count": 26,
   "metadata": {},
   "outputs": [
    {
     "name": "stdout",
     "output_type": "stream",
     "text": [
      "[2, 4, 6, 3, 1]\n"
     ]
    }
   ],
   "source": [
    "inp=int(input(\"enter the no of the elements in the array:\"))\n",
    "k=inp\n",
    "arr1=[]\n",
    "while inp>0:\n",
    "\n",
    "    arr=int(input(\"enter the element of the array\"))\n",
    "    arr1.append(arr)\n",
    "    inp-=1\n",
    "\n",
    "print(arr1)"
   ]
  },
  {
   "cell_type": "code",
   "execution_count": 29,
   "metadata": {},
   "outputs": [
    {
     "name": "stdout",
     "output_type": "stream",
     "text": [
      "[1, 2, 3, 4, 6]\n",
      "[1, 2, 3, 4, 6]\n",
      "[1, 2, 3, 4, 6]\n",
      "[1, 2, 3, 4, 6]\n",
      "[1, 2, 3, 4, 6]\n"
     ]
    }
   ],
   "source": [
    "for i in range(1,k):\n",
    "    key=arr1[i]\n",
    "    j=i-1\n",
    "    while j>=0 and key<arr1[j]:\n",
    "        arr1[j+1]=arr1[j]\n",
    "        print(arr1)\n",
    "        j-=1\n",
    "    arr1[j+1]=key\n",
    "    print(arr1)\n",
    "\n",
    "print(arr1)\n"
   ]
  },
  {
   "cell_type": "code",
   "execution_count": null,
   "metadata": {},
   "outputs": [],
   "source": []
  },
  {
   "cell_type": "code",
   "execution_count": null,
   "metadata": {},
   "outputs": [],
   "source": []
  },
  {
   "cell_type": "code",
   "execution_count": null,
   "metadata": {},
   "outputs": [],
   "source": [
    "\n"
   ]
  }
 ],
 "metadata": {
  "kernelspec": {
   "display_name": "venv",
   "language": "python",
   "name": "python3"
  },
  "language_info": {
   "codemirror_mode": {
    "name": "ipython",
    "version": 3
   },
   "file_extension": ".py",
   "mimetype": "text/x-python",
   "name": "python",
   "nbconvert_exporter": "python",
   "pygments_lexer": "ipython3",
   "version": "3.12.0"
  }
 },
 "nbformat": 4,
 "nbformat_minor": 2
}
