{
 "cells": [
  {
   "cell_type": "markdown",
   "metadata": {},
   "source": [
    "Python_unit_testing"
   ]
  },
  {
   "cell_type": "markdown",
   "metadata": {},
   "source": [
    "10. Write a Python unit test program to check if a function correctly parses and validates input data.\n"
   ]
  },
  {
   "cell_type": "code",
   "execution_count": 5,
   "metadata": {},
   "outputs": [
    {
     "name": "stderr",
     "output_type": "stream",
     "text": [
      "..\n",
      "----------------------------------------------------------------------\n",
      "Ran 2 tests in 0.003s\n",
      "\n",
      "OK\n"
     ]
    }
   ],
   "source": [
    "import unittest\n",
    "\n",
    "def parse_and_validate_input(data):\n",
    "    if isinstance(data, str) and data.isnumeric():\n",
    "        return int(data) > 0\n",
    "    return False\n",
    "\n",
    "class TestInputParsing(unittest.TestCase):\n",
    "    def test_valid_input(self):\n",
    "        data = \"100\"\n",
    "        result = parse_and_validate_input(data)\n",
    "        self.assertTrue(result)\n",
    "\n",
    "    def test_invalid_input(self):\n",
    "        data = \"Hello\"\n",
    "        result = parse_and_validate_input(data)\n",
    "        self.assertFalse(result)\n",
    "\n",
    "if __name__ == '__main__':\n",
    "    unittest.main(argv=[''], exit=False)\n"
   ]
  },
  {
   "cell_type": "markdown",
   "metadata": {},
   "source": []
  }
 ],
 "metadata": {
  "kernelspec": {
   "display_name": "venv",
   "language": "python",
   "name": "python3"
  },
  "language_info": {
   "codemirror_mode": {
    "name": "ipython",
    "version": 3
   },
   "file_extension": ".py",
   "mimetype": "text/x-python",
   "name": "python",
   "nbconvert_exporter": "python",
   "pygments_lexer": "ipython3",
   "version": "3.12.0"
  }
 },
 "nbformat": 4,
 "nbformat_minor": 2
}
