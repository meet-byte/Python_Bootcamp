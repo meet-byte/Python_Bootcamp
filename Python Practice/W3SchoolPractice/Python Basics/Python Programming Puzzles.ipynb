{
 "cells": [
  {
   "cell_type": "markdown",
   "metadata": {},
   "source": [
    "Python Programming Puzzles "
   ]
  },
  {
   "cell_type": "markdown",
   "metadata": {},
   "source": [
    "99. Replace Spaces with Underscore and Hyphen\n",
    "\n",
    "Write a Python program to find a string such that, when three or more spaces are compacted to a '-' and one or two spaces are replaced \n",
    "\n",
    "by underscores, leads to the target.\n",
    "\n",
    "Input: Python-Exercises\n",
    "\n",
    "Output:\n",
    "\n",
    "Python Exercises\n",
    "\n",
    "Input: Python_Exercises\n",
    "\n",
    "Output:\n",
    "\n",
    "Python Exercises\n",
    "\n",
    "Input: -Hello,_world!__This_is-so-easy!-\n",
    "\n",
    "Output:\n",
    "\n",
    " Hello, world! This is so easy!"
   ]
  },
  {
   "cell_type": "code",
   "execution_count": 4,
   "metadata": {},
   "outputs": [
    {
     "name": "stdout",
     "output_type": "stream",
     "text": [
      "string is :Python_Exercises\n",
      "modified string is:Python Exercises\n"
     ]
    }
   ],
   "source": [
    "str=input(\"enter the string:\")\n",
    "print(f\"string is :{str}\")\n",
    "st=str.replace(\"_\",\" \").replace(\"-\",\" \")\n",
    "print(f\"modified string is:{st}\")"
   ]
  },
  {
   "cell_type": "markdown",
   "metadata": {},
   "source": [
    "100. Four Even Integers Summing to n\n",
    "\n",
    "Write a Python program to find four positive even integers whose sum is a given integer.\n",
    "\n",
    "Input:\n",
    "n = 100\n",
    "\n",
    "Output:\n",
    "[94, 2, 2, 2]\n",
    "\n",
    "Input:\n",
    "n = 1000\n",
    "\n",
    "Output:\n",
    "[994, 2, 2, 2]\n",
    "\n",
    "Input:\n",
    "n = 10000\n",
    "\n",
    "Output:\n",
    "[9994, 2, 2, 2]\n",
    "\n",
    "Input:\n",
    "n = 1234567890\n",
    "\n",
    "Output:\n",
    "[1234567884, 2, 2, 2]"
   ]
  },
  {
   "cell_type": "code",
   "execution_count": 5,
   "metadata": {},
   "outputs": [
    {
     "name": "stdout",
     "output_type": "stream",
     "text": [
      "Four positive even integers whose sum is 100\n",
      "[94, 2, 2, 2]\n",
      "\n",
      "Four positive even integers whose sum is 1000\n",
      "[994, 2, 2, 2]\n",
      "\n",
      "Four positive even integers whose sum is 10000\n",
      "[9994, 2, 2, 2]\n",
      "\n",
      "Four positive even integers whose sum is 1234567890\n",
      "[1234567884, 2, 2, 2]\n"
     ]
    }
   ],
   "source": [
    "\n",
    "def test(n):\n",
    "    for a in range(n, 0, -1):\n",
    "        if not a % 2 == 0:\n",
    "            continue\n",
    "        \n",
    "        for b in range(n - a, 0, -1):\n",
    "            if not b % 2 == 0:\n",
    "                continue\n",
    "            \n",
    "            for c in range(n - b - a, 0, -1):\n",
    "                if not c % 2 == 0:\n",
    "                    continue\n",
    "                \n",
    "                for d in range(n - b - c - a, 0, -1):\n",
    "                    if not d % 2 == 0:\n",
    "                        continue\n",
    "                    \n",
    "                    if a + b + c + d == n:\n",
    "                        return [a, b, c, d]\n",
    "\n",
    "n = 100\n",
    "print(\"Four positive even integers whose sum is\", n)\n",
    "print(test(n))\n",
    "\n",
    "n = 1000\n",
    "print(\"\\nFour positive even integers whose sum is\", n)\n",
    "print(test(n))\n",
    "\n",
    "n = 10000\n",
    "print(\"\\nFour positive even integers whose sum is\", n)\n",
    "print(test(n))\n",
    "\n",
    "n = 1234567890\n",
    "print(\"\\nFour positive even integers whose sum is\", n)\n",
    "print(test(n))\n"
   ]
  },
  {
   "cell_type": "markdown",
   "metadata": {},
   "source": []
  }
 ],
 "metadata": {
  "kernelspec": {
   "display_name": "venv",
   "language": "python",
   "name": "python3"
  },
  "language_info": {
   "codemirror_mode": {
    "name": "ipython",
    "version": 3
   },
   "file_extension": ".py",
   "mimetype": "text/x-python",
   "name": "python",
   "nbconvert_exporter": "python",
   "pygments_lexer": "ipython3",
   "version": "3.12.0"
  }
 },
 "nbformat": 4,
 "nbformat_minor": 2
}
