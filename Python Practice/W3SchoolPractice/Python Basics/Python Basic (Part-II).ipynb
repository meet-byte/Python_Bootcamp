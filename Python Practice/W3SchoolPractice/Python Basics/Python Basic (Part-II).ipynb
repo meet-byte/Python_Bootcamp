{
 "cells": [
  {
   "cell_type": "code",
   "execution_count": null,
   "metadata": {},
   "outputs": [],
   "source": [
    "Python Basic (Part-II)"
   ]
  },
  {
   "cell_type": "markdown",
   "metadata": {},
   "source": [
    "149. NxN Square of Integer\n",
    "\n",
    "Write a Python program that takes a positive integer and creates an N x N square filled with the integer N. Display the N x N square.\n",
    "\n",
    "Sample Data:\n",
    "\n",
    "(2) -> [[2, 2], [2, 2]]\n",
    "\n",
    "(5) -> [[5, 5, 5, 5, 5], [5, 5, 5, 5, 5], [5, 5, 5, 5, 5], [5, 5, 5, 5, 5], [5, 5, 5, 5, 5]]\n",
    "\n",
    "(-6) -> []"
   ]
  },
  {
   "cell_type": "code",
   "execution_count": 7,
   "metadata": {},
   "outputs": [
    {
     "name": "stdout",
     "output_type": "stream",
     "text": [
      "number is:5\n",
      "[[5, 5, 5, 5, 5], [5, 5, 5, 5, 5], [5, 5, 5, 5, 5], [5, 5, 5, 5, 5], [5, 5, 5, 5, 5]]\n"
     ]
    }
   ],
   "source": [
    "n=int(input(\"enter the number\"))\n",
    "print(f\"number is:{n}\")\n",
    "ls=[]\n",
    "ls1=[]\n",
    "for x in range(n):\n",
    "    ls.append(n)\n",
    "for x in range(n):\n",
    "    ls1.append(ls)\n",
    "print(ls1)"
   ]
  },
  {
   "cell_type": "code",
   "execution_count": 4,
   "metadata": {},
   "outputs": [
    {
     "data": {
      "text/plain": [
       "[[5, 5, 5, 5, 5],\n",
       " [5, 5, 5, 5, 5],\n",
       " [5, 5, 5, 5, 5],\n",
       " [5, 5, 5, 5, 5],\n",
       " [5, 5, 5, 5, 5]]"
      ]
     },
     "execution_count": 4,
     "metadata": {},
     "output_type": "execute_result"
    }
   ],
   "source": [
    "ls1"
   ]
  },
  {
   "cell_type": "markdown",
   "metadata": {},
   "source": [
    "150. Cube Root Reduction Steps\n",
    "\n",
    "Write a Python program that takes a positive integer and calculates the cube root of the number until the number is less than three. \n",
    "\n",
    "Count the number of steps to complete the task.\n",
    "\n",
    "Sample Data:\n",
    "\n",
    "(3) -> 1\n",
    "\n",
    "(39) -> 2\n",
    "\n",
    "(10000) -> 2"
   ]
  },
  {
   "cell_type": "code",
   "execution_count": 27,
   "metadata": {},
   "outputs": [
    {
     "name": "stdout",
     "output_type": "stream",
     "text": [
      "num is :39\n",
      "rem is:2\n"
     ]
    }
   ],
   "source": [
    "\n",
    "n=int(input(\"enter the number:\"))\n",
    "print(f\"num is :{n}\")\n",
    "cnt=0\n",
    "while n>=3:\n",
    "    n=(n**(1./3.))\n",
    "    cnt+=1\n",
    "print(f\"rem is:{cnt}\")"
   ]
  },
  {
   "cell_type": "code",
   "execution_count": null,
   "metadata": {},
   "outputs": [],
   "source": []
  }
 ],
 "metadata": {
  "kernelspec": {
   "display_name": "venv",
   "language": "python",
   "name": "python3"
  },
  "language_info": {
   "codemirror_mode": {
    "name": "ipython",
    "version": 3
   },
   "file_extension": ".py",
   "mimetype": "text/x-python",
   "name": "python",
   "nbconvert_exporter": "python",
   "pygments_lexer": "ipython3",
   "version": "3.12.0"
  }
 },
 "nbformat": 4,
 "nbformat_minor": 2
}
