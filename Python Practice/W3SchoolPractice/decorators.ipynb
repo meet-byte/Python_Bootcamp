{
 "cells": [
  {
   "cell_type": "markdown",
   "metadata": {},
   "source": [
    "11. Write a Python program that implements a decorator to measure the memory usage of a function.\n"
   ]
  },
  {
   "cell_type": "code",
   "execution_count": 1,
   "metadata": {},
   "outputs": [],
   "source": [
    "import tracemalloc\n",
    "from functools import wraps\n",
    "\n",
    "def measure_memory(func):\n",
    "\n",
    "    @wraps(func)\n",
    "    def wrapper(*args, **kwargs):\n",
    "        tracemalloc.start()\n",
    "        \n",
    "        start_snapshot = tracemalloc.take_snapshot()\n",
    "        \n",
    "        result = func(*args, **kwargs)\n",
    "        \n",
    "        end_snapshot = tracemalloc.take_snapshot()\n",
    "        \n",
    "        stats = end_snapshot.compare_to(start_snapshot, 'lineno')\n",
    "        total_memory = sum(stat.size_diff for stat in stats)\n",
    "        \n",
    "        print(f\"Memory usage for {func.__name__}: {total_memory / 1024:.2f} KB\")\n",
    "        \n",
    "        tracemalloc.stop()\n",
    "        \n",
    "        return result\n",
    "    \n",
    "    return wrapper\n"
   ]
  },
  {
   "cell_type": "code",
   "execution_count": 2,
   "metadata": {},
   "outputs": [],
   "source": [
    "@measure_memory\n",
    "def perform_operations():\n",
    "    data = [x**2 for x in range(500000)]\n",
    "    return sum(data)"
   ]
  },
  {
   "cell_type": "code",
   "execution_count": 3,
   "metadata": {},
   "outputs": [
    {
     "name": "stdout",
     "output_type": "stream",
     "text": [
      "Memory usage for perform_operations: 289.58 KB\n"
     ]
    },
    {
     "data": {
      "text/plain": [
       "41666541666750000"
      ]
     },
     "execution_count": 3,
     "metadata": {},
     "output_type": "execute_result"
    }
   ],
   "source": [
    "perform_operations()"
   ]
  },
  {
   "cell_type": "code",
   "execution_count": null,
   "metadata": {},
   "outputs": [],
   "source": []
  }
 ],
 "metadata": {
  "kernelspec": {
   "display_name": "venv",
   "language": "python",
   "name": "python3"
  },
  "language_info": {
   "codemirror_mode": {
    "name": "ipython",
    "version": 3
   },
   "file_extension": ".py",
   "mimetype": "text/x-python",
   "name": "python",
   "nbconvert_exporter": "python",
   "pygments_lexer": "ipython3",
   "version": "3.12.0"
  }
 },
 "nbformat": 4,
 "nbformat_minor": 2
}
