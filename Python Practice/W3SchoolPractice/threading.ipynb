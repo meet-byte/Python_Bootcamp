{
 "cells": [
  {
   "cell_type": "markdown",
   "metadata": {},
   "source": [
    "Threading example\n"
   ]
  },
  {
   "cell_type": "code",
   "execution_count": 1,
   "metadata": {},
   "outputs": [],
   "source": [
    "import threading\n"
   ]
  },
  {
   "cell_type": "code",
   "execution_count": 8,
   "metadata": {},
   "outputs": [],
   "source": [
    "def partition(nums,low,high):\n",
    "    i=low-1\n",
    "    pivot=nums[high]\n",
    "    for j in range(low,high):\n",
    "        if nums[j]<=pivot:\n",
    "            i+=1\n",
    "            nums[i],nums[j]=nums[j],nums[i]\n",
    "    print(\"after first swap\")\n",
    "    print(nums)\n",
    "    nums[i+1],nums[high]=nums[high],nums[i+1]\n",
    "    print(\"after second swap\")\n",
    "\n",
    "    print(nums)\n",
    "    return i+1"
   ]
  },
  {
   "cell_type": "code",
   "execution_count": 9,
   "metadata": {},
   "outputs": [],
   "source": [
    "def quick_sort(nums,low,high):\n",
    "    if low<high:\n",
    "        pi=partition(nums,low,high)\n",
    "        left=threading.Thread(target=quick_sort,args=(nums,low,pi-1))\n",
    "        right=threading.Thread(target=quick_sort,args=(nums,pi+1,high))\n",
    "        left.start()\n",
    "        right.start()\n",
    "        left.join()\n",
    "        right.join()"
   ]
  },
  {
   "cell_type": "code",
   "execution_count": 11,
   "metadata": {},
   "outputs": [
    {
     "name": "stdout",
     "output_type": "stream",
     "text": [
      "after first swap\n",
      "[3, 0, 3, 4, 5, 5, 8, 9, 4, 3]\n",
      "after second swap\n",
      "[3, 0, 3, 3, 5, 5, 8, 9, 4, 4]\n",
      "after first swap\n",
      "[3, 0, 3, 3, 5, 5, 8, 9, 4, 4]\n",
      "after second swap\n",
      "[3, 0, 3, 3, 5, 5, 8, 9, 4, 4]\n",
      "after first swap\n",
      "[3, 0, 3, 3, 5, 5, 8, 9, 4, 4]\n",
      "after second swap\n",
      "[0, 3, 3, 3, 5, 5, 8, 9, 4, 4]\n",
      "after first swap\n",
      "[0, 3, 3, 3, 4, 5, 8, 9, 5, 4]\n",
      "after second swap\n",
      "[0, 3, 3, 3, 4, 4, 8, 9, 5, 5]\n",
      "after first swap\n",
      "[0, 3, 3, 3, 4, 4, 5, 9, 8, 5]\n",
      "after second swap\n",
      "[0, 3, 3, 3, 4, 4, 5, 5, 8, 9]\n",
      "after first swap\n",
      "[0, 3, 3, 3, 4, 4, 5, 5, 8, 9]\n",
      "after second swap\n",
      "[0, 3, 3, 3, 4, 4, 5, 5, 8, 9]\n",
      "[0, 3, 3, 3, 4, 4, 5, 5, 8, 9]\n"
     ]
    }
   ],
   "source": [
    "arr = [4, 5, 8, 3, 0, 5, 3, 9, 4, 3]\n",
    "quick_sort(arr,0,len(arr)-1)\n",
    "print(arr)"
   ]
  },
  {
   "cell_type": "code",
   "execution_count": 20,
   "metadata": {},
   "outputs": [
    {
     "name": "stdout",
     "output_type": "stream",
     "text": [
      "4354891244544740039708295080972242932784860321970420067107966268121689998173291662938983548166377460322345190381109803738182144705717960095286980338753940697303744952665864879006716496493592382303687944717156741691483400757578140427081345883097868746586726801759797248000000000000000000000000000000000000000000000\n"
     ]
    }
   ],
   "source": [
    "import threading\n",
    "lock=threading.Lock()\n",
    "num=5\n",
    "def numberaddition():\n",
    "    global num\n",
    "    for x in range(1,100):\n",
    "        with lock:\n",
    "            num=num*x\n",
    "\n",
    "thread1=threading.Thread(target=numberaddition)\n",
    "thread2=threading.Thread(target=numberaddition)\n",
    "\n",
    "thread1.start()\n",
    "thread2.start()\n",
    "thread2.join()\n",
    "thread1.join()\n",
    "print(num)\n"
   ]
  },
  {
   "cell_type": "code",
   "execution_count": null,
   "metadata": {},
   "outputs": [],
   "source": []
  }
 ],
 "metadata": {
  "kernelspec": {
   "display_name": "venv",
   "language": "python",
   "name": "python3"
  },
  "language_info": {
   "codemirror_mode": {
    "name": "ipython",
    "version": 3
   },
   "file_extension": ".py",
   "mimetype": "text/x-python",
   "name": "python",
   "nbconvert_exporter": "python",
   "pygments_lexer": "ipython3",
   "version": "3.12.0"
  }
 },
 "nbformat": 4,
 "nbformat_minor": 2
}
