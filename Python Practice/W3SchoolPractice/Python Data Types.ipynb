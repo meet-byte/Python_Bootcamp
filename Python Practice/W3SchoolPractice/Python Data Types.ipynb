{
 "cells": [
  {
   "cell_type": "markdown",
   "metadata": {},
   "source": [
    "Python Data Types\n"
   ]
  },
  {
   "cell_type": "markdown",
   "metadata": {},
   "source": [
    "112. Add numbers given as strings.\n",
    "\n",
    "Write a Python program to calculate the sum of two numbers given as strings. Return the result in the same string representation.\n",
    "\n",
    "Sample Data:\n",
    "( \"234242342341\", \"2432342342\") -> \"236674684683\"\n",
    "\n",
    "( \"\", \"2432342342\") -> False ( \"1000\", \"0\") -> \"1000\"\n",
    "\n",
    "( \"1000\", \"10\") -> \"1010\""
   ]
  },
  {
   "cell_type": "code",
   "execution_count": 4,
   "metadata": {},
   "outputs": [
    {
     "name": "stdout",
     "output_type": "stream",
     "text": [
      "236674684683\n"
     ]
    }
   ],
   "source": [
    "s1=input(\"enter string1\")\n",
    "s2=input(\"enter string-2\")\n",
    "if s1==\" \" or s2==\" \":\n",
    "    print(\"invalid string\")\n",
    "if s1.isdigit() and s2.isdigit():\n",
    "    s1=int(s1)\n",
    "    s2=int(s2)\n",
    "    s3=s1+s2\n",
    "    print(s3)\n"
   ]
  },
  {
   "cell_type": "markdown",
   "metadata": {},
   "source": [
    "113. Sort words alphabetically by first character.\n",
    "\n",
    "Write a Python program that returns a string sorted alphabetically by the first character of a given string of words.\n",
    "\n",
    "Sample Data:\n",
    "\n",
    "(\"Red Green Black White Pink\") -> \"Black Green Pink Red White\"\n",
    "\n",
    "(\"Calculate the sum of two said numbers given as strings.\") -> (\"Calculate as given numbers of sum said strings. the two\")\n",
    "\n",
    "(\"The quick brown fox jumps over the lazy dog.\") -> (\"The brown dog. fox jumps lazy over quick the\")\n",
    "\n",
    "Click me to see the sample solution"
   ]
  },
  {
   "cell_type": "code",
   "execution_count": 6,
   "metadata": {},
   "outputs": [
    {
     "data": {
      "text/plain": [
       "'Black Green Pink Red White'"
      ]
     },
     "execution_count": 6,
     "metadata": {},
     "output_type": "execute_result"
    }
   ],
   "source": [
    "def test(text):\n",
    "    return ' '.join(sorted(text.split(), key=lambda c: c[0]))\n",
    "\n",
    "word=\"Red Green Black White Pink\"\n",
    "test(word)\n"
   ]
  },
  {
   "cell_type": "markdown",
   "metadata": {},
   "source": []
  }
 ],
 "metadata": {
  "kernelspec": {
   "display_name": "venv",
   "language": "python",
   "name": "python3"
  },
  "language_info": {
   "codemirror_mode": {
    "name": "ipython",
    "version": 3
   },
   "file_extension": ".py",
   "mimetype": "text/x-python",
   "name": "python",
   "nbconvert_exporter": "python",
   "pygments_lexer": "ipython3",
   "version": "3.12.0"
  }
 },
 "nbformat": 4,
 "nbformat_minor": 2
}
