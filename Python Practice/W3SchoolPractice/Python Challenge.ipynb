{
 "cells": [
  {
   "cell_type": "markdown",
   "metadata": {},
   "source": [
    "Write a Python program to calculate sum of all positive, negative integers present in a given string.\n",
    "\n",
    "Original string:\n",
    "-100#^sdfkj8902w3ir021@swf-20\n",
    "\n",
    "Sum of all positive, negative integers present in the said string:\n",
    "\n",
    "Positive values: 9046\n",
    "\n",
    "Negative values: -120"
   ]
  },
  {
   "cell_type": "code",
   "execution_count": 6,
   "metadata": {},
   "outputs": [
    {
     "name": "stdout",
     "output_type": "stream",
     "text": [
      "the sum of positive number ::18036\n",
      "the sum of the negetive numbers::-120\n"
     ]
    }
   ],
   "source": [
    "import re\n",
    "inp=input(\"enter the string:\")\n",
    "\n",
    "number=re.findall(r\"-?\\d+\",inp)\n",
    "negnum=0\n",
    "posnum=0\n",
    "\n",
    "for numbers in number:\n",
    "    if int(numbers)>=0:\n",
    "        posnum+=int(numbers)\n",
    "    else:\n",
    "        negnum+=int(numbers)\n",
    "\n",
    "print(f\"the sum of positive number ::{posnum}\")\n",
    "print(f\"the sum of the negetive numbers::{negnum}\")\n"
   ]
  },
  {
   "cell_type": "markdown",
   "metadata": {},
   "source": []
  }
 ],
 "metadata": {
  "kernelspec": {
   "display_name": "venv",
   "language": "python",
   "name": "python3"
  },
  "language_info": {
   "codemirror_mode": {
    "name": "ipython",
    "version": 3
   },
   "file_extension": ".py",
   "mimetype": "text/x-python",
   "name": "python",
   "nbconvert_exporter": "python",
   "pygments_lexer": "ipython3",
   "version": "3.12.0"
  }
 },
 "nbformat": 4,
 "nbformat_minor": 2
}
