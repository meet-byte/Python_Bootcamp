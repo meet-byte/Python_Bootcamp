{
 "cells": [
  {
   "cell_type": "markdown",
   "metadata": {},
   "source": [
    "NumPy Universal Functions"
   ]
  },
  {
   "cell_type": "markdown",
   "metadata": {},
   "source": [
    "NumPy Universal Functions (ufuncs)\n",
    "\n",
    "Universal Functions (ufuncs) in NumPy are functions that operate on ndarrays element-wise. These functions are optimized for performance, and they allow you to apply a mathematical operation to each element in an array (or multiple arrays) efficiently. Ufuncs in NumPy are essentially vectorized wrappers around functions that would otherwise require explicit for loops in Python.\n",
    "\n",
    "Ufuncs provide a way to perform element-wise operations on arrays without needing to explicitly write loops, making operations more efficient and easier to express."
   ]
  },
  {
   "cell_type": "markdown",
   "metadata": {},
   "source": [
    "The cumulative sum of a sequence is a sequence of partial sums of the original sequence. In simple terms, it means that each element in the cumulative sum array is the sum of all the previous elements up to that point in the original sequence."
   ]
  },
  {
   "cell_type": "code",
   "execution_count": 2,
   "metadata": {},
   "outputs": [
    {
     "name": "stdout",
     "output_type": "stream",
     "text": [
      "[ 1  3  6 10]\n"
     ]
    }
   ],
   "source": [
    "import numpy as np\n",
    "arr = np.array([1, 2, 3, 4])\n",
    "total_sum = np.cumsum(arr)  # Sum of all elements\n",
    "print(total_sum)  # Output: 10\n"
   ]
  },
  {
   "cell_type": "markdown",
   "metadata": {},
   "source": [
    "20. Write a NumPy program that uses np.maximum.reduce to find the maximum element along a specified axis of a 2D array."
   ]
  },
  {
   "cell_type": "code",
   "execution_count": 7,
   "metadata": {},
   "outputs": [
    {
     "name": "stdout",
     "output_type": "stream",
     "text": [
      "[4 5 6]\n",
      "[4 6]\n"
     ]
    }
   ],
   "source": [
    "import numpy as np\n",
    "num1=np.array([[4,2,3],[1,5,6]])\n",
    "max_element_axis_0=np.maximum.reduce(num1,axis=0)\n",
    "print(max_element_axis_0)\n",
    "max_element_axis_1=np.maximum.reduce(num1,axis=1)\n",
    "print(max_element_axis_1)"
   ]
  },
  {
   "cell_type": "code",
   "execution_count": null,
   "metadata": {},
   "outputs": [],
   "source": []
  }
 ],
 "metadata": {
  "kernelspec": {
   "display_name": "venv",
   "language": "python",
   "name": "python3"
  },
  "language_info": {
   "codemirror_mode": {
    "name": "ipython",
    "version": 3
   },
   "file_extension": ".py",
   "mimetype": "text/x-python",
   "name": "python",
   "nbconvert_exporter": "python",
   "pygments_lexer": "ipython3",
   "version": "3.12.0"
  }
 },
 "nbformat": 4,
 "nbformat_minor": 2
}
