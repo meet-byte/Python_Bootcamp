{
 "cells": [
  {
   "cell_type": "markdown",
   "metadata": {
    "vscode": {
     "languageId": "plaintext"
    }
   },
   "source": [
    "numpy Io Operations"
   ]
  },
  {
   "cell_type": "code",
   "execution_count": 5,
   "metadata": {},
   "outputs": [
    {
     "name": "stdout",
     "output_type": "stream",
     "text": [
      "text has been saved\n",
      "[[1. 2. 3.]\n",
      " [4. 5. 6.]]\n"
     ]
    }
   ],
   "source": [
    "import numpy as np\n",
    "num1=np.array([[1,2,3],[4,5,6]])\n",
    "file_name=\"demo.csv\"\n",
    "\n",
    "np.savetxt(file_name,num1,fmt=\"%d\",delimiter=\";\")\n",
    "print(\"text has been saved\")\n",
    "load_txt=np.loadtxt(file_name,delimiter=\";\")\n",
    "print(load_txt)"
   ]
  },
  {
   "cell_type": "markdown",
   "metadata": {},
   "source": [
    "20. Write a NumPy program to append a NumPy array to a Python list and print the result.\n"
   ]
  },
  {
   "cell_type": "code",
   "execution_count": 9,
   "metadata": {},
   "outputs": [
    {
     "name": "stdout",
     "output_type": "stream",
     "text": [
      "data has been saved\n",
      "[1. 2. 3.]\n"
     ]
    }
   ],
   "source": [
    "import numpy as np\n",
    "num1=np.array([1,2,3,4,5,6,7])\n",
    "file_name=\"temp.csv\"\n",
    "list1=[1,2,3,4,5,6]\n",
    "num1=num1.tolist()\n",
    "list1.extend(num1)\n",
    "\n",
    "np.savetxt(file_name,list1,fmt=\"%d\",delimiter=\",\")\n",
    "\n",
    "print(\"data has been saved\")\n",
    "\n",
    "data=np.loadtxt(file_name,delimiter=\",\")\n",
    "print(data[0:3])"
   ]
  },
  {
   "cell_type": "code",
   "execution_count": null,
   "metadata": {},
   "outputs": [],
   "source": [
    "\"\""
   ]
  }
 ],
 "metadata": {
  "kernelspec": {
   "display_name": "venv",
   "language": "python",
   "name": "python3"
  },
  "language_info": {
   "codemirror_mode": {
    "name": "ipython",
    "version": 3
   },
   "file_extension": ".py",
   "mimetype": "text/x-python",
   "name": "python",
   "nbconvert_exporter": "python",
   "pygments_lexer": "ipython3",
   "version": "3.12.0"
  }
 },
 "nbformat": 4,
 "nbformat_minor": 2
}
