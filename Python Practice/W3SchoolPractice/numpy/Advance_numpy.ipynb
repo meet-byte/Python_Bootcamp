{
 "cells": [
  {
   "cell_type": "code",
   "execution_count": 8,
   "metadata": {},
   "outputs": [
    {
     "name": "stdout",
     "output_type": "stream",
     "text": [
      "[[0.57173661 0.19899757 0.27731463]\n",
      " [0.90136193 0.11594243 0.41120118]\n",
      " [0.18650969 0.71278081 0.52616589]]\n",
      "[[[ 0.          0.          0.        ]\n",
      "  [-0.32962531  0.08305514 -0.13388655]\n",
      "  [ 0.38522693 -0.51378324 -0.24885126]]\n",
      "\n",
      " [[ 0.32962531 -0.08305514  0.13388655]\n",
      "  [ 0.          0.          0.        ]\n",
      "  [ 0.71485224 -0.59683838 -0.11496471]]\n",
      "\n",
      " [[-0.38522693  0.51378324  0.24885126]\n",
      "  [-0.71485224  0.59683838  0.11496471]\n",
      "  [ 0.          0.          0.        ]]]\n",
      "!\n",
      "[[0.         0.13347661 0.47429995]\n",
      " [0.13347661 0.         0.88044666]\n",
      " [0.47429995 0.88044666 0.        ]]\n",
      "Array:\n",
      " [[0.57173661 0.19899757 0.27731463]\n",
      " [0.90136193 0.11594243 0.41120118]\n",
      " [0.18650969 0.71278081 0.52616589]]\n",
      "\n",
      "Pairwise Euclidean distances:\n",
      " [[0.         0.36534451 0.68869438]\n",
      " [0.36534451 0.         0.93832119]\n",
      " [0.68869438 0.93832119 0.        ]]\n"
     ]
    }
   ],
   "source": [
    "import numpy as np\n",
    "\n",
    "array = np.random.rand(3, 3)\n",
    "\n",
    "print(array)\n",
    "diff = array[:, np.newaxis, :] - array[np.newaxis, :, :]\n",
    "print(diff)\n",
    "print(\"!\")\n",
    "print(np.sum(diff**2,axis=2))\n",
    "euclidean_distances = np.sqrt(np.sum(diff**2, axis=2))\n",
    "\n",
    "print(\"Array:\\n\", array)\n",
    "print(\"\\nPairwise Euclidean distances:\\n\", euclidean_distances)\n"
   ]
  },
  {
   "cell_type": "code",
   "execution_count": null,
   "metadata": {},
   "outputs": [],
   "source": []
  }
 ],
 "metadata": {
  "kernelspec": {
   "display_name": "venv",
   "language": "python",
   "name": "python3"
  },
  "language_info": {
   "codemirror_mode": {
    "name": "ipython",
    "version": 3
   },
   "file_extension": ".py",
   "mimetype": "text/x-python",
   "name": "python",
   "nbconvert_exporter": "python",
   "pygments_lexer": "ipython3",
   "version": "3.12.0"
  }
 },
 "nbformat": 4,
 "nbformat_minor": 2
}
