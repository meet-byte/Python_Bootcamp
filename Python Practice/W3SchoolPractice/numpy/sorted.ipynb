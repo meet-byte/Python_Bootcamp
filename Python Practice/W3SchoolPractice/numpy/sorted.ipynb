{
 "cells": [
  {
   "cell_type": "markdown",
   "metadata": {},
   "source": [
    "5. Write a NumPy program to get the indices of the sorted elements of a given array.\n",
    "\n",
    "Expected Output:\n",
    "\n",
    "Original array:\n",
    "[1023 5202 6230 1671 1682 5241 4532]\n",
    "\n",
    "Indices of the sorted elements of a given array:\n",
    "[0 3 4 6 1 5 2]"
   ]
  },
  {
   "cell_type": "code",
   "execution_count": 1,
   "metadata": {},
   "outputs": [],
   "source": [
    "import numpy as np\n",
    "\n",
    "# Creating a NumPy array for student IDs\n",
    "student_id = np.array([1023, 5202, 6230, 1671, 1682, 5241, 4532])"
   ]
  },
  {
   "cell_type": "code",
   "execution_count": 2,
   "metadata": {},
   "outputs": [
    {
     "name": "stdout",
     "output_type": "stream",
     "text": [
      "[0 3 4 6 1 5 2]\n"
     ]
    }
   ],
   "source": [
    "i=np.argsort(student_id)\n",
    "print(i)"
   ]
  },
  {
   "cell_type": "markdown",
   "metadata": {},
   "source": [
    "\n",
    "20. Write a NumPy program that creates a 2D NumPy array and uses a mask array (boolean array) for indexing to select a subset of elements that match the mask criteria.\n"
   ]
  },
  {
   "cell_type": "code",
   "execution_count": 3,
   "metadata": {},
   "outputs": [
    {
     "name": "stdout",
     "output_type": "stream",
     "text": [
      "Original 2D array:\n",
      " [[52 49 22 81 68]\n",
      " [62 44 12 98  3]\n",
      " [98 35 36 11 72]\n",
      " [13 75 78 84 61]\n",
      " [40 80 79 54 83]]\n",
      "Mask array (elements > 50):\n",
      " [[ True False False  True  True]\n",
      " [ True False False  True False]\n",
      " [ True False False False  True]\n",
      " [False  True  True  True  True]\n",
      " [False  True  True  True  True]]\n",
      "Selected elements using the mask:\n",
      " [52 81 68 62 98 98 72 75 78 84 61 80 79 54 83]\n"
     ]
    }
   ],
   "source": [
    "import numpy as np\n",
    "\n",
    "array_2d = np.random.randint(0, 100, size=(5, 5))\n",
    "\n",
    "mask = array_2d > 50\n",
    "\n",
    "selected_elements = array_2d[mask]\n",
    "\n",
    "print('Original 2D array:\\n', array_2d)\n",
    "print('Mask array (elements > 50):\\n', mask)\n",
    "print('Selected elements using the mask:\\n', selected_elements)"
   ]
  },
  {
   "cell_type": "code",
   "execution_count": null,
   "metadata": {},
   "outputs": [],
   "source": []
  },
  {
   "cell_type": "code",
   "execution_count": null,
   "metadata": {},
   "outputs": [],
   "source": []
  },
  {
   "cell_type": "code",
   "execution_count": null,
   "metadata": {},
   "outputs": [],
   "source": []
  },
  {
   "cell_type": "code",
   "execution_count": null,
   "metadata": {},
   "outputs": [],
   "source": [
    "\n",
    "\n",
    "\n"
   ]
  },
  {
   "cell_type": "code",
   "execution_count": null,
   "metadata": {},
   "outputs": [],
   "source": []
  },
  {
   "cell_type": "code",
   "execution_count": null,
   "metadata": {},
   "outputs": [],
   "source": [
    "\n"
   ]
  },
  {
   "cell_type": "code",
   "execution_count": null,
   "metadata": {},
   "outputs": [],
   "source": []
  },
  {
   "cell_type": "code",
   "execution_count": null,
   "metadata": {},
   "outputs": [],
   "source": []
  }
 ],
 "metadata": {
  "kernelspec": {
   "display_name": "venv",
   "language": "python",
   "name": "python3"
  },
  "language_info": {
   "codemirror_mode": {
    "name": "ipython",
    "version": 3
   },
   "file_extension": ".py",
   "mimetype": "text/x-python",
   "name": "python",
   "nbconvert_exporter": "python",
   "pygments_lexer": "ipython3",
   "version": "3.12.0"
  }
 },
 "nbformat": 4,
 "nbformat_minor": 2
}
