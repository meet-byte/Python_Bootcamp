{
 "cells": [
  {
   "cell_type": "markdown",
   "metadata": {},
   "source": [
    "41. Write a NumPy program to compute an \n",
    "\n",
    "element-wise indication of the sign for all \n",
    "elements in a given array.\n",
    "\n",
    "Sample output:\n",
    "\n",
    "Original array;\n",
    "[ 1 3 5 0 -1 -7 0 5]\n",
    "\n",
    "Element-wise indication of the sign for all elements of the said array:\n",
    "[ 1 1 1 0 -1 -1 0 1]"
   ]
  },
  {
   "cell_type": "code",
   "execution_count": 1,
   "metadata": {},
   "outputs": [
    {
     "name": "stdout",
     "output_type": "stream",
     "text": [
      "Original array;\n",
      "[ 1  3  5  0 -1 -7  0  5]\n",
      "[ 1  3  5  0 -1 -7  0  5]\n",
      "Element-wise indication of the sign for all elements of the said array:\n",
      "[ 1  1  1  0 -1 -1  0  1]\n"
     ]
    }
   ],
   "source": [
    "import numpy as np\n",
    "\n",
    "x = np.array([1, 3, 5, 0, -1, -7, 0, 5])\n",
    "\n",
    "print(\"Original array;\")\n",
    "print(x)\n",
    "\n",
    "r1 = np.sign(x)\n",
    "\n",
    "r2 = np.copy(x)\n",
    "r2[r2 > 0] = 1  \n",
    "r2[r2 < 0] = -1  \n",
    "\n",
    "assert np.array_equal(r1, r2)\n",
    "\n",
    "print(\"Element-wise indication of the sign for all elements of the said array:\")\n",
    "print(r1)\n"
   ]
  },
  {
   "cell_type": "code",
   "execution_count": null,
   "metadata": {},
   "outputs": [],
   "source": []
  }
 ],
 "metadata": {
  "kernelspec": {
   "display_name": "venv",
   "language": "python",
   "name": "python3"
  },
  "language_info": {
   "codemirror_mode": {
    "name": "ipython",
    "version": 3
   },
   "file_extension": ".py",
   "mimetype": "text/x-python",
   "name": "python",
   "nbconvert_exporter": "python",
   "pygments_lexer": "ipython3",
   "version": "3.12.0"
  }
 },
 "nbformat": 4,
 "nbformat_minor": 2
}
