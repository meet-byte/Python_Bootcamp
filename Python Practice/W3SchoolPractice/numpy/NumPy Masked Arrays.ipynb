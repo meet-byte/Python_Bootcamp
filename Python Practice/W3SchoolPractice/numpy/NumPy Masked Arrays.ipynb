{
 "cells": [
  {
   "cell_type": "markdown",
   "metadata": {},
   "source": [
    "NumPy Masked Arrays"
   ]
  },
  {
   "cell_type": "markdown",
   "metadata": {},
   "source": [
    "NumPy Masked Arrays\n",
    "\n",
    "In NumPy, Masked Arrays are arrays where some elements are masked or ignored in calculations. This allows you to handle missing or invalid data efficiently within an array, without needing to modify or remove the data.\n",
    "\n",
    "A masked array is essentially an array with a mask, where the mask is a boolean array that indicates which elements of the array should be considered valid and which should be ignored."
   ]
  },
  {
   "cell_type": "code",
   "execution_count": 3,
   "metadata": {},
   "outputs": [
    {
     "name": "stdout",
     "output_type": "stream",
     "text": [
      "17\n"
     ]
    }
   ],
   "source": [
    "import numpy as np\n",
    "\n",
    "# Create a normal NumPy array\n",
    "arr = np.array([1, 2, 3, -9999, 5, 6])\n",
    "\n",
    "data=np.ma.masked_where(arr==-9999,arr)\n",
    "sum=data.sum()\n",
    "print(sum)"
   ]
  },
  {
   "cell_type": "code",
   "execution_count": 4,
   "metadata": {},
   "outputs": [],
   "source": [
    "data=np.ma.masked_greater(arr>1,arr)"
   ]
  },
  {
   "cell_type": "code",
   "execution_count": 6,
   "metadata": {},
   "outputs": [
    {
     "name": "stdout",
     "output_type": "stream",
     "text": [
      "[False False False  True False False]\n"
     ]
    }
   ],
   "source": [
    "print(data.mask)"
   ]
  },
  {
   "cell_type": "markdown",
   "metadata": {},
   "source": [
    "20. Write a NumPy program that creates a masked array and checks if any masked elements are present.\n"
   ]
  },
  {
   "cell_type": "code",
   "execution_count": 9,
   "metadata": {},
   "outputs": [
    {
     "name": "stdout",
     "output_type": "stream",
     "text": [
      "[False False False  True False False]\n",
      "masked element is present\n"
     ]
    }
   ],
   "source": [
    "arr = np.array([1, 2, 3, -9999, 5, 6])\n",
    "data=np.ma.masked_where(arr==-9999,arr)\n",
    "print(data.mask)\n",
    "if True in data.mask:\n",
    "    print(\"masked element is present\")\n",
    "else:\n",
    "    print(\"masked element is not present\")"
   ]
  },
  {
   "cell_type": "code",
   "execution_count": null,
   "metadata": {},
   "outputs": [],
   "source": []
  }
 ],
 "metadata": {
  "kernelspec": {
   "display_name": "venv",
   "language": "python",
   "name": "python3"
  },
  "language_info": {
   "codemirror_mode": {
    "name": "ipython",
    "version": 3
   },
   "file_extension": ".py",
   "mimetype": "text/x-python",
   "name": "python",
   "nbconvert_exporter": "python",
   "pygments_lexer": "ipython3",
   "version": "3.12.0"
  }
 },
 "nbformat": 4,
 "nbformat_minor": 2
}
