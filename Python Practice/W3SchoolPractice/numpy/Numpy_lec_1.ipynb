{
 "cells": [
  {
   "cell_type": "code",
   "execution_count": 2,
   "metadata": {},
   "outputs": [
    {
     "name": "stdout",
     "output_type": "stream",
     "text": [
      "Collecting numpy\n",
      "  Downloading numpy-2.2.1-cp311-cp311-win_amd64.whl (12.9 MB)\n",
      "                                              0.0/12.9 MB ? eta -:--:--\n",
      "                                              0.1/12.9 MB 1.3 MB/s eta 0:00:10\n",
      "                                              0.2/12.9 MB 2.1 MB/s eta 0:00:07\n",
      "                                              0.3/12.9 MB 2.5 MB/s eta 0:00:06\n",
      "     ---                                      1.0/12.9 MB 5.3 MB/s eta 0:00:03\n",
      "     ------                                   2.1/12.9 MB 8.8 MB/s eta 0:00:02\n",
      "     -------                                  2.3/12.9 MB 9.3 MB/s eta 0:00:02\n",
      "     -------                                  2.3/12.9 MB 9.3 MB/s eta 0:00:02\n",
      "     --------                                 2.7/12.9 MB 7.6 MB/s eta 0:00:02\n",
      "     -----------                              3.7/12.9 MB 9.4 MB/s eta 0:00:01\n",
      "     -----------                              3.7/12.9 MB 9.4 MB/s eta 0:00:01\n",
      "     -----------                              3.7/12.9 MB 7.1 MB/s eta 0:00:02\n",
      "     --------------                           4.7/12.9 MB 8.4 MB/s eta 0:00:01\n",
      "     --------------                           4.8/12.9 MB 7.9 MB/s eta 0:00:02\n",
      "     ---------------                          5.1/12.9 MB 7.8 MB/s eta 0:00:02\n",
      "     ----------------                         5.4/12.9 MB 7.9 MB/s eta 0:00:01\n",
      "     ----------------                         5.5/12.9 MB 7.4 MB/s eta 0:00:02\n",
      "     -----------------                        5.7/12.9 MB 7.5 MB/s eta 0:00:01\n",
      "     ------------------                       6.0/12.9 MB 7.3 MB/s eta 0:00:01\n",
      "     -------------------                      6.2/12.9 MB 7.2 MB/s eta 0:00:01\n",
      "     -------------------                      6.2/12.9 MB 7.2 MB/s eta 0:00:01\n",
      "     -------------------                      6.3/12.9 MB 6.6 MB/s eta 0:00:02\n",
      "     ---------------------                    7.1/12.9 MB 6.8 MB/s eta 0:00:01\n",
      "     ----------------------                   7.4/12.9 MB 6.9 MB/s eta 0:00:01\n",
      "     -----------------------                  7.4/12.9 MB 6.8 MB/s eta 0:00:01\n",
      "     -----------------------                  7.6/12.9 MB 6.6 MB/s eta 0:00:01\n",
      "     -----------------------                  7.7/12.9 MB 6.5 MB/s eta 0:00:01\n",
      "     ------------------------                 7.8/12.9 MB 6.2 MB/s eta 0:00:01\n",
      "     --------------------------               8.4/12.9 MB 6.6 MB/s eta 0:00:01\n",
      "     ---------------------------              8.8/12.9 MB 6.5 MB/s eta 0:00:01\n",
      "     ---------------------------              8.8/12.9 MB 6.5 MB/s eta 0:00:01\n",
      "     ----------------------------             9.1/12.9 MB 6.3 MB/s eta 0:00:01\n",
      "     ----------------------------             9.3/12.9 MB 6.2 MB/s eta 0:00:01\n",
      "     -----------------------------            9.4/12.9 MB 6.2 MB/s eta 0:00:01\n",
      "     -----------------------------            9.6/12.9 MB 6.1 MB/s eta 0:00:01\n",
      "     ------------------------------           9.7/12.9 MB 6.0 MB/s eta 0:00:01\n",
      "     ------------------------------           9.9/12.9 MB 5.9 MB/s eta 0:00:01\n",
      "     -------------------------------          10.0/12.9 MB 5.8 MB/s eta 0:00:01\n",
      "     -------------------------------          10.1/12.9 MB 5.7 MB/s eta 0:00:01\n",
      "     -------------------------------          10.2/12.9 MB 5.6 MB/s eta 0:00:01\n",
      "     --------------------------------         10.3/12.9 MB 5.7 MB/s eta 0:00:01\n",
      "     --------------------------------         10.5/12.9 MB 5.7 MB/s eta 0:00:01\n",
      "     --------------------------------         10.6/12.9 MB 5.7 MB/s eta 0:00:01\n",
      "     ---------------------------------        10.7/12.9 MB 5.6 MB/s eta 0:00:01\n",
      "     ---------------------------------        10.8/12.9 MB 5.5 MB/s eta 0:00:01\n",
      "     ---------------------------------        10.9/12.9 MB 5.4 MB/s eta 0:00:01\n",
      "     ----------------------------------       11.0/12.9 MB 5.2 MB/s eta 0:00:01\n",
      "     ----------------------------------       11.2/12.9 MB 5.2 MB/s eta 0:00:01\n",
      "     ----------------------------------       11.3/12.9 MB 5.1 MB/s eta 0:00:01\n",
      "     -----------------------------------      11.4/12.9 MB 5.0 MB/s eta 0:00:01\n",
      "     -----------------------------------      11.5/12.9 MB 4.9 MB/s eta 0:00:01\n",
      "     ------------------------------------     11.7/12.9 MB 4.8 MB/s eta 0:00:01\n",
      "     ------------------------------------     11.8/12.9 MB 4.7 MB/s eta 0:00:01\n",
      "     ------------------------------------     11.9/12.9 MB 4.6 MB/s eta 0:00:01\n",
      "     -------------------------------------    12.1/12.9 MB 4.5 MB/s eta 0:00:01\n",
      "     -------------------------------------    12.2/12.9 MB 4.4 MB/s eta 0:00:01\n",
      "     --------------------------------------   12.3/12.9 MB 4.4 MB/s eta 0:00:01\n",
      "     --------------------------------------   12.4/12.9 MB 4.3 MB/s eta 0:00:01\n",
      "     --------------------------------------   12.6/12.9 MB 4.2 MB/s eta 0:00:01\n",
      "     ---------------------------------------  12.7/12.9 MB 4.3 MB/s eta 0:00:01\n",
      "     ---------------------------------------  12.8/12.9 MB 4.2 MB/s eta 0:00:01\n",
      "     ---------------------------------------  12.9/12.9 MB 4.2 MB/s eta 0:00:01\n",
      "     ---------------------------------------- 12.9/12.9 MB 4.1 MB/s eta 0:00:00\n",
      "Installing collected packages: numpy\n",
      "Successfully installed numpy-2.2.1\n",
      "Note: you may need to restart the kernel to use updated packages.\n"
     ]
    },
    {
     "name": "stderr",
     "output_type": "stream",
     "text": [
      "\n",
      "[notice] A new release of pip is available: 23.1.2 -> 24.3.1\n",
      "[notice] To update, run: python.exe -m pip install --upgrade pip\n"
     ]
    }
   ],
   "source": [
    "pip install numpy"
   ]
  },
  {
   "cell_type": "code",
   "execution_count": 3,
   "metadata": {},
   "outputs": [],
   "source": [
    "import numpy as np"
   ]
  },
  {
   "cell_type": "code",
   "execution_count": 4,
   "metadata": {},
   "outputs": [
    {
     "name": "stdout",
     "output_type": "stream",
     "text": [
      "[1 2 3 4 5]\n",
      "<class 'numpy.ndarray'>\n"
     ]
    }
   ],
   "source": [
    "num1=np.array([1,2,3,4,5])\n",
    "print(num1)\n",
    "print(type(num1))"
   ]
  },
  {
   "cell_type": "code",
   "execution_count": 5,
   "metadata": {},
   "outputs": [],
   "source": [
    "num2=np.array((2,4,6,8,7,6,5,2,1))"
   ]
  },
  {
   "cell_type": "code",
   "execution_count": 6,
   "metadata": {},
   "outputs": [
    {
     "name": "stdout",
     "output_type": "stream",
     "text": [
      "[2 4 6 8 7 6 5 2 1]\n"
     ]
    }
   ],
   "source": [
    "print(num2)"
   ]
  },
  {
   "cell_type": "code",
   "execution_count": 7,
   "metadata": {},
   "outputs": [
    {
     "name": "stdout",
     "output_type": "stream",
     "text": [
      "2.2.1\n"
     ]
    }
   ],
   "source": [
    "print(np.__version__)"
   ]
  },
  {
   "cell_type": "code",
   "execution_count": 10,
   "metadata": {},
   "outputs": [],
   "source": [
    "#creates a 0 dimention array\n",
    "arr=np.array(42)"
   ]
  },
  {
   "cell_type": "code",
   "execution_count": 11,
   "metadata": {},
   "outputs": [
    {
     "data": {
      "text/plain": [
       "array(42)"
      ]
     },
     "execution_count": 11,
     "metadata": {},
     "output_type": "execute_result"
    }
   ],
   "source": [
    "arr"
   ]
  },
  {
   "cell_type": "code",
   "execution_count": 16,
   "metadata": {},
   "outputs": [
    {
     "name": "stdout",
     "output_type": "stream",
     "text": [
      "[1 2 3 4 5]\n"
     ]
    }
   ],
   "source": [
    "#create a one dimention array\n",
    "\n",
    "arr1=np.array([1,2,3,4,5])\n",
    "print(arr1)"
   ]
  },
  {
   "cell_type": "code",
   "execution_count": 18,
   "metadata": {},
   "outputs": [
    {
     "name": "stdout",
     "output_type": "stream",
     "text": [
      "[[1 2 3]\n",
      " [4 5 6]]\n"
     ]
    }
   ],
   "source": [
    "##2-d matrix\n",
    "\n",
    "num1=np.array([[1,2,3],[4,5,6]])\n",
    "print(num1)\n"
   ]
  },
  {
   "cell_type": "code",
   "execution_count": 22,
   "metadata": {},
   "outputs": [
    {
     "name": "stdout",
     "output_type": "stream",
     "text": [
      "[4 5 6]\n"
     ]
    }
   ],
   "source": [
    "num2=np.array([[[1,2,3],[4,5,6]],[[1,2,3],[4,5,6]]])\n",
    "\n",
    "print(num2[0,1])\n"
   ]
  },
  {
   "cell_type": "code",
   "execution_count": 24,
   "metadata": {},
   "outputs": [
    {
     "name": "stdout",
     "output_type": "stream",
     "text": [
      "2\n",
      "3\n"
     ]
    }
   ],
   "source": [
    "print(num1.ndim)\n",
    "print(num2.ndim)"
   ]
  },
  {
   "cell_type": "code",
   "execution_count": 28,
   "metadata": {},
   "outputs": [],
   "source": [
    "mutli=np.array([1,2,3,4,5],ndmin=5)"
   ]
  },
  {
   "cell_type": "code",
   "execution_count": 29,
   "metadata": {},
   "outputs": [
    {
     "name": "stdout",
     "output_type": "stream",
     "text": [
      "[[[[[1 2 3 4 5]]]]]\n"
     ]
    }
   ],
   "source": [
    "print(mutli)"
   ]
  },
  {
   "cell_type": "code",
   "execution_count": 30,
   "metadata": {},
   "outputs": [
    {
     "name": "stdout",
     "output_type": "stream",
     "text": [
      "5\n"
     ]
    }
   ],
   "source": [
    "print(mutli.ndim)"
   ]
  },
  {
   "cell_type": "code",
   "execution_count": 33,
   "metadata": {},
   "outputs": [
    {
     "name": "stdout",
     "output_type": "stream",
     "text": [
      "[[1 2 3]\n",
      " [4 5 6]]\n",
      "2\n"
     ]
    }
   ],
   "source": [
    "# Accessing the elements in the 2D Array\n",
    "# num[row no,col no]\n",
    "\n",
    "print(num1)\n",
    "print(num1[0,1])"
   ]
  },
  {
   "cell_type": "code",
   "execution_count": 34,
   "metadata": {},
   "outputs": [
    {
     "name": "stdout",
     "output_type": "stream",
     "text": [
      "[[[1 2 3]\n",
      "  [4 5 6]]\n",
      "\n",
      " [[1 2 3]\n",
      "  [4 5 6]]]\n",
      "6\n"
     ]
    }
   ],
   "source": [
    "# Access the element of the 3-D Array\n",
    "\n",
    "print(num2)\n",
    "print(num2[0,1,2])"
   ]
  },
  {
   "cell_type": "code",
   "execution_count": 38,
   "metadata": {},
   "outputs": [
    {
     "name": "stdout",
     "output_type": "stream",
     "text": [
      "[[1 2 3]\n",
      " [4 5 6]]\n",
      "6\n"
     ]
    }
   ],
   "source": [
    "## Access the element using the negetive index\n",
    "\n",
    "print(num1)\n",
    "print(num1[-1,2])"
   ]
  },
  {
   "cell_type": "code",
   "execution_count": 40,
   "metadata": {},
   "outputs": [
    {
     "name": "stdout",
     "output_type": "stream",
     "text": [
      "[2 3 4 5]\n"
     ]
    }
   ],
   "source": [
    "#Array Slicing for num[i,j] for the range is from the i to j-1\n",
    "import numpy as np\n",
    "\n",
    "arr = np.array([1, 2, 3, 4, 5, 6, 7])\n",
    "\n",
    "print(arr[1:5])"
   ]
  },
  {
   "cell_type": "code",
   "execution_count": 41,
   "metadata": {},
   "outputs": [
    {
     "name": "stdout",
     "output_type": "stream",
     "text": [
      "[3 4 5 6 7]\n"
     ]
    }
   ],
   "source": [
    "#Array Slicing for num[i:] for the range is from the i to j-1\n",
    "# This means the range is from i to the end\n",
    "\n",
    "print(arr[2:])"
   ]
  },
  {
   "cell_type": "code",
   "execution_count": 42,
   "metadata": {},
   "outputs": [
    {
     "name": "stdout",
     "output_type": "stream",
     "text": [
      "[1 2 3 4 5]\n"
     ]
    }
   ],
   "source": [
    "## nums[:i] Slice elements from the beginning to index i (not included):\n",
    "\n",
    "print(arr[:5])"
   ]
  },
  {
   "cell_type": "code",
   "execution_count": 43,
   "metadata": {},
   "outputs": [
    {
     "name": "stdout",
     "output_type": "stream",
     "text": [
      "[5 6]\n"
     ]
    }
   ],
   "source": [
    "print(arr[-3:-1])"
   ]
  },
  {
   "cell_type": "code",
   "execution_count": 44,
   "metadata": {},
   "outputs": [
    {
     "name": "stdout",
     "output_type": "stream",
     "text": [
      "[2 4]\n"
     ]
    }
   ],
   "source": [
    "print(arr[1:5:2])"
   ]
  },
  {
   "cell_type": "code",
   "execution_count": 45,
   "metadata": {},
   "outputs": [
    {
     "name": "stdout",
     "output_type": "stream",
     "text": [
      "[1 3 5 7]\n"
     ]
    }
   ],
   "source": [
    "print(arr[::2])"
   ]
  },
  {
   "cell_type": "code",
   "execution_count": 46,
   "metadata": {},
   "outputs": [],
   "source": [
    "##Slicing 2-D Arrays\n"
   ]
  },
  {
   "cell_type": "code",
   "execution_count": 47,
   "metadata": {},
   "outputs": [
    {
     "name": "stdout",
     "output_type": "stream",
     "text": [
      "[7 8 9]\n"
     ]
    }
   ],
   "source": [
    "import numpy as np\n",
    "\n",
    "arr = np.array([[1, 2, 3, 4, 5], [6, 7, 8, 9, 10]])\n",
    "\n",
    "print(arr[1, 1:4])"
   ]
  },
  {
   "cell_type": "code",
   "execution_count": 49,
   "metadata": {},
   "outputs": [
    {
     "name": "stdout",
     "output_type": "stream",
     "text": [
      "[3 8]\n"
     ]
    }
   ],
   "source": [
    "#returns the 2nd value from the two arrays\n",
    "\n",
    "print(arr[0:2,2])"
   ]
  },
  {
   "cell_type": "code",
   "execution_count": 50,
   "metadata": {},
   "outputs": [
    {
     "name": "stdout",
     "output_type": "stream",
     "text": [
      "[[2 3 4]\n",
      " [7 8 9]]\n"
     ]
    }
   ],
   "source": [
    "print(arr[0:2, 1:4])\n"
   ]
  },
  {
   "cell_type": "markdown",
   "metadata": {},
   "source": [
    "Data Types in Python\n",
    "\n",
    "By default Python have these data types:\n",
    "\n",
    "strings - used to represent text data, the text is given under quote marks. e.g. \"ABCD\"\n",
    "\n",
    "integer - used to represent integer numbers. e.g. -1, -2, -3\n",
    "\n",
    "float - used to represent real numbers. e.g. 1.2, 42.42\n",
    "\n",
    "boolean - used to represent True or False.\n",
    "\n",
    "complex - used to represent complex numbers. e.g. 1.0 + 2.0j, 1.5 + 2.5j"
   ]
  },
  {
   "cell_type": "markdown",
   "metadata": {},
   "source": []
  },
  {
   "cell_type": "code",
   "execution_count": 51,
   "metadata": {},
   "outputs": [
    {
     "name": "stdout",
     "output_type": "stream",
     "text": [
      "int64\n"
     ]
    }
   ],
   "source": [
    "print(arr.dtype)"
   ]
  },
  {
   "cell_type": "code",
   "execution_count": 54,
   "metadata": {},
   "outputs": [],
   "source": [
    "nums=np.array([\"banana2\",\"ap2ple\",\"guaua\"])"
   ]
  },
  {
   "cell_type": "code",
   "execution_count": 55,
   "metadata": {},
   "outputs": [
    {
     "name": "stdout",
     "output_type": "stream",
     "text": [
      "<U7\n"
     ]
    }
   ],
   "source": [
    "print(nums.dtype)"
   ]
  },
  {
   "cell_type": "markdown",
   "metadata": {},
   "source": [
    "\n",
    "Creating Arrays With a Defined Data Type\n",
    "\n",
    "We use the array() function to create arrays, this function can take an optional argument: dtype that allows us to define the expected data type of the array elements:\n",
    "\n"
   ]
  },
  {
   "cell_type": "code",
   "execution_count": 57,
   "metadata": {},
   "outputs": [
    {
     "name": "stdout",
     "output_type": "stream",
     "text": [
      "[1. 2. 3. 4. 5.]\n"
     ]
    }
   ],
   "source": [
    "temp=np.array([1,2,3,4,5],dtype=float)\n",
    "print(temp)"
   ]
  },
  {
   "cell_type": "markdown",
   "metadata": {},
   "source": [
    "What if a Value Can Not Be Converted?\n"
   ]
  },
  {
   "cell_type": "code",
   "execution_count": 58,
   "metadata": {},
   "outputs": [
    {
     "ename": "ValueError",
     "evalue": "invalid literal for int() with base 10: 'a'",
     "output_type": "error",
     "traceback": [
      "\u001b[1;31m---------------------------------------------------------------------------\u001b[0m",
      "\u001b[1;31mValueError\u001b[0m                                Traceback (most recent call last)",
      "Cell \u001b[1;32mIn[58], line 1\u001b[0m\n\u001b[1;32m----> 1\u001b[0m arr \u001b[38;5;241m=\u001b[39m \u001b[43mnp\u001b[49m\u001b[38;5;241;43m.\u001b[39;49m\u001b[43marray\u001b[49m\u001b[43m(\u001b[49m\u001b[43m[\u001b[49m\u001b[38;5;124;43m'\u001b[39;49m\u001b[38;5;124;43ma\u001b[39;49m\u001b[38;5;124;43m'\u001b[39;49m\u001b[43m,\u001b[49m\u001b[43m \u001b[49m\u001b[38;5;124;43m'\u001b[39;49m\u001b[38;5;124;43m2\u001b[39;49m\u001b[38;5;124;43m'\u001b[39;49m\u001b[43m,\u001b[49m\u001b[43m \u001b[49m\u001b[38;5;124;43m'\u001b[39;49m\u001b[38;5;124;43m3\u001b[39;49m\u001b[38;5;124;43m'\u001b[39;49m\u001b[43m]\u001b[49m\u001b[43m,\u001b[49m\u001b[43m \u001b[49m\u001b[43mdtype\u001b[49m\u001b[38;5;241;43m=\u001b[39;49m\u001b[38;5;124;43m'\u001b[39;49m\u001b[38;5;124;43mi\u001b[39;49m\u001b[38;5;124;43m'\u001b[39;49m\u001b[43m)\u001b[49m\n",
      "\u001b[1;31mValueError\u001b[0m: invalid literal for int() with base 10: 'a'"
     ]
    }
   ],
   "source": [
    "arr = np.array(['a', '2', '3'], dtype='i')\n"
   ]
  },
  {
   "cell_type": "code",
   "execution_count": 63,
   "metadata": {},
   "outputs": [
    {
     "name": "stdout",
     "output_type": "stream",
     "text": [
      "[1 1 1]\n",
      "int64\n"
     ]
    }
   ],
   "source": [
    "##  Type Conversion\n",
    "\n",
    "arr=np.array([1.1,1.2,1.3])\n",
    "arr1=arr.astype(int)\n",
    "print(arr1)\n",
    "print(arr1.dtype)"
   ]
  },
  {
   "cell_type": "code",
   "execution_count": 65,
   "metadata": {},
   "outputs": [
    {
     "name": "stdout",
     "output_type": "stream",
     "text": [
      "[ True  True  True]\n",
      "bool\n"
     ]
    }
   ],
   "source": [
    "#number which is non zero it will return True\n",
    "\n",
    "arr2=arr.astype(bool)\n",
    "print(arr2)\n",
    "print(arr2.dtype)"
   ]
  },
  {
   "cell_type": "code",
   "execution_count": null,
   "metadata": {},
   "outputs": [],
   "source": []
  }
 ],
 "metadata": {
  "kernelspec": {
   "display_name": "myenv",
   "language": "python",
   "name": "python3"
  },
  "language_info": {
   "codemirror_mode": {
    "name": "ipython",
    "version": 3
   },
   "file_extension": ".py",
   "mimetype": "text/x-python",
   "name": "python",
   "nbconvert_exporter": "python",
   "pygments_lexer": "ipython3",
   "version": "3.11.4"
  }
 },
 "nbformat": 4,
 "nbformat_minor": 2
}
