{
 "cells": [
  {
   "cell_type": "code",
   "execution_count": 1,
   "metadata": {},
   "outputs": [
    {
     "name": "stdout",
     "output_type": "stream",
     "text": [
      "Optimal value of x: [3.00000003]\n",
      "Minimum function value: 4.000000000000001\n"
     ]
    }
   ],
   "source": [
    "import numpy as np\n",
    "from scipy.optimize import minimize\n",
    "\n",
    "# Define the objective function\n",
    "def objective_function(x):\n",
    "    return (x - 3)**2 + 4\n",
    "\n",
    "# Use NumPy to create the initial guess for x\n",
    "x0 = np.array([0])  # Initial guess: x = 0\n",
    "\n",
    "# Minimize the function using SciPy's minimize function\n",
    "result = minimize(objective_function, x0)\n",
    "\n",
    "# Output the result\n",
    "print(\"Optimal value of x:\", result.x)\n",
    "print(\"Minimum function value:\", result.fun)\n"
   ]
  },
  {
   "cell_type": "code",
   "execution_count": 2,
   "metadata": {},
   "outputs": [
    {
     "name": "stdout",
     "output_type": "stream",
     "text": [
      "Integral result: 0.33333333333333337, Estimated error: 3.700743415417189e-15\n"
     ]
    }
   ],
   "source": [
    "import numpy as np\n",
    "from scipy.integrate import quad\n",
    "\n",
    "# Define the function to integrate\n",
    "def integrand(x):\n",
    "    return x**2\n",
    "\n",
    "# Use SciPy's quad function to compute the integral\n",
    "result, error = quad(integrand, 0, 1)\n",
    "\n",
    "# Output the result\n",
    "print(f\"Integral result: {result}, Estimated error: {error}\")\n"
   ]
  },
  {
   "cell_type": "markdown",
   "metadata": {},
   "source": [
    "19. Write a NumPy program to generate a set of data and fit a statistical model using SciPy's optimize module for maximum likelihood estimation (MLE).\n"
   ]
  },
  {
   "cell_type": "markdown",
   "metadata": {},
   "source": []
  }
 ],
 "metadata": {
  "kernelspec": {
   "display_name": "venv",
   "language": "python",
   "name": "python3"
  },
  "language_info": {
   "codemirror_mode": {
    "name": "ipython",
    "version": 3
   },
   "file_extension": ".py",
   "mimetype": "text/x-python",
   "name": "python",
   "nbconvert_exporter": "python",
   "pygments_lexer": "ipython3",
   "version": "3.12.0"
  }
 },
 "nbformat": 4,
 "nbformat_minor": 2
}
