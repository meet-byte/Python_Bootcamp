{
 "cells": [
  {
   "cell_type": "markdown",
   "metadata": {},
   "source": [
    "22. Write a  NumPy program to split a given text into lines and split the single line into array values.\n",
    "\n",
    "Sample output:\n",
    "\n",
    "Original text:\n",
    "\n",
    "01 V Debby Pramod\n",
    "02 V Artemiy Ellie\n",
    "03 V Baptist Kamal\n",
    "04 V Lavanya Davide\n",
    "05 V Fulton Antwan\n",
    "06 V Euanthe Sandeep\n",
    "07 V Endzela Sanda\n",
    "08 V Victoire Waman\n",
    "09 V Briar Nur\n",
    "10 V Rose Lykos\n",
    "\n",
    "Array from the said text:\n",
    "\n",
    "[['01' 'V' 'Debby Pramod']\n",
    "['02' 'V' 'Artemiy Ellie']\n",
    "['03' 'V' 'Baptist Kamal']\n",
    "['04' 'V' 'Lavanya Davide']\n",
    "['05' 'V' 'Fulton Antwan']\n",
    "['06' 'V' 'Euanthe Sandeep']\n",
    "['07' 'V' 'Endzela Sanda']\n",
    "['08' 'V' 'Victoire Waman']\n",
    "['09' 'V' 'Briar Nur']\n",
    "['10' 'V' 'Rose Lykos']]"
   ]
  },
  {
   "cell_type": "code",
   "execution_count": 11,
   "metadata": {},
   "outputs": [
    {
     "name": "stdout",
     "output_type": "stream",
     "text": [
      "[['01', 'V', 'Debby', 'Pramod'], ['02', 'V', 'Artemiy', 'Ellie'], ['03', 'V', 'Baptist', 'Kamal'], ['04', 'V', 'Lavanya', 'Davide'], ['05', 'V', 'Fulton', 'Antwan'], ['06', 'V', 'Euanthe', 'Sandeep'], ['07', 'V', 'Endzela', 'Sanda'], ['08', 'V', 'Victoire', 'Waman'], ['09', 'V', 'Briar', 'Nur'], ['10', 'V', 'Rose', 'Lykos'], ['']]\n"
     ]
    }
   ],
   "source": [
    "import numpy as np\n",
    "text='''01 V Debby Pramod\n",
    "02 V Artemiy Ellie\n",
    "03 V Baptist Kamal\n",
    "04 V Lavanya Davide\n",
    "05 V Fulton Antwan\n",
    "06 V Euanthe Sandeep\n",
    "07 V Endzela Sanda\n",
    "08 V Victoire Waman\n",
    "09 V Briar Nur\n",
    "10 V Rose Lykos\n",
    "'''\n",
    "lines=text.split(\"\\n\")\n",
    "arr=[line.split(' ',3) for line in lines]\n",
    "print(arr)"
   ]
  },
  {
   "cell_type": "code",
   "execution_count": null,
   "metadata": {},
   "outputs": [],
   "source": []
  }
 ],
 "metadata": {
  "kernelspec": {
   "display_name": "venv",
   "language": "python",
   "name": "python3"
  },
  "language_info": {
   "codemirror_mode": {
    "name": "ipython",
    "version": 3
   },
   "file_extension": ".py",
   "mimetype": "text/x-python",
   "name": "python",
   "nbconvert_exporter": "python",
   "pygments_lexer": "ipython3",
   "version": "3.12.0"
  }
 },
 "nbformat": 4,
 "nbformat_minor": 2
}
