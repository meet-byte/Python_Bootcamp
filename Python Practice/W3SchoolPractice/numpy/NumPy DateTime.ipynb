{
 "cells": [
  {
   "cell_type": "markdown",
   "metadata": {},
   "source": [
    "NumPy: DateTime"
   ]
  },
  {
   "cell_type": "markdown",
   "metadata": {},
   "source": [
    "7. Write a NumPy program to convert numpy datetime64 to Timestamp.\n",
    "\n",
    "Sample output:\n",
    "\n",
    "Current date:\n",
    "2017-04-01 08:01:12.722055\n",
    "\n",
    "Timestamp:\n",
    "1491033672.72\n",
    "\n",
    "UTC from Timestamp:\n",
    "2017-04-01 08:01:12.722055"
   ]
  },
  {
   "cell_type": "code",
   "execution_count": 3,
   "metadata": {},
   "outputs": [
    {
     "data": {
      "text/plain": [
       "array(['2025-02-01', '2025-02-02', '2025-02-03', '2025-02-04',\n",
       "       '2025-02-05', '2025-02-06', '2025-02-07', '2025-02-08',\n",
       "       '2025-02-09', '2025-02-10', '2025-02-11', '2025-02-12',\n",
       "       '2025-02-13', '2025-02-14', '2025-02-15', '2025-02-16',\n",
       "       '2025-02-17', '2025-02-18', '2025-02-19', '2025-02-20',\n",
       "       '2025-02-21', '2025-02-22', '2025-02-23', '2025-02-24',\n",
       "       '2025-02-25', '2025-02-26', '2025-02-27', '2025-02-28'],\n",
       "      dtype='datetime64[D]')"
      ]
     },
     "execution_count": 3,
     "metadata": {},
     "output_type": "execute_result"
    }
   ],
   "source": [
    "import numpy as np\n",
    "np.arange('2025-02','2025-03',dtype='datetime64[D]')"
   ]
  },
  {
   "cell_type": "code",
   "execution_count": 4,
   "metadata": {},
   "outputs": [],
   "source": [
    "result=np.datetime64('now')"
   ]
  },
  {
   "cell_type": "code",
   "execution_count": 7,
   "metadata": {},
   "outputs": [
    {
     "name": "stdout",
     "output_type": "stream",
     "text": [
      "current date is:2025-01-13T03:42:41\n"
     ]
    }
   ],
   "source": [
    "print(f\"current date is:{result}\")"
   ]
  },
  {
   "cell_type": "code",
   "execution_count": 12,
   "metadata": {},
   "outputs": [
    {
     "name": "stdout",
     "output_type": "stream",
     "text": [
      "1736739761.0\n"
     ]
    }
   ],
   "source": [
    "'''\n",
    "What is a Timestamp?\n",
    "A timestamp is a numerical representation of a specific point in time, measured as the\n",
    " number of seconds (or milliseconds, depending on the context) that have elapsed since a \n",
    " reference starting point known as the epoch.\n",
    "'''\n",
    "\n",
    "'''\n",
    "The expression timestamp = result.astype(\"datetime64[s]\").astype('float') converts a NumPy datetime64 object (result)\n",
    " into a Unix timestamp (seconds since the Unix epoch: January 1, 1970, 00:00:00 UTC).\n",
    "'''\n",
    "\n",
    "timestamp=result.astype(\"datetime64[s]\").astype(float)\n",
    "print(timestamp)"
   ]
  },
  {
   "cell_type": "code",
   "execution_count": 13,
   "metadata": {},
   "outputs": [],
   "source": [
    "num=np.datetime64(int(timestamp),'s')"
   ]
  },
  {
   "cell_type": "code",
   "execution_count": 14,
   "metadata": {},
   "outputs": [
    {
     "name": "stdout",
     "output_type": "stream",
     "text": [
      "2025-01-13T03:42:41\n"
     ]
    }
   ],
   "source": [
    "print(num)"
   ]
  },
  {
   "cell_type": "code",
   "execution_count": null,
   "metadata": {},
   "outputs": [],
   "source": []
  }
 ],
 "metadata": {
  "kernelspec": {
   "display_name": "venv",
   "language": "python",
   "name": "python3"
  },
  "language_info": {
   "codemirror_mode": {
    "name": "ipython",
    "version": 3
   },
   "file_extension": ".py",
   "mimetype": "text/x-python",
   "name": "python",
   "nbconvert_exporter": "python",
   "pygments_lexer": "ipython3",
   "version": "3.12.0"
  }
 },
 "nbformat": 4,
 "nbformat_minor": 2
}
