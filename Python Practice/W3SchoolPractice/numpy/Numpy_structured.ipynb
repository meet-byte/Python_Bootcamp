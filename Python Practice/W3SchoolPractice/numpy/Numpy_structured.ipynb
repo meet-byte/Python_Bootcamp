{
 "cells": [
  {
   "cell_type": "markdown",
   "metadata": {},
   "source": [
    "20. Write a NumPy program to broadcast a value (e.g., set all 'height' values to 6.0) across the 'height' field in the structured array created with fields for 'name' (string), 'age' (integer), and 'height' (float).\n"
   ]
  },
  {
   "cell_type": "code",
   "execution_count": 11,
   "metadata": {},
   "outputs": [
    {
     "name": "stdout",
     "output_type": "stream",
     "text": [
      "structured array before the modification\n",
      "\n",
      "[('meet', 21, 6.1) ('jeet', 21, 5.4) ('meetk', 21, 5.2)]\n",
      "\n",
      "structured array after the modification\n",
      "\n",
      "[('meet', 21, 6.) ('jeet', 21, 6.) ('meetk', 21, 6.)]\n"
     ]
    }
   ],
   "source": [
    "import numpy as np\n",
    "dtype=np.dtype([('name',\"U10\"),\n",
    "              (\"age\",\"i4\"),\n",
    "              (\"height\",\"f4\")])\n",
    "num1=np.array([(\"meet\",21,6.1),\n",
    "              (\"jeet\",21,5.4),\n",
    "              (\"meetk\",21,5.2)],dtype=dtype)\n",
    "print(\"structured array before the modification\")\n",
    "print()\n",
    "print(num1)\n",
    "for x in num1:\n",
    "    x[\"height\"]=6.0\n",
    "print()\n",
    "print(\"structured array after the modification\")\n",
    "print()\n",
    "print(num1)"
   ]
  },
  {
   "cell_type": "code",
   "execution_count": null,
   "metadata": {},
   "outputs": [],
   "source": []
  }
 ],
 "metadata": {
  "kernelspec": {
   "display_name": "venv",
   "language": "python",
   "name": "python3"
  },
  "language_info": {
   "codemirror_mode": {
    "name": "ipython",
    "version": 3
   },
   "file_extension": ".py",
   "mimetype": "text/x-python",
   "name": "python",
   "nbconvert_exporter": "python",
   "pygments_lexer": "ipython3",
   "version": "3.12.0"
  }
 },
 "nbformat": 4,
 "nbformat_minor": 2
}
