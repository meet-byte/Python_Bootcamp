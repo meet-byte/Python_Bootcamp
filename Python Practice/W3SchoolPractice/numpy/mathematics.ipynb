{
 "cells": [
  {
   "cell_type": "markdown",
   "metadata": {},
   "source": [
    ". Write a NumPy program to calculate the Frobenius norm and the condition number of a given array.\n"
   ]
  },
  {
   "cell_type": "code",
   "execution_count": 1,
   "metadata": {},
   "outputs": [
    {
     "name": "stdout",
     "output_type": "stream",
     "text": [
      "Original array:\n",
      "[[1 2 3]\n",
      " [4 5 6]\n",
      " [7 8 9]]\n",
      "Frobenius norm and the condition number:\n",
      "16.881943016134134\n",
      "inf\n"
     ]
    }
   ],
   "source": [
    "import numpy as np\n",
    "\n",
    "a = np.arange(1, 10).reshape((3, 3))\n",
    "\n",
    "print(\"Original array:\")\n",
    "print(a)\n",
    "\n",
    "print(\"Frobenius norm and the condition number:\")\n",
    "print(np.linalg.norm(a, 'fro'))  \n",
    "print(np.linalg.cond(a, 'fro'))"
   ]
  },
  {
   "cell_type": "code",
   "execution_count": null,
   "metadata": {},
   "outputs": [],
   "source": []
  }
 ],
 "metadata": {
  "kernelspec": {
   "display_name": "venv",
   "language": "python",
   "name": "python3"
  },
  "language_info": {
   "codemirror_mode": {
    "name": "ipython",
    "version": 3
   },
   "file_extension": ".py",
   "mimetype": "text/x-python",
   "name": "python",
   "nbconvert_exporter": "python",
   "pygments_lexer": "ipython3",
   "version": "3.12.0"
  }
 },
 "nbformat": 4,
 "nbformat_minor": 2
}
