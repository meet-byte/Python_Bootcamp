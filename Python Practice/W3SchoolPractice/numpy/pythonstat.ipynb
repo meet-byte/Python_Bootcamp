{
 "cells": [
  {
   "cell_type": "markdown",
   "metadata": {},
   "source": [
    "10. Write a NumPy program to compute pearson product-moment correlation coefficients of two given arrays.\n",
    "\n",
    "Sample Output:\n",
    "\n",
    "Original array1:\n",
    "[0 1 3]\n",
    "\n",
    "Original array1:\n",
    "[2 4 5]\n",
    "\n",
    "Pearson product-moment correlation coefficients of the said arrays:\n",
    "[[1. 0.92857143]\n",
    "[0.92857143 1. ]]"
   ]
  },
  {
   "cell_type": "code",
   "execution_count": 1,
   "metadata": {},
   "outputs": [
    {
     "name": "stdout",
     "output_type": "stream",
     "text": [
      "\n",
      "Original array1:\n",
      "[0 1 3]\n",
      "\n",
      "Original array1:\n",
      "[2 4 5]\n",
      "\n",
      "Pearson product-moment correlation coefficients of the said arrays:\n",
      " [[1.         0.92857143]\n",
      " [0.92857143 1.        ]]\n"
     ]
    }
   ],
   "source": [
    "import numpy as np\n",
    "\n",
    "x = np.array([0, 1, 3])\n",
    "\n",
    "y = np.array([2, 4, 5])\n",
    "\n",
    "print(\"\\nOriginal array1:\")\n",
    "print(x)\n",
    "\n",
    "print(\"\\nOriginal array1:\")\n",
    "print(y)\n",
    "\n",
    "print(\"\\nPearson product-moment correlation coefficients of the said arrays:\\n\", np.corrcoef(x, y))\n"
   ]
  },
  {
   "cell_type": "markdown",
   "metadata": {},
   "source": [
    "13. Write a Python program to count number of occurrences of each value in a given array of non-negative integers.\n",
    "Note: bincount() function count number of occurrences of each value in an array of non-negative integers in the range of the array between the minimum and maximum values including the values that did not occur.\n",
    "\n",
    "Sample Output:\n",
    "\n",
    "Original array:\n",
    "[0, 1, 6, 1, 4, 1, 2, 2, 7]\n",
    "\n",
    "Number of occurrences of each value in array:\n",
    "[1 3 2 0 1 0 1 1]"
   ]
  },
  {
   "cell_type": "code",
   "execution_count": 2,
   "metadata": {},
   "outputs": [
    {
     "name": "stdout",
     "output_type": "stream",
     "text": [
      "Original array:\n",
      "[0, 1, 6, 1, 4, 1, 2, 2, 7]\n",
      "Number of occurrences of each value in array: \n",
      "[1 3 2 0 1 0 1 1]\n"
     ]
    }
   ],
   "source": [
    "import numpy as np\n",
    "\n",
    "array1 = [0, 1, 6, 1, 4, 1, 2, 2, 7] \n",
    "\n",
    "print(\"Original array:\")\n",
    "print(array1)\n",
    "\n",
    "print(\"Number of occurrences of each value in array: \")\n",
    "print(np.bincount(array1)) "
   ]
  },
  {
   "cell_type": "code",
   "execution_count": null,
   "metadata": {},
   "outputs": [],
   "source": []
  }
 ],
 "metadata": {
  "kernelspec": {
   "display_name": "venv",
   "language": "python",
   "name": "python3"
  },
  "language_info": {
   "codemirror_mode": {
    "name": "ipython",
    "version": 3
   },
   "file_extension": ".py",
   "mimetype": "text/x-python",
   "name": "python",
   "nbconvert_exporter": "python",
   "pygments_lexer": "ipython3",
   "version": "3.12.0"
  }
 },
 "nbformat": 4,
 "nbformat_minor": 2
}
