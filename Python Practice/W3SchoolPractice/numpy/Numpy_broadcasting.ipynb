{
 "cells": [
  {
   "cell_type": "markdown",
   "metadata": {
    "vscode": {
     "languageId": "plaintext"
    }
   },
   "source": [
    "20. Write a NumPy program that Multiplies each column of a 2D array x of shape (7, 3)\n",
    " by a 1D array y of shape (7,) using broadcasting.\n"
   ]
  },
  {
   "cell_type": "markdown",
   "metadata": {},
   "source": []
  },
  {
   "cell_type": "code",
   "execution_count": 7,
   "metadata": {},
   "outputs": [
    {
     "name": "stdout",
     "output_type": "stream",
     "text": [
      "[[5 1 4]\n",
      " [1 2 8]\n",
      " [4 8 7]\n",
      " [3 1 2]\n",
      " [8 2 5]\n",
      " [4 9 2]\n",
      " [6 4 6]]\n",
      "\n",
      "[2 5 5 7 3 6 4]\n",
      "[[2]\n",
      " [5]\n",
      " [5]\n",
      " [7]\n",
      " [3]\n",
      " [6]\n",
      " [4]]\n",
      "\n",
      "The Multiplied Array:::\n",
      "[[10  2  8]\n",
      " [ 5 10 40]\n",
      " [20 40 35]\n",
      " [21  7 14]\n",
      " [24  6 15]\n",
      " [24 54 12]\n",
      " [24 16 24]]\n"
     ]
    }
   ],
   "source": [
    "import numpy as np\n",
    "from numpy import random\n",
    "\n",
    "num1=random.randint(1,10,size=(7,3))\n",
    "print(num1)\n",
    "print()\n",
    "num2=random.randint(1,10,size=(7,))\n",
    "print(num2)\n",
    "print(num2[:,np.newaxis])\n",
    "print()\n",
    "num3 = num1 * num2[:, np.newaxis]\n",
    "print(\"The Multiplied Array:::\")\n",
    "print(num3)\n"
   ]
  },
  {
   "cell_type": "markdown",
   "metadata": {},
   "source": [
    "Write a  NumPy program to create a 3D array x of shape (3, 1, 5) and a 2D array y of shape (3, 5). Add x and y using broadcasting.\n",
    "\n"
   ]
  },
  {
   "cell_type": "code",
   "execution_count": 10,
   "metadata": {},
   "outputs": [
    {
     "name": "stdout",
     "output_type": "stream",
     "text": [
      "[[[10 20 30 40 50]]\n",
      "\n",
      " [[15 25 35 45 55]]\n",
      "\n",
      " [[20 30 40 50 60]]]\n"
     ]
    }
   ],
   "source": [
    "import numpy as np\n",
    "\n",
    "# Create a 3D array x of shape (3, 1, 5)\n",
    "x = np.array([[[1, 2, 3, 4, 5]],\n",
    "              [[6, 7, 8, 9, 10]],\n",
    "              [[11, 12, 13, 14, 15]]])\n",
    "\n",
    "# Create a 2D array y of shape (3, 5)\n",
    "y = np.array([[10, 20, 30, 40, 50],\n",
    "              [15, 25, 35, 45, 55],\n",
    "              [20, 30, 40, 50, 60]])\n",
    "print(y[:,np.newaxis,:])\n",
    "res=x+y[:,np.newaxis,:]"
   ]
  },
  {
   "cell_type": "code",
   "execution_count": 9,
   "metadata": {},
   "outputs": [
    {
     "name": "stdout",
     "output_type": "stream",
     "text": [
      "[[[11 22 33 44 55]]\n",
      "\n",
      " [[21 32 43 54 65]]\n",
      "\n",
      " [[31 42 53 64 75]]]\n"
     ]
    }
   ],
   "source": [
    "print(res)"
   ]
  },
  {
   "cell_type": "code",
   "execution_count": null,
   "metadata": {},
   "outputs": [],
   "source": []
  }
 ],
 "metadata": {
  "kernelspec": {
   "display_name": "venv",
   "language": "python",
   "name": "python3"
  },
  "language_info": {
   "codemirror_mode": {
    "name": "ipython",
    "version": 3
   },
   "file_extension": ".py",
   "mimetype": "text/x-python",
   "name": "python",
   "nbconvert_exporter": "python",
   "pygments_lexer": "ipython3",
   "version": "3.12.0"
  }
 },
 "nbformat": 4,
 "nbformat_minor": 2
}
