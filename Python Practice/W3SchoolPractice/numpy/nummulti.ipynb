{
 "cells": [
  {
   "cell_type": "markdown",
   "metadata": {
    "vscode": {
     "languageId": "plaintext"
    }
   },
   "source": [
    "40. Write a NumPy program to compute xy, element-wise where x, y are two given arrays.\n",
    "\n",
    "Sample output:\n",
    "Array1:\n",
    "[[1 2]\n",
    "[3 4]]\n",
    "\n",
    "Array1:\n",
    "[[1 2]\n",
    "[1 2]]\n",
    "\n",
    "Result- x^y:\n",
    "[[ 1 4]\n",
    "[ 3 16]]"
   ]
  },
  {
   "cell_type": "code",
   "execution_count": 1,
   "metadata": {},
   "outputs": [
    {
     "name": "stdout",
     "output_type": "stream",
     "text": [
      "[[ 1  4]\n",
      " [ 3 16]]\n"
     ]
    }
   ],
   "source": [
    "import numpy as np\n",
    "\n",
    "\n",
    "num1=np.array([[1,2],[3,4]])\n",
    "num2=([[1,2],[1,2]])\n",
    "r1=np.power(num1,num2)\n",
    "print(r1)"
   ]
  },
  {
   "cell_type": "code",
   "execution_count": null,
   "metadata": {},
   "outputs": [],
   "source": []
  }
 ],
 "metadata": {
  "kernelspec": {
   "display_name": "venv",
   "language": "python",
   "name": "python3"
  },
  "language_info": {
   "codemirror_mode": {
    "name": "ipython",
    "version": 3
   },
   "file_extension": ".py",
   "mimetype": "text/x-python",
   "name": "python",
   "nbconvert_exporter": "python",
   "pygments_lexer": "ipython3",
   "version": "3.12.0"
  }
 },
 "nbformat": 4,
 "nbformat_minor": 2
}
