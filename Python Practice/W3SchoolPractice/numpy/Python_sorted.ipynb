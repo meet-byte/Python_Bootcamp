{
 "cells": [
  {
   "cell_type": "markdown",
   "metadata": {},
   "source": [
    "9. Write a NumPy program to sort an given array by the nth column.\n",
    "\n",
    "Original array:\n",
    "\n",
    "[[1 5 0]\n",
    "\n",
    "[3 2 5]\n",
    "\n",
    "[8 7 6]]\n",
    "\n",
    "Sort the said array by the nth column:\n",
    "\n",
    "[[3 2 5]\n",
    "[1 5 0]\n",
    "[8 7 6]]"
   ]
  },
  {
   "cell_type": "code",
   "execution_count": 10,
   "metadata": {},
   "outputs": [
    {
     "name": "stdout",
     "output_type": "stream",
     "text": [
      "[[3 0 9]\n",
      " [7 2 9]\n",
      " [8 0 0]]\n",
      "[[8 0 0]\n",
      " [3 0 9]\n",
      " [7 2 9]]\n"
     ]
    }
   ],
   "source": [
    "import numpy as np\n",
    "from numpy import random\n",
    "\n",
    "num=random.randint(0,10,size=(3,3))\n",
    "print(num)\n",
    "n=int(input(\"enter the number of column by which you wanna to sort the Array:    \"))\n",
    "num=num[num[:,n].argsort()]\n",
    "print(num)"
   ]
  },
  {
   "cell_type": "markdown",
   "metadata": {},
   "source": [
    "20. Write a NumPy program that creates a 2D NumPy array and uses a mask array (boolean array) for indexing to select a subset of \n",
    "\n",
    "elements that match the mask criteria.\n"
   ]
  },
  {
   "cell_type": "code",
   "execution_count": 16,
   "metadata": {},
   "outputs": [
    {
     "name": "stdout",
     "output_type": "stream",
     "text": [
      " the Array is:[[2 2]\n",
      " [1 8]]\n",
      "The selected Array Is::\n",
      "[8]\n"
     ]
    }
   ],
   "source": [
    "num=random.randint(1,10,size=(2,2))\n",
    "mask=num>5\n",
    "print(f\" the Array is:{num}\")\n",
    "num2=num[mask]\n",
    "print(\"The selected Array Is::\")\n",
    "print(num2)\n",
    "\n"
   ]
  },
  {
   "cell_type": "code",
   "execution_count": null,
   "metadata": {},
   "outputs": [],
   "source": []
  }
 ],
 "metadata": {
  "kernelspec": {
   "display_name": "venv",
   "language": "python",
   "name": "python3"
  },
  "language_info": {
   "codemirror_mode": {
    "name": "ipython",
    "version": 3
   },
   "file_extension": ".py",
   "mimetype": "text/x-python",
   "name": "python",
   "nbconvert_exporter": "python",
   "pygments_lexer": "ipython3",
   "version": "3.12.0"
  }
 },
 "nbformat": 4,
 "nbformat_minor": 2
}
