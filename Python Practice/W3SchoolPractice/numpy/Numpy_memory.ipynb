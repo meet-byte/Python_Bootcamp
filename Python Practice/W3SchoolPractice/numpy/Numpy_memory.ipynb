{
 "cells": [
  {
   "cell_type": "markdown",
   "metadata": {},
   "source": [
    "3. Strides:\n",
    "\n",
    "The stride indicates the number of bytes to move in each dimension when accessing the array.\n",
    "\n",
    "For a 2D array of shape (2, 3) with int32 elements (4 bytes per element), the stride for each dimension is as follows:\n",
    "\n",
    "Stride for the rows (first dimension): 12 bytes (3 elements × 4 bytes)\n",
    "\n",
    "Stride for the columns (second dimension): 4 bytes (1 element × 4 bytes)\n",
    "\n",
    "arr_2d = np.array([[1, 2, 3], [4, 5, 6]])\n",
    "\n",
    "print(arr_2d.strides)\n",
    "\n",
    "(12, 4)"
   ]
  },
  {
   "cell_type": "markdown",
   "metadata": {},
   "source": [
    "19. Write a NumPy program that creates a 1D array of 20 elements and use reshape() to create a (4, 5) matrix. Slice a (2, 3) sub-matrix and print its strides."
   ]
  },
  {
   "cell_type": "code",
   "execution_count": 11,
   "metadata": {},
   "outputs": [
    {
     "name": "stdout",
     "output_type": "stream",
     "text": [
      "[ 0  1  2  3  4  5  6  7  8  9 10 11 12 13 14 15 16 17 18 19]\n",
      "[[ 0  1  2  3  4]\n",
      " [ 5  6  7  8  9]\n",
      " [10 11 12 13 14]\n",
      " [15 16 17 18 19]]\n",
      "\n",
      "Sliced (2, 3) sub-matrix:\n",
      " [[0 1 2]\n",
      " [5 6 7]]\n",
      "[[0 1 2]\n",
      " [5 6 7]]\n",
      "(40, 8)\n"
     ]
    }
   ],
   "source": [
    "import numpy as np\n",
    "from numpy import random\n",
    "\n",
    "num1=np.arange(20)\n",
    "print(num1)\n",
    "num1=num1[:,np.newaxis]\n",
    "num2=num1.reshape(4,5)\n",
    "print(num2)\n",
    "num3=num2[:2,:3]\n",
    "print(\"\\nSliced (2, 3) sub-matrix:\\n\", num3)\n",
    "print(num3)\n",
    "print(num3.strides)"
   ]
  },
  {
   "cell_type": "code",
   "execution_count": null,
   "metadata": {},
   "outputs": [],
   "source": []
  }
 ],
 "metadata": {
  "kernelspec": {
   "display_name": "venv",
   "language": "python",
   "name": "python3"
  },
  "language_info": {
   "codemirror_mode": {
    "name": "ipython",
    "version": 3
   },
   "file_extension": ".py",
   "mimetype": "text/x-python",
   "name": "python",
   "nbconvert_exporter": "python",
   "pygments_lexer": "ipython3",
   "version": "3.12.0"
  }
 },
 "nbformat": 4,
 "nbformat_minor": 2
}
