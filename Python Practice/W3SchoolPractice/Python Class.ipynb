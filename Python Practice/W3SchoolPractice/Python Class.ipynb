{
 "cells": [
  {
   "cell_type": "markdown",
   "metadata": {},
   "source": [
    "Python Class"
   ]
  },
  {
   "cell_type": "markdown",
   "metadata": {},
   "source": [
    "Write a Python class named Rectangle constructed from length and width and a method that will compute the area of a rectangle."
   ]
  },
  {
   "cell_type": "code",
   "execution_count": 1,
   "metadata": {},
   "outputs": [],
   "source": [
    "class rectangle:\n",
    "    def __init__(self,len,width):\n",
    "        self.len=len\n",
    "        self.width=width\n",
    "    def area(self):\n",
    "        print(\"area is:{}\".format(self.len*self.width))\n"
   ]
  },
  {
   "cell_type": "code",
   "execution_count": 2,
   "metadata": {},
   "outputs": [],
   "source": [
    "r1=rectangle(10,20)\n"
   ]
  },
  {
   "cell_type": "code",
   "execution_count": 3,
   "metadata": {},
   "outputs": [
    {
     "name": "stdout",
     "output_type": "stream",
     "text": [
      "area is:200\n"
     ]
    }
   ],
   "source": [
    "r1.area()"
   ]
  },
  {
   "cell_type": "markdown",
   "metadata": {},
   "source": [
    "1. Write a Python class Employee with attributes like emp_id, emp_name, emp_salary, and emp_department and methods like \n",
    "\n",
    "calculate_emp_salary, emp_assign_department, and print_employee_details.\n",
    "Sample Employee Data:\n",
    "\n",
    "\"ADAMS\", \"E7876\", 50000, \"ACCOUNTING\"\n",
    "\"JONES\", \"E7499\", 45000, \"RESEARCH\"\n",
    "\"MARTIN\", \"E7900\", 50000, \"SALES\"\n",
    "\"SMITH\", \"E7698\", 55000, \"OPERATIONS\"\n",
    "\n",
    "Use 'assign_department' method to change the department of an employee.\n",
    "\n",
    "Use 'print_employee_details' method to print the details of an employee.\n",
    "\n",
    "Use 'calculate_emp_salary' method takes two arguments: salary and hours_worked, which is the number of hours worked by the employee. If \n",
    "\n",
    "the number of hours worked is more than 50, the method computes overtime and adds it to the salary. Overtime is calculated as following \n",
    "\n",
    "formula:\n",
    "overtime = hours_worked - 50\n",
    "Overtime amount = (overtime * (salary / 50))"
   ]
  },
  {
   "cell_type": "code",
   "execution_count": 7,
   "metadata": {},
   "outputs": [
    {
     "name": "stdout",
     "output_type": "stream",
     "text": [
      "Original Employee Details:\n",
      "\n",
      "Name:  ADAMS\n",
      "ID:  E7876\n",
      "Salary:  50000\n",
      "Department:  ACCOUNTING\n",
      "----------------------\n",
      "\n",
      "Name:  JONES\n",
      "ID:  E7499\n",
      "Salary:  45000\n",
      "Department:  RESEARCH\n",
      "----------------------\n",
      "\n",
      "Name:  MARTIN\n",
      "ID:  E7900\n",
      "Salary:  50000\n",
      "Department:  SALES\n",
      "----------------------\n",
      "\n",
      "Name:  SMITH\n",
      "ID:  E7698\n",
      "Salary:  55000\n",
      "Department:  OPERATIONS\n",
      "----------------------\n",
      "Updated Employee Details:\n",
      "\n",
      "Name:  ADAMS\n",
      "ID:  E7876\n",
      "Salary:  50000\n",
      "Department:  OPERATIONS\n",
      "----------------------\n",
      "\n",
      "Name:  JONES\n",
      "ID:  E7499\n",
      "Salary:  46800.0\n",
      "Department:  RESEARCH\n",
      "----------------------\n",
      "\n",
      "Name:  MARTIN\n",
      "ID:  E7900\n",
      "Salary:  50000\n",
      "Department:  SALES\n",
      "----------------------\n",
      "\n",
      "Name:  SMITH\n",
      "ID:  E7698\n",
      "Salary:  66000.0\n",
      "Department:  SALES\n",
      "----------------------\n"
     ]
    }
   ],
   "source": [
    "class Employee:\n",
    "    def __init__(self, name, emp_id, salary, department):\n",
    "        self.name = name\n",
    "        self.id = emp_id\n",
    "        self.salary = salary\n",
    "        self.department = department\n",
    "\n",
    "    def calculate_salary(self, salary, hours_worked):\n",
    "        overtime = 0\n",
    "        if hours_worked > 50:\n",
    "            overtime = hours_worked - 50\n",
    "        self.salary = self.salary + (overtime * (self.salary / 50))\n",
    "\n",
    "    def assign_department(self, emp_department):\n",
    "        self.department = emp_department\n",
    "\n",
    "    def print_employee_details(self):\n",
    "        print(\"\\nName: \", self.name)\n",
    "        print(\"ID: \", self.id)\n",
    "        print(\"Salary: \", self.salary)\n",
    "        print(\"Department: \", self.department)\n",
    "        print(\"----------------------\")\n",
    "\n",
    "\n",
    "employee1 = Employee(\"ADAMS\", \"E7876\", 50000, \"ACCOUNTING\")\n",
    "employee2 = Employee(\"JONES\", \"E7499\", 45000, \"RESEARCH\")\n",
    "employee3 = Employee(\"MARTIN\", \"E7900\", 50000, \"SALES\")\n",
    "employee4 = Employee(\"SMITH\", \"E7698\", 55000, \"OPERATIONS\")\n",
    "\n",
    "print(\"Original Employee Details:\")\n",
    "employee1.print_employee_details()\n",
    "employee2.print_employee_details()\n",
    "employee3.print_employee_details()\n",
    "employee4.print_employee_details()\n",
    "\n",
    "# Change the departments of employee1 and employee4\n",
    "employee1.assign_department(\"OPERATIONS\")\n",
    "employee4.assign_department(\"SALES\")\n",
    "\n",
    "# Now calculate the overtime of the employees who are eligible:\n",
    "employee2.calculate_salary(45000, 52)\n",
    "employee4.calculate_salary(45000, 60)\n",
    "\n",
    "print(\"Updated Employee Details:\")\n",
    "employee1.print_employee_details()\n",
    "employee2.print_employee_details()\n",
    "employee3.print_employee_details()\n",
    "employee4.print_employee_details()\n"
   ]
  },
  {
   "cell_type": "code",
   "execution_count": null,
   "metadata": {},
   "outputs": [],
   "source": []
  }
 ],
 "metadata": {
  "kernelspec": {
   "display_name": "venv",
   "language": "python",
   "name": "python3"
  },
  "language_info": {
   "codemirror_mode": {
    "name": "ipython",
    "version": 3
   },
   "file_extension": ".py",
   "mimetype": "text/x-python",
   "name": "python",
   "nbconvert_exporter": "python",
   "pygments_lexer": "ipython3",
   "version": "3.12.0"
  }
 },
 "nbformat": 4,
 "nbformat_minor": 2
}
