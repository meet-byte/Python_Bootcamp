{
 "cells": [
  {
   "cell_type": "markdown",
   "metadata": {
    "vscode": {
     "languageId": "plaintext"
    }
   },
   "source": [
    "81. Write a Pandas program to get lowest n records within each group of a given DataFrame.\n",
    "\n",
    "Sample Output:\n",
    "\n",
    "Original DataFrame\n",
    "\n",
    "col1 col2 col3\n",
    "0 1 4 7\n",
    "\n",
    "1 2 5 5\n",
    "\n",
    "2 3 6 8\n",
    "\n",
    "3 4 9 12\n",
    "\n",
    "4 7 5 1\n",
    "\n",
    "5 11 0 11\n",
    "\n",
    "Lowest n records within each group of a \n",
    "\n",
    "DataFrame:\n",
    "\n",
    "col1 col2 col3\n",
    "\n",
    "0 1 4 7\n",
    "\n",
    "1 2 5 5\n",
    "\n",
    "2 3 6 8\n",
    "\n",
    "col1 col2 col3\n",
    "\n",
    "5 11 0 11\n",
    "\n",
    "0 1 4 7\n",
    "\n",
    "1 2 5 5\n",
    "\n",
    "col1 col2 col3\n",
    "\n",
    "4 7 5 1\n",
    "\n",
    "1 2 5 5\n",
    "\n",
    "0 1 4 7"
   ]
  },
  {
   "cell_type": "code",
   "execution_count": 2,
   "metadata": {},
   "outputs": [
    {
     "name": "stdout",
     "output_type": "stream",
     "text": [
      "   col1  col2  col3\n",
      "0     1     4     7\n",
      "1     2     5     5\n",
      "2     3     6     8\n",
      "   col1  col2  col3\n",
      "5    11     0    11\n",
      "0     1     4     7\n",
      "1     2     5     5\n",
      "   col1  col2  col3\n",
      "4     7     5     1\n",
      "1     2     5     5\n",
      "0     1     4     7\n"
     ]
    }
   ],
   "source": [
    "import pandas as pd\n",
    "\n",
    "d = {'col1': [1, 2, 3, 4, 7, 11], 'col2': [4, 5, 6, 9, 5, 0], 'col3': [7, 5, 8, 12, 1,11]}\n",
    "\n",
    "df = pd.DataFrame(data=d)\n",
    "\n",
    "df1=df.nsmallest(3,\"col1\")\n",
    "print(df1)\n",
    "df2=df.nsmallest(3,\"col2\")\n",
    "print(df2)\n",
    "df3=df.nsmallest(3,\"col3\")\n",
    "print(df3)"
   ]
  },
  {
   "cell_type": "markdown",
   "metadata": {},
   "source": []
  }
 ],
 "metadata": {
  "kernelspec": {
   "display_name": "venv",
   "language": "python",
   "name": "python3"
  },
  "language_info": {
   "codemirror_mode": {
    "name": "ipython",
    "version": 3
   },
   "file_extension": ".py",
   "mimetype": "text/x-python",
   "name": "python",
   "nbconvert_exporter": "python",
   "pygments_lexer": "ipython3",
   "version": "3.12.0"
  }
 },
 "nbformat": 4,
 "nbformat_minor": 2
}
