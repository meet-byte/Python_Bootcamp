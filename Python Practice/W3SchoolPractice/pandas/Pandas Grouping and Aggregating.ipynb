{
 "cells": [
  {
   "cell_type": "markdown",
   "metadata": {},
   "source": [
    "Pandas Grouping and Aggregating"
   ]
  },
  {
   "cell_type": "code",
   "execution_count": 7,
   "metadata": {},
   "outputs": [
    {
     "name": "stdout",
     "output_type": "stream",
     "text": [
      "          Values\n",
      "Category        \n",
      "A           True\n",
      "B           True\n",
      "C           True\n"
     ]
    }
   ],
   "source": [
    "import pandas as pd\n",
    "\n",
    "data = {'Category': ['A', 'B', 'A', 'B', 'C'],\n",
    "        'Values': [10, 20, 15, 25, 30]}\n",
    "\n",
    "df = pd.DataFrame(data)\n",
    "##The groupby operation in pandas followed by the .all() method is used to check\n",
    "#  whether all values within each group are True or \"truthy\" (non-zero, non-empty, etc.) for each column.\n",
    "group=df.groupby(\"Category\").all()\n",
    "print(group)"
   ]
  },
  {
   "cell_type": "code",
   "execution_count": 12,
   "metadata": {},
   "outputs": [
    {
     "name": "stdout",
     "output_type": "stream",
     "text": [
      "Original Orders DataFrame:\n",
      "    ord_no  purch_amt    ord_date  customer_id  salesman_id\n",
      "0    70001     150.50  2012-10-05         3002         5002\n",
      "1    70009     270.65  2012-09-10         3001         5003\n",
      "2    70002      65.26  2012-10-05         3001         5001\n",
      "3    70004     110.50  2012-08-17         3003         5003\n",
      "4    70007     948.50  2012-09-10         3002         5002\n",
      "5    70005    2400.60  2012-07-27         3002         5001\n",
      "6    70008    5760.00  2012-09-10         3001         5001\n",
      "7    70010    1983.43  2012-10-10         3004         5003\n",
      "8    70003    2480.40  2012-10-10         3003         5003\n",
      "9    70012     250.45  2012-06-27         3002         5002\n",
      "10   70011      75.29  2012-08-17         3003         5003\n",
      "11   70013    3045.60  2012-04-25         3001         5001\n",
      "\n",
      "Split the said data on 'salesman_id', 'customer_id' wise:\n",
      "\n",
      "Group:\n",
      "(np.int64(5001), np.int64(3001))\n",
      "    ord_no  purch_amt    ord_date  customer_id  salesman_id\n",
      "2    70002      65.26  2012-10-05         3001         5001\n",
      "6    70008    5760.00  2012-09-10         3001         5001\n",
      "11   70013    3045.60  2012-04-25         3001         5001\n",
      "\n",
      "Group:\n",
      "(np.int64(5001), np.int64(3002))\n",
      "   ord_no  purch_amt    ord_date  customer_id  salesman_id\n",
      "5   70005     2400.6  2012-07-27         3002         5001\n",
      "\n",
      "Group:\n",
      "(np.int64(5002), np.int64(3002))\n",
      "   ord_no  purch_amt    ord_date  customer_id  salesman_id\n",
      "0   70001     150.50  2012-10-05         3002         5002\n",
      "4   70007     948.50  2012-09-10         3002         5002\n",
      "9   70012     250.45  2012-06-27         3002         5002\n",
      "\n",
      "Group:\n",
      "(np.int64(5003), np.int64(3001))\n",
      "   ord_no  purch_amt    ord_date  customer_id  salesman_id\n",
      "1   70009     270.65  2012-09-10         3001         5003\n",
      "\n",
      "Group:\n",
      "(np.int64(5003), np.int64(3003))\n",
      "    ord_no  purch_amt    ord_date  customer_id  salesman_id\n",
      "3    70004     110.50  2012-08-17         3003         5003\n",
      "8    70003    2480.40  2012-10-10         3003         5003\n",
      "10   70011      75.29  2012-08-17         3003         5003\n",
      "\n",
      "Group:\n",
      "(np.int64(5003), np.int64(3004))\n",
      "   ord_no  purch_amt    ord_date  customer_id  salesman_id\n",
      "7   70010    1983.43  2012-10-10         3004         5003\n",
      "\n",
      "Droping last two records:\n",
      "   ord_no  purch_amt    ord_date  customer_id  salesman_id\n",
      "0   70001     150.50  2012-10-05         3002         5002\n",
      "2   70002      65.26  2012-10-05         3001         5001\n",
      "3   70004     110.50  2012-08-17         3003         5003\n"
     ]
    }
   ],
   "source": [
    "import pandas as pd\n",
    "pd.set_option('display.max_rows', None)\n",
    "df = pd.DataFrame({\n",
    "'ord_no':[70001,70009,70002,70004,70007,70005,70008,70010,70003,70012,70011,70013],\n",
    "'purch_amt':[150.5,270.65,65.26,110.5,948.5,2400.6,5760,1983.43,2480.4,250.45, 75.29,3045.6],\n",
    "'ord_date': ['2012-10-05','2012-09-10','2012-10-05','2012-08-17','2012-09-10','2012-07-27','2012-09-10','2012-10-10','2012-10-10','2012-06-27','2012-08-17','2012-04-25'],\n",
    "'customer_id':[3002,3001,3001,3003,3002,3002,3001,3004,3003,3002,3003,3001],\n",
    "'salesman_id':[5002,5003,5001,5003,5002,5001,5001,5003,5003,5002,5003,5001]})\n",
    "print(\"Original Orders DataFrame:\")\n",
    "print(df)\n",
    "print(\"\\nSplit the said data on 'salesman_id', 'customer_id' wise:\")\n",
    "result = df.groupby(['salesman_id', 'customer_id'])\n",
    "for name,group in result:\n",
    "    print(\"\\nGroup:\")\n",
    "    print(name)\n",
    "    print(group)\n",
    "n = 2\n",
    "print(\"\\nDroping last two records:\")    \n",
    "'''\n",
    ".tail(n): Within each group, this selects the last n rows. For example:\n",
    "\n",
    "If n=2, it picks the last 2 rows from each group.\n",
    "If a group has fewer than n rows, it returns all rows of that group.\n",
    ".index: Retrieves the index of the rows selected by .tail(n). These are the indices of the rows\n",
    "'''\n",
    "result1 = df.drop(df.groupby(['salesman_id', 'customer_id']).tail(n).index, axis=0)\n",
    "print(result1)"
   ]
  },
  {
   "cell_type": "code",
   "execution_count": null,
   "metadata": {},
   "outputs": [],
   "source": []
  }
 ],
 "metadata": {
  "kernelspec": {
   "display_name": "venv",
   "language": "python",
   "name": "python3"
  },
  "language_info": {
   "codemirror_mode": {
    "name": "ipython",
    "version": 3
   },
   "file_extension": ".py",
   "mimetype": "text/x-python",
   "name": "python",
   "nbconvert_exporter": "python",
   "pygments_lexer": "ipython3",
   "version": "3.12.0"
  }
 },
 "nbformat": 4,
 "nbformat_minor": 2
}
