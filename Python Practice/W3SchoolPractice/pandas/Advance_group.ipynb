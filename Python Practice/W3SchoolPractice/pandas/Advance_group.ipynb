{
 "cells": [
  {
   "cell_type": "code",
   "execution_count": 3,
   "metadata": {},
   "outputs": [
    {
     "name": "stdout",
     "output_type": "stream",
     "text": [
      "Sample DataFrame:\n",
      "  Category  Value1  Value2\n",
      "0        A       5      50\n",
      "1        A      10     100\n",
      "2        B      15     150\n",
      "3        B      20     200\n",
      "4        C      25     250\n",
      "5        C      30     300\n"
     ]
    }
   ],
   "source": [
    "import pandas as pd\n",
    "\n",
    "# Sample DataFrame\n",
    "data = {'Category': ['A', 'A', 'B', 'B', 'C', 'C'],\n",
    "        'Value1': [5, 10, 15, 20, 25, 30],\n",
    "        'Value2': [50, 100, 150, 200, 250, 300]}\n",
    "\n",
    "df = pd.DataFrame(data)\n",
    "print(\"Sample DataFrame:\")\n",
    "print(df)\n",
    "group=df.groupby(\"Category\").agg( Total_Value1=('Value1', 'sum'),\n",
    "    Average_Value2=('Value2', 'mean'))"
   ]
  },
  {
   "cell_type": "code",
   "execution_count": 4,
   "metadata": {},
   "outputs": [
    {
     "name": "stdout",
     "output_type": "stream",
     "text": [
      "Group::\n",
      "          Total_Value1  Average_Value2\n",
      "Category                              \n",
      "A                   15            75.0\n",
      "B                   35           175.0\n",
      "C                   55           275.0\n"
     ]
    }
   ],
   "source": [
    "print(\"Group::\")\n",
    "print(group)"
   ]
  },
  {
   "cell_type": "code",
   "execution_count": null,
   "metadata": {},
   "outputs": [],
   "source": []
  }
 ],
 "metadata": {
  "kernelspec": {
   "display_name": "venv",
   "language": "python",
   "name": "python3"
  },
  "language_info": {
   "codemirror_mode": {
    "name": "ipython",
    "version": 3
   },
   "file_extension": ".py",
   "mimetype": "text/x-python",
   "name": "python",
   "nbconvert_exporter": "python",
   "pygments_lexer": "ipython3",
   "version": "3.12.0"
  }
 },
 "nbformat": 4,
 "nbformat_minor": 2
}
