{
 "cells": [
  {
   "cell_type": "code",
   "execution_count": 3,
   "metadata": {},
   "outputs": [
    {
     "name": "stdout",
     "output_type": "stream",
     "text": [
      "      Name  Age  Salary\n",
      "2  Charlie   35   70000\n",
      "3    David   40   80000\n"
     ]
    }
   ],
   "source": [
    "import pandas as pd\n",
    "\n",
    "data = {'Name': ['Alice', 'Bob', 'Charlie', 'David'],\n",
    "        'Age': [25, 30, 35, 40],\n",
    "        'Salary': [50000, 60000, 70000, 80000]}\n",
    "df = pd.DataFrame(data)\n",
    "\n",
    "result = df.query('Age > 30' and 'Salary>60000')\n",
    "print(result)\n"
   ]
  },
  {
   "cell_type": "code",
   "execution_count": 7,
   "metadata": {},
   "outputs": [
    {
     "ename": "SyntaxError",
     "evalue": "invalid syntax (<unknown>, line 1)",
     "output_type": "error",
     "traceback": [
      "Traceback \u001b[1;36m(most recent call last)\u001b[0m:\n",
      "\u001b[0m  File \u001b[0;32m~\\AppData\\Roaming\\Python\\Python312\\site-packages\\IPython\\core\\interactiveshell.py:3577\u001b[0m in \u001b[0;35mrun_code\u001b[0m\n    exec(code_obj, self.user_global_ns, self.user_ns)\u001b[0m\n",
      "\u001b[0m  Cell \u001b[0;32mIn[8], line 2\u001b[0m\n    df.eval('Adjusted Salary = Salary * 1.10', inplace=True)\u001b[0m\n",
      "\u001b[0m  File \u001b[0;32m~\\AppData\\Roaming\\Python\\Python312\\site-packages\\pandas\\core\\frame.py:4949\u001b[0m in \u001b[0;35meval\u001b[0m\n    return _eval(expr, inplace=inplace, **kwargs)\u001b[0m\n",
      "\u001b[0m  File \u001b[0;32m~\\AppData\\Roaming\\Python\\Python312\\site-packages\\pandas\\core\\computation\\eval.py:336\u001b[0m in \u001b[0;35meval\u001b[0m\n    parsed_expr = Expr(expr, engine=engine, parser=parser, env=env)\u001b[0m\n",
      "\u001b[0m  File \u001b[0;32m~\\AppData\\Roaming\\Python\\Python312\\site-packages\\pandas\\core\\computation\\expr.py:805\u001b[0m in \u001b[0;35m__init__\u001b[0m\n    self.terms = self.parse()\u001b[0m\n",
      "\u001b[0m  File \u001b[0;32m~\\AppData\\Roaming\\Python\\Python312\\site-packages\\pandas\\core\\computation\\expr.py:824\u001b[0m in \u001b[0;35mparse\u001b[0m\n    return self._visitor.visit(self.expr)\u001b[0m\n",
      "\u001b[0m  File \u001b[0;32m~\\AppData\\Roaming\\Python\\Python312\\site-packages\\pandas\\core\\computation\\expr.py:407\u001b[0m in \u001b[0;35mvisit\u001b[0m\n    raise e\u001b[0m\n",
      "\u001b[0m  File \u001b[0;32m~\\AppData\\Roaming\\Python\\Python312\\site-packages\\pandas\\core\\computation\\expr.py:403\u001b[0m in \u001b[0;35mvisit\u001b[0m\n    node = ast.fix_missing_locations(ast.parse(clean))\u001b[0m\n",
      "\u001b[1;36m  File \u001b[1;32mc:\\Users\\MeetMavani\\Desktop\\Python\\venv\\Lib\\ast.py:52\u001b[1;36m in \u001b[1;35mparse\u001b[1;36m\n\u001b[1;33m    return compile(source, filename, mode, flags,\u001b[1;36m\n",
      "\u001b[1;36m  File \u001b[1;32m<unknown>:1\u001b[1;36m\u001b[0m\n\u001b[1;33m    Adjusted Salary =Salary *1.10\u001b[0m\n\u001b[1;37m             ^\u001b[0m\n\u001b[1;31mSyntaxError\u001b[0m\u001b[1;31m:\u001b[0m invalid syntax\n"
     ]
    }
   ],
   "source": [
    "# Create a new column 'Adjusted Salary' based on conditions\n",
    "df['Adjusted Salary'] = df.eval('Salary * 1.10')\n",
    "print(df)\n"
   ]
  },
  {
   "cell_type": "code",
   "execution_count": 9,
   "metadata": {},
   "outputs": [
    {
     "name": "stdout",
     "output_type": "stream",
     "text": [
      "   id     name  age   salary\n",
      "0   3  Charlie   35  70000.0\n",
      "1   4    David   40  80000.0\n"
     ]
    }
   ],
   "source": [
    "import sqlite3\n",
    "\n",
    "# Create a SQLite database connection\n",
    "conn = sqlite3.connect('example.db')\n",
    "\n",
    "# Create a sample table and insert data\n",
    "conn.execute('''CREATE TABLE IF NOT EXISTS employees (id INT, name TEXT, age INT, salary REAL)''')\n",
    "conn.execute('INSERT INTO employees (id, name, age, salary) VALUES (1, 'Alice', 25, 50000)')\n",
    "conn.execute('INSERT INTO employees (id, name, age, salary) VALUES (2, 'Bob', 30, 60000)')\n",
    "conn.execute('INSERT INTO employees (id, name, age, salary) VALUES (3, 'Charlie', 35, 70000)')\n",
    "conn.execute(\"INSERT INTO employees (id, name, age, salary) VALUES (4, 'David', 40, 80000)\")\n",
    "\n",
    "# Query the database using SQL\n",
    "query = \"SELECT * FROM employees WHERE age > 30\"\n",
    "df = pd.read_sql_query(query, conn)\n",
    "\n",
    "print(df)\n"
   ]
  },
  {
   "cell_type": "code",
   "execution_count": 16,
   "metadata": {},
   "outputs": [
    {
     "data": {
      "text/plain": [
       "<sqlite3.Cursor at 0x2084f81ff40>"
      ]
     },
     "execution_count": 16,
     "metadata": {},
     "output_type": "execute_result"
    }
   ],
   "source": [
    "import sqlite3\n",
    "\n",
    "conn=sqlite3.connect(\"example1.db\")\n",
    "\n",
    "conn.execute(\"create table if not exists employee(id int,name text,age int,salary real)\")\n",
    "conn.execute(' insert into employee(id,name,age,salary) values (1,\"meet\",17,420000)  ')\n",
    "conn.execute(' insert into employee(id,name,age,salary) values (1,\"meet1\",18,420400) ')\n",
    "conn.execute(' insert into employee(id,name,age,salary) values (1,\"mee2t\",19,420300) ')\n",
    "conn.execute('insert into employee(id,name,age,salary) values (1,\"meet3\",17,420200) ')"
   ]
  },
  {
   "cell_type": "code",
   "execution_count": 13,
   "metadata": {},
   "outputs": [],
   "source": []
  },
  {
   "cell_type": "code",
   "execution_count": 17,
   "metadata": {},
   "outputs": [
    {
     "name": "stdout",
     "output_type": "stream",
     "text": [
      "   id   name  age    salary\n",
      "0   1   meet   17  420000.0\n",
      "1   1  meet1   18  420400.0\n",
      "2   1  mee2t   19  420300.0\n",
      "3   1  meet3   17  420200.0\n",
      "4   1   meet   17  420000.0\n",
      "5   1  meet1   18  420400.0\n",
      "6   1  mee2t   19  420300.0\n",
      "7   1  meet3   17  420200.0\n"
     ]
    }
   ],
   "source": [
    "data=\"select * from employee\"\n",
    "df=pd.read_sql_query(data,conn)\n",
    "print(df)"
   ]
  },
  {
   "cell_type": "code",
   "execution_count": 24,
   "metadata": {},
   "outputs": [],
   "source": [
    "import pandas as pd\n",
    "\n",
    "data = {\n",
    "    'first_name': ['John', 'Alice', 'Bob', 'Charlie', 'David', 'Eve'],\n",
    "    'last_name': ['Doe', 'Smith', 'Brown', 'Johnson', 'Lee', 'Taylor'],\n",
    "    'role': ['Sales Representative', 'Manager', 'Sales Man', 'Sales Representative', 'Sales Man', 'Developer'],\n",
    "    'date_of_joining': ['2020-01-15', '2019-03-22', '2021-04-10', '2018-06-13', '2022-05-30', '2020-11-07']\n",
    "}\n",
    "\n",
    "df = pd.DataFrame(data)\n",
    "\n",
    "df['date_of_joining'] = pd.to_datetime(df['date_of_joining'])\n",
    "\n",
    "result = df[df['role'].isin(['Sales Representative', 'Sales Man'])]\n",
    "\n",
    "result=result[['first_name',\"last_name\",\"date_of_joining\",\"role\"]]"
   ]
  },
  {
   "cell_type": "code",
   "execution_count": 21,
   "metadata": {},
   "outputs": [
    {
     "name": "stdout",
     "output_type": "stream",
     "text": [
      "  first_name last_name date_of_joining                  role\n",
      "0       John       Doe      2020-01-15  Sales Representative\n",
      "2        Bob     Brown      2021-04-10             Sales Man\n",
      "3    Charlie   Johnson      2018-06-13  Sales Representative\n",
      "4      David       Lee      2022-05-30             Sales Man\n"
     ]
    }
   ],
   "source": [
    "print(result)"
   ]
  },
  {
   "cell_type": "code",
   "execution_count": 23,
   "metadata": {},
   "outputs": [
    {
     "name": "stdout",
     "output_type": "stream",
     "text": [
      "  first_name last_name date_of_joining\n",
      "0       John       Doe      2020-01-15\n",
      "1        Bob     Brown      2021-04-10\n",
      "2    Charlie   Johnson      2018-06-13\n",
      "3      David       Lee      2022-05-30\n"
     ]
    }
   ],
   "source": [
    "import sqlite3\n",
    "import pandas as pd\n",
    "conn = sqlite3.connect(\"sqlite.db\")\n",
    "conn.execute('''\n",
    "CREATE TABLE IF NOT EXISTS employee (\n",
    "    id INTEGER PRIMARY KEY,\n",
    "    first_name TEXT,\n",
    "    last_name TEXT,\n",
    "    role TEXT,\n",
    "    date_of_joining TEXT\n",
    ")\n",
    "''')\n",
    "conn.execute(\"INSERT OR IGNORE INTO employee (id, first_name, last_name, role, date_of_joining) VALUES (1, 'John', 'Doe', 'Sales Representative', '2020-01-15')\")\n",
    "conn.execute(\"INSERT OR IGNORE INTO employee (id, first_name, last_name, role, date_of_joining) VALUES (2, 'Alice', 'Smith', 'Manager', '2019-03-22')\")\n",
    "conn.execute(\"INSERT OR IGNORE INTO employee (id, first_name, last_name, role, date_of_joining) VALUES (3, 'Bob', 'Brown', 'Sales Man', '2021-04-10')\")\n",
    "conn.execute(\"INSERT OR IGNORE INTO employee (id, first_name, last_name, role, date_of_joining) VALUES (4, 'Charlie', 'Johnson', 'Sales Representative', '2018-06-13')\")\n",
    "conn.execute(\"INSERT OR IGNORE INTO employee (id, first_name, last_name, role, date_of_joining) VALUES (5, 'David', 'Lee', 'Sales Man', '2022-05-30')\")\n",
    "conn.execute(\"INSERT OR IGNORE INTO employee (id, first_name, last_name, role, date_of_joining) VALUES (6, 'Eve', 'Taylor', 'Developer', '2020-11-07')\")\n",
    "conn.commit()\n",
    "query = \"\"\"\n",
    "SELECT first_name, last_name, date_of_joining\n",
    "FROM employee\n",
    "WHERE role IN ('Sales Representative', 'Sales Man')\n",
    "\"\"\"\n",
    "df = pd.read_sql_query(query, conn)\n",
    "print(df)\n",
    "conn.close()\n"
   ]
  },
  {
   "cell_type": "code",
   "execution_count": null,
   "metadata": {},
   "outputs": [],
   "source": []
  }
 ],
 "metadata": {
  "kernelspec": {
   "display_name": "venv",
   "language": "python",
   "name": "python3"
  },
  "language_info": {
   "codemirror_mode": {
    "name": "ipython",
    "version": 3
   },
   "file_extension": ".py",
   "mimetype": "text/x-python",
   "name": "python",
   "nbconvert_exporter": "python",
   "pygments_lexer": "ipython3",
   "version": "3.12.0"
  }
 },
 "nbformat": 4,
 "nbformat_minor": 2
}
