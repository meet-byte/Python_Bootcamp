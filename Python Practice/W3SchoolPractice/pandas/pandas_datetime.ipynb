{
 "cells": [
  {
   "cell_type": "code",
   "execution_count": 19,
   "metadata": {},
   "outputs": [
    {
     "name": "stderr",
     "output_type": "stream",
     "text": [
      "C:\\Users\\MeetMavani\\AppData\\Local\\Temp\\ipykernel_11124\\1835729164.py:3: DtypeWarning: Columns (5,9) have mixed types. Specify dtype option on import or set low_memory=False.\n",
      "  df = pd.read_csv(r'ufo_sighting_data.csv')\n"
     ]
    },
    {
     "name": "stdout",
     "output_type": "stream",
     "text": [
      "\n",
      "Comparison of the top 10 years in which the UFO was sighted vs each month:\n",
      "Date_time   1    2    3    4    5    6    7    8    9    10   11   12\n",
      "Date_time                                                            \n",
      "2003       287  230  169  204  220  271  410  499  467  424  437  344\n",
      "2004       266  265  372  355  353  376  401  498  379  417  294  281\n",
      "2005       228  255  327  294  271  370  419  321  480  444  420  254\n",
      "2007       398  243  331  290  278  384  432  430  416  398  341  328\n",
      "2008       436  345  304  404  313  443  530  468  356  485  419  317\n",
      "2009       454  367  313  294  339  357  543  464  569  286  293  262\n",
      "2010       258  171  236  269  306  341  793  480  414  422  316  277\n",
      "2011       298  255  309  294  283  374  715  599  503  590  403  484\n",
      "2012       528  357  489  462  472  695  880  827  695  620  719  613\n",
      "2013       356  264  372  387  487  581  902  842  717  720  719  690\n"
     ]
    }
   ],
   "source": [
    "import pandas as pd\n",
    "#Source: https://bit.ly/1l9yjm9\n",
    "df = pd.read_csv(r'ufo_sighting_data.csv')\n",
    "df['Date_time'] = df['Date_time'].astype('datetime64[ns]')\n",
    "most_sightings_years = df['Date_time'].dt.year.value_counts().head(10)\n",
    "def is_top_years(year):\n",
    "   if year in most_sightings_years.index:\n",
    "       return year\n",
    "month_vs_year = df.pivot_table(columns=df['Date_time'].dt.month,index=df['Date_time'].dt.year.apply(is_top_years),aggfunc='count',values='city')\n",
    "month_vs_year.index = month_vs_year.index.astype(int)\n",
    "month_vs_year.columns = month_vs_year.columns.astype(int)\n",
    "print(\"\\nComparison of the top 10 years in which the UFO was sighted vs each month:\")\n",
    "print(month_vs_year.head(10))\n"
   ]
  },
  {
   "cell_type": "code",
   "execution_count": 20,
   "metadata": {},
   "outputs": [
    {
     "name": "stderr",
     "output_type": "stream",
     "text": [
      "C:\\Users\\MeetMavani\\AppData\\Local\\Temp\\ipykernel_11124\\2940443178.py:4: DtypeWarning: Columns (5,9) have mixed types. Specify dtype option on import or set low_memory=False.\n",
      "  df = pd.read_csv(r'ufo_sighting_data.csv')\n"
     ]
    },
    {
     "name": "stdout",
     "output_type": "stream",
     "text": [
      "\n",
      "Comparison of the top 10 years in which the UFO was sighted vs each month:\n",
      "Month   1    2    3    4    5    6    7    8    9    10   11   12\n",
      "Year                                                             \n",
      "2003   287  230  169  204  220  271  410  499  467  424  437  344\n",
      "2004   266  265  372  355  353  376  401  498  379  417  294  281\n",
      "2005   228  255  327  294  271  370  419  321  480  444  420  254\n",
      "2007   398  243  331  290  278  384  432  430  416  398  341  328\n",
      "2008   436  345  304  404  313  443  530  468  356  485  419  317\n",
      "2009   454  367  313  294  339  357  543  464  569  286  293  262\n",
      "2010   258  171  236  269  306  341  793  480  414  422  316  277\n",
      "2011   298  255  309  294  283  374  715  599  503  590  403  484\n",
      "2012   528  357  489  462  472  695  880  827  695  620  719  613\n",
      "2013   356  264  372  387  487  581  902  842  717  720  719  690\n"
     ]
    }
   ],
   "source": [
    "import pandas as pd\n",
    "\n",
    "# Load the dataset\n",
    "df = pd.read_csv(r'ufo_sighting_data.csv')\n",
    "\n",
    "# Convert 'Date_time' to datetime, handling invalid formats\n",
    "df['Date_time'] = pd.to_datetime(df['Date_time'], errors='coerce')\n",
    "\n",
    "# Drop rows with invalid or missing 'Date_time'\n",
    "df = df.dropna(subset=['Date_time'])\n",
    "\n",
    "# Extract the top 10 years with the most sightings\n",
    "most_sightings_years = df['Date_time'].dt.year.value_counts().head(10).index\n",
    "\n",
    "# Filter for rows in the top 10 years\n",
    "df['Year'] = df['Date_time'].dt.year\n",
    "df['Month'] = df['Date_time'].dt.month\n",
    "filtered_df = df[df['Year'].isin(most_sightings_years)]\n",
    "\n",
    "# Create a pivot table: Year vs Month with counts of sightings\n",
    "month_vs_year = filtered_df.pivot_table(\n",
    "    index='Year',\n",
    "    columns='Month',\n",
    "    aggfunc='count',\n",
    "    values='city'\n",
    ")\n",
    "\n",
    "# Replace NaN with 0 for a cleaner display\n",
    "month_vs_year = month_vs_year.fillna(0).astype(int)\n",
    "\n",
    "# Display the results\n",
    "print(\"\\nComparison of the top 10 years in which the UFO was sighted vs each month:\")\n",
    "print(month_vs_year)\n",
    "\n",
    "# Optional: Save the result to a CSV file\n",
    "month_vs_year.to_csv('ufo_comparison_top_10_years.csv')\n"
   ]
  },
  {
   "cell_type": "code",
   "execution_count": null,
   "metadata": {},
   "outputs": [],
   "source": []
  }
 ],
 "metadata": {
  "kernelspec": {
   "display_name": "venv",
   "language": "python",
   "name": "python3"
  },
  "language_info": {
   "codemirror_mode": {
    "name": "ipython",
    "version": 3
   },
   "file_extension": ".py",
   "mimetype": "text/x-python",
   "name": "python",
   "nbconvert_exporter": "python",
   "pygments_lexer": "ipython3",
   "version": "3.12.0"
  }
 },
 "nbformat": 4,
 "nbformat_minor": 2
}
