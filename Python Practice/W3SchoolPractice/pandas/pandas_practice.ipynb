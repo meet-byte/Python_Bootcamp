{
 "cells": [
  {
   "cell_type": "code",
   "execution_count": 1,
   "metadata": {},
   "outputs": [
    {
     "name": "stdout",
     "output_type": "stream",
     "text": [
      "Original Dataframe:\n",
      "(53940, 10)\n",
      "\n",
      "Duplicate rows of diamonds DataFrame:\n",
      "146\n"
     ]
    }
   ],
   "source": [
    "\n",
    "import pandas as pd\n",
    "diamonds = pd.read_csv('https://raw.githubusercontent.com/mwaskom/seaborn-data/master/diamonds.csv')\n",
    "print(\"Original Dataframe:\")\n",
    "print(diamonds.shape)\n",
    "print(\"\\nDuplicate rows of diamonds DataFrame:\")\n",
    "print(diamonds.duplicated().sum())\n"
   ]
  },
  {
   "cell_type": "markdown",
   "metadata": {},
   "source": [
    "64. Write a Pandas program to read the diamonds DataFrame and detect duplicate color.\n",
    "\n",
    "Note: duplicated () function returns boolean Series denoting duplicate rows, optionally only considering certain columns."
   ]
  },
  {
   "cell_type": "code",
   "execution_count": 2,
   "metadata": {},
   "outputs": [
    {
     "name": "stdout",
     "output_type": "stream",
     "text": [
      "Original Dataframe:\n",
      "(53940, 10)\n",
      "\n",
      "Count the duplicate items:\n",
      "53932\n"
     ]
    }
   ],
   "source": [
    "import pandas as pd\n",
    "diamonds = pd.read_csv('https://raw.githubusercontent.com/mwaskom/seaborn-data/master/diamonds.csv')\n",
    "print(\"Original Dataframe:\")\n",
    "print(diamonds.shape)\n",
    "print(\"\\nCount the duplicate items:\")\n",
    "print(diamonds.clarity.duplicated().sum())\n"
   ]
  },
  {
   "cell_type": "code",
   "execution_count": null,
   "metadata": {},
   "outputs": [],
   "source": []
  }
 ],
 "metadata": {
  "kernelspec": {
   "display_name": "venv",
   "language": "python",
   "name": "python3"
  },
  "language_info": {
   "codemirror_mode": {
    "name": "ipython",
    "version": 3
   },
   "file_extension": ".py",
   "mimetype": "text/x-python",
   "name": "python",
   "nbconvert_exporter": "python",
   "pygments_lexer": "ipython3",
   "version": "3.12.0"
  }
 },
 "nbformat": 4,
 "nbformat_minor": 2
}
