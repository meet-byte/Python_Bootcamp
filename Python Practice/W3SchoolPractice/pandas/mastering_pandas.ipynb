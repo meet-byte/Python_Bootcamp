{
 "cells": [
  {
   "cell_type": "markdown",
   "metadata": {},
   "source": [
    "Create a DataFrame with random values and calculate the expanding sum.\n",
    "\n"
   ]
  },
  {
   "cell_type": "code",
   "execution_count": 2,
   "metadata": {},
   "outputs": [
    {
     "name": "stdout",
     "output_type": "stream",
     "text": [
      "          X         Y         Z  expanding_sum\n",
      "0  0.192392  0.017195  0.685824       0.192392\n",
      "1  0.277939  0.131715  0.242085       0.470331\n",
      "2  0.782012  0.057057  0.728757       1.252343\n",
      "3  0.131997  0.447700  0.333061       1.384340\n"
     ]
    }
   ],
   "source": [
    "import pandas as pd\n",
    "import numpy as np\n",
    "data = np.random.rand(4, 3)\n",
    "df = pd.DataFrame(data, columns=['X', 'Y', 'Z'])\n",
    "df[\"expanding_sum\"]=df[\"X\"].expanding().sum()\n",
    "print(df)"
   ]
  },
  {
   "cell_type": "code",
   "execution_count": 3,
   "metadata": {},
   "outputs": [
    {
     "name": "stdout",
     "output_type": "stream",
     "text": [
      "     X  Y  Cumulative_Product\n",
      "0  foo  1                   1\n",
      "1  bar  2                   2\n",
      "2  foo  3                   3\n",
      "3  bar  4                   8\n"
     ]
    }
   ],
   "source": [
    "data = {'X': ['foo', 'bar', 'foo', 'bar'], 'Y': [1, 2, 3, 4]}\n",
    "df = pd.DataFrame(data)\n",
    "df['Cumulative_Product'] = df.groupby('X')['Y'].cumprod()\n",
    "print(df)"
   ]
  },
  {
   "cell_type": "markdown",
   "metadata": {},
   "source": [
    "Create a DataFrame and calculate the expanding minimum for each group.\n",
    "\n"
   ]
  },
  {
   "cell_type": "code",
   "execution_count": 16,
   "metadata": {},
   "outputs": [
    {
     "name": "stdout",
     "output_type": "stream",
     "text": [
      "          X         Y         Z  Expanding_Max\n",
      "0  0.609426  0.126153  0.324128       0.126153\n",
      "1  0.085349  0.970662  0.953912       0.970662\n",
      "2  0.908028  0.202315  0.263977       0.202315\n",
      "3  0.801583  0.895707  0.599902       0.895707\n"
     ]
    }
   ],
   "source": [
    "import pandas as pd\n",
    "import numpy as np\n",
    "\n",
    "data = np.random.rand(4, 3)\n",
    "df = pd.DataFrame(data, columns=['X', 'Y', 'Z'])\n",
    "\n",
    "df['Expanding_Max'] = df.groupby('X')['Y'].expanding().max().reset_index(level=0, drop=True)\n",
    "\n",
    "print(df)\n"
   ]
  },
  {
   "cell_type": "code",
   "execution_count": null,
   "metadata": {},
   "outputs": [],
   "source": []
  }
 ],
 "metadata": {
  "kernelspec": {
   "display_name": "venv",
   "language": "python",
   "name": "python3"
  },
  "language_info": {
   "codemirror_mode": {
    "name": "ipython",
    "version": 3
   },
   "file_extension": ".py",
   "mimetype": "text/x-python",
   "name": "python",
   "nbconvert_exporter": "python",
   "pygments_lexer": "ipython3",
   "version": "3.12.0"
  }
 },
 "nbformat": 4,
 "nbformat_minor": 2
}
