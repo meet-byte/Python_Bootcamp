{
 "cells": [
  {
   "cell_type": "markdown",
   "metadata": {},
   "source": [
    "A Pivot Table in pandas is a powerful tool for data aggregation and summarization. It allows you to rearrange (pivot) the data to create a summary of certain statistics like sum, mean, count, or other aggregation functions.\n",
    "\n",
    "The pandas pivot_table() function provides a flexible way to group and aggregate your data, and it's especially useful for exploratory data analysis.\n",
    "\n",
    "Syntax of pivot_table()\n",
    "\n",
    "python\n",
    "\n",
    "Copy code\n",
    "\n",
    "df.pivot_table(\n",
    "   \n",
    "    data=None,                  # DataFrame\n",
    "   \n",
    "    values=None,                # Column(s) to aggregate\n",
    "    \n",
    "    index=None,                 # Rows of the pivot table\n",
    "    \n",
    "    columns=None,               # Columns of the pivot table\n",
    "   \n",
    "    aggfunc='mean',             # Aggregation function (default is 'mean')\n",
    "   \n",
    "    fill_value=None,            # Replace missing values\n",
    "   \n",
    "    margins=False,              # Add a total row and column\n",
    "    \n",
    "    margins_name='All',         # Name of the total row/column\n",
    "    \n",
    "    dropna=True,                # Drop columns with missing values in the result\n",
    "    \n",
    "    observed=False              # Treat categorical variables as \"observed\" (only in pandas 1.1+)\n",
    ")"
   ]
  },
  {
   "cell_type": "markdown",
   "metadata": {},
   "source": []
  },
  {
   "cell_type": "code",
   "execution_count": 1,
   "metadata": {},
   "outputs": [],
   "source": [
    "import pandas as pd\n",
    "\n",
    "# Sample DataFrame\n",
    "data = {\n",
    "    'Region': ['North', 'North', 'East', 'East', 'West', 'West', 'West'],\n",
    "    'Salesperson': ['Alice', 'Bob', 'Charlie', 'David', 'Eve', 'Frank', 'Grace'],\n",
    "    'Sales': [200, 150, 300, 250, 500, 400, 600],\n",
    "    'Units': [10, 7, 15, 12, 30, 20, 40]\n",
    "}\n",
    "df=pd.DataFrame(data)"
   ]
  },
  {
   "cell_type": "code",
   "execution_count": 9,
   "metadata": {},
   "outputs": [],
   "source": [
    "pivot_table=df.pivot_table(values=[\"Sales\",\"Units\"],index=\"Region\",aggfunc=[\"sum\",\"mean\"])"
   ]
  },
  {
   "cell_type": "code",
   "execution_count": 10,
   "metadata": {},
   "outputs": [
    {
     "name": "stdout",
     "output_type": "stream",
     "text": [
      "         sum         mean      \n",
      "       Sales Units  Sales Units\n",
      "Region                         \n",
      "East     550    27  275.0  13.5\n",
      "North    350    17  175.0   8.5\n",
      "West    1500    90  500.0  30.0\n"
     ]
    }
   ],
   "source": [
    "print(pivot_table)"
   ]
  },
  {
   "cell_type": "code",
   "execution_count": 11,
   "metadata": {},
   "outputs": [
    {
     "name": "stdout",
     "output_type": "stream",
     "text": [
      "        Sales\n",
      "Region       \n",
      "East      550\n",
      "North     350\n",
      "West     1500\n"
     ]
    }
   ],
   "source": [
    "# Handling Missing Data (Fill with fill_value):\n",
    "# If your dataset has missing values (NaN), you can replace them using the fill_value parameter.\n",
    "\n",
    "# Pivot table with missing values and fill missing values with 0\n",
    "pivot_table = df.pivot_table(values='Sales', index='Region', aggfunc='sum', fill_value=0)\n",
    "\n",
    "print(pivot_table)"
   ]
  },
  {
   "cell_type": "code",
   "execution_count": 12,
   "metadata": {},
   "outputs": [
    {
     "name": "stdout",
     "output_type": "stream",
     "text": [
      "                    Sales\n",
      "Region Salesperson       \n",
      "East   Charlie        300\n",
      "       David          250\n",
      "North  Alice          200\n",
      "       Bob            150\n",
      "West   Eve            500\n",
      "       Frank          400\n",
      "       Grace          600\n"
     ]
    }
   ],
   "source": [
    "pivot_table = df.pivot_table(values='Sales', index=['Region', 'Salesperson'], aggfunc='sum')\n",
    "print(pivot_table)"
   ]
  },
  {
   "cell_type": "code",
   "execution_count": 16,
   "metadata": {},
   "outputs": [
    {
     "name": "stdout",
     "output_type": "stream",
     "text": [
      "embark_town  Cherbourg                     Queenstown                   \\\n",
      "class            First    Second     Third      First Second     Third   \n",
      "sex    alone                                                             \n",
      "female False  1.000000  1.000000  0.611111        1.0    NaN  0.625000   \n",
      "       True   0.944444  1.000000  0.800000        NaN    1.0  0.760000   \n",
      "male   False  0.473684  0.166667  0.500000        0.0    NaN  0.100000   \n",
      "       True   0.347826  0.250000  0.151515        NaN    0.0  0.068966   \n",
      "\n",
      "embark_town  Southampton                      \n",
      "class              First    Second     Third  \n",
      "sex    alone                                  \n",
      "female False    0.941176  0.923077  0.327586  \n",
      "       True     1.000000  0.892857  0.466667  \n",
      "male   False    0.407407  0.300000  0.142857  \n",
      "       True     0.326923  0.089552  0.123762  \n"
     ]
    }
   ],
   "source": [
    "import pandas as pd\n",
    "import numpy as np\n",
    "df = pd.read_csv('titanic.csv')\n",
    "\n",
    "result = df.pivot_table(values='survived', index=['sex' , 'alone' ], columns=[ 'embark_town', 'class' ])\n",
    "print(result)"
   ]
  },
  {
   "cell_type": "code",
   "execution_count": null,
   "metadata": {},
   "outputs": [],
   "source": []
  }
 ],
 "metadata": {
  "kernelspec": {
   "display_name": "venv",
   "language": "python",
   "name": "python3"
  },
  "language_info": {
   "codemirror_mode": {
    "name": "ipython",
    "version": 3
   },
   "file_extension": ".py",
   "mimetype": "text/x-python",
   "name": "python",
   "nbconvert_exporter": "python",
   "pygments_lexer": "ipython3",
   "version": "3.12.0"
  }
 },
 "nbformat": 4,
 "nbformat_minor": 2
}
