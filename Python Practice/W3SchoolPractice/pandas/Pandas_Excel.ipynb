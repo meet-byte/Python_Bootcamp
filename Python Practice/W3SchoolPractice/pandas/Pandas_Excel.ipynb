{
 "cells": [
  {
   "cell_type": "code",
   "execution_count": 1,
   "metadata": {},
   "outputs": [
    {
     "name": "stdout",
     "output_type": "stream",
     "text": [
      "Defaulting to user installation because normal site-packages is not writeable\n",
      "Collecting openpyxl\n",
      "  Downloading openpyxl-3.1.5-py2.py3-none-any.whl.metadata (2.5 kB)\n",
      "Collecting et-xmlfile (from openpyxl)\n",
      "  Downloading et_xmlfile-2.0.0-py3-none-any.whl.metadata (2.7 kB)\n",
      "Downloading openpyxl-3.1.5-py2.py3-none-any.whl (250 kB)\n",
      "Downloading et_xmlfile-2.0.0-py3-none-any.whl (18 kB)\n",
      "Installing collected packages: et-xmlfile, openpyxl\n",
      "Successfully installed et-xmlfile-2.0.0 openpyxl-3.1.5\n"
     ]
    }
   ],
   "source": [
    "!pip install openpyxl"
   ]
  },
  {
   "cell_type": "code",
   "execution_count": 3,
   "metadata": {},
   "outputs": [
    {
     "name": "stdout",
     "output_type": "stream",
     "text": [
      "   year industry_code_ANZSIC               industry_name_ANZSIC rme_size_grp  \\\n",
      "0  2011                    A  Agriculture, Forestry and Fishing          a_0   \n",
      "1  2011                    A  Agriculture, Forestry and Fishing          a_0   \n",
      "2  2011                    A  Agriculture, Forestry and Fishing          a_0   \n",
      "3  2011                    A  Agriculture, Forestry and Fishing          a_0   \n",
      "4  2011                    A  Agriculture, Forestry and Fishing          a_0   \n",
      "\n",
      "                                          variable  value               unit  \n",
      "0                                    Activity unit  46134              COUNT  \n",
      "1                           Rolling mean employees      0              COUNT  \n",
      "2                          Salaries and wages paid    279  DOLLARS(millions)  \n",
      "3  Sales, government funding, grants and subsidies   8187  DOLLARS(millions)  \n",
      "4                                     Total income   8866  DOLLARS(millions)  \n"
     ]
    }
   ],
   "source": [
    "import pandas as pd\n",
    "data=pd.read_excel(\"survey.xlsx\")\n",
    "print(data.head())"
   ]
  },
  {
   "cell_type": "markdown",
   "metadata": {},
   "source": [
    "Write a  Pandas program to import three datasheets from a given  excel data (employee.xlsx ) into a single dataframe and export the result into new Excel file. Go to Excel data\n",
    "\n",
    "Note: Structure of the three datasheets are same."
   ]
  },
  {
   "cell_type": "code",
   "execution_count": 9,
   "metadata": {},
   "outputs": [],
   "source": [
    "import pandas as pd\n",
    "\n",
    "df1=pd.read_excel(\"employee.xlsx\",sheet_name=0)\n",
    "df2=pd.read_excel(\"employee.xlsx\",sheet_name=1)\n",
    "df3=pd.read_excel(\"employee.xlsx\",sheet_name=2)\n",
    "df=pd.concat([df1,df2,df3])\n",
    "df.to_excel(\"Output.xlsx\",index=False)"
   ]
  },
  {
   "cell_type": "code",
   "execution_count": null,
   "metadata": {},
   "outputs": [],
   "source": []
  }
 ],
 "metadata": {
  "kernelspec": {
   "display_name": "venv",
   "language": "python",
   "name": "python3"
  },
  "language_info": {
   "codemirror_mode": {
    "name": "ipython",
    "version": 3
   },
   "file_extension": ".py",
   "mimetype": "text/x-python",
   "name": "python",
   "nbconvert_exporter": "python",
   "pygments_lexer": "ipython3",
   "version": "3.12.0"
  }
 },
 "nbformat": 4,
 "nbformat_minor": 2
}
