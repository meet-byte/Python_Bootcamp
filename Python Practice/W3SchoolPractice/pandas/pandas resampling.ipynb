{
 "cells": [
  {
   "cell_type": "code",
   "execution_count": 1,
   "metadata": {},
   "outputs": [
    {
     "name": "stdout",
     "output_type": "stream",
     "text": [
      "2021-01-01          NaN\n",
      "2021-01-02    -1.102580\n",
      "2021-01-03    -0.825789\n",
      "2021-01-04    10.290629\n",
      "2021-01-05     1.380835\n",
      "2021-01-06    -0.936946\n",
      "2021-01-07    -8.387171\n",
      "2021-01-08    -1.515378\n",
      "2021-01-09     1.170226\n",
      "2021-01-10    -0.752849\n",
      "Freq: D, dtype: float64\n"
     ]
    }
   ],
   "source": [
    "import pandas as pd\n",
    "import numpy as np\n",
    "\n",
    "date_rng = pd.date_range(start='2021-01-01', end='2021-01-10', freq='D')\n",
    "ts = pd.Series(np.random.randn(len(date_rng)), index=date_rng)\n",
    "\n",
    "ts_daily = ts.resample('D').mean()\n",
    "\n",
    "ts_pct_change = ts_daily.pct_change()\n",
    "\n",
    "print(ts_pct_change)\n"
   ]
  },
  {
   "cell_type": "code",
   "execution_count": null,
   "metadata": {},
   "outputs": [],
   "source": []
  }
 ],
 "metadata": {
  "kernelspec": {
   "display_name": "venv",
   "language": "python",
   "name": "python3"
  },
  "language_info": {
   "codemirror_mode": {
    "name": "ipython",
    "version": 3
   },
   "file_extension": ".py",
   "mimetype": "text/x-python",
   "name": "python",
   "nbconvert_exporter": "python",
   "pygments_lexer": "ipython3",
   "version": "3.12.0"
  }
 },
 "nbformat": 4,
 "nbformat_minor": 2
}
