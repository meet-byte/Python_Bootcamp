{
 "cells": [
  {
   "cell_type": "markdown",
   "metadata": {},
   "source": [
    "Pandas Filter"
   ]
  },
  {
   "cell_type": "code",
   "execution_count": 1,
   "metadata": {},
   "outputs": [
    {
     "name": "stdout",
     "output_type": "stream",
     "text": [
      "   Year       WHO region                Country Beverage Types  Display Value\n",
      "0  1986  Western Pacific               Viet Nam           Wine           0.00\n",
      "1  1986         Americas                Uruguay          Other           0.50\n",
      "2  1985           Africa           Cte d'Ivoire           Wine           1.62\n",
      "3  1986         Americas               Colombia           Beer           4.27\n",
      "4  1987         Americas  Saint Kitts and Nevis           Beer           1.98\n"
     ]
    }
   ],
   "source": [
    "import pandas as pd\n",
    "df=pd.read_csv(\"world_alcohol.csv\")\n",
    "print(df.head())"
   ]
  },
  {
   "cell_type": "code",
   "execution_count": 3,
   "metadata": {},
   "outputs": [
    {
     "name": "stdout",
     "output_type": "stream",
     "text": [
      "    Year             WHO region  \\\n",
      "1   1986               Americas   \n",
      "6   1987                 Africa   \n",
      "11  1989               Americas   \n",
      "16  1984               Americas   \n",
      "21  1989               Americas   \n",
      "26  1985                 Europe   \n",
      "31  1986        Western Pacific   \n",
      "36  1987  Eastern Mediterranean   \n",
      "41  1986                 Europe   \n",
      "46  1987               Americas   \n",
      "\n",
      "                                              Country Beverage Types  \\\n",
      "1                                             Uruguay          Other   \n",
      "6                                           Mauritius           Wine   \n",
      "11                                          Guatemala           Beer   \n",
      "16                                         Costa Rica           Wine   \n",
      "21                                         Costa Rica        Spirits   \n",
      "26  United Kingdom of Great Britain and Northern I...           Wine   \n",
      "31                   Micronesia (Federated States of)           Wine   \n",
      "36                                              Egypt           Beer   \n",
      "41                                     Czech Republic           Beer   \n",
      "46                                Trinidad and Tobago        Spirits   \n",
      "\n",
      "    Display Value  \n",
      "1            0.50  \n",
      "6            0.13  \n",
      "11           0.62  \n",
      "16           0.06  \n",
      "21           4.51  \n",
      "26           1.36  \n",
      "31           0.00  \n",
      "36           0.07  \n",
      "41           6.82  \n",
      "46           2.26  \n"
     ]
    }
   ],
   "source": [
    "print(df.iloc[1::5].head(10))"
   ]
  },
  {
   "cell_type": "code",
   "execution_count": null,
   "metadata": {},
   "outputs": [],
   "source": []
  }
 ],
 "metadata": {
  "kernelspec": {
   "display_name": "venv",
   "language": "python",
   "name": "python3"
  },
  "language_info": {
   "codemirror_mode": {
    "name": "ipython",
    "version": 3
   },
   "file_extension": ".py",
   "mimetype": "text/x-python",
   "name": "python",
   "nbconvert_exporter": "python",
   "pygments_lexer": "ipython3",
   "version": "3.12.0"
  }
 },
 "nbformat": 4,
 "nbformat_minor": 2
}
