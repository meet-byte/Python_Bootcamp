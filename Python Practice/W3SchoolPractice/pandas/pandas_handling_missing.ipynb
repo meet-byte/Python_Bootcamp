{
 "cells": [
  {
   "cell_type": "markdown",
   "metadata": {},
   "source": [
    "Pandas: Heatmap of NaNs in a given DataFrame\n"
   ]
  },
  {
   "cell_type": "code",
   "execution_count": 25,
   "metadata": {},
   "outputs": [
    {
     "name": "stdout",
     "output_type": "stream",
     "text": [
      "Find the NAN Number\n",
      "       A      B      C\n",
      "0  False   True  False\n",
      "1   True  False  False\n",
      "2  False   True  False\n",
      "       A      B     C\n",
      "0   True  False  True\n",
      "1  False   True  True\n",
      "2   True  False  True\n",
      "the Total Number of the NAN Value per column:\n",
      "A    1\n",
      "B    2\n",
      "C    0\n",
      "dtype: int64\n",
      "     A    B  C\n",
      "0  1.0  NaN  7\n",
      "1  0.0  4.0  8\n",
      "2  2.0  NaN  9\n",
      "Forward and Backward Fill:\n",
      "     A    B  C\n",
      "0  1.0  NaN  7\n",
      "1  0.0  4.0  8\n",
      "2  2.0  4.0  9\n",
      "     A    B  C\n",
      "0  1.0  4.0  7\n",
      "1  0.0  4.0  8\n",
      "2  2.0  NaN  9\n",
      "Mean Replacement \n",
      "     A    B  C\n",
      "0  1.0  4.0  7\n",
      "1  0.0  4.0  8\n",
      "2  2.0  4.0  9\n",
      "Linear interpolation\n",
      "     A    B  C\n",
      "0  1.0  4.0  7\n",
      "1  0.0  4.0  8\n",
      "2  2.0  4.0  9\n",
      "Use the custom Filll::\n"
     ]
    },
    {
     "name": "stderr",
     "output_type": "stream",
     "text": [
      "C:\\Users\\MeetMavani\\AppData\\Local\\Temp\\ipykernel_12016\\3016408874.py:20: FutureWarning: DataFrame.fillna with 'method' is deprecated and will raise in a future version. Use obj.ffill() or obj.bfill() instead.\n",
      "  df_ffill = df.fillna(method='ffill')\n",
      "C:\\Users\\MeetMavani\\AppData\\Local\\Temp\\ipykernel_12016\\3016408874.py:21: FutureWarning: DataFrame.fillna with 'method' is deprecated and will raise in a future version. Use obj.ffill() or obj.bfill() instead.\n",
      "  df_bfill = df.fillna(method='bfill')\n"
     ]
    }
   ],
   "source": [
    "import pandas as pd\n",
    "import numpy as np\n",
    "\n",
    "data = {'A': [1, np.nan,2 ], 'B': [np.nan, 4, np.nan], 'C': [7, 8, 9]}\n",
    "df = pd.DataFrame(data)\n",
    "print(\"Find the NAN Number\")\n",
    "print(df.isna())  \n",
    "print(df.notna())\n",
    "\n",
    "print(\"the Total Number of the NAN Value per column:\")\n",
    "print(df.isna().sum())  # Count missing values per column\n",
    "def custom_fill(value):\n",
    "    return value if pd.notna(value) else 0  # Replace NaN with 0\n",
    "\n",
    "df['A'] = df['A'].apply(custom_fill)\n",
    "print(df.to_string())\n",
    "df_filled = df.fillna(0)  \n",
    "\n",
    "print(\"Forward and Backward Fill:\")\n",
    "df_ffill = df.fillna(method='ffill')  \n",
    "df_bfill = df.fillna(method='bfill')  \n",
    "print(df_ffill.to_string()) ## fill the values as a ahead value of it means in col A Np.nan will be replaced with the 1\n",
    "print(df_bfill.to_string()) ## fill the values as a behind value of it means in col B Np.nan will be replaced with the 4\n",
    "\n",
    "print(\"Mean Replacement \")\n",
    "df[\"A\"]=df[\"A\"].fillna(df[\"A\"].mean())\n",
    "df[\"B\"]=df[\"B\"].fillna(df[\"B\"].mean())\n",
    "print(df)\n",
    "\n",
    "\n",
    "df_interpolated = df.interpolate(method='linear')  # Linear interpolation\n",
    "print(\"Linear interpolation\")\n",
    "print(df_interpolated)\n",
    "print(\"Use the custom Filll::\")\n"
   ]
  },
  {
   "cell_type": "code",
   "execution_count": 2,
   "metadata": {},
   "outputs": [
    {
     "name": "stdout",
     "output_type": "stream",
     "text": [
      "Defaulting to user installation because normal site-packages is not writeable\n",
      "Collecting seaborn\n",
      "  Downloading seaborn-0.13.2-py3-none-any.whl.metadata (5.4 kB)\n",
      "Requirement already satisfied: numpy!=1.24.0,>=1.20 in c:\\users\\meetmavani\\appdata\\roaming\\python\\python312\\site-packages (from seaborn) (2.2.1)\n",
      "Requirement already satisfied: pandas>=1.2 in c:\\users\\meetmavani\\appdata\\roaming\\python\\python312\\site-packages (from seaborn) (2.2.3)\n",
      "Requirement already satisfied: matplotlib!=3.6.1,>=3.4 in c:\\users\\meetmavani\\appdata\\roaming\\python\\python312\\site-packages (from seaborn) (3.10.0)\n",
      "Requirement already satisfied: contourpy>=1.0.1 in c:\\users\\meetmavani\\appdata\\roaming\\python\\python312\\site-packages (from matplotlib!=3.6.1,>=3.4->seaborn) (1.3.1)\n",
      "Requirement already satisfied: cycler>=0.10 in c:\\users\\meetmavani\\appdata\\roaming\\python\\python312\\site-packages (from matplotlib!=3.6.1,>=3.4->seaborn) (0.12.1)\n",
      "Requirement already satisfied: fonttools>=4.22.0 in c:\\users\\meetmavani\\appdata\\roaming\\python\\python312\\site-packages (from matplotlib!=3.6.1,>=3.4->seaborn) (4.55.3)\n",
      "Requirement already satisfied: kiwisolver>=1.3.1 in c:\\users\\meetmavani\\appdata\\roaming\\python\\python312\\site-packages (from matplotlib!=3.6.1,>=3.4->seaborn) (1.4.8)\n",
      "Requirement already satisfied: packaging>=20.0 in c:\\users\\meetmavani\\appdata\\roaming\\python\\python312\\site-packages (from matplotlib!=3.6.1,>=3.4->seaborn) (24.2)\n",
      "Requirement already satisfied: pillow>=8 in c:\\users\\meetmavani\\appdata\\roaming\\python\\python312\\site-packages (from matplotlib!=3.6.1,>=3.4->seaborn) (11.1.0)\n",
      "Requirement already satisfied: pyparsing>=2.3.1 in c:\\users\\meetmavani\\appdata\\roaming\\python\\python312\\site-packages (from matplotlib!=3.6.1,>=3.4->seaborn) (3.2.1)\n",
      "Requirement already satisfied: python-dateutil>=2.7 in c:\\users\\meetmavani\\appdata\\roaming\\python\\python312\\site-packages (from matplotlib!=3.6.1,>=3.4->seaborn) (2.9.0.post0)\n",
      "Requirement already satisfied: pytz>=2020.1 in c:\\users\\meetmavani\\appdata\\roaming\\python\\python312\\site-packages (from pandas>=1.2->seaborn) (2024.2)\n",
      "Requirement already satisfied: tzdata>=2022.7 in c:\\users\\meetmavani\\appdata\\roaming\\python\\python312\\site-packages (from pandas>=1.2->seaborn) (2024.2)\n",
      "Requirement already satisfied: six>=1.5 in c:\\users\\meetmavani\\appdata\\roaming\\python\\python312\\site-packages (from python-dateutil>=2.7->matplotlib!=3.6.1,>=3.4->seaborn) (1.17.0)\n",
      "Downloading seaborn-0.13.2-py3-none-any.whl (294 kB)\n",
      "Installing collected packages: seaborn\n",
      "Successfully installed seaborn-0.13.2\n"
     ]
    }
   ],
   "source": [
    "!pip install seaborn\n"
   ]
  },
  {
   "cell_type": "code",
   "execution_count": 33,
   "metadata": {},
   "outputs": [
    {
     "data": {
      "image/png": "[encoded data removed]",
      "text/plain": [
       "<Figure size 1600x1000 with 1 Axes>"
      ]
     },
     "metadata": {},
     "output_type": "display_data"
    }
   ],
   "source": [
    "import pandas as pd\n",
    "import numpy as np\n",
    "import seaborn as sns\n",
    "import matplotlib.pyplot as plt\n",
    "pd.set_option('display.max_rows', None)\n",
    "#pd.set_option('display.max_columns', None)\n",
    "df = pd.DataFrame({\n",
    "'ord_no':[70001,np.nan,70002,70004,np.nan,70005,np.nan,70010,70003,70012,np.nan,70013],\n",
    "'purch_amt':[150.5,np.nan,65.26,110.5,948.5,np.nan,5760,1983.43,np.nan,250.45, 75.29,3045.6],\n",
    "'sale_amt':[10.5,20.65,np.nan,11.5,98.5,np.nan,57,19.43,np.nan,25.45, 75.29,35.6],\n",
    "'ord_date': ['2012-10-05','2012-09-10',np.nan,'2012-08-17','2012-09-10','2012-07-27','2012-09-10','2012-10-10','2012-10-10','2012-06-27','2012-08-17','2012-04-25'],\n",
    "'customer_id':[3002,3001,3001,3003,3002,3001,3001,3004,3003,3002,3001,3001],\n",
    "'salesman_id':[5002,5003,5001,np.nan,5002,5001,5001,np.nan,5003,5002,5003,np.nan]})\n",
    "plt.figure(figsize=(16,10))\n",
    "sns.heatmap(df.isnull(),cbar=False,cmap=\"YlGnBu\")\n",
    "\n",
    "plt.show()"
   ]
  },
  {
   "cell_type": "code",
   "execution_count": null,
   "metadata": {},
   "outputs": [],
   "source": []
  }
 ],
 "metadata": {
  "kernelspec": {
   "display_name": "venv",
   "language": "python",
   "name": "python3"
  },
  "language_info": {
   "codemirror_mode": {
    "name": "ipython",
    "version": 3
   },
   "file_extension": ".py",
   "mimetype": "text/x-python",
   "name": "python",
   "nbconvert_exporter": "python",
   "pygments_lexer": "ipython3",
   "version": "3.12.0"
  }
 },
 "nbformat": 4,
 "nbformat_minor": 2
}
