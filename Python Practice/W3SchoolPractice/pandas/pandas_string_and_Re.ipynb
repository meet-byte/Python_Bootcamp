{
 "cells": [
  {
   "cell_type": "code",
   "execution_count": 1,
   "metadata": {},
   "outputs": [
    {
     "name": "stdout",
     "output_type": "stream",
     "text": [
      "Original DataFrame:\n",
      "  company_code date_of_sale                      address\n",
      "0         Abcd   12/05/2002    9910 Surrey <b>Avenue</b>\n",
      "1         EFGF   16/02/1999          92 N. Bishop Avenue\n",
      "2      zefsalf   05/09/1998  9910 <br>Golden Star Avenue\n",
      "3      sdfslew   12/02/2022        102 Dunbar <i></i>St.\n",
      "4      zekfsdf   15/09/1997     17 West Livingston Court\n",
      "  company_code date_of_sale                      address  \\\n",
      "0         Abcd   12/05/2002    9910 Surrey <b>Avenue</b>   \n",
      "1         EFGF   16/02/1999          92 N. Bishop Avenue   \n",
      "2      zefsalf   05/09/1998  9910 <br>Golden Star Avenue   \n",
      "3      sdfslew   12/02/2022        102 Dunbar <i></i>St.   \n",
      "4      zekfsdf   15/09/1997     17 West Livingston Court   \n",
      "\n",
      "                without_tag  \n",
      "0        9910 Surrey Avenue  \n",
      "1       92 N. Bishop Avenue  \n",
      "2   9910 Golden Star Avenue  \n",
      "3            102 Dunbar St.  \n",
      "4  17 West Livingston Court  \n"
     ]
    }
   ],
   "source": [
    "import pandas as pd\n",
    "import re as re\n",
    "df = pd.DataFrame({\n",
    "    'company_code': ['Abcd','EFGF', 'zefsalf', 'sdfslew', 'zekfsdf'],\n",
    "    'date_of_sale': ['12/05/2002','16/02/1999','05/09/1998','12/02/2022','15/09/1997'],\n",
    "    'address': ['9910 Surrey <b>Avenue</b>','92 N. Bishop Avenue','9910 <br>Golden Star Avenue', '102 Dunbar <i></i>St.', '17 West Livingston Court']\n",
    "})\n",
    "print(\"Original DataFrame:\")\n",
    "print(df) \n",
    "def remove_tag(word):\n",
    "    res=re.sub(\"<.*?>\",\"\",word)\n",
    "    return res\n",
    "df[\"without_tag\"]=df[\"address\"].apply(lambda cw:remove_tag(cw))\n",
    "print(df)\n"
   ]
  },
  {
   "cell_type": "code",
   "execution_count": null,
   "metadata": {},
   "outputs": [],
   "source": []
  }
 ],
 "metadata": {
  "kernelspec": {
   "display_name": "venv",
   "language": "python",
   "name": "python3"
  },
  "language_info": {
   "codemirror_mode": {
    "name": "ipython",
    "version": 3
   },
   "file_extension": ".py",
   "mimetype": "text/x-python",
   "name": "python",
   "nbconvert_exporter": "python",
   "pygments_lexer": "ipython3",
   "version": "3.12.0"
  }
 },
 "nbformat": 4,
 "nbformat_minor": 2
}
