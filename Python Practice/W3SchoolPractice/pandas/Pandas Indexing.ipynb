{
 "cells": [
  {
   "cell_type": "markdown",
   "metadata": {},
   "source": [
    "26. Write a Pandas program to select rows by filtering on one or more column(s) in a multi-index dataframe.\n"
   ]
  },
  {
   "cell_type": "code",
   "execution_count": 1,
   "metadata": {},
   "outputs": [
    {
     "name": "stdout",
     "output_type": "stream",
     "text": [
      "Original Multi-Index DataFrame:\n",
      "                Score Grade\n",
      "Class  Student             \n",
      "Class1 Alice       85     B\n",
      "       Bob         90     A\n",
      "Class2 Charlie     88     B\n",
      "       David       76     C\n",
      "Class3 Eva         92     A\n",
      "\n",
      "Filter rows where Class == 'Class1':\n",
      "         Score Grade\n",
      "Student             \n",
      "Alice       85     B\n",
      "Bob         90     A\n",
      "\n",
      "Filter rows where Score > 85:\n",
      "                Score Grade\n",
      "Class  Student             \n",
      "Class1 Bob         90     A\n",
      "Class2 Charlie     88     B\n",
      "Class3 Eva         92     A\n",
      "\n",
      "Filter rows where Class == 'Class2' and Score > 80:\n",
      "         Score Grade\n",
      "Student             \n",
      "Charlie     88     B\n"
     ]
    }
   ],
   "source": [
    "import pandas as pd\n",
    "\n",
    "data = {\n",
    "    'Score': [85, 90, 88, 76, 92],\n",
    "    'Grade': ['B', 'A', 'B', 'C', 'A']\n",
    "}\n",
    "index = pd.MultiIndex.from_tuples(\n",
    "    [('Class1', 'Alice'), ('Class1', 'Bob'), ('Class2', 'Charlie'), ('Class2', 'David'), ('Class3', 'Eva')],\n",
    "    names=['Class', 'Student']\n",
    ")\n",
    "\n",
    "df = pd.DataFrame(data, index=index)\n",
    "\n",
    "print(\"Original Multi-Index DataFrame:\")\n",
    "print(df)\n",
    "\n",
    "print(\"\\nFilter rows where Class == 'Class1':\")\n",
    "print(df.loc['Class1'])\n",
    "\n",
    "print(\"\\nFilter rows where Score > 85:\")\n",
    "print(df[df['Score'] > 85])\n",
    "\n",
    "\n",
    "print(\"\\nFilter rows where Class == 'Class2' and Score > 80:\")\n",
    "print(df.loc['Class2'][df.loc['Class2']['Score'] > 80])\n"
   ]
  },
  {
   "cell_type": "code",
   "execution_count": 4,
   "metadata": {},
   "outputs": [
    {
     "name": "stdout",
     "output_type": "stream",
     "text": [
      "                 score grade\n",
      "class   student             \n",
      "class-1 meet        90     A\n",
      "class-2 mavani      98     B\n"
     ]
    }
   ],
   "source": [
    "import pandas as pd\n",
    "\n",
    "\n",
    "index=pd.MultiIndex.from_tuples([('class-1',\"meet\"),(\"class-2\",\"mavani\")],names=['class',\"student\"])\n",
    "df=pd.DataFrame({\"score\":[90,98],\"grade\":[\"A\",\"B\"]},index=index)\n",
    "print(df)"
   ]
  },
  {
   "cell_type": "code",
   "execution_count": 8,
   "metadata": {},
   "outputs": [
    {
     "name": "stdout",
     "output_type": "stream",
     "text": [
      "                 score grade\n",
      "class   student             \n",
      "class-1 meet        90     A\n",
      "class-2 mavani      98     B\n"
     ]
    }
   ],
   "source": [
    "print(df[df['score'] > 85])"
   ]
  },
  {
   "cell_type": "code",
   "execution_count": null,
   "metadata": {},
   "outputs": [],
   "source": []
  }
 ],
 "metadata": {
  "kernelspec": {
   "display_name": "venv",
   "language": "python",
   "name": "python3"
  },
  "language_info": {
   "codemirror_mode": {
    "name": "ipython",
    "version": 3
   },
   "file_extension": ".py",
   "mimetype": "text/x-python",
   "name": "python",
   "nbconvert_exporter": "python",
   "pygments_lexer": "ipython3",
   "version": "3.12.0"
  }
 },
 "nbformat": 4,
 "nbformat_minor": 2
}
