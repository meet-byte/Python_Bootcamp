{
 "cells": [
  {
   "cell_type": "markdown",
   "metadata": {
    "vscode": {
     "languageId": "plaintext"
    }
   },
   "source": [
    "Python Asynchronous"
   ]
  },
  {
   "cell_type": "code",
   "execution_count": 2,
   "metadata": {},
   "outputs": [],
   "source": [
    "import asyncio"
   ]
  },
  {
   "cell_type": "code",
   "execution_count": 4,
   "metadata": {},
   "outputs": [
    {
     "name": "stdout",
     "output_type": "stream",
     "text": [
      "into the main fundtion::\n",
      "task_started\n",
      "error has been Occured::\n"
     ]
    }
   ],
   "source": [
    "async def long_task():\n",
    "    print(\"task_started\")\n",
    "    await asyncio.sleep(5)\n",
    "    print(\"task complete\")\n",
    "    return \"Done\"\n",
    "\n",
    "\n",
    "async def main():\n",
    "    try:\n",
    "        print(\"into the main fundtion::\")\n",
    "        result=await asyncio.wait_for(long_task(),timeout=3)\n",
    "        print(result)\n",
    "    except:\n",
    "        print(\"error has been Occured::\")\n",
    "\n",
    "await main()"
   ]
  },
  {
   "cell_type": "code",
   "execution_count": 10,
   "metadata": {},
   "outputs": [
    {
     "name": "stdout",
     "output_type": "stream",
     "text": [
      "Time-consuming task started...\n",
      "Step 1 completed\n",
      "Step 2 completed\n",
      "Time consuming task was cancelled\n",
      "Main coroutine caught task cancellation!\n"
     ]
    }
   ],
   "source": [
    "import asyncio\n",
    "import random\n",
    "async def time_consuming_task():\n",
    "    print('Time-consuming task started...')\n",
    "    try:\n",
    "        for i in range(1, 6):\n",
    "            await asyncio.sleep(random.randint(1,5))\n",
    "            print(f'Step {i} completed')\n",
    "    except asyncio.CancelledError:\n",
    "        print('Time consuming task was cancelled')\n",
    "        raise\n",
    "async def main():\n",
    "    task = asyncio.create_task(time_consuming_task())\n",
    "    await asyncio.sleep(random.randint(1,3))    \n",
    "    task.cancel()\n",
    "    try:\n",
    "        await task\n",
    "    except asyncio.CancelledError:\n",
    "        print('Main coroutine caught task cancellation!')\n",
    "await main()"
   ]
  },
  {
   "cell_type": "code",
   "execution_count": null,
   "metadata": {},
   "outputs": [],
   "source": []
  },
  {
   "cell_type": "code",
   "execution_count": null,
   "metadata": {},
   "outputs": [],
   "source": []
  }
 ],
 "metadata": {
  "kernelspec": {
   "display_name": "venv",
   "language": "python",
   "name": "python3"
  },
  "language_info": {
   "codemirror_mode": {
    "name": "ipython",
    "version": 3
   },
   "file_extension": ".py",
   "mimetype": "text/x-python",
   "name": "python",
   "nbconvert_exporter": "python",
   "pygments_lexer": "ipython3",
   "version": "3.12.0"
  }
 },
 "nbformat": 4,
 "nbformat_minor": 2
}
