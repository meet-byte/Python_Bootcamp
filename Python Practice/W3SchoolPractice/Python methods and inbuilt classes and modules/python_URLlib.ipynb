{
 "cells": [
  {
   "cell_type": "code",
   "execution_count": 1,
   "metadata": {},
   "outputs": [
    {
     "name": "stdout",
     "output_type": "stream",
     "text": [
      "Response is not compressed.\n"
     ]
    }
   ],
   "source": [
    "import urllib3\n",
    "import gzip\n",
    "from io import BytesIO\n",
    "\n",
    "http = urllib3.PoolManager()\n",
    "\n",
    "url = 'https://httpbin.org/get'\n",
    "\n",
    "try:\n",
    "    response = http.request('GET', url)\n",
    "\n",
    "    if 'gzip' in response.headers.get('content-encoding', ''):\n",
    "        compressed_data = BytesIO(response.data)\n",
    "        decompressed_data = gzip.GzipFile(fileobj=compressed_data).read()\n",
    "        print(\"Decompressed Content:\")\n",
    "        print(decompressed_data.decode('utf-8'))\n",
    "    else:\n",
    "        print(\"Response is not compressed.\")\n",
    "\n",
    "except Exception as e:\n",
    "    print(f\"Error: {e}\")\n"
   ]
  },
  {
   "cell_type": "code",
   "execution_count": null,
   "metadata": {},
   "outputs": [],
   "source": []
  }
 ],
 "metadata": {
  "kernelspec": {
   "display_name": "venv",
   "language": "python",
   "name": "python3"
  },
  "language_info": {
   "codemirror_mode": {
    "name": "ipython",
    "version": 3
   },
   "file_extension": ".py",
   "mimetype": "text/x-python",
   "name": "python",
   "nbconvert_exporter": "python",
   "pygments_lexer": "ipython3",
   "version": "3.12.0"
  }
 },
 "nbformat": 4,
 "nbformat_minor": 2
}
