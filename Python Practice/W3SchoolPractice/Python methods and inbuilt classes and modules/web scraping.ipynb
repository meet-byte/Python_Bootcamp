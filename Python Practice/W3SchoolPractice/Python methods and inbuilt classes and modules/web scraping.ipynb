{
 "cells": [
  {
   "cell_type": "code",
   "execution_count": 4,
   "metadata": {},
   "outputs": [
    {
     "name": "stdout",
     "output_type": "stream",
     "text": [
      "Collecting lxml\n",
      "  Downloading lxml-5.3.0-cp312-cp312-win_amd64.whl.metadata (3.9 kB)\n",
      "Downloading lxml-5.3.0-cp312-cp312-win_amd64.whl (3.8 MB)\n",
      "   ---------------------------------------- 0.0/3.8 MB ? eta -:--:--\n",
      "   ----- ---------------------------------- 0.5/3.8 MB 3.4 MB/s eta 0:00:01\n",
      "   ---------------- ----------------------- 1.6/3.8 MB 4.2 MB/s eta 0:00:01\n",
      "   ------------------------ --------------- 2.4/3.8 MB 4.3 MB/s eta 0:00:01\n",
      "   -------------------------------- ------- 3.1/3.8 MB 4.4 MB/s eta 0:00:01\n",
      "   ---------------------------------------- 3.8/3.8 MB 3.7 MB/s eta 0:00:00\n",
      "Installing collected packages: lxml\n",
      "Successfully installed lxml-5.3.0\n",
      "Note: you may need to restart the kernel to use updated packages.\n"
     ]
    }
   ],
   "source": [
    "pip install lxml"
   ]
  },
  {
   "cell_type": "code",
   "execution_count": 5,
   "metadata": {},
   "outputs": [
    {
     "name": "stdout",
     "output_type": "stream",
     "text": [
      "Requirement already satisfied: requests in c:\\users\\meetmavani\\desktop\\python\\venv\\lib\\site-packages (2.32.3)\n",
      "Requirement already satisfied: charset-normalizer<4,>=2 in c:\\users\\meetmavani\\desktop\\python\\venv\\lib\\site-packages (from requests) (3.4.1)\n",
      "Requirement already satisfied: idna<4,>=2.5 in c:\\users\\meetmavani\\desktop\\python\\venv\\lib\\site-packages (from requests) (3.10)\n",
      "Requirement already satisfied: urllib3<3,>=1.21.1 in c:\\users\\meetmavani\\desktop\\python\\venv\\lib\\site-packages (from requests) (2.3.0)\n",
      "Requirement already satisfied: certifi>=2017.4.17 in c:\\users\\meetmavani\\desktop\\python\\venv\\lib\\site-packages (from requests) (2024.12.14)\n",
      "Note: you may need to restart the kernel to use updated packages.\n"
     ]
    }
   ],
   "source": [
    "pip install requests"
   ]
  },
  {
   "cell_type": "code",
   "execution_count": 12,
   "metadata": {},
   "outputs": [
    {
     "ename": "ImportError",
     "evalue": "cssselect does not seem to be installed. See https://pypi.org/project/cssselect/",
     "output_type": "error",
     "traceback": [
      "\u001b[1;31m---------------------------------------------------------------------------\u001b[0m",
      "\u001b[1;31mModuleNotFoundError\u001b[0m                       Traceback (most recent call last)",
      "File \u001b[1;32mc:\\Users\\MeetMavani\\Desktop\\Python\\venv\\Lib\\site-packages\\lxml\\cssselect.py:12\u001b[0m\n\u001b[0;32m     11\u001b[0m \u001b[38;5;28;01mtry\u001b[39;00m:\n\u001b[1;32m---> 12\u001b[0m     \u001b[38;5;28;01mimport\u001b[39;00m \u001b[38;5;21;01mcssselect\u001b[39;00m \u001b[38;5;28;01mas\u001b[39;00m \u001b[38;5;21;01mexternal_cssselect\u001b[39;00m\n\u001b[0;32m     13\u001b[0m \u001b[38;5;28;01mexcept\u001b[39;00m \u001b[38;5;167;01mImportError\u001b[39;00m:\n",
      "\u001b[1;31mModuleNotFoundError\u001b[0m: No module named 'cssselect'",
      "\nDuring handling of the above exception, another exception occurred:\n",
      "\u001b[1;31mImportError\u001b[0m                               Traceback (most recent call last)",
      "Cell \u001b[1;32mIn[12], line 5\u001b[0m\n\u001b[0;32m      3\u001b[0m response \u001b[38;5;241m=\u001b[39m requests\u001b[38;5;241m.\u001b[39mget(\u001b[38;5;124m'\u001b[39m\u001b[38;5;124mhttp://www.data.gov/\u001b[39m\u001b[38;5;124m'\u001b[39m)\n\u001b[0;32m      4\u001b[0m doc_gov \u001b[38;5;241m=\u001b[39m html\u001b[38;5;241m.\u001b[39mfromstring(response\u001b[38;5;241m.\u001b[39mtext)\n\u001b[1;32m----> 5\u001b[0m link_gov \u001b[38;5;241m=\u001b[39m \u001b[43mdoc_gov\u001b[49m\u001b[38;5;241;43m.\u001b[39;49m\u001b[43mcssselect\u001b[49m\u001b[43m(\u001b[49m\u001b[38;5;124;43m'\u001b[39;49m\u001b[38;5;124;43msmall a\u001b[39;49m\u001b[38;5;124;43m'\u001b[39;49m\u001b[43m)\u001b[49m[\u001b[38;5;241m0\u001b[39m]\n\u001b[0;32m      6\u001b[0m \u001b[38;5;28mprint\u001b[39m(\u001b[38;5;124m\"\u001b[39m\u001b[38;5;124mNumber of datasets currently listed on data.gov:\u001b[39m\u001b[38;5;124m\"\u001b[39m)\n\u001b[0;32m      7\u001b[0m \u001b[38;5;28mprint\u001b[39m(link_gov\u001b[38;5;241m.\u001b[39mtext)\n",
      "File \u001b[1;32mc:\\Users\\MeetMavani\\Desktop\\Python\\venv\\Lib\\site-packages\\lxml\\html\\__init__.py:408\u001b[0m, in \u001b[0;36mHtmlMixin.cssselect\u001b[1;34m(self, expr, translator)\u001b[0m\n\u001b[0;32m    399\u001b[0m \u001b[38;5;250m\u001b[39m\u001b[38;5;124;03m\"\"\"\u001b[39;00m\n\u001b[0;32m    400\u001b[0m \u001b[38;5;124;03mRun the CSS expression on this element and its children,\u001b[39;00m\n\u001b[0;32m    401\u001b[0m \u001b[38;5;124;03mreturning a list of the results.\u001b[39;00m\n\u001b[1;32m   (...)\u001b[0m\n\u001b[0;32m    405\u001b[0m \u001b[38;5;124;03mspeedup.\u001b[39;00m\n\u001b[0;32m    406\u001b[0m \u001b[38;5;124;03m\"\"\"\u001b[39;00m\n\u001b[0;32m    407\u001b[0m \u001b[38;5;66;03m# Do the import here to make the dependency optional.\u001b[39;00m\n\u001b[1;32m--> 408\u001b[0m \u001b[38;5;28;01mfrom\u001b[39;00m \u001b[38;5;21;01mlxml\u001b[39;00m\u001b[38;5;21;01m.\u001b[39;00m\u001b[38;5;21;01mcssselect\u001b[39;00m \u001b[38;5;28;01mimport\u001b[39;00m CSSSelector\n\u001b[0;32m    409\u001b[0m \u001b[38;5;28;01mreturn\u001b[39;00m CSSSelector(expr, translator\u001b[38;5;241m=\u001b[39mtranslator)(\u001b[38;5;28mself\u001b[39m)\n",
      "File \u001b[1;32mc:\\Users\\MeetMavani\\Desktop\\Python\\venv\\Lib\\site-packages\\lxml\\cssselect.py:14\u001b[0m\n\u001b[0;32m     12\u001b[0m     \u001b[38;5;28;01mimport\u001b[39;00m \u001b[38;5;21;01mcssselect\u001b[39;00m \u001b[38;5;28;01mas\u001b[39;00m \u001b[38;5;21;01mexternal_cssselect\u001b[39;00m\n\u001b[0;32m     13\u001b[0m \u001b[38;5;28;01mexcept\u001b[39;00m \u001b[38;5;167;01mImportError\u001b[39;00m:\n\u001b[1;32m---> 14\u001b[0m     \u001b[38;5;28;01mraise\u001b[39;00m \u001b[38;5;167;01mImportError\u001b[39;00m(\n\u001b[0;32m     15\u001b[0m         \u001b[38;5;124m'\u001b[39m\u001b[38;5;124mcssselect does not seem to be installed. \u001b[39m\u001b[38;5;124m'\u001b[39m\n\u001b[0;32m     16\u001b[0m         \u001b[38;5;124m'\u001b[39m\u001b[38;5;124mSee https://pypi.org/project/cssselect/\u001b[39m\u001b[38;5;124m'\u001b[39m)\n\u001b[0;32m     19\u001b[0m SelectorSyntaxError \u001b[38;5;241m=\u001b[39m external_cssselect\u001b[38;5;241m.\u001b[39mSelectorSyntaxError\n\u001b[0;32m     20\u001b[0m ExpressionError \u001b[38;5;241m=\u001b[39m external_cssselect\u001b[38;5;241m.\u001b[39mExpressionError\n",
      "\u001b[1;31mImportError\u001b[0m: cssselect does not seem to be installed. See https://pypi.org/project/cssselect/"
     ]
    }
   ],
   "source": [
    "from lxml import html\n",
    "import requests\n",
    "response = requests.get('http://www.data.gov/')\n",
    "doc_gov = html.fromstring(response.text)\n",
    "link_gov = doc_gov.cssselect('small a')[0]\n",
    "print(\"Number of datasets currently listed on data.gov:\")\n",
    "print(link_gov.text)"
   ]
  },
  {
   "cell_type": "code",
   "execution_count": 10,
   "metadata": {},
   "outputs": [
    {
     "name": "stdout",
     "output_type": "stream",
     "text": [
      "[('m', 'e', 'e', 't'), ('m', 'e', 't', 'e'), ('m', 'e', 'e', 't'), ('m', 'e', 't', 'e'), ('m', 't', 'e', 'e'), ('m', 't', 'e', 'e'), ('e', 'm', 'e', 't'), ('e', 'm', 't', 'e'), ('e', 'e', 'm', 't'), ('e', 'e', 't', 'm'), ('e', 't', 'm', 'e'), ('e', 't', 'e', 'm'), ('e', 'm', 'e', 't'), ('e', 'm', 't', 'e'), ('e', 'e', 'm', 't'), ('e', 'e', 't', 'm'), ('e', 't', 'm', 'e'), ('e', 't', 'e', 'm'), ('t', 'm', 'e', 'e'), ('t', 'm', 'e', 'e'), ('t', 'e', 'm', 'e'), ('t', 'e', 'e', 'm'), ('t', 'e', 'm', 'e'), ('t', 'e', 'e', 'm')]\n"
     ]
    }
   ],
   "source": [
    "from itertools import permutations\n",
    "a=\"meet\"\n",
    "a1=permutations(a)\n",
    "print(list(a1))"
   ]
  },
  {
   "cell_type": "code",
   "execution_count": null,
   "metadata": {},
   "outputs": [],
   "source": []
  },
  {
   "cell_type": "code",
   "execution_count": null,
   "metadata": {},
   "outputs": [],
   "source": []
  },
  {
   "cell_type": "code",
   "execution_count": null,
   "metadata": {},
   "outputs": [],
   "source": [
    "\n"
   ]
  },
  {
   "cell_type": "code",
   "execution_count": null,
   "metadata": {},
   "outputs": [],
   "source": []
  },
  {
   "cell_type": "code",
   "execution_count": null,
   "metadata": {},
   "outputs": [],
   "source": [
    "    "
   ]
  }
 ],
 "metadata": {
  "kernelspec": {
   "display_name": "venv",
   "language": "python",
   "name": "python3"
  },
  "language_info": {
   "codemirror_mode": {
    "name": "ipython",
    "version": 3
   },
   "file_extension": ".py",
   "mimetype": "text/x-python",
   "name": "python",
   "nbconvert_exporter": "python",
   "pygments_lexer": "ipython3",
   "version": "3.12.0"
  }
 },
 "nbformat": 4,
 "nbformat_minor": 2
}
