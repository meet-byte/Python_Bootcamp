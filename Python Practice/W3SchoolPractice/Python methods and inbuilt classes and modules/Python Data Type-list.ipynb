{
 "cells": [
  {
   "cell_type": "markdown",
   "metadata": {},
   "source": [
    "Python Data Type: List"
   ]
  },
  {
   "cell_type": "markdown",
   "metadata": {},
   "source": [
    "279. Extract Specified Vowels\n",
    "\n",
    "Write a Python program to extract the first specified number of vowels from a given string. If the specified number is less than the \n",
    "\n",
    "number of vowels present in the string then display \"n is less than the number of vowels present in the string\".\n",
    "\n",
    "Sample Data:\n",
    "\n",
    "(\" Python\", 2) -> \"n is less than number of vowels present in the string.\"\n",
    "\n",
    "(\"Python Exercises\", 3) -> \"oEe\"\n",
    "\n",
    "(\"aeiou\") -> \"AEI\""
   ]
  },
  {
   "cell_type": "code",
   "execution_count": 15,
   "metadata": {},
   "outputs": [
    {
     "name": "stdout",
     "output_type": "stream",
     "text": [
      "oEe\n"
     ]
    }
   ],
   "source": [
    "str=input(\"enter the string:\")\n",
    "n=int(input(\"enter the number of the vowel that you want to extract\"))\n",
    "list=[\"a\",\"e\",\"i\",\"o\",\"u\",\"A\",\"E\",\"I\",\"O\",\"U\"]\n",
    "list1=[ch for ch in str if ch in list]\n",
    "if len(list1)>len(list):\n",
    "    print(\"\".join(list1[:n]))"
   ]
  },
  {
   "cell_type": "markdown",
   "metadata": {},
   "source": [
    "280. Find Pairs Differing by Three\n",
    "\n",
    "Write a Python program that takes a list of integers and finds all pairs of integers that differ by three. Return all pairs of integers in a list.\n",
    "\n",
    "Sample Data:\n",
    "\n",
    "([0, 3, 4, 7, 9]) -> [[0, 3], [4, 7]]\n",
    "\n",
    "[0, -3, -5, -7, -8] -> [[-3, 0], [-8, -5]]\n",
    "\n",
    "([1, 2, 3, 4, 5]) -> [[1, 4], [2, 5]]\n",
    "\n",
    "([100, 102, 103, 114, 115]) -> [[100, 103]]"
   ]
  },
  {
   "cell_type": "code",
   "execution_count": 16,
   "metadata": {},
   "outputs": [],
   "source": [
    "\n",
    "def test(nums):\n",
    "    result = []\n",
    "    for i, x in enumerate(sorted(nums)):\n",
    "        for y in nums[i+1:]:\n",
    "            if y == x + 3:\n",
    "                result.append([x,y])\n",
    "    return result"
   ]
  },
  {
   "cell_type": "code",
   "execution_count": 17,
   "metadata": {},
   "outputs": [
    {
     "data": {
      "text/plain": [
       "[[1, 4], [56, 59]]"
      ]
     },
     "execution_count": 17,
     "metadata": {},
     "output_type": "execute_result"
    }
   ],
   "source": [
    "test([1,2,3,4,56,59])"
   ]
  },
  {
   "cell_type": "code",
   "execution_count": null,
   "metadata": {},
   "outputs": [],
   "source": []
  }
 ],
 "metadata": {
  "kernelspec": {
   "display_name": "venv",
   "language": "python",
   "name": "python3"
  },
  "language_info": {
   "codemirror_mode": {
    "name": "ipython",
    "version": 3
   },
   "file_extension": ".py",
   "mimetype": "text/x-python",
   "name": "python",
   "nbconvert_exporter": "python",
   "pygments_lexer": "ipython3",
   "version": "3.12.0"
  }
 },
 "nbformat": 4,
 "nbformat_minor": 2
}
