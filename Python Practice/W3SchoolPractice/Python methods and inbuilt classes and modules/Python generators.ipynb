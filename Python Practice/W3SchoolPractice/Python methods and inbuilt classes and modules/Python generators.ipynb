{
 "cells": [
  {
   "cell_type": "code",
   "execution_count": 26,
   "metadata": {},
   "outputs": [],
   "source": [
    "def permutations(string):\n",
    "    if len(string)<=1:\n",
    "        yield string\n",
    "    else:\n",
    "\n",
    "        for i in range(len(string)):\n",
    "            cur=string[i]\n",
    "            rem=string[:i]+string[i+1:]\n",
    "            for permu in permutations(rem):\n",
    "                yield cur+permu\n"
   ]
  },
  {
   "cell_type": "code",
   "execution_count": 27,
   "metadata": {},
   "outputs": [],
   "source": [
    "input_string=input(\"enter the string\")\n",
    "permutation_gen=permutations(input_string)"
   ]
  },
  {
   "cell_type": "code",
   "execution_count": 28,
   "metadata": {},
   "outputs": [
    {
     "name": "stdout",
     "output_type": "stream",
     "text": [
      "meet,mete,meet,mete,mtee,mtee,emet,emte,eemt,eetm,etme,etem,emet,emte,eemt,eetm,etme,etem,tmee,tmee,teme,teem,teme,teem,"
     ]
    }
   ],
   "source": [
    "for x in permutation_gen:\n",
    "    print(x,end=\",\")"
   ]
  },
  {
   "cell_type": "code",
   "execution_count": 29,
   "metadata": {},
   "outputs": [
    {
     "name": "stdout",
     "output_type": "stream",
     "text": [
      "All permutations of meet:\n",
      "meet, mete, meet, mete, mtee, mtee, emet, emte, eemt, eetm, etme, etem, emet, emte, eemt, eetm, etme, etem, tmee, tmee, teme, teem, teme, teem, "
     ]
    }
   ],
   "source": [
    "def string_permutations(string):\n",
    "    if len(string) <= 1:\n",
    "        yield string\n",
    "    else:\n",
    "        for i in range(len(string)):\n",
    "            current_char = string[i]\n",
    "            remaining_chars = string[:i] + string[i+1:]\n",
    "            for permutation in string_permutations(remaining_chars):\n",
    "                yield current_char + permutation\n",
    "\n",
    "input_string = input(\"Input a string: \")\n",
    "\n",
    "permutations_gen = string_permutations(input_string)\n",
    "\n",
    "print(\"All permutations of\", input_string + \":\")\n",
    "for permutation in permutations_gen:\n",
    "    print(permutation, end = \", \")\n"
   ]
  },
  {
   "cell_type": "code",
   "execution_count": null,
   "metadata": {},
   "outputs": [],
   "source": []
  }
 ],
 "metadata": {
  "kernelspec": {
   "display_name": "venv",
   "language": "python",
   "name": "python3"
  },
  "language_info": {
   "codemirror_mode": {
    "name": "ipython",
    "version": 3
   },
   "file_extension": ".py",
   "mimetype": "text/x-python",
   "name": "python",
   "nbconvert_exporter": "python",
   "pygments_lexer": "ipython3",
   "version": "3.12.0"
  }
 },
 "nbformat": 4,
 "nbformat_minor": 2
}
