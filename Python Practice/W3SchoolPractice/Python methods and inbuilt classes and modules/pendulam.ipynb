{
 "cells": [
  {
   "cell_type": "markdown",
   "metadata": {},
   "source": [
    "33. Write a Python program to calculate and print the travel time between two given dates and times them using Pendulum module.\n",
    "\n"
   ]
  },
  {
   "cell_type": "code",
   "execution_count": 5,
   "metadata": {},
   "outputs": [
    {
     "name": "stdout",
     "output_type": "stream",
     "text": [
      "Collecting pendulum\n",
      "  Downloading pendulum-3.0.0-cp312-none-win_amd64.whl.metadata (7.0 kB)\n",
      "Requirement already satisfied: python-dateutil>=2.6 in c:\\users\\meetmavani\\appdata\\roaming\\python\\python312\\site-packages (from pendulum) (2.9.0.post0)\n",
      "Collecting tzdata>=2020.1 (from pendulum)\n",
      "  Downloading tzdata-2024.2-py2.py3-none-any.whl.metadata (1.4 kB)\n",
      "Collecting time-machine>=2.6.0 (from pendulum)\n",
      "  Downloading time_machine-2.16.0-cp312-cp312-win_amd64.whl.metadata (21 kB)\n",
      "Requirement already satisfied: six>=1.5 in c:\\users\\meetmavani\\appdata\\roaming\\python\\python312\\site-packages (from python-dateutil>=2.6->pendulum) (1.17.0)\n",
      "Downloading pendulum-3.0.0-cp312-none-win_amd64.whl (293 kB)\n",
      "Downloading time_machine-2.16.0-cp312-cp312-win_amd64.whl (19 kB)\n",
      "Downloading tzdata-2024.2-py2.py3-none-any.whl (346 kB)\n",
      "Installing collected packages: tzdata, time-machine, pendulum\n",
      "Successfully installed pendulum-3.0.0 time-machine-2.16.0 tzdata-2024.2\n",
      "Note: you may need to restart the kernel to use updated packages.\n"
     ]
    }
   ],
   "source": [
    "pip install pendulum"
   ]
  },
  {
   "cell_type": "code",
   "execution_count": 9,
   "metadata": {},
   "outputs": [
    {
     "name": "stdout",
     "output_type": "stream",
     "text": [
      "start time:2023-06-01 12:30:00+00:00, end time:2023-06-02 15:45:00+00:00, difference=1 day 3 hours 15 minutes\n"
     ]
    }
   ],
   "source": [
    "import pendulum\n",
    "def difference(start,end):\n",
    "    diffe=start.diff(end)\n",
    "    print(f\"start time:{start}, end time:{end}, difference={diffe.in_words()}\")\n",
    "start_datetime_str = \"2023-06-01 12:30:00\"\n",
    "end_datetime_str = \"2023-06-02 15:45:00\"\n",
    "start_datetime = pendulum.parse(start_datetime_str)\n",
    "end_datetime = pendulum.parse(end_datetime_str)\n",
    "difference(start_datetime,end_datetime)"
   ]
  },
  {
   "cell_type": "markdown",
   "metadata": {},
   "source": [
    "22. Write a Python program to find the timezone offset (in hours) for the current timezone using Pendulum module.\n",
    "\n"
   ]
  },
  {
   "cell_type": "code",
   "execution_count": 14,
   "metadata": {},
   "outputs": [
    {
     "name": "stdout",
     "output_type": "stream",
     "text": [
      "19800\n",
      "offset_hours is:5.5\n"
     ]
    }
   ],
   "source": [
    "import pendulum\n",
    "\n",
    "res=pendulum.now()\n",
    "print(res.offset)\n",
    "offset_hours=res.offset/3600\n",
    "print(f\"offset_hours is:{offset_hours}\")"
   ]
  },
  {
   "cell_type": "code",
   "execution_count": null,
   "metadata": {},
   "outputs": [],
   "source": []
  }
 ],
 "metadata": {
  "kernelspec": {
   "display_name": "venv",
   "language": "python",
   "name": "python3"
  },
  "language_info": {
   "codemirror_mode": {
    "name": "ipython",
    "version": 3
   },
   "file_extension": ".py",
   "mimetype": "text/x-python",
   "name": "python",
   "nbconvert_exporter": "python",
   "pygments_lexer": "ipython3",
   "version": "3.12.0"
  }
 },
 "nbformat": 4,
 "nbformat_minor": 2
}
