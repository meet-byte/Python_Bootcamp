{
 "cells": [
  {
   "cell_type": "markdown",
   "metadata": {},
   "source": [
    "Python Array"
   ]
  },
  {
   "cell_type": "markdown",
   "metadata": {},
   "source": [
    "24. Write a Python program to find the missing number in a given array of numbers between 10 and 20.\n",
    "\n",
    "Sample Output:\n",
    "\n",
    "Original array: 10 11 12 13 14 16 17 18 19 20\n",
    "\n",
    "Missing number in the said array (10-20): 15\n",
    "\n",
    "Original array: 10 11 12 13 14 15 16 17 18 19\n",
    "\n",
    "Missing number in the said array (10-20): 20"
   ]
  },
  {
   "cell_type": "code",
   "execution_count": 2,
   "metadata": {},
   "outputs": [
    {
     "name": "stdout",
     "output_type": "stream",
     "text": [
      "missing number is :15\n"
     ]
    }
   ],
   "source": [
    "def missing(num):\n",
    "    for ch in range(10,21):\n",
    "        if ch in num:\n",
    "            pass\n",
    "        else:\n",
    "            return ch\n",
    "k=missing([10, 11, 12, 13, 14, 16, 17, 18, 19, 20])\n",
    "print(f\"missing number is :{k}\")"
   ]
  },
  {
   "cell_type": "code",
   "execution_count": null,
   "metadata": {},
   "outputs": [],
   "source": []
  }
 ],
 "metadata": {
  "kernelspec": {
   "display_name": "venv",
   "language": "python",
   "name": "python3"
  },
  "language_info": {
   "codemirror_mode": {
    "name": "ipython",
    "version": 3
   },
   "file_extension": ".py",
   "mimetype": "text/x-python",
   "name": "python",
   "nbconvert_exporter": "python",
   "pygments_lexer": "ipython3",
   "version": "3.12.0"
  }
 },
 "nbformat": 4,
 "nbformat_minor": 2
}
