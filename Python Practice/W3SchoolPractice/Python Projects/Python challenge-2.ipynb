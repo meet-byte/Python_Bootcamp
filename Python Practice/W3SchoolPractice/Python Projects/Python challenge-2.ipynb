{
 "cells": [
  {
   "cell_type": "code",
   "execution_count": 1,
   "metadata": {},
   "outputs": [],
   "source": [
    "class Node:\n",
    "    # Singly linked node\n",
    "    def __init__(self, data=None):\n",
    "        self.data = data\n",
    "        self.next = None\n",
    "class singly_linked_list:\n",
    "    def __init__(self):\n",
    "        # Createe an empty list\n",
    "        self.head = None\n",
    "        self.tail = None\n",
    "        self.count = 0\n",
    "    def iterate_item(self):\n",
    "        # Iterate the list.\n",
    "        current_item = self.head\n",
    "        while current_item:\n",
    "            val = current_item.data\n",
    "            current_item = current_item.next\n",
    "            yield val\n",
    "    def append_item(self, data):\n",
    "        #Append items on the list\n",
    "        node = Node(data)\n",
    "        if self.tail:\n",
    "            self.tail.next = node\n",
    "            self.tail = node\n",
    "        else:\n",
    "            self.head = node\n",
    "            self.tail = node\n",
    "        self.count += 1\n",
    "        \n",
    "    def addTwoLists(self, list1, list2):\n",
    "        str_l1, str_l2 = '', ''\n",
    "        while list1:\n",
    "            str_l1 += str(list1.data)\n",
    "            list1 = list1.next\n",
    "        while list2:            \n",
    "            str_l2 += str(list2.data)\n",
    "            list2 = list2.next\n",
    "        int_l1 = int(str_l1[::-1])\n",
    "        int_l2 = int(str_l2[::-1])       \n",
    "        return list(map(int, str(int_l1 + int_l2)[::-1])) \n",
    "        "
   ]
  },
  {
   "cell_type": "code",
   "execution_count": null,
   "metadata": {},
   "outputs": [],
   "source": [
    "\n",
    "list1 = singly_linked_list()\n",
    "list1.append_item(5)\n",
    "list1.append_item(4)\n",
    "list1.append_item(3)\n",
    "list1.append_item(1)\n",
    "list1.append_item(2)\n",
    "#--------------------------\n",
    "list2 = singly_linked_list()\n",
    "list2.append_item(4)\n",
    "list2.append_item(2)\n",
    "list2.append_item(1)\n",
    "print(\"Linked list1:\")\n",
    "for val in list1.iterate_item():\n",
    "    print(val, end = \" \")\n",
    "print(\"\\nLinked list2:\")\n",
    "for val in list2.iterate_item():\n",
    "    print(val, end = \" \")\n",
    "\n",
    "res = singly_linked_list()\n",
    "print(\"\\n\\nResult: \",res.addTwoLists(list1.head, list2.head))"
   ]
  },
  {
   "cell_type": "code",
   "execution_count": 2,
   "metadata": {},
   "outputs": [],
   "source": [
    "class Node:\n",
    "    def __init__(self,data,next):\n",
    "        self.data=data\n",
    "        self.next=None"
   ]
  },
  {
   "cell_type": "code",
   "execution_count": null,
   "metadata": {},
   "outputs": [],
   "source": [
    "class singly_list:\n",
    "    def __init__(self,current):\n",
    "        self.current=None\n",
    "        self.count=0\n",
    "\n",
    "    def add_list(self,data):\n",
    "        node=Node(data)\n",
    "        if self.current:\n",
    "            self.current             \n"
   ]
  }
 ],
 "metadata": {
  "kernelspec": {
   "display_name": "venv",
   "language": "python",
   "name": "python3"
  },
  "language_info": {
   "codemirror_mode": {
    "name": "ipython",
    "version": 3
   },
   "file_extension": ".py",
   "mimetype": "text/x-python",
   "name": "python",
   "nbconvert_exporter": "python",
   "pygments_lexer": "ipython3",
   "version": "3.12.0"
  }
 },
 "nbformat": 4,
 "nbformat_minor": 2
}
