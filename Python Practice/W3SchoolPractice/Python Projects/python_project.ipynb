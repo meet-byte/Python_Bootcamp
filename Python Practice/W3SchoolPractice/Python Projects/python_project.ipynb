{
 "cells": [
  {
   "cell_type": "code",
   "execution_count": 2,
   "metadata": {},
   "outputs": [
    {
     "name": "stdout",
     "output_type": "stream",
     "text": [
      "Requirement already satisfied: stats in c:\\users\\meetmavani\\desktop\\python\\venv\\lib\\site-packages (0.1.2a0)Note: you may need to restart the kernel to use updated packages.\n",
      "\n"
     ]
    }
   ],
   "source": [
    "pip install stats"
   ]
  },
  {
   "cell_type": "code",
   "execution_count": 4,
   "metadata": {},
   "outputs": [
    {
     "name": "stdout",
     "output_type": "stream",
     "text": [
      "Average\t 9.5\n",
      "Median\t 8.5\n",
      "Variance 19.142857142857142\n",
      "SD\t 4.375255094603872\n",
      "MD\t 3.375\n",
      "Count 7\t 0\n",
      "Length\t 8\n",
      "Max\t 17\n",
      "Min\t 5\n",
      "Range\t 12\n",
      "Sum\t 76\n",
      "Sort\t [5, 6, 6, 8, 9, 10, 15, 17]\n"
     ]
    }
   ],
   "source": [
    "import statistics\n",
    "\n",
    "lst = [6, 6, 10, 15, 9, 8, 17, 5]\n",
    "\n",
    "print(\"Average\\t\", statistics.mean(lst))\n",
    "print(\"Median\\t\", statistics.median(lst))\n",
    "print(\"Variance\", statistics.variance(lst))\n",
    "print(\"SD\\t\", statistics.stdev(lst))\n",
    "\n",
    "print(\"MD\\t\", sum(abs(x - statistics.mean(lst)) for x in lst) / len(lst))  # Mean Deviation\n",
    "print(\"Count 7\\t\", lst.count(7))\n",
    "print(\"Length\\t\", len(lst))\n",
    "print(\"Max\\t\", max(lst))\n",
    "print(\"Min\\t\", min(lst))\n",
    "print(\"Range\\t\", max(lst) - min(lst))\n",
    "print(\"Sum\\t\", sum(lst))\n",
    "print(\"Sort\\t\", sorted(lst))\n"
   ]
  },
  {
   "cell_type": "code",
   "execution_count": null,
   "metadata": {},
   "outputs": [],
   "source": []
  }
 ],
 "metadata": {
  "kernelspec": {
   "display_name": "venv",
   "language": "python",
   "name": "python3"
  },
  "language_info": {
   "codemirror_mode": {
    "name": "ipython",
    "version": 3
   },
   "file_extension": ".py",
   "mimetype": "text/x-python",
   "name": "python",
   "nbconvert_exporter": "python",
   "pygments_lexer": "ipython3",
   "version": "3.12.0"
  }
 },
 "nbformat": 4,
 "nbformat_minor": 2
}
