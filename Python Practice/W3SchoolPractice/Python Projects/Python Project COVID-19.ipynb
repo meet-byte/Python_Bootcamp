{
 "cells": [
  {
   "cell_type": "code",
   "execution_count": 2,
   "metadata": {},
   "outputs": [
    {
     "name": "stdout",
     "output_type": "stream",
     "text": [
      "                        Last Update  Confirmed  Deaths  Recovered\n",
      "Country/Region                                                   \n",
      "China           2020-03-18T12:13:09      67800    3122      56927\n",
      "Italy           2020-03-18T17:33:05      35713    2978       4025\n",
      "Iran            2020-03-18T12:33:02      17361    1135       5389\n",
      "Spain           2020-03-18T13:13:13      13910     623       1081\n",
      "Germany         2020-03-18T19:33:02      12327      28        105\n",
      "France          2020-03-18T18:33:02       9043     148         12\n",
      "Korea, South    2020-03-18T02:53:03       8413      84       1540\n",
      "Switzerland     2020-03-18T14:53:05       3028      48         15\n",
      "United Kingdom  2020-03-18T14:53:05       2626     264         65\n",
      "US              2020-03-18T19:53:03       2495      55        106\n"
     ]
    }
   ],
   "source": [
    "import pandas as pd\n",
    "covid_data= pd.read_csv('https://raw.githubusercontent.com/CSSEGISandData/COVID-19/master/csse_covid_19_data/csse_covid_19_daily_reports/03-18-2020.csv', usecols = ['Last Update', 'Country/Region', 'Confirmed', 'Deaths', 'Recovered'])\n",
    "result = covid_data.groupby('Country/Region').max().sort_values(by='Confirmed', ascending=False)[:10]\n",
    "pd.set_option('display.max_column', None)\n",
    "print(result)\n"
   ]
  },
  {
   "cell_type": "markdown",
   "metadata": {},
   "source": []
  },
  {
   "cell_type": "code",
   "execution_count": null,
   "metadata": {},
   "outputs": [],
   "source": []
  }
 ],
 "metadata": {
  "kernelspec": {
   "display_name": "venv",
   "language": "python",
   "name": "python3"
  },
  "language_info": {
   "codemirror_mode": {
    "name": "ipython",
    "version": 3
   },
   "file_extension": ".py",
   "mimetype": "text/x-python",
   "name": "python",
   "nbconvert_exporter": "python",
   "pygments_lexer": "ipython3",
   "version": "3.12.0"
  }
 },
 "nbformat": 4,
 "nbformat_minor": 2
}
