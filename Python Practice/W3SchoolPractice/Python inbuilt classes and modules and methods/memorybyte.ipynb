{
 "cells": [
  {
   "cell_type": "markdown",
   "metadata": {},
   "source": [
    "Creating a memory view on a Python bytes object: Length and first bytes\n"
   ]
  },
  {
   "cell_type": "code",
   "execution_count": 1,
   "metadata": {},
   "outputs": [
    {
     "name": "stdout",
     "output_type": "stream",
     "text": [
      "Memory View Length: 17\n",
      "First 8 Bytes: <memory at 0x0000018BB69816C0>\n"
     ]
    }
   ],
   "source": [
    "try:\n",
    "    data = b\"Python Exercises!\"\n",
    "        # Create memory view on data\n",
    "    mem_data  = memoryview(data)        \n",
    "    print(\"Memory View Length:\", len(mem_data))\n",
    "        # Print first 8 bytes\n",
    "    print(\"First 8 Bytes:\", mem_data[:8])\n",
    "except Exception as e:\n",
    "    print(\"An error occurred:\", e)"
   ]
  },
  {
   "cell_type": "code",
   "execution_count": null,
   "metadata": {},
   "outputs": [],
   "source": []
  }
 ],
 "metadata": {
  "kernelspec": {
   "display_name": "venv",
   "language": "python",
   "name": "python3"
  },
  "language_info": {
   "codemirror_mode": {
    "name": "ipython",
    "version": 3
   },
   "file_extension": ".py",
   "mimetype": "text/x-python",
   "name": "python",
   "nbconvert_exporter": "python",
   "pygments_lexer": "ipython3",
   "version": "3.12.0"
  }
 },
 "nbformat": 4,
 "nbformat_minor": 2
}
