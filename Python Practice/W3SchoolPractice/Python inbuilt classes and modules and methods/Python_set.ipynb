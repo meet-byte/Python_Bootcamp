{
 "cells": [
  {
   "cell_type": "markdown",
   "metadata": {},
   "source": [
    "30. Write a Python program to remove all duplicates from a given list of strings and return a list of unique strings. Use the Python set data type."
   ]
  },
  {
   "cell_type": "code",
   "execution_count": 2,
   "metadata": {},
   "outputs": [
    {
     "name": "stdout",
     "output_type": "stream",
     "text": [
      "tme\n"
     ]
    }
   ],
   "source": [
    "inp=input(\"enter a string\")\n",
    "s1=set()\n",
    "for ch in inp:\n",
    "    s1.add(ch)\n",
    "st=''\n",
    "for ch in s1:\n",
    "    st+=ch\n",
    "print(st)"
   ]
  },
  {
   "cell_type": "code",
   "execution_count": 3,
   "metadata": {},
   "outputs": [],
   "source": [
    "def remove_duplicates(strings):\n",
    "    # Convert the 'strings' list into a set to remove duplicate elements.\n",
    "    return list(set(strings))"
   ]
  },
  {
   "cell_type": "code",
   "execution_count": 4,
   "metadata": {},
   "outputs": [
    {
     "name": "stdout",
     "output_type": "stream",
     "text": [
      "List of strings after removing duplicates:\n",
      "['foo', 'abc', 'baz', 'qux', 'bar']\n"
     ]
    }
   ],
   "source": [
    "strs = ['foo', 'bar', 'abc', 'foo', 'qux', 'bar', 'baz']\n",
    "\n",
    "print(\"List of strings after removing duplicates:\")\n",
    "print(remove_duplicates(strs))"
   ]
  },
  {
   "cell_type": "code",
   "execution_count": null,
   "metadata": {},
   "outputs": [],
   "source": []
  }
 ],
 "metadata": {
  "kernelspec": {
   "display_name": "venv",
   "language": "python",
   "name": "python3"
  },
  "language_info": {
   "codemirror_mode": {
    "name": "ipython",
    "version": 3
   },
   "file_extension": ".py",
   "mimetype": "text/x-python",
   "name": "python",
   "nbconvert_exporter": "python",
   "pygments_lexer": "ipython3",
   "version": "3.12.0"
  }
 },
 "nbformat": 4,
 "nbformat_minor": 2
}
