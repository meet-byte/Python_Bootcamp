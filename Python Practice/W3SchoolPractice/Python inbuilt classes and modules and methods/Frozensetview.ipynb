{
 "cells": [
  {
   "cell_type": "code",
   "execution_count": 1,
   "metadata": {},
   "outputs": [
    {
     "name": "stdout",
     "output_type": "stream",
     "text": [
      "Frozenset of Squares of Odd Numbers: frozenset({1, 121, 225, 9, 169, 81, 49, 25})\n"
     ]
    }
   ],
   "source": [
    "odd_numbers = {x**2 for x in range(1, 16) if x % 2 != 0}\n",
    "frozenset_of_squares = frozenset(odd_numbers)\n",
    "print(\"Frozenset of Squares of Odd Numbers:\", frozenset_of_squares)"
   ]
  },
  {
   "cell_type": "code",
   "execution_count": null,
   "metadata": {},
   "outputs": [],
   "source": []
  }
 ],
 "metadata": {
  "kernelspec": {
   "display_name": "venv",
   "language": "python",
   "name": "python3"
  },
  "language_info": {
   "codemirror_mode": {
    "name": "ipython",
    "version": 3
   },
   "file_extension": ".py",
   "mimetype": "text/x-python",
   "name": "python",
   "nbconvert_exporter": "python",
   "pygments_lexer": "ipython3",
   "version": "3.12.0"
  }
 },
 "nbformat": 4,
 "nbformat_minor": 2
}
