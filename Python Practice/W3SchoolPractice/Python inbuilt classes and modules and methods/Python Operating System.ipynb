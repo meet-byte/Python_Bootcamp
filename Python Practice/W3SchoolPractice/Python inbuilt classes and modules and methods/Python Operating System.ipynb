{
 "cells": [
  {
   "cell_type": "markdown",
   "metadata": {
    "vscode": {
     "languageId": "plaintext"
    }
   },
   "source": [
    "Python Operating System"
   ]
  },
  {
   "cell_type": "markdown",
   "metadata": {},
   "source": [
    "8. Write a Python program to start a new  process replacing the current process.\n"
   ]
  },
  {
   "cell_type": "code",
   "execution_count": 1,
   "metadata": {},
   "outputs": [],
   "source": [
    "import os"
   ]
  },
  {
   "cell_type": "code",
   "execution_count": 2,
   "metadata": {},
   "outputs": [
    {
     "name": "stdout",
     "output_type": "stream",
     "text": [
      "0\n"
     ]
    }
   ],
   "source": [
    "import os\n",
    "if os.name == \"nt\":\n",
    "   command = \"dir\"\n",
    "else:\n",
    "   command = \"ls -l\"\n",
    "os.system(command)\n"
   ]
  },
  {
   "cell_type": "markdown",
   "metadata": {},
   "source": [
    "94. Write a Python program to calculate the sum of all prime numbers in a given list of positive integers.\n",
    "\n",
    "Sample Data:\n",
    "\n",
    "([1, 3, 4, 7, 9]) -> 10\n",
    "([]) -> Empty list!\n",
    "([11, 37, 444]) -> 48"
   ]
  },
  {
   "cell_type": "code",
   "execution_count": 25,
   "metadata": {},
   "outputs": [],
   "source": [
    "import math\n",
    "def is_prime(n):\n",
    "    if n<2:\n",
    "        return False\n",
    "    for i in range(2,int(math.sqrt(n)+1)):\n",
    "        if n%i==0:\n",
    "            return False\n",
    "    return True  \n",
    "\n",
    "def validate(nums):\n",
    "    cnt=0\n",
    "    for num in nums:\n",
    "        res=is_prime(num)\n",
    "        if res:\n",
    "            print(num)\n",
    "            cnt+=num\n",
    "    print(f\"the sum of the prime number is :{cnt}\")\n",
    "                   "
   ]
  },
  {
   "cell_type": "code",
   "execution_count": 27,
   "metadata": {},
   "outputs": [
    {
     "name": "stdout",
     "output_type": "stream",
     "text": [
      "11\n",
      "37\n",
      "the sum of the prime number is :48\n"
     ]
    }
   ],
   "source": [
    "nums=[11,37,444]\n",
    "\n",
    "validate(nums)"
   ]
  },
  {
   "cell_type": "code",
   "execution_count": null,
   "metadata": {},
   "outputs": [],
   "source": []
  }
 ],
 "metadata": {
  "kernelspec": {
   "display_name": "venv",
   "language": "python",
   "name": "python3"
  },
  "language_info": {
   "codemirror_mode": {
    "name": "ipython",
    "version": 3
   },
   "file_extension": ".py",
   "mimetype": "text/x-python",
   "name": "python",
   "nbconvert_exporter": "python",
   "pygments_lexer": "ipython3",
   "version": "3.12.0"
  }
 },
 "nbformat": 4,
 "nbformat_minor": 2
}
