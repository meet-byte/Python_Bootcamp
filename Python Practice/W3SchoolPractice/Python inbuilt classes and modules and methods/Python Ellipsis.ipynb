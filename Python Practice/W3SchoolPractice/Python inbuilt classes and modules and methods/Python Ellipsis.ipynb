{
 "cells": [
  {
   "cell_type": "code",
   "execution_count": 1,
   "metadata": {},
   "outputs": [
    {
     "name": "stdout",
     "output_type": "stream",
     "text": [
      "Attribute 1: Red\n",
      "Attribute 2: Green\n",
      "Attribute 3: White\n",
      "Attribute 4: Ellipsis\n",
      "Modified Attribute 4: Orange\n"
     ]
    }
   ],
   "source": [
    "class MyClass:\n",
    "    def __init__(self, attribute1, attribute2, attribute3, attribute4=...):\n",
    "        self.attribute1 = attribute1\n",
    "        self.attribute2 = attribute2\n",
    "        self.attribute3 = attribute3\n",
    "        self.attribute4 = attribute4\n",
    "\n",
    "    def set_attribute4(self, value):\n",
    "        self.attribute4 = value\n",
    "\n",
    "obj = MyClass(\"Red\", \"Green\", \"White\")\n",
    "\n",
    "print(\"Attribute 1:\", obj.attribute1)\n",
    "print(\"Attribute 2:\", obj.attribute2)\n",
    "print(\"Attribute 3:\", obj.attribute3)\n",
    "print(\"Attribute 4:\", obj.attribute4)  # Attribute 4 is represented by '...'\n",
    "\n",
    "obj.set_attribute4(\"Orange\")\n",
    "\n",
    "print(\"Modified Attribute 4:\", obj.attribute4)\n"
   ]
  },
  {
   "cell_type": "code",
   "execution_count": null,
   "metadata": {},
   "outputs": [],
   "source": []
  }
 ],
 "metadata": {
  "kernelspec": {
   "display_name": "venv",
   "language": "python",
   "name": "python3"
  },
  "language_info": {
   "codemirror_mode": {
    "name": "ipython",
    "version": 3
   },
   "file_extension": ".py",
   "mimetype": "text/x-python",
   "name": "python",
   "nbconvert_exporter": "python",
   "pygments_lexer": "ipython3",
   "version": "3.12.0"
  }
 },
 "nbformat": 4,
 "nbformat_minor": 2
}
