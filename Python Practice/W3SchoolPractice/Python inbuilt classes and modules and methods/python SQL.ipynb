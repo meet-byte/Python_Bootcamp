{
 "cells": [
  {
   "cell_type": "code",
   "execution_count": 5,
   "metadata": {},
   "outputs": [
    {
     "name": "stdout",
     "output_type": "stream",
     "text": [
      "(1, 'Alice', 30)\n",
      "(2, 'Alice', 30)\n",
      "(3, 'Alice', 30)\n",
      "(4, 'Alice', 30)\n",
      "(5, 'Alice', 30)\n",
      "(6, 'Alice', 30)\n",
      "(7, 'meet', 30)\n",
      "(8, 'Alice', 30)\n",
      "(9, 'Alice', 30)\n"
     ]
    }
   ],
   "source": [
    "import sqlite3\n",
    "\n",
    "conn = sqlite3.connect('example.db')\n",
    "cursor = conn.cursor()\n",
    "\n",
    "cursor.execute('''CREATE TABLE IF NOT EXISTS users (\n",
    "                    id INTEGER PRIMARY KEY AUTOINCREMENT,\n",
    "                    name TEXT NOT NULL,\n",
    "                    age INTEGER)''')\n",
    "cursor.execute(\"INSERT INTO users (name, age) VALUES ('Alice', 30)\")\n",
    "cursor.execute(\"INSERT INTO users (name, age) VALUES ('meet', 30)\")\n",
    "\n",
    "cursor.execute(\"INSERT INTO users (name, age) VALUES ('Alice', 30)\")\n",
    "\n",
    "cursor.execute(\"INSERT INTO users (name, age) VALUES ('Alice', 30)\")\n",
    "\n",
    "\n",
    "cursor.execute(\"SELECT * FROM users\")\n",
    "rows = cursor.fetchall()\n",
    "\n",
    "for row in rows:\n",
    "    print(row)\n",
    "\n",
    "conn.commit()\n",
    "conn.close()\n"
   ]
  },
  {
   "cell_type": "code",
   "execution_count": 6,
   "metadata": {},
   "outputs": [],
   "source": [
    "import sqlite3\n",
    "conn=sqlite3.connect(\"dummydata.db\")"
   ]
  },
  {
   "cell_type": "code",
   "execution_count": 7,
   "metadata": {},
   "outputs": [],
   "source": [
    "cursor=conn.cursor()\n",
    "cursor.execute('''\n",
    "CREATE TABLE IF NOT EXISTS USERS(\n",
    "               ID INTEGER PRIMARY KEY AUTOINCREMENT,\n",
    "               NAME TEXT NOT NULL,\n",
    "               AGE INTEGER\n",
    "               )               \n",
    "''')\n",
    "conn.commit()\n",
    "conn.close()"
   ]
  },
  {
   "cell_type": "code",
   "execution_count": 10,
   "metadata": {},
   "outputs": [
    {
     "data": {
      "text/plain": [
       "<sqlite3.Cursor at 0x27802693740>"
      ]
     },
     "execution_count": 10,
     "metadata": {},
     "output_type": "execute_result"
    }
   ],
   "source": [
    "cursor.execute(\"INSERT INTO USERS (NAME,AGE) VALUES ('ALICE','20')\")"
   ]
  },
  {
   "cell_type": "code",
   "execution_count": 11,
   "metadata": {},
   "outputs": [
    {
     "data": {
      "text/plain": [
       "<sqlite3.Cursor at 0x27802693740>"
      ]
     },
     "execution_count": 11,
     "metadata": {},
     "output_type": "execute_result"
    }
   ],
   "source": [
    "cursor.execute(\"SELECT * FROM USERS\")"
   ]
  },
  {
   "cell_type": "code",
   "execution_count": 12,
   "metadata": {},
   "outputs": [],
   "source": [
    "rows=cursor.fetchall()"
   ]
  },
  {
   "cell_type": "code",
   "execution_count": 13,
   "metadata": {},
   "outputs": [
    {
     "name": "stdout",
     "output_type": "stream",
     "text": [
      "(1, 'ALICE', 20)\n"
     ]
    }
   ],
   "source": [
    "for row in rows:\n",
    "    print(row)"
   ]
  },
  {
   "cell_type": "code",
   "execution_count": 14,
   "metadata": {},
   "outputs": [
    {
     "name": "stdout",
     "output_type": "stream",
     "text": [
      "Backup performed successfully.\n",
      "Saved as mydatabase_dump.sql\n"
     ]
    }
   ],
   "source": [
    "import sqlite3\n",
    "import io\n",
    "conn = sqlite3.connect('mydatabase.db')\n",
    "with io.open('clientes_dump.sql', 'w') as f:\n",
    "   for linha in conn.iterdump():\n",
    "       f.write('%s\\n' % linha)\n",
    "print('Backup performed successfully.')\n",
    "print('Saved as mydatabase_dump.sql')\n",
    "conn.close()\n"
   ]
  },
  {
   "cell_type": "code",
   "execution_count": 18,
   "metadata": {},
   "outputs": [
    {
     "name": "stdout",
     "output_type": "stream",
     "text": [
      "<generator object string_permutations at 0x0000027802072110>\n"
     ]
    }
   ],
   "source": [
    "def string_permutations(string):\n",
    "    if len(string) <= 1:\n",
    "        yield string\n",
    "    else:\n",
    "        for i in range(len(string)):\n",
    "            current_char = string[i]\n",
    "            remaining_chars = string[:i] + string[i+1:]\n",
    "            for permutation in string_permutations(remaining_chars):\n",
    "                print(current_char)\n",
    "                yield current_char + permutation\n",
    "                \n",
    "\n",
    "# Accept input from the user\n",
    "input_string = input(\"Input a string: \")\n",
    "\n",
    "# Create the string permutations generator\n",
    "permutations_gen = string_permutations(input_string)\n",
    "print(permutations_gen)\n",
    "# Generate and print all permutations\n",
    "# print(\"All permutations of\", input_string + \":\")\n",
    "# for permutation in permutations_gen:\n",
    "#     print(permutation, end = \", \")\n"
   ]
  },
  {
   "cell_type": "code",
   "execution_count": null,
   "metadata": {},
   "outputs": [],
   "source": []
  }
 ],
 "metadata": {
  "kernelspec": {
   "display_name": "venv",
   "language": "python",
   "name": "python3"
  },
  "language_info": {
   "codemirror_mode": {
    "name": "ipython",
    "version": 3
   },
   "file_extension": ".py",
   "mimetype": "text/x-python",
   "name": "python",
   "nbconvert_exporter": "python",
   "pygments_lexer": "ipython3",
   "version": "3.12.0"
  }
 },
 "nbformat": 4,
 "nbformat_minor": 2
}
