{
 "cells": [
  {
   "cell_type": "markdown",
   "metadata": {
    "vscode": {
     "languageId": "plaintext"
    }
   },
   "source": [
    "10. Write a Python function that takes a list of words and returns an OrderedDict where keys are the words and values are the lengths of the words.\n"
   ]
  },
  {
   "cell_type": "code",
   "execution_count": 1,
   "metadata": {},
   "outputs": [
    {
     "name": "stdout",
     "output_type": "stream",
     "text": [
      "OrderedDict({'Red': 3, 'Green': 5, 'Pink': 4, 'White': 5, 'Orange': 6})\n"
     ]
    }
   ],
   "source": [
    "from collections import OrderedDict\n",
    "def word_to_ordered_dict(words):\n",
    "    ordered_dict=OrderedDict()\n",
    "    for word in words:\n",
    "        ordered_dict[word]=len(word)\n",
    "    return ordered_dict\n",
    "\n",
    "words = [\"Red\", \"Green\", \"Pink\", \"White\", \"Orange\"]\n",
    "result=word_to_ordered_dict(words)\n",
    "print(result)\n"
   ]
  },
  {
   "cell_type": "code",
   "execution_count": null,
   "metadata": {},
   "outputs": [],
   "source": []
  }
 ],
 "metadata": {
  "kernelspec": {
   "display_name": "venv",
   "language": "python",
   "name": "python3"
  },
  "language_info": {
   "codemirror_mode": {
    "name": "ipython",
    "version": 3
   },
   "file_extension": ".py",
   "mimetype": "text/x-python",
   "name": "python",
   "nbconvert_exporter": "python",
   "pygments_lexer": "ipython3",
   "version": "3.12.0"
  }
 },
 "nbformat": 4,
 "nbformat_minor": 2
}
