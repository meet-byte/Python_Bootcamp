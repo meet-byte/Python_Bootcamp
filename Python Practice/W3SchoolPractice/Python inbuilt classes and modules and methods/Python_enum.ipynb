{
 "cells": [
  {
   "cell_type": "markdown",
   "metadata": {},
   "source": [
    "5. Write a Python program to get unique enumeration values.\n",
    "\n",
    "Expected Output:\n",
    "Afghanistan = 93\n",
    "Albania = 355\n",
    "Algeria = 213\n",
    "Andorra = 376\n",
    "Angola = 244"
   ]
  },
  {
   "cell_type": "code",
   "execution_count": 1,
   "metadata": {},
   "outputs": [
    {
     "name": "stdout",
     "output_type": "stream",
     "text": [
      "Afghanistan = 93\n",
      "Albania = 355\n",
      "Algeria = 213\n",
      "Andorra = 376\n",
      "Angola = 244\n"
     ]
    }
   ],
   "source": [
    "from enum import Enum\n",
    "\n",
    "# Define an enumeration for country codes\n",
    "class CountryCode(Enum):\n",
    "    Afghanistan = 93\n",
    "    Albania = 355\n",
    "    Algeria = 213\n",
    "    Andorra = 376\n",
    "    Angola = 244\n",
    "\n",
    "# Iterate through the enumeration and display the values\n",
    "for country in CountryCode:\n",
    "    print(f\"{country.name} = {country.value}\")\n"
   ]
  },
  {
   "cell_type": "code",
   "execution_count": null,
   "metadata": {},
   "outputs": [],
   "source": []
  }
 ],
 "metadata": {
  "kernelspec": {
   "display_name": "venv",
   "language": "python",
   "name": "python3"
  },
  "language_info": {
   "codemirror_mode": {
    "name": "ipython",
    "version": 3
   },
   "file_extension": ".py",
   "mimetype": "text/x-python",
   "name": "python",
   "nbconvert_exporter": "python",
   "pygments_lexer": "ipython3",
   "version": "3.12.0"
  }
 },
 "nbformat": 4,
 "nbformat_minor": 2
}
