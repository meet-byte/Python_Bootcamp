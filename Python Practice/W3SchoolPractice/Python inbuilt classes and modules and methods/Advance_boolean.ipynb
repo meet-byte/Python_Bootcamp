{
 "cells": [
  {
   "cell_type": "markdown",
   "metadata": {},
   "source": [
    "10. Write a Python program that checks a simple authentication system. The program verifies the provided username and password against predefined usernames and passwords by using boolean checks.\n"
   ]
  },
  {
   "cell_type": "code",
   "execution_count": 3,
   "metadata": {},
   "outputs": [
    {
     "name": "stdout",
     "output_type": "stream",
     "text": [
      "Authentication failed\n"
     ]
    }
   ],
   "source": [
    "def user_authentication(username,password):\n",
    "    predefined_users = {\n",
    "        \"empdb1\": \"Jue@3$juy0\",\n",
    "        \"empdb2\": \"juRe34@$\",\n",
    "        \"admin\": \"koiUaq$&@ki\"\n",
    "    }\n",
    "    if username in predefined_users and predefined_users[username]==password:\n",
    "        return True\n",
    "    else:\n",
    "        return False\n",
    "username=input(\"enter the username\")\n",
    "password=input(\"enter the password\")\n",
    "m1=user_authentication(username,password)\n",
    "if m1:\n",
    "    print(\"Authentication has been successfull\")\n",
    "else:\n",
    "    print(\"Authentication failed\")"
   ]
  },
  {
   "cell_type": "code",
   "execution_count": null,
   "metadata": {},
   "outputs": [],
   "source": []
  }
 ],
 "metadata": {
  "kernelspec": {
   "display_name": "venv",
   "language": "python",
   "name": "python3"
  },
  "language_info": {
   "codemirror_mode": {
    "name": "ipython",
    "version": 3
   },
   "file_extension": ".py",
   "mimetype": "text/x-python",
   "name": "python",
   "nbconvert_exporter": "python",
   "pygments_lexer": "ipython3",
   "version": "3.12.0"
  }
 },
 "nbformat": 4,
 "nbformat_minor": 2
}
