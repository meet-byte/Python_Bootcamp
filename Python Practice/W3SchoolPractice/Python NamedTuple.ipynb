{
 "cells": [
  {
   "cell_type": "markdown",
   "metadata": {
    "vscode": {
     "languageId": "plaintext"
    }
   },
   "source": [
    "Python NamedTuple"
   ]
  },
  {
   "cell_type": "markdown",
   "metadata": {
    "vscode": {
     "languageId": "plaintext"
    }
   },
   "source": [
    "9. Write a Python program that defines a NamedTuple named \"Car\" with fields 'make', 'model', 'year', and 'engine' (a NamedTuple representing engine details). Create an instance of the \"Car\" NamedTuple and print its attributes.\n"
   ]
  },
  {
   "cell_type": "code",
   "execution_count": 1,
   "metadata": {},
   "outputs": [],
   "source": [
    "from collections import namedtuple"
   ]
  },
  {
   "cell_type": "code",
   "execution_count": 2,
   "metadata": {},
   "outputs": [
    {
     "name": "stdout",
     "output_type": "stream",
     "text": [
      "Car\n",
      "City honda\n",
      "2024\n",
      "XYZ1\n",
      "Round\n"
     ]
    }
   ],
   "source": [
    "Engine=namedtuple('Engine',['type','cylinder'])\n",
    "Car=namedtuple(\"Car\",[\"make\",\"model\",\"year\",\"engine\"])\n",
    "\n",
    "engine_instance=Engine(type=\"XYZ1\",cylinder=\"Round\")\n",
    "car_instance=Car(make=\"Car\",model=\"City honda\",year=\"2024\",engine=engine_instance)\n",
    "\n",
    "print(car_instance.make)\n",
    "print(car_instance.model)\n",
    "print(car_instance.year)\n",
    "print(car_instance.engine.type)\n",
    "print(car_instance.engine.cylinder)"
   ]
  },
  {
   "cell_type": "code",
   "execution_count": null,
   "metadata": {},
   "outputs": [],
   "source": []
  }
 ],
 "metadata": {
  "kernelspec": {
   "display_name": "venv",
   "language": "python",
   "name": "python3"
  },
  "language_info": {
   "codemirror_mode": {
    "name": "ipython",
    "version": 3
   },
   "file_extension": ".py",
   "mimetype": "text/x-python",
   "name": "python",
   "nbconvert_exporter": "python",
   "pygments_lexer": "ipython3",
   "version": "3.12.0"
  }
 },
 "nbformat": 4,
 "nbformat_minor": 2
}
