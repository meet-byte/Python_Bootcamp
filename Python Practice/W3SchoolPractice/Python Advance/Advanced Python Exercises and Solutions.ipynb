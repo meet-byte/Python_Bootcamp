{
 "cells": [
  {
   "cell_type": "markdown",
   "metadata": {},
   "source": [
    "Advanced Python List Exercises and Solutions\n"
   ]
  },
  {
   "cell_type": "markdown",
   "metadata": {},
   "source": [
    "279. Extract Specified Vowels\n",
    "\n",
    "Write a Python program to extract the first specified number of vowels from a given string. If the specified number is less than the number of vowels present in the string then display \"n is less than the number of vowels present in the string\".\n",
    "Sample Data:\n",
    "(\" Python\", 2) -> \"n is less than number of vowels present in the string.\"\n",
    "(\"Python Exercises\", 3) -> \"oEe\"\n",
    "(\"aeiou\") -> \"AEI\""
   ]
  },
  {
   "cell_type": "code",
   "execution_count": 11,
   "metadata": {},
   "outputs": [
    {
     "name": "stdout",
     "output_type": "stream",
     "text": [
      "aei\n"
     ]
    }
   ],
   "source": [
    "m1=\"aeiouAEIOU\"\n",
    "st=input(\"enter a string\")\n",
    "n=int(input(\"enter a number\"))\n",
    "i=0\n",
    "s1=\"\"\n",
    "while n>=1:\n",
    "    if st[i] and st[i] in m1:\n",
    "\n",
    "        s1+=st[i]\n",
    "        n-=1\n",
    "        i+=1\n",
    "    else:\n",
    "        i+=1\n",
    "\n",
    "if n>1:\n",
    "    print(\"Not enough Vowels\")\n",
    "else:\n",
    "    print(s1)"
   ]
  },
  {
   "cell_type": "markdown",
   "metadata": {},
   "source": [
    "280. Find Pairs Differing by Three\n",
    "\n",
    "Write a Python program that takes a list of integers and finds all pairs of integers that differ by three. Return all pairs of integers in a list.\n",
    "\n",
    "Sample Data:\n",
    "\n",
    "([0, 3, 4, 7, 9]) -> [[0, 3], [4, 7]]\n",
    "\n",
    "[0, -3, -5, -7, -8] -> [[-3, 0], [-8, -5]]\n",
    "\n",
    "([1, 2, 3, 4, 5]) -> [[1, 4], [2, 5]]\n",
    "\n",
    "([100, 102, 103, 114, 115]) -> [[100, 103]]"
   ]
  },
  {
   "cell_type": "code",
   "execution_count": 24,
   "metadata": {},
   "outputs": [],
   "source": [
    "def finddifbythree(num):\n",
    "    t=[]\n",
    "    for i in range(len(num)):\n",
    "        k1=[]\n",
    "        for j in range(len(num)):\n",
    "            if num[j]-num[i]==3 :\n",
    "                k1.append(num[j])\n",
    "                k1.append(num[i])\n",
    "                k1.reverse()\n",
    "                t.append(k1)\n",
    "    print(t)\n"
   ]
  },
  {
   "cell_type": "code",
   "execution_count": 25,
   "metadata": {},
   "outputs": [
    {
     "name": "stdout",
     "output_type": "stream",
     "text": [
      "[[1, 4], [2, 5]]\n"
     ]
    }
   ],
   "source": [
    "finddifbythree([1,2,3,4,5])"
   ]
  },
  {
   "cell_type": "markdown",
   "metadata": {},
   "source": [
    "14. Write a Python function to sort a list of dictionaries based on values of a key.\n"
   ]
  },
  {
   "cell_type": "code",
   "execution_count": 28,
   "metadata": {},
   "outputs": [
    {
     "name": "stdout",
     "output_type": "stream",
     "text": [
      "[{'name': 'Alice', 'age': 25}, {'name': 'Bob', 'age': 30}, {'name': 'Charlie', 'age': 20}]\n"
     ]
    }
   ],
   "source": [
    "data = [\n",
    "    {\"name\": \"Alice\", \"age\": 25},\n",
    "    {\"name\": \"Bob\", \"age\": 30},\n",
    "    {\"name\": \"Charlie\", \"age\": 20}\n",
    "]\n",
    "\n",
    "list=sorted(data,key=lambda data:data[\"name\"])\n",
    "print(list)"
   ]
  },
  {
   "cell_type": "markdown",
   "metadata": {},
   "source": [
    "15. Write a Python program to find all the pairs in a list whose sum is equal to a given value.\n"
   ]
  },
  {
   "cell_type": "code",
   "execution_count": 40,
   "metadata": {},
   "outputs": [],
   "source": [
    "def sumeqval(num,val):\n",
    "    k2=[]\n",
    "    \n",
    "    for n1 in num:\n",
    "        k1=()\n",
    "        if val-n1 in num and k1 not in k2:\n",
    "            k1=k1+(n1,val-n1)\n",
    "            \n",
    "            k2.append(k1)\n",
    "    print(k2)\n"
   ]
  },
  {
   "cell_type": "code",
   "execution_count": 41,
   "metadata": {},
   "outputs": [
    {
     "name": "stdout",
     "output_type": "stream",
     "text": [
      "[(1, 9), (2, 8), (3, 7), (4, 6), (5, 5), (6, 4), (7, 3), (8, 2), (9, 1)]\n"
     ]
    }
   ],
   "source": [
    "sumeqval([1, 2, 3, 4, 5, 6, 7, 8, 9],10)"
   ]
  },
  {
   "cell_type": "code",
   "execution_count": null,
   "metadata": {},
   "outputs": [],
   "source": []
  }
 ],
 "metadata": {
  "kernelspec": {
   "display_name": "venv",
   "language": "python",
   "name": "python3"
  },
  "language_info": {
   "codemirror_mode": {
    "name": "ipython",
    "version": 3
   },
   "file_extension": ".py",
   "mimetype": "text/x-python",
   "name": "python",
   "nbconvert_exporter": "python",
   "pygments_lexer": "ipython3",
   "version": "3.12.0"
  }
 },
 "nbformat": 4,
 "nbformat_minor": 2
}
