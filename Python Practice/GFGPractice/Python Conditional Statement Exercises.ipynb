{
 "cells": [
  {
   "cell_type": "markdown",
   "metadata": {},
   "source": [
    "GFG-IDE-Questions"
   ]
  },
  {
   "cell_type": "markdown",
   "metadata": {},
   "source": [
    "Mark Even and Odd - Python\n"
   ]
  },
  {
   "cell_type": "code",
   "execution_count": null,
   "metadata": {},
   "outputs": [],
   "source": [
    "def checkOddEven(x):\n",
    "    if x==1:\n",
    "        return 0\n",
    "    if(x>=2):\n",
    "        if(x%2==0):\n",
    "            return 1\n",
    "        else:\n",
    "            return 0"
   ]
  },
  {
   "cell_type": "markdown",
   "metadata": {},
   "source": [
    "Check the status - Python"
   ]
  },
  {
   "cell_type": "code",
   "execution_count": null,
   "metadata": {},
   "outputs": [],
   "source": [
    "def checkStatus(self, a, b, flag):\n",
    "        # code here\n",
    "    if((((a>0 and b<0) or (a<0 and b>0)) and flag==False) or (a<0 and b<0 and flag==True)):\n",
    "        return True\n",
    "    else:\n",
    "        return False"
   ]
  },
  {
   "cell_type": "markdown",
   "metadata": {},
   "source": [
    "If conditional statement- Python\n"
   ]
  },
  {
   "cell_type": "code",
   "execution_count": null,
   "metadata": {},
   "outputs": [],
   "source": [
    "def friends_in_trouble(j_angry, s_angry):\n",
    "    if j_angry==s_angry:\n",
    "        return True\n",
    "    else:\n",
    "        return False"
   ]
  },
  {
   "cell_type": "markdown",
   "metadata": {},
   "source": [
    "Cat and Hat\n"
   ]
  },
  {
   "cell_type": "code",
   "execution_count": 3,
   "metadata": {},
   "outputs": [],
   "source": [
    "def cat_hat(str):\n",
    "  ##your code here##\n",
    "  ##You need to write complete code this time \n",
    "    s=str.count(\"cat\")\n",
    "    s1=str.count(\"hat\")\n",
    "    if(s==s1):\n",
    "        return True\n",
    "    else:\n",
    "        return False"
   ]
  },
  {
   "cell_type": "markdown",
   "metadata": {},
   "source": [
    "For loop - Python\n"
   ]
  },
  {
   "cell_type": "code",
   "execution_count": 4,
   "metadata": {},
   "outputs": [],
   "source": [
    "def multiplicationTable(N):## in is a membership operator that is true if something is a member of sequence\n",
    "    for i in range(1,11): ## i in range(x,y,z) means i goes from x to y-1 and increments z steps in each iteration\n",
    "        print(i * N, end=\" \")"
   ]
  },
  {
   "cell_type": "markdown",
   "metadata": {},
   "source": [
    "For Loop 2- Python\n"
   ]
  },
  {
   "cell_type": "code",
   "execution_count": 5,
   "metadata": {},
   "outputs": [],
   "source": [
    "\n",
    "def stringJumper(str):\n",
    "    for i in range(0,len(str),2): ## from 0 to length of str and skip 2\n",
    "        print(str[i], end=\"\") ##printing character and separating characters by nothing\n"
   ]
  },
  {
   "cell_type": "markdown",
   "metadata": {},
   "source": [
    "While loop in Python\n"
   ]
  },
  {
   "cell_type": "code",
   "execution_count": 6,
   "metadata": {},
   "outputs": [],
   "source": [
    "def printInDecreasing(x):\n",
    "    # Complete the code below\n",
    "    while(x >= 0):\n",
    "        print(x,end=\" \")\n",
    "        \n",
    "        x -= 1"
   ]
  },
  {
   "cell_type": "markdown",
   "metadata": {},
   "source": [
    "Jumping through While - Python\n"
   ]
  },
  {
   "cell_type": "code",
   "execution_count": 7,
   "metadata": {},
   "outputs": [],
   "source": [
    "def printIncreasingPower(x):\n",
    "    num=1\n",
    "    sum=1\n",
    "    while(sum<x):\n",
    "        sum=num**2\n",
    "        if(sum<=x):\n",
    "            print (sum, end = \" \")\n",
    "            num+=1\n",
    "        else:\n",
    "            break"
   ]
  },
  {
   "cell_type": "markdown",
   "metadata": {},
   "source": [
    "Zero Converter - Python\n"
   ]
  },
  {
   "cell_type": "code",
   "execution_count": 8,
   "metadata": {},
   "outputs": [],
   "source": [
    "\n",
    "def pos(n):\n",
    "    while(n>0):\n",
    "        n-=1\n",
    "        print(n,end=\" \")\n",
    "    \n",
    "def neg(n):\n",
    "    while(n<=0):\n",
    "        \n",
    "        print(n,end=\" \")\n",
    "        n+=1\n",
    "    "
   ]
  },
  {
   "cell_type": "markdown",
   "metadata": {},
   "source": [
    "GFG Self-Practice Programs"
   ]
  },
  {
   "cell_type": "markdown",
   "metadata": {},
   "source": [
    "Python Program to Check if a Number is Odd or Even\n"
   ]
  },
  {
   "cell_type": "code",
   "execution_count": 11,
   "metadata": {},
   "outputs": [
    {
     "name": "stdout",
     "output_type": "stream",
     "text": [
      "1 Odd\n",
      "2 Even\n",
      "3 Odd\n",
      "4 Even\n",
      "5 Odd\n"
     ]
    }
   ],
   "source": [
    "list=[1,2,3,4,5]\n",
    "res=map(lambda num:str(num)+\" Even\" if num%2==0 else str(num)+\" Odd\",list)\n",
    "\n",
    "print(\"\\n\".join(res))"
   ]
  },
  {
   "cell_type": "markdown",
   "metadata": {},
   "source": [
    "Python Program to Print the Natural Numbers Summation Pattern\n"
   ]
  },
  {
   "cell_type": "code",
   "execution_count": 17,
   "metadata": {},
   "outputs": [
    {
     "name": "stdout",
     "output_type": "stream",
     "text": [
      "1 = 1\n",
      "1 + 2 = 3\n",
      "1 + 2 + 3 = 6\n",
      "1 + 2 + 3 + 4 = 10\n",
      "1 + 2 + 3 + 4 + 5 = 15\n"
     ]
    }
   ],
   "source": [
    "a=int(input(\"enter a number\"))\n",
    "\n",
    "for i in range(1,a+1):\n",
    "    l=[]\n",
    "    for j in range(1,i+1):\n",
    "        l.append(j)\n",
    "        print(j,sep=\" \", end=\" \")\n",
    "        if j<i:\n",
    "            print(\"+\",sep=\" \", end=\" \")\n",
    "    print(\"=\",sum(l))\n",
    "   \n"
   ]
  },
  {
   "cell_type": "markdown",
   "metadata": {},
   "source": [
    "Python Program to Check Prime Number\n"
   ]
  },
  {
   "cell_type": "code",
   "execution_count": 39,
   "metadata": {},
   "outputs": [
    {
     "name": "stdout",
     "output_type": "stream",
     "text": [
      "20 is not a prime\n"
     ]
    }
   ],
   "source": [
    "import math\n",
    "a1=int(input(\"enter a number\"))\n",
    "flag=0\n",
    "for i in range(2,int(math.sqrt(a1))+1):\n",
    "    if(a1 % i==0):\n",
    "        flag=1\n",
    "if flag==1:\n",
    "    print(f\"{a1} is not a prime\")\n",
    "else:\n",
    "\n",
    "    print(f\"{a1} is prime\")"
   ]
  },
  {
   "cell_type": "markdown",
   "metadata": {},
   "source": [
    "Printing Patterns in Python\n"
   ]
  },
  {
   "cell_type": "markdown",
   "metadata": {},
   "source": [
    "    *\n",
    "   ***\n",
    "  *****\n",
    " *******\n",
    "*********"
   ]
  },
  {
   "cell_type": "code",
   "execution_count": 45,
   "metadata": {},
   "outputs": [
    {
     "name": "stdout",
     "output_type": "stream",
     "text": [
      "     *\n",
      "    ***\n",
      "   *****\n",
      "  *******\n",
      " *********\n"
     ]
    }
   ],
   "source": [
    "a=int(input(\"enter the number of the rowa that you want to print\"))\n",
    "\n",
    "for x in range(a):\n",
    "    for j in range(a-x):\n",
    "        print(\" \", end=\"\")\n",
    "    for j in range(2*x+1):\n",
    "        print(\"*\",end=\"\")\n",
    "    print()\n"
   ]
  },
  {
   "cell_type": "code",
   "execution_count": 50,
   "metadata": {},
   "outputs": [
    {
     "name": "stdout",
     "output_type": "stream",
     "text": [
      "     A \n",
      "    B C D \n",
      "   E F G H I \n",
      "  J K L M N O P \n",
      " Q R S T U V W X Y \n"
     ]
    }
   ],
   "source": [
    "a=int(input(\"enter the number of the rowa that you want to print\"))\n",
    "a1=65\n",
    "for x in range(a):\n",
    "    for j in range(a-x):\n",
    "        print(\" \", end=\"\")\n",
    "    for j in range(2*x+1):\n",
    "        print((chr(a1)),end=\" \")\n",
    "        a1+=1\n",
    "    print()"
   ]
  },
  {
   "cell_type": "code",
   "execution_count": null,
   "metadata": {},
   "outputs": [],
   "source": []
  }
 ],
 "metadata": {
  "kernelspec": {
   "display_name": "venv",
   "language": "python",
   "name": "python3"
  },
  "language_info": {
   "codemirror_mode": {
    "name": "ipython",
    "version": 3
   },
   "file_extension": ".py",
   "mimetype": "text/x-python",
   "name": "python",
   "nbconvert_exporter": "python",
   "pygments_lexer": "ipython3",
   "version": "3.12.0"
  }
 },
 "nbformat": 4,
 "nbformat_minor": 2
}
