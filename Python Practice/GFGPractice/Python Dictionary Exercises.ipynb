{
 "cells": [
  {
   "cell_type": "markdown",
   "metadata": {},
   "source": [
    "Python Dictionary Exercises\n"
   ]
  },
  {
   "cell_type": "markdown",
   "metadata": {},
   "source": [
    "Intro to Dictionary - Python\n"
   ]
  },
  {
   "cell_type": "code",
   "execution_count": 1,
   "metadata": {},
   "outputs": [],
   "source": [
    "def create_dict(arr):\n",
    "    \n",
    "    dict = {}\n",
    "    for st,val in arr:\n",
    "        dict[st]=val\n",
    "    return dict"
   ]
  },
  {
   "cell_type": "markdown",
   "metadata": {},
   "source": [
    "Dictionary in Python - III\n"
   ]
  },
  {
   "cell_type": "code",
   "execution_count": 2,
   "metadata": {},
   "outputs": [],
   "source": [
    "def insert_dict(query, dict):\n",
    "    dict[query[1]]=query[2]\n",
    "\n",
    "def del_dict(query, dict):\n",
    "    if(dict[query[1]]):\n",
    "        del dict[query[1]]\n",
    "        return True\n",
    "    else:\n",
    "        return False\n",
    "    \n",
    "def print_dict(key, dict):\n",
    "    if key in dict:\n",
    "        print(f\"Marks of {key} is {dict[key]}\")\n",
    "    else:\n",
    "        return False"
   ]
  },
  {
   "cell_type": "markdown",
   "metadata": {},
   "source": [
    "Dictionary in Python - II\n"
   ]
  },
  {
   "cell_type": "code",
   "execution_count": 3,
   "metadata": {},
   "outputs": [],
   "source": [
    "def pair_sum(dict, N, arr, sum):\n",
    "    for i in range(len(arr)):\n",
    "        \n",
    "        for j in range(i+1, len(arr)):\n",
    "            \n",
    "            if arr[i] + arr[j] == sum:\n",
    "                \n",
    "                return True            \n",
    "    \n",
    "    return False"
   ]
  },
  {
   "cell_type": "markdown",
   "metadata": {},
   "source": [
    "Sort Python Dictionary by Key or Value – Python\n"
   ]
  },
  {
   "cell_type": "code",
   "execution_count": 5,
   "metadata": {},
   "outputs": [
    {
     "data": {
      "text/plain": [
       "{'rajnish': 9, 'ravi': 10, 'sanjeev': 15}"
      ]
     },
     "execution_count": 5,
     "metadata": {},
     "output_type": "execute_result"
    }
   ],
   "source": [
    "d = {'ravi': 10, 'rajnish': 9, 'sanjeev': 15}\n",
    "keys=list(d.keys())\n",
    "keys.sort()\n",
    "list={m:d[m] for m in keys}\n",
    "list"
   ]
  },
  {
   "cell_type": "code",
   "execution_count": 10,
   "metadata": {},
   "outputs": [
    {
     "name": "stdout",
     "output_type": "stream",
     "text": [
      "rajnish:9\n",
      "ravi:10\n",
      "sanjeev:15\n"
     ]
    }
   ],
   "source": [
    "for i in sorted(d.keys()):\n",
    "    print(f\"{i}:{d[i]}\", end=\"\\n\")"
   ]
  },
  {
   "cell_type": "markdown",
   "metadata": {},
   "source": [
    "Handling missing keys in Python dictionaries\n"
   ]
  },
  {
   "cell_type": "code",
   "execution_count": 11,
   "metadata": {},
   "outputs": [
    {
     "name": "stdout",
     "output_type": "stream",
     "text": [
      "Key not found\n"
     ]
    }
   ],
   "source": [
    "\n",
    "ele = {'a': 5, 'c': 8, 'e': 2}\n",
    "if \"q\" in ele:\n",
    "    print(ele[\"d\"])\n",
    "else:\n",
    "    print(\"Key not found\")"
   ]
  },
  {
   "cell_type": "markdown",
   "metadata": {},
   "source": [
    "Python Program to Handling Missing keys in Dictionaries Using get()\n",
    "get(key,def_val) method is useful when we have to check for the key. If the key is present, the value associated with the key is printed, else the def_value passed in arguments is returned."
   ]
  },
  {
   "cell_type": "code",
   "execution_count": 12,
   "metadata": {},
   "outputs": [
    {
     "name": "stdout",
     "output_type": "stream",
     "text": [
      "Not found\n"
     ]
    }
   ],
   "source": [
    "country_code = {'India' : '0091',\n",
    "                'Australia' : '0025',\n",
    "                'Nepal' : '00977'}\n",
    "print(country_code.get(\"bangladesh\",\"Not found\"))"
   ]
  },
  {
   "cell_type": "markdown",
   "metadata": {},
   "source": [
    "Python dictionary with keys having multiple inputs\n"
   ]
  },
  {
   "cell_type": "code",
   "execution_count": 13,
   "metadata": {},
   "outputs": [
    {
     "name": "stdout",
     "output_type": "stream",
     "text": [
      "{(10, 11, 12): 9, (3, 4, 2): 9}\n"
     ]
    }
   ],
   "source": [
    "dict={}\n",
    "x,y,z=10,11,12\n",
    "dict[x,y,z]=x+y-z\n",
    "x,y,z=3,4,2\n",
    "dict[x,y,z]=x+y+z\n",
    "\n",
    "print(dict)"
   ]
  },
  {
   "cell_type": "code",
   "execution_count": 16,
   "metadata": {},
   "outputs": [
    {
     "name": "stdout",
     "output_type": "stream",
     "text": [
      "600\n"
     ]
    }
   ],
   "source": [
    "dict = {'a': 100, 'b': 200, 'c': 300}\n",
    "sum=0\n",
    "for x in dict.keys():\n",
    "    sum+=dict[x]\n",
    "print(sum)"
   ]
  },
  {
   "cell_type": "markdown",
   "metadata": {},
   "source": [
    "Get size of a Dictionary in Python\n"
   ]
  },
  {
   "cell_type": "code",
   "execution_count": 18,
   "metadata": {},
   "outputs": [
    {
     "name": "stdout",
     "output_type": "stream",
     "text": [
      "size is:184\n"
     ]
    }
   ],
   "source": [
    "import sys\n",
    "dic1 = {\"A\": 1, \"B\": 2, \"C\": 3}\n",
    "print(\"size is:{}\".format(sys.getsizeof(dic1)))"
   ]
  },
  {
   "cell_type": "code",
   "execution_count": 20,
   "metadata": {},
   "outputs": [
    {
     "name": "stdout",
     "output_type": "stream",
     "text": [
      "size is: 168\n"
     ]
    }
   ],
   "source": [
    "print(f\"size is: {dic1.__sizeof__()}\")"
   ]
  },
  {
   "cell_type": "code",
   "execution_count": null,
   "metadata": {},
   "outputs": [],
   "source": []
  }
 ],
 "metadata": {
  "kernelspec": {
   "display_name": "venv",
   "language": "python",
   "name": "python3"
  },
  "language_info": {
   "codemirror_mode": {
    "name": "ipython",
    "version": 3
   },
   "file_extension": ".py",
   "mimetype": "text/x-python",
   "name": "python",
   "nbconvert_exporter": "python",
   "pygments_lexer": "ipython3",
   "version": "3.12.0"
  }
 },
 "nbformat": 4,
 "nbformat_minor": 2
}
