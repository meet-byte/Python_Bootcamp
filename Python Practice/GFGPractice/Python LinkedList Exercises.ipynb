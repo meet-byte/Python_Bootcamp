{
 "cells": [
  {
   "cell_type": "markdown",
   "metadata": {},
   "source": [
    "Python LinkedList Exercises\n"
   ]
  },
  {
   "cell_type": "markdown",
   "metadata": {},
   "source": [
    "Remove loop in Linked List\n"
   ]
  },
  {
   "cell_type": "code",
   "execution_count": 2,
   "metadata": {},
   "outputs": [],
   "source": [
    "\n",
    "class Solution:\n",
    "    def removeLoop(self, head):\n",
    "        dict={}\n",
    "        temp=head\n",
    "        while temp!=None:\n",
    "            if(temp.next in dict):\n",
    "                temp.next=None\n",
    "                return\n",
    "            dict[temp]=temp\n",
    "            temp=temp.next\n",
    "        return False"
   ]
  },
  {
   "cell_type": "markdown",
   "metadata": {},
   "source": [
    "Merge two sorted linked lists\n"
   ]
  },
  {
   "cell_type": "code",
   "execution_count": 3,
   "metadata": {},
   "outputs": [],
   "source": [
    "class Solution:\n",
    "    #Function to merge two sorted linked list.\n",
    "    def sortedMerge(self,head1, head2):\n",
    "        \n",
    "        if not head1:\n",
    "            return head2\n",
    "        if not head2:\n",
    "            return head1\n",
    "\n",
    "        if head1.data < head2.data:\n",
    "            merged_head = head1\n",
    "            head1 = head1.next\n",
    "        else:\n",
    "            merged_head = head2\n",
    "            head2 = head2.next\n",
    "\n",
    "        current = merged_head\n",
    "        while head1 and head2:\n",
    "            if head1.data < head2.data:\n",
    "                current.next = head1\n",
    "                head1 = head1.next\n",
    "            else:\n",
    "                current.next = head2\n",
    "                head2 = head2.next\n",
    "            current = current.next\n",
    "        if head1:\n",
    "            current.next = head1\n",
    "        if head2:\n",
    "            current.next = head2\n",
    "\n",
    "        return merged_head\n",
    "                                        \n"
   ]
  },
  {
   "cell_type": "markdown",
   "metadata": {},
   "source": [
    "Flattening a Linked List\n"
   ]
  },
  {
   "cell_type": "code",
   "execution_count": 4,
   "metadata": {},
   "outputs": [],
   "source": [
    "\n",
    "class Solution:\n",
    "    def merge(self,a,b):\n",
    "        if not a:\n",
    "            return b\n",
    "        if not b:\n",
    "            return a\n",
    "        \n",
    "        if a.data<b.data:\n",
    "            result=a\n",
    "            result.bottom=self.merge(a.bottom,b)\n",
    "        else:\n",
    "            result=b\n",
    "            result.bottom=self.merge(a,b.bottom)\n",
    "            \n",
    "        result.next=None\n",
    "        return result\n",
    "    def flatten(self, root):\n",
    "        if not root or not root.next:\n",
    "            return root\n",
    "        root.next=self.flatten(root.next)\n",
    "        root=self.merge(root,root.next)\n",
    "        #Your code here\n",
    "        return root\n"
   ]
  },
  {
   "cell_type": "markdown",
   "metadata": {},
   "source": [
    "Xor Linkedlist:"
   ]
  },
  {
   "cell_type": "markdown",
   "metadata": {},
   "source": []
  },
  {
   "cell_type": "markdown",
   "metadata": {},
   "source": [
    "\n",
    "Python program to Search an Element in a Circular Linked List\n"
   ]
  },
  {
   "cell_type": "code",
   "execution_count": 5,
   "metadata": {},
   "outputs": [],
   "source": [
    "class Node:\n",
    "    def __init__(self,data):\n",
    "        self.data=data\n",
    "        self.next=None\n"
   ]
  },
  {
   "cell_type": "code",
   "execution_count": 15,
   "metadata": {},
   "outputs": [],
   "source": [
    "class CircularLinkedList:\n",
    "    def __init__(self):\n",
    "        self.head=Node(None)\n",
    "        self.tail=Node(None)\n",
    "        self.head.next=self.tail\n",
    "        self.tail.next=self.head\n",
    "    def add(self,data):\n",
    "        newNode=Node(data)\n",
    "        if self.head.data is None:\n",
    "            self.head=newNode\n",
    "            self.tail=newNode\n",
    "            newNode.next=self.head\n",
    "        else:\n",
    "            self.tail.next=newNode\n",
    "            self.tail=newNode\n",
    "            self.tail.next=self.head\n",
    "    def findnode(self,element):\n",
    "        current=self.head\n",
    "        i=1\n",
    "        f=0\n",
    "        if self.head==None:\n",
    "            print(\"empty List\")\n",
    "        else:\n",
    "            while True:\n",
    "                if(current.data==element):\n",
    "                    f+=1\n",
    "                    break\n",
    "                current=current.next\n",
    "                i=i+1\n",
    "                if(current==self.head):\n",
    "                    break\n",
    "            if(f>0):\n",
    "                print(\"element is present\")\n",
    "            else:\n",
    "                print(\"element is not present\")\n"
   ]
  },
  {
   "cell_type": "code",
   "execution_count": 16,
   "metadata": {},
   "outputs": [
    {
     "name": "stdout",
     "output_type": "stream",
     "text": [
      "element is present\n",
      "element is not present\n"
     ]
    }
   ],
   "source": [
    "# Driver Code \n",
    "if __name__ == '__main__': \n",
    "      \n",
    "    # Creating a Circular Linked List \n",
    "    ''' \n",
    "    Circular Linked List we will be working on: \n",
    "    1 -> 2 -> 3 -> 4 -> 5 -> 6 \n",
    "    '''\n",
    "    circularLinkedList = CircularLinkedList(); \n",
    "      \n",
    "    #Adding nodes to the list     \n",
    "    circularLinkedList.add(1); \n",
    "    circularLinkedList.add(2); \n",
    "    circularLinkedList.add(3); \n",
    "    circularLinkedList.add(4); \n",
    "    circularLinkedList.add(5); \n",
    "    circularLinkedList.add(6); \n",
    "      \n",
    "    # Searching for node 2 in the list     \n",
    "    circularLinkedList.findnode(2); \n",
    "      \n",
    "    #Searching for node in the list     \n",
    "    circularLinkedList.findnode(7);"
   ]
  },
  {
   "cell_type": "markdown",
   "metadata": {},
   "source": [
    "\n",
    "Pretty print Linked List in Python\n"
   ]
  },
  {
   "cell_type": "code",
   "execution_count": 17,
   "metadata": {},
   "outputs": [
    {
     "name": "stdout",
     "output_type": "stream",
     "text": [
      "1 ->  2 ->  3 ->  4 ->  None\n"
     ]
    }
   ],
   "source": [
    "class Node:\n",
    "    def __init__(self, data):\n",
    "        self.data = data\n",
    "        self.next = None\n",
    "\n",
    "def insert_at_beginning(head, data):\n",
    "    new_node = Node(data)\n",
    "    new_node.next = head\n",
    "    return new_node\n",
    "        \n",
    "def traverse(head):\n",
    "    current = head\n",
    "    while current:\n",
    "       \n",
    "        print(str(current.data) + \" -> \", end=\" \")\n",
    "        current = current.next\n",
    "    print(\"None\")\n",
    "\n",
    "head = None\n",
    "head = insert_at_beginning(head, 4)\n",
    "head = insert_at_beginning(head, 3)\n",
    "head = insert_at_beginning(head, 2)\n",
    "head = insert_at_beginning(head, 1)\n",
    "\n",
    "traverse(head)"
   ]
  },
  {
   "cell_type": "code",
   "execution_count": 18,
   "metadata": {},
   "outputs": [
    {
     "name": "stdout",
     "output_type": "stream",
     "text": [
      "[1, 2, 3, 4]\n"
     ]
    }
   ],
   "source": [
    "current=head\n",
    "ls=[]\n",
    "while current!=None:\n",
    "    ls.append(current.data)\n",
    "    current=current.next\n",
    "print(ls)"
   ]
  },
  {
   "cell_type": "markdown",
   "metadata": {},
   "source": [
    "Python program to find middle of a linked list using one traversal\n"
   ]
  },
  {
   "cell_type": "code",
   "execution_count": 17,
   "metadata": {},
   "outputs": [
    {
     "name": "stdout",
     "output_type": "stream",
     "text": [
      "the middle element is 11\n"
     ]
    }
   ],
   "source": [
    "class Node:\n",
    "    def __init__(self, data):\n",
    "        self.data = data\n",
    "        self.next = None\n",
    "\n",
    "def insert_at_beginning(head, data):\n",
    "    new_node = Node(data)\n",
    "    new_node.next = head\n",
    "    head=new_node\n",
    "    return new_node\n",
    "        \n",
    "def traverse(head):\n",
    "    current = head\n",
    "    fast=head\n",
    "\n",
    "    while fast and fast.next:\n",
    "        current=current.next\n",
    "        fast=fast.next.next\n",
    "        \n",
    "    print(\"the middle element is {}\".format(current.data))\n",
    "\n",
    "head=None\n",
    "head = insert_at_beginning(head, 4)\n",
    "head = insert_at_beginning(head, 3)\n",
    "head = insert_at_beginning(head, 5)\n",
    "head = insert_at_beginning(head, 2)\n",
    "head = insert_at_beginning(head, 1)\n",
    "head = insert_at_beginning(head, 11)\n",
    "head = insert_at_beginning(head, 6)\n",
    "head = insert_at_beginning(head, 7)\n",
    "head = insert_at_beginning(head, 8)\n",
    "head = insert_at_beginning(head, 9)\n",
    "head = insert_at_beginning(head, 10)\n",
    "\n",
    "traverse(head)"
   ]
  },
  {
   "cell_type": "code",
   "execution_count": null,
   "metadata": {},
   "outputs": [],
   "source": []
  }
 ],
 "metadata": {
  "kernelspec": {
   "display_name": "venv",
   "language": "python",
   "name": "python3"
  },
  "language_info": {
   "codemirror_mode": {
    "name": "ipython",
    "version": 3
   },
   "file_extension": ".py",
   "mimetype": "text/x-python",
   "name": "python",
   "nbconvert_exporter": "python",
   "pygments_lexer": "ipython3",
   "version": "3.12.0"
  }
 },
 "nbformat": 4,
 "nbformat_minor": 2
}
