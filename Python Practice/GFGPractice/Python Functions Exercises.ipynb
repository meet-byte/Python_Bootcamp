{
 "cells": [
  {
   "cell_type": "markdown",
   "metadata": {},
   "source": [
    "Python Functions Exercises\n"
   ]
  },
  {
   "cell_type": "markdown",
   "metadata": {},
   "source": [
    "How to get list of parameters name from a function in Python?\n"
   ]
  },
  {
   "cell_type": "code",
   "execution_count": 1,
   "metadata": {},
   "outputs": [],
   "source": [
    "import inspect\n",
    "import collections\n"
   ]
  },
  {
   "cell_type": "code",
   "execution_count": 3,
   "metadata": {},
   "outputs": [
    {
     "name": "stdout",
     "output_type": "stream",
     "text": [
      "(iterable=None, /, **kwds)\n"
     ]
    }
   ],
   "source": [
    "print(inspect.signature(collections.Counter))"
   ]
  },
  {
   "cell_type": "code",
   "execution_count": 4,
   "metadata": {},
   "outputs": [
    {
     "name": "stdout",
     "output_type": "stream",
     "text": [
      "(a, b, c, d)\n"
     ]
    }
   ],
   "source": [
    "def temp(a,b,c,d):\n",
    "    return a+b+c+d\n",
    "print(inspect.signature(temp))"
   ]
  },
  {
   "cell_type": "code",
   "execution_count": 6,
   "metadata": {},
   "outputs": [
    {
     "name": "stdout",
     "output_type": "stream",
     "text": [
      "dict_values(['__main__', 'Automatically created module for IPython interactive environment', None, None, None, <module 'builtins' (built-in)>, <module 'builtins' (built-in)>, ['', 'import inspect\\nimport collections', 'print(inspect.signature(collections.Counter))', 'print(inspect.signature(collections.Counter))', 'def temp(a,b,c,d):\\n    return a+b+c+d\\nprint(inspect.signature(temp))', 'a = 10\\nb = 2\\ndef temp(a,b,c,d):\\n    return a+b+c+d\\nprint(locals().keys())  # Get local variables\\nprint(globals().keys())  # Get global variables', 'a = 10\\nb = 2\\ndef temp(a,b,c,d):\\n    return a+b+c+d\\nprint(locals().values())  # Get local variables\\nprint(globals().values())  # Get global variables'], {}, [WindowsPath('c:/Users/MeetMavani/Desktop/Meet Mavani Internship/Python Practice')], ['', 'import inspect\\nimport collections', 'print(inspect.signature(collections.Counter))', 'print(inspect.signature(collections.Counter))', 'def temp(a,b,c,d):\\n    return a+b+c+d\\nprint(inspect.signature(temp))', 'a = 10\\nb = 2\\ndef temp(a,b,c,d):\\n    return a+b+c+d\\nprint(locals().keys())  # Get local variables\\nprint(globals().keys())  # Get global variables', 'a = 10\\nb = 2\\ndef temp(a,b,c,d):\\n    return a+b+c+d\\nprint(locals().values())  # Get local variables\\nprint(globals().values())  # Get global variables'], {}, <bound method InteractiveShell.get_ipython of <ipykernel.zmqshell.ZMQInteractiveShell object at 0x000002117D274740>>, <IPython.core.autocall.ZMQExitAutocall object at 0x000002117D084860>, <IPython.core.autocall.ZMQExitAutocall object at 0x000002117D084860>, <function open at 0x000002117C770AE0>, '', '', '', 'c:\\\\Users\\\\MeetMavani\\\\Desktop\\\\Meet Mavani Internship\\\\Python Practice\\\\Python Functions Exercises.ipynb', 'a = 10\\nb = 2\\ndef temp(a,b,c,d):\\n    return a+b+c+d\\nprint(locals().keys())  # Get local variables\\nprint(globals().keys())  # Get global variables', 'def temp(a,b,c,d):\\n    return a+b+c+d\\nprint(inspect.signature(temp))', 'print(inspect.signature(collections.Counter))', 'import inspect\\nimport collections', <module 'inspect' from 'c:\\\\Users\\\\MeetMavani\\\\Desktop\\\\Python\\\\venv\\\\Lib\\\\inspect.py'>, <module 'collections' from 'c:\\\\Users\\\\MeetMavani\\\\Desktop\\\\Python\\\\venv\\\\Lib\\\\collections\\\\__init__.py'>, 'print(inspect.signature(collections.Counter))', 'print(inspect.signature(collections.Counter))', 'def temp(a,b,c,d):\\n    return a+b+c+d\\nprint(inspect.signature(temp))', <function temp at 0x000002117E7D8D60>, 'a = 10\\nb = 2\\ndef temp(a,b,c,d):\\n    return a+b+c+d\\nprint(locals().keys())  # Get local variables\\nprint(globals().keys())  # Get global variables', 10, 2, 'a = 10\\nb = 2\\ndef temp(a,b,c,d):\\n    return a+b+c+d\\nprint(locals().values())  # Get local variables\\nprint(globals().values())  # Get global variables'])\n",
      "dict_values(['__main__', 'Automatically created module for IPython interactive environment', None, None, None, <module 'builtins' (built-in)>, <module 'builtins' (built-in)>, ['', 'import inspect\\nimport collections', 'print(inspect.signature(collections.Counter))', 'print(inspect.signature(collections.Counter))', 'def temp(a,b,c,d):\\n    return a+b+c+d\\nprint(inspect.signature(temp))', 'a = 10\\nb = 2\\ndef temp(a,b,c,d):\\n    return a+b+c+d\\nprint(locals().keys())  # Get local variables\\nprint(globals().keys())  # Get global variables', 'a = 10\\nb = 2\\ndef temp(a,b,c,d):\\n    return a+b+c+d\\nprint(locals().values())  # Get local variables\\nprint(globals().values())  # Get global variables'], {}, [WindowsPath('c:/Users/MeetMavani/Desktop/Meet Mavani Internship/Python Practice')], ['', 'import inspect\\nimport collections', 'print(inspect.signature(collections.Counter))', 'print(inspect.signature(collections.Counter))', 'def temp(a,b,c,d):\\n    return a+b+c+d\\nprint(inspect.signature(temp))', 'a = 10\\nb = 2\\ndef temp(a,b,c,d):\\n    return a+b+c+d\\nprint(locals().keys())  # Get local variables\\nprint(globals().keys())  # Get global variables', 'a = 10\\nb = 2\\ndef temp(a,b,c,d):\\n    return a+b+c+d\\nprint(locals().values())  # Get local variables\\nprint(globals().values())  # Get global variables'], {}, <bound method InteractiveShell.get_ipython of <ipykernel.zmqshell.ZMQInteractiveShell object at 0x000002117D274740>>, <IPython.core.autocall.ZMQExitAutocall object at 0x000002117D084860>, <IPython.core.autocall.ZMQExitAutocall object at 0x000002117D084860>, <function open at 0x000002117C770AE0>, '', '', '', 'c:\\\\Users\\\\MeetMavani\\\\Desktop\\\\Meet Mavani Internship\\\\Python Practice\\\\Python Functions Exercises.ipynb', 'a = 10\\nb = 2\\ndef temp(a,b,c,d):\\n    return a+b+c+d\\nprint(locals().keys())  # Get local variables\\nprint(globals().keys())  # Get global variables', 'def temp(a,b,c,d):\\n    return a+b+c+d\\nprint(inspect.signature(temp))', 'print(inspect.signature(collections.Counter))', 'import inspect\\nimport collections', <module 'inspect' from 'c:\\\\Users\\\\MeetMavani\\\\Desktop\\\\Python\\\\venv\\\\Lib\\\\inspect.py'>, <module 'collections' from 'c:\\\\Users\\\\MeetMavani\\\\Desktop\\\\Python\\\\venv\\\\Lib\\\\collections\\\\__init__.py'>, 'print(inspect.signature(collections.Counter))', 'print(inspect.signature(collections.Counter))', 'def temp(a,b,c,d):\\n    return a+b+c+d\\nprint(inspect.signature(temp))', <function temp at 0x000002117E7D8D60>, 'a = 10\\nb = 2\\ndef temp(a,b,c,d):\\n    return a+b+c+d\\nprint(locals().keys())  # Get local variables\\nprint(globals().keys())  # Get global variables', 10, 2, 'a = 10\\nb = 2\\ndef temp(a,b,c,d):\\n    return a+b+c+d\\nprint(locals().values())  # Get local variables\\nprint(globals().values())  # Get global variables'])\n"
     ]
    }
   ],
   "source": [
    "a = 10\n",
    "b = 2\n",
    "def temp(a,b,c,d):\n",
    "    return a+b+c+d\n",
    "print(locals().values())  # Get local variables\n",
    "print(globals().values())  # Get global variables"
   ]
  },
  {
   "cell_type": "markdown",
   "metadata": {},
   "source": [
    "How to Print Multiple Arguments in Python?\n"
   ]
  },
  {
   "cell_type": "code",
   "execution_count": 8,
   "metadata": {},
   "outputs": [
    {
     "name": "stdout",
     "output_type": "stream",
     "text": [
      "Hello from  Meet Mavani, 25\n"
     ]
    }
   ],
   "source": [
    "def temp(name, num):\n",
    "    print(\"Hello from \", name + ', ' + num)\n",
    "\n",
    "\n",
    "temp(\"Meet Mavani\", \"25\")"
   ]
  },
  {
   "cell_type": "markdown",
   "metadata": {},
   "source": []
  },
  {
   "cell_type": "code",
   "execution_count": 13,
   "metadata": {},
   "outputs": [
    {
     "name": "stdout",
     "output_type": "stream",
     "text": [
      "Hello from  Meet Mavani, 25\n"
     ]
    }
   ],
   "source": [
    "def temp(name, num=25):\n",
    "    print(\"Hello from \", name + ', ' + str(num))\n",
    "\n",
    "\n",
    "temp(\"Meet Mavani\")"
   ]
  },
  {
   "cell_type": "markdown",
   "metadata": {},
   "source": [
    "Pass it as a dictionary\n"
   ]
  },
  {
   "cell_type": "code",
   "execution_count": 21,
   "metadata": {},
   "outputs": [
    {
     "name": "stdout",
     "output_type": "stream",
     "text": [
      "Hello from , Meet  21\n"
     ]
    }
   ],
   "source": [
    "def temp(name, num=25):\n",
    "    print(\"Hello from , {a}  {b}\".format(**{\"a\":name,\"b\":num}))\n",
    "\n",
    "\n",
    "temp(\"Meet\",\"21\")"
   ]
  },
  {
   "cell_type": "markdown",
   "metadata": {},
   "source": [
    "Python program to find the power of a number using recursion\n"
   ]
  },
  {
   "cell_type": "code",
   "execution_count": 24,
   "metadata": {},
   "outputs": [
    {
     "data": {
      "text/plain": [
       "2401"
      ]
     },
     "execution_count": 24,
     "metadata": {},
     "output_type": "execute_result"
    }
   ],
   "source": [
    "def pow(x,n):\n",
    "    if n==0:\n",
    "        return 1\n",
    "    else:\n",
    "        return x*pow(x,n-1)\n",
    "pow(7,4)"
   ]
  },
  {
   "cell_type": "markdown",
   "metadata": {},
   "source": [
    "Sorting objects of user defined class in Python\n"
   ]
  },
  {
   "cell_type": "code",
   "execution_count": 30,
   "metadata": {},
   "outputs": [],
   "source": [
    "class GFG:\n",
    "    def __init__(self, a, b):\n",
    "        self.a = a\n",
    "        self.b = b\n",
    "\n",
    "    def __repr__(self):\n",
    "        return str((self.a, self.b))\n",
    "    \n",
    "gfg = [GFG(\"geeks\", 1),\n",
    "       GFG(\"computer\", 3),\n",
    "       GFG(\"for\", 2),\n",
    "       GFG(\"geeks\", 4),\n",
    "       GFG(\"science\", 3)]\n",
    "\n",
    "list=sorted(gfg,key=lambda x:x.a)\n"
   ]
  },
  {
   "cell_type": "code",
   "execution_count": 31,
   "metadata": {},
   "outputs": [
    {
     "data": {
      "text/plain": [
       "[('computer', 3), ('for', 2), ('geeks', 1), ('geeks', 4), ('science', 3)]"
      ]
     },
     "execution_count": 31,
     "metadata": {},
     "output_type": "execute_result"
    }
   ],
   "source": [
    "list"
   ]
  },
  {
   "cell_type": "markdown",
   "metadata": {},
   "source": [
    "Sorting objects of user defined class in Python\n"
   ]
  },
  {
   "cell_type": "code",
   "execution_count": 32,
   "metadata": {},
   "outputs": [],
   "source": [
    "\n",
    "class GFG:\n",
    "    def __init__(self, a, b):\n",
    "        self.a = a\n",
    "        self.b = b\n",
    "\n",
    "    def __repr__(self):\n",
    "        return str((self.a, self.b))\n",
    "    \n",
    "gfg = [GFG(\"geeks\", 1),\n",
    "       GFG(\"computer\", 3),\n",
    "       GFG(\"for\", 2),\n",
    "       GFG(\"geeks\", 4),\n",
    "       GFG(\"science\", 3)]\n",
    "\n",
    "list=sorted(gfg,key=lambda x:x.a.upper())\n"
   ]
  },
  {
   "cell_type": "code",
   "execution_count": 33,
   "metadata": {},
   "outputs": [
    {
     "ename": "NameError",
     "evalue": "name 'lsit' is not defined",
     "output_type": "error",
     "traceback": [
      "\u001b[1;31m---------------------------------------------------------------------------\u001b[0m",
      "\u001b[1;31mNameError\u001b[0m                                 Traceback (most recent call last)",
      "Cell \u001b[1;32mIn[33], line 1\u001b[0m\n\u001b[1;32m----> 1\u001b[0m \u001b[43mlsit\u001b[49m\n",
      "\u001b[1;31mNameError\u001b[0m: name 'lsit' is not defined"
     ]
    }
   ],
   "source": [
    "lsit"
   ]
  },
  {
   "cell_type": "code",
   "execution_count": 34,
   "metadata": {},
   "outputs": [
    {
     "data": {
      "text/plain": [
       "[('computer', 3), ('for', 2), ('geeks', 1), ('geeks', 4), ('science', 3)]"
      ]
     },
     "execution_count": 34,
     "metadata": {},
     "output_type": "execute_result"
    }
   ],
   "source": [
    "list"
   ]
  },
  {
   "cell_type": "markdown",
   "metadata": {},
   "source": [
    "Functions that accept variable length key value pair as arguments\n"
   ]
  },
  {
   "cell_type": "code",
   "execution_count": 35,
   "metadata": {},
   "outputs": [],
   "source": [
    "def printany(**kwargs):\n",
    "    print(kwargs)"
   ]
  },
  {
   "cell_type": "code",
   "execution_count": 39,
   "metadata": {},
   "outputs": [
    {
     "name": "stdout",
     "output_type": "stream",
     "text": [
      "{'a': 1, 'b': 2, 'c': 3, 'd': 4, 'e': 5, 'f': 6, 'g': 7, 'h': 8}\n"
     ]
    }
   ],
   "source": [
    "printany(a=1,b=2,c=3,d=4,e=5,f=6,g=7,h=8)"
   ]
  },
  {
   "cell_type": "code",
   "execution_count": 40,
   "metadata": {},
   "outputs": [
    {
     "name": "stdout",
     "output_type": "stream",
     "text": [
      "The value of a is 2\n",
      "The value of b is 3\n",
      "The value of c is 4\n",
      "The value of d is 5\n"
     ]
    }
   ],
   "source": [
    "def printValues(**kwargs):\n",
    "    for key, value in kwargs.items():\n",
    "        print(\"The value of {} is {}\".format(key, value))\n",
    "printValues(a=2,b=3,c=4,d=5)"
   ]
  },
  {
   "cell_type": "code",
   "execution_count": 41,
   "metadata": {},
   "outputs": [
    {
     "data": {
      "text/plain": [
       "24"
      ]
     },
     "execution_count": 41,
     "metadata": {},
     "output_type": "execute_result"
    }
   ],
   "source": [
    "def multiply(**kwargs):\n",
    "\n",
    "    answer = 1\n",
    "\n",
    "    for elements in kwargs.values():\n",
    "        answer *= elements\n",
    "    return answer\n",
    "\n",
    "multiply(a=2,b=3,c=4)"
   ]
  },
  {
   "cell_type": "code",
   "execution_count": null,
   "metadata": {},
   "outputs": [],
   "source": []
  }
 ],
 "metadata": {
  "kernelspec": {
   "display_name": "venv",
   "language": "python",
   "name": "python3"
  },
  "language_info": {
   "codemirror_mode": {
    "name": "ipython",
    "version": 3
   },
   "file_extension": ".py",
   "mimetype": "text/x-python",
   "name": "python",
   "nbconvert_exporter": "python",
   "pygments_lexer": "ipython3",
   "version": "3.12.0"
  }
 },
 "nbformat": 4,
 "nbformat_minor": 2
}
