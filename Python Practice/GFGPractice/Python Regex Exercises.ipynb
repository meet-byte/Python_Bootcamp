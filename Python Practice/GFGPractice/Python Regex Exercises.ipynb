{
 "cells": [
  {
   "cell_type": "markdown",
   "metadata": {},
   "source": [
    "Python Regex Exercises\n"
   ]
  },
  {
   "cell_type": "markdown",
   "metadata": {},
   "source": [
    "Regex - Python\n",
    "\n",
    "Input: \n",
    "str = asdasd123asmdasdk34234kfdsd34sdfk5  \n",
    "\n",
    "\n",
    "\n",
    "Output: \n",
    "123 34234 34 5"
   ]
  },
  {
   "cell_type": "code",
   "execution_count": 2,
   "metadata": {},
   "outputs": [
    {
     "name": "stdout",
     "output_type": "stream",
     "text": [
      "123 34234 34 5 "
     ]
    }
   ],
   "source": [
    "import re\n",
    "def numberMatcher(str):\n",
    "    pat=\"\\d+\"\n",
    "    match=re.findall(pat,str) ##find all finds all the matched texts and returns a list\n",
    "    if(match): \n",
    "        for i in match:\n",
    "            print(i, end=\" \")\n",
    "    else:\n",
    "        print(-1,end=\"\")\n",
    "numberMatcher(\"asdasd123asmdasdk34234kfdsd34sdfk5\")"
   ]
  },
  {
   "cell_type": "markdown",
   "metadata": {},
   "source": [
    "Regular Expressions 2 - Python\n",
    "Input: \n",
    "str = asdsab@!@234\n",
    "\n",
    "Output: \n",
    "True\n",
    "\n",
    "Explanation: \n",
    "The string is valid as characters are\n",
    "followed by special case characters \n",
    "which are then followed by numbers."
   ]
  },
  {
   "cell_type": "code",
   "execution_count": 4,
   "metadata": {},
   "outputs": [
    {
     "data": {
      "text/plain": [
       "True"
      ]
     },
     "execution_count": 4,
     "metadata": {},
     "output_type": "execute_result"
    }
   ],
   "source": [
    "def validate(str):\n",
    "    pat= r\"^[a-z]+[!@#$%]+\\d+$\"\n",
    "    match = re.search(pat, str)\n",
    "    if(match):\n",
    "        return True\n",
    "    else:\n",
    "        return False\n",
    "    \n",
    "validate(\"asdsab@!@234\")"
   ]
  },
  {
   "cell_type": "markdown",
   "metadata": {},
   "source": [
    "Python program to find the type of IP Address using Regex\n"
   ]
  },
  {
   "cell_type": "code",
   "execution_count": 5,
   "metadata": {},
   "outputs": [],
   "source": [
    "import re\n",
    "\n",
    "def find_ip_type(ip):\n",
    "    ipv4_pattern = r'^((25[0-5]|2[0-4][0-9]|[0-1]?[0-9][0-9]?)\\.){3}(25[0-5]|2[0-4][0-9]|[0-1]?[0-9][0-9]?)$'\n",
    "    ipv6_pattern = r'^(([0-9a-fA-F]{1,4}):){7}([0-9a-fA-F]{1,4})$'\n",
    "    \n",
    "    if re.match(ipv4_pattern, ip):\n",
    "        return \"IPv4\"\n",
    "    elif re.match(ipv6_pattern, ip):\n",
    "        return \"IPv6\"\n",
    "\n",
    "    else:\n",
    "        return \"Invalid\""
   ]
  },
  {
   "cell_type": "code",
   "execution_count": 7,
   "metadata": {},
   "outputs": [
    {
     "data": {
      "text/plain": [
       "'IPv4'"
      ]
     },
     "execution_count": 7,
     "metadata": {},
     "output_type": "execute_result"
    }
   ],
   "source": [
    "find_ip_type(\"255.255.255.255\")"
   ]
  },
  {
   "cell_type": "code",
   "execution_count": 8,
   "metadata": {},
   "outputs": [
    {
     "data": {
      "text/plain": [
       "'IPv6'"
      ]
     },
     "execution_count": 8,
     "metadata": {},
     "output_type": "execute_result"
    }
   ],
   "source": [
    "find_ip_type(\"1200:0000:AB00:1234:0000:2552:7777:1313\")"
   ]
  },
  {
   "cell_type": "code",
   "execution_count": 9,
   "metadata": {},
   "outputs": [
    {
     "data": {
      "text/plain": [
       "'Invalid'"
      ]
     },
     "execution_count": 9,
     "metadata": {},
     "output_type": "execute_result"
    }
   ],
   "source": [
    "find_ip_type(\"1200::AB00:1234::2552:7777:1313\")"
   ]
  },
  {
   "cell_type": "markdown",
   "metadata": {},
   "source": [
    "Python program to find Indices of Overlapping Substrings\n"
   ]
  },
  {
   "cell_type": "code",
   "execution_count": 14,
   "metadata": {},
   "outputs": [],
   "source": [
    "def findind(pattern,string):\n",
    "    a1=[m.start() for m in re.finditer(pattern,string)]\n",
    "    return a1"
   ]
  },
  {
   "cell_type": "code",
   "execution_count": 16,
   "metadata": {},
   "outputs": [
    {
     "name": "stdout",
     "output_type": "stream",
     "text": [
      "[4]\n"
     ]
    }
   ],
   "source": [
    "findind(\"mavani\",\"Meetmavani\")"
   ]
  },
  {
   "cell_type": "markdown",
   "metadata": {},
   "source": [
    "Python program to extract Strings between HTML Tags\n"
   ]
  },
  {
   "cell_type": "code",
   "execution_count": 21,
   "metadata": {},
   "outputs": [],
   "source": [
    "import re\n",
    "\n",
    "test=\"<b>Gfg</b> is <b>Best</b>. I love <b>Reading CS</b> from it.\"\n",
    "tag=\"b\"\n",
    "reg_ex=\"<\"+tag+\">\"+\"(.*?)\"+\"</\"+tag+\">\"\n",
    "res=re.findall(reg_ex,test)"
   ]
  },
  {
   "cell_type": "markdown",
   "metadata": {},
   "source": [
    "The dot (.) matches any character, except for a newline (\\n).\n",
    "\n",
    "The asterisk (*) means zero or more occurrences of the preceding character (in this case, the dot).\n",
    "\n",
    "The question mark (?) modifies the * to make the match non-greedy or lazy.\n"
   ]
  },
  {
   "cell_type": "code",
   "execution_count": 22,
   "metadata": {},
   "outputs": [
    {
     "name": "stdout",
     "output_type": "stream",
     "text": [
      "['Gfg', 'Best', 'Reading CS']\n"
     ]
    }
   ],
   "source": [
    "print(res)"
   ]
  },
  {
   "cell_type": "code",
   "execution_count": 27,
   "metadata": {},
   "outputs": [
    {
     "name": "stdout",
     "output_type": "stream",
     "text": [
      "invalid\n"
     ]
    }
   ],
   "source": [
    "import re\n",
    "pattern=re.compile(\"^[a-z][1234]+$\")\n",
    "def check(string,pattern):\n",
    "    if re.search(pattern,string):\n",
    "        print(\"valid string\")\n",
    "    else:\n",
    "        print(\"invalid\")\n",
    "\n",
    "\n",
    "string1=input(\"enter a string\")\n",
    "check(string1,pattern)"
   ]
  },
  {
   "cell_type": "markdown",
   "metadata": {},
   "source": []
  },
  {
   "cell_type": "code",
   "execution_count": 28,
   "metadata": {},
   "outputs": [],
   "source": [
    "import re"
   ]
  },
  {
   "cell_type": "code",
   "execution_count": 31,
   "metadata": {},
   "outputs": [
    {
     "name": "stdout",
     "output_type": "stream",
     "text": [
      "file has been found:geeks.xml\n"
     ]
    }
   ],
   "source": [
    "filenames = [\"gfg.html\", \"geeks.xml\",  \n",
    "            \"computer.txt\", \"geeksforgeeks.jpg\"] \n",
    "for file in filenames:\n",
    "    match=re.findall(\"\\.xml\",file)\n",
    "    if match:\n",
    "        print(\"file has been found:{}\".format(file))"
   ]
  },
  {
   "cell_type": "code",
   "execution_count": null,
   "metadata": {},
   "outputs": [],
   "source": []
  }
 ],
 "metadata": {
  "kernelspec": {
   "display_name": "venv",
   "language": "python",
   "name": "python3"
  },
  "language_info": {
   "codemirror_mode": {
    "name": "ipython",
    "version": 3
   },
   "file_extension": ".py",
   "mimetype": "text/x-python",
   "name": "python",
   "nbconvert_exporter": "python",
   "pygments_lexer": "ipython3",
   "version": "3.12.0"
  }
 },
 "nbformat": 4,
 "nbformat_minor": 2
}
