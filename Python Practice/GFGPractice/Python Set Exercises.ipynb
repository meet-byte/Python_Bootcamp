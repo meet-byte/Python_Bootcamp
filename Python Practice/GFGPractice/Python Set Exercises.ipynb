{
 "cells": [
  {
   "cell_type": "markdown",
   "metadata": {},
   "source": [
    "Python Set Exercises\n"
   ]
  },
  {
   "cell_type": "markdown",
   "metadata": {},
   "source": [
    "Implement Set in Python\n"
   ]
  },
  {
   "cell_type": "code",
   "execution_count": 1,
   "metadata": {},
   "outputs": [],
   "source": [
    "def insert(s, element):\n",
    "    s.add(element)\n",
    "\n",
    "def remove_from_set(s, element):\n",
    "    s.remove(element)\n",
    "\n",
    "def sum_set(s):\n",
    "\n",
    "    return sum(s)"
   ]
  },
  {
   "cell_type": "markdown",
   "metadata": {},
   "source": [
    "Set in Python - II\n",
    "\n"
   ]
  },
  {
   "cell_type": "code",
   "execution_count": 2,
   "metadata": {},
   "outputs": [],
   "source": [
    "def common_in_set(a, b):\n",
    "    c=set()\n",
    "    c=a.intersection(b)\n",
    "    return c\n",
    "\n",
    "def diff(a, b):\n",
    "    return a.difference(b)\n",
    "def all_in_set(a, b):\n",
    "    return a.union(b)\n"
   ]
  },
  {
   "cell_type": "markdown",
   "metadata": {},
   "source": [
    "Find the size of a Set in Python\n"
   ]
  },
  {
   "cell_type": "code",
   "execution_count": 3,
   "metadata": {},
   "outputs": [
    {
     "name": "stdout",
     "output_type": "stream",
     "text": [
      "size of set:472\n"
     ]
    }
   ],
   "source": [
    "import sys\n",
    "Set1 = {\"A\", 1, \"B\", 2, \"C\", 3}\n",
    "print(\"size of set:{}\".format(sys.getsizeof(Set1)))"
   ]
  },
  {
   "cell_type": "code",
   "execution_count": 4,
   "metadata": {},
   "outputs": [
    {
     "name": "stdout",
     "output_type": "stream",
     "text": [
      "size of set:456\n"
     ]
    }
   ],
   "source": [
    "print(\"size of set:{}\".format(Set1.__sizeof__()))"
   ]
  },
  {
   "cell_type": "markdown",
   "metadata": {},
   "source": [
    "Iterate over a set in Python\n"
   ]
  },
  {
   "cell_type": "code",
   "execution_count": 11,
   "metadata": {},
   "outputs": [
    {
     "data": {
      "text/plain": [
       "'for val in test_set:\\n    print(val)'"
      ]
     },
     "execution_count": 11,
     "metadata": {},
     "output_type": "execute_result"
    }
   ],
   "source": [
    "test_set = set(\"geEks\")\n",
    "l1=[map(lambda val: val, test_set)]\n",
    "'''for val in test_set:\n",
    "    print(val)'''"
   ]
  },
  {
   "cell_type": "markdown",
   "metadata": {},
   "source": [
    "Python | Maximum and Minimum in a Set\n"
   ]
  },
  {
   "cell_type": "code",
   "execution_count": 32,
   "metadata": {},
   "outputs": [],
   "source": [
    "my_set={1,2,3,4,5,6,8}"
   ]
  },
  {
   "cell_type": "code",
   "execution_count": 29,
   "metadata": {},
   "outputs": [
    {
     "name": "stdout",
     "output_type": "stream",
     "text": [
      "{1, 2, 3, 4, 5, 6}\n",
      "{1, 2, 3, 4, 5}\n",
      "{1, 2, 3, 4}\n",
      "{1, 2, 3}\n",
      "{1, 2}\n",
      "{1}\n",
      "set()\n"
     ]
    }
   ],
   "source": [
    "while my_set:\n",
    "    my_set.discard(max(my_set))\n",
    "    print(my_set)"
   ]
  },
  {
   "cell_type": "code",
   "execution_count": 33,
   "metadata": {},
   "outputs": [
    {
     "name": "stdout",
     "output_type": "stream",
     "text": [
      "{2, 3, 4, 5, 6, 8}\n",
      "{3, 4, 5, 6, 8}\n",
      "{4, 5, 6, 8}\n",
      "{5, 6, 8}\n",
      "{6, 8}\n",
      "{8}\n",
      "set()\n"
     ]
    }
   ],
   "source": [
    "while my_set:\n",
    "    my_set.discard(min(my_set))\n",
    "    print(my_set)"
   ]
  },
  {
   "cell_type": "markdown",
   "metadata": {},
   "source": [
    "Python – Check if two lists have at-least one element common\n"
   ]
  },
  {
   "cell_type": "code",
   "execution_count": 34,
   "metadata": {},
   "outputs": [
    {
     "name": "stdout",
     "output_type": "stream",
     "text": [
      "common element is there\n"
     ]
    }
   ],
   "source": [
    "a = [1, 2, 3, 4]\n",
    "b = [5, 6, 3, 8]\n",
    "\n",
    "if any(item in b for item in a):\n",
    "    print(\"common element is there\")\n",
    "else:\n",
    "    print(\"element is not there\")"
   ]
  },
  {
   "cell_type": "code",
   "execution_count": 36,
   "metadata": {},
   "outputs": [
    {
     "name": "stdout",
     "output_type": "stream",
     "text": [
      "Common [3]\n"
     ]
    }
   ],
   "source": [
    "a = [1, 2, 3, 4]\n",
    "b = [5, 6, 3, 8]\n",
    "\n",
    "common = [item for item in a if item in b]\n",
    "\n",
    "if common:\n",
    "    print(\"Common\", common)\n",
    "else:\n",
    "    print(\"No common elements.\")"
   ]
  },
  {
   "cell_type": "code",
   "execution_count": null,
   "metadata": {},
   "outputs": [],
   "source": []
  }
 ],
 "metadata": {
  "kernelspec": {
   "display_name": "venv",
   "language": "python",
   "name": "python3"
  },
  "language_info": {
   "codemirror_mode": {
    "name": "ipython",
    "version": 3
   },
   "file_extension": ".py",
   "mimetype": "text/x-python",
   "name": "python",
   "nbconvert_exporter": "python",
   "pygments_lexer": "ipython3",
   "version": "3.12.0"
  }
 },
 "nbformat": 4,
 "nbformat_minor": 2
}
