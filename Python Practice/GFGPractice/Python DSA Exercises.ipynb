{
 "cells": [
  {
   "cell_type": "markdown",
   "metadata": {},
   "source": [
    "Python DSA Exercises\n"
   ]
  },
  {
   "cell_type": "code",
   "execution_count": 14,
   "metadata": {},
   "outputs": [
    {
     "name": "stdout",
     "output_type": "stream",
     "text": [
      "String is not pallindrome\n"
     ]
    }
   ],
   "source": [
    "inp=(input(\"enter the string\"))\n",
    "k=inp\n",
    "arr1=[]\n",
    "i=0\n",
    "swapped=1\n",
    "for ch in inp:\n",
    "    arr1.append(ch)\n",
    "\n",
    "while len(arr1)>0:\n",
    "    dummy=arr1.pop()\n",
    "    if(dummy==inp[i]):\n",
    "        i+=1\n",
    "        \n",
    "    else:\n",
    "        swapped=0\n",
    "        \n",
    "        break\n",
    "\n",
    "if swapped==0:\n",
    "    print(\"String is not pallindrome\")\n",
    "else:\n",
    "    print(\"String is  pallindrome\")\n"
   ]
  },
  {
   "cell_type": "code",
   "execution_count": null,
   "metadata": {},
   "outputs": [],
   "source": []
  }
 ],
 "metadata": {
  "kernelspec": {
   "display_name": "venv",
   "language": "python",
   "name": "python3"
  },
  "language_info": {
   "codemirror_mode": {
    "name": "ipython",
    "version": 3
   },
   "file_extension": ".py",
   "mimetype": "text/x-python",
   "name": "python",
   "nbconvert_exporter": "python",
   "pygments_lexer": "ipython3",
   "version": "3.12.0"
  }
 },
 "nbformat": 4,
 "nbformat_minor": 2
}
