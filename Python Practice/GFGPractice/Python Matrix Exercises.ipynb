{
 "cells": [
  {
   "cell_type": "markdown",
   "metadata": {},
   "source": [
    "Python Matrix Exercises\n"
   ]
  },
  {
   "cell_type": "markdown",
   "metadata": {},
   "source": [
    "Matrix Operations\n"
   ]
  },
  {
   "cell_type": "code",
   "execution_count": 1,
   "metadata": {},
   "outputs": [],
   "source": [
    "class Solution:\n",
    "    def endPoints(self, matrix, m, n):\n",
    "        ##code here\n",
    "        dict={\"u\":\"r\",\"r\":\"d\",\"d\":\"l\",\"l\":\"u\"}\n",
    "        dir=\"r\"\n",
    "        i=0\n",
    "        j=0\n",
    "        \n",
    "        while (i<m and i>=0) and (j<n and j>=0):\n",
    "            \n",
    "                \n",
    "            prev_cell=(i,j)\n",
    "            if matrix[i][j]==1:\n",
    "                \n",
    "                matrix[i][j]=0\n",
    "                dir=dict[dir]\n",
    "            if dir==\"r\":\n",
    "                j+=1\n",
    "            elif dir==\"l\":\n",
    "                j-=1\n",
    "            elif dir==\"u\":\n",
    "                i-=1\n",
    "            else:\n",
    "                i+=1\n",
    "        return prev_cell"
   ]
  },
  {
   "cell_type": "markdown",
   "metadata": {},
   "source": [
    "Last cell in a Matrix\n"
   ]
  },
  {
   "cell_type": "code",
   "execution_count": 2,
   "metadata": {},
   "outputs": [],
   "source": [
    "def endPoints(self, matrix, R, C):\n",
    "        dict={\"u\":\"r\",\"r\":\"d\",\"d\":\"l\",\"l\":\"u\"}\n",
    "        dir=\"r\"\n",
    "        i=0\n",
    "        j=0\n",
    "        \n",
    "        while (i<R and i>=0) and (j<C and j>=0):\n",
    "            \n",
    "                \n",
    "            prev_cell=(i,j)\n",
    "            if matrix[i][j]==1:\n",
    "                \n",
    "                matrix[i][j]=0\n",
    "                dir=dict[dir]\n",
    "            if dir==\"r\":\n",
    "                j+=1\n",
    "            elif dir==\"l\":\n",
    "                j-=1\n",
    "            elif dir==\"u\":\n",
    "                i-=1\n",
    "            else:\n",
    "                i+=1\n",
    "        return prev_cell"
   ]
  },
  {
   "cell_type": "markdown",
   "metadata": {},
   "source": [
    "Python – Assigning Subsequent Rows to Matrix first row elements\n"
   ]
  },
  {
   "cell_type": "code",
   "execution_count": 3,
   "metadata": {},
   "outputs": [
    {
     "name": "stdout",
     "output_type": "stream",
     "text": [
      "{5: [2, 0, 9], 8: [5, 4, 2], 9: [2, 3, 9]}\n"
     ]
    }
   ],
   "source": [
    "test_list = [[5, 8, 9], [2, 0, 9], [5, 4, 2], [2, 3, 9]]\n",
    "res = {test_list[0][ele] :  test_list[ele + 1] for ele in range(len(test_list) - 1)}\n",
    "print(res)"
   ]
  },
  {
   "cell_type": "code",
   "execution_count": 6,
   "metadata": {},
   "outputs": [],
   "source": [
    "test_list = [[5, 8, 9], [2, 0, 9], [5, 4, 2], [2, 3, 9]]\n",
    "res = dict(zip(test_list[0], test_list[1:]))"
   ]
  },
  {
   "cell_type": "code",
   "execution_count": 7,
   "metadata": {},
   "outputs": [
    {
     "name": "stdout",
     "output_type": "stream",
     "text": [
      "{5: [2, 0, 9], 8: [5, 4, 2], 9: [2, 3, 9]}\n"
     ]
    }
   ],
   "source": [
    "print(res)"
   ]
  },
  {
   "cell_type": "markdown",
   "metadata": {},
   "source": [
    "Adding and Subtracting Matrices in Python\n"
   ]
  },
  {
   "cell_type": "code",
   "execution_count": 8,
   "metadata": {},
   "outputs": [
    {
     "name": "stdout",
     "output_type": "stream",
     "text": [
      "Printing elements of first matrix\n",
      "1 2 \n",
      "3 4 \n",
      "Printing elements of second matrix\n",
      "4 5 \n",
      "6 7 \n",
      "Subtraction of two matrix\n",
      "-3 -3 \n",
      "-3 -3 \n"
     ]
    }
   ],
   "source": [
    "matrix1 = [[1, 2], [3, 4]]\n",
    "matrix2 = [[4, 5], [6, 7]]\n",
    "\n",
    "print(\"Printing elements of first matrix\")\n",
    "for row in matrix1:\n",
    "    for element in row:\n",
    "        print(element, end=\" \")\n",
    "    print()\n",
    "\n",
    "print(\"Printing elements of second matrix\")\n",
    "for row in matrix2:\n",
    "    for element in row:\n",
    "        print(element, end=\" \")\n",
    "    print()\n",
    "\n",
    "result = [[0, 0], [0, 0]]\n",
    "for i in range(len(matrix1)):\n",
    "    for j in range(len(matrix1[0])):\n",
    "        result[i][j] = matrix1[i][j] - matrix2[i][j]\n",
    "\n",
    "print(\"Subtraction of two matrix\")\n",
    "for row in result:\n",
    "    for element in row:\n",
    "        print(element, end=\" \")\n",
    "    print()"
   ]
  },
  {
   "cell_type": "code",
   "execution_count": 11,
   "metadata": {},
   "outputs": [
    {
     "name": "stdout",
     "output_type": "stream",
     "text": [
      "Printing elements of first matrix\n",
      "1 2 \n",
      "3 4 \n",
      "Printing elements of second matrix\n",
      "4 5 \n",
      "6 7 \n",
      "\n",
      "\n",
      "Subtraction of two matrix\n",
      "-3 -3 \n",
      "-3 -3 \n"
     ]
    }
   ],
   "source": [
    "matrix1 = [[1, 2], [3, 4]]\n",
    "matrix2 = [[4, 5], [6, 7]]\n",
    "\n",
    "print(\"Printing elements of first matrix\")\n",
    "for row in matrix1:\n",
    "    for element in row:\n",
    "        print(element, end=\" \")\n",
    "    print()\n",
    "\n",
    "print(\"Printing elements of second matrix\")\n",
    "for row in matrix2:\n",
    "    for element in row:\n",
    "        print(element, end=\" \")\n",
    "    print()\n",
    "\n",
    "result = [[0, 0], [0, 0]]\n",
    "for row in range(len(matrix1)):\n",
    "    for col in range(len(matrix1[0])):\n",
    "        result[row][col]=matrix1[row][col]-matr                             \n",
    "    print()\n",
    "                 \n",
    "\n",
    "print(\"Subtraction of two matrix\")\n",
    "for row in result:\n",
    "    for element in row:\n",
    "        print(element, end=\" \")\n",
    "    print()"
   ]
  },
  {
   "cell_type": "code",
   "execution_count": 13,
   "metadata": {},
   "outputs": [
    {
     "name": "stdout",
     "output_type": "stream",
     "text": [
      "Printing elements of first matrix\n",
      "1 2 \n",
      "3 4 \n",
      "Printing elements of second matrix\n",
      "4 5 \n",
      "6 7 \n",
      "\n",
      "\n",
      "Addition of two matrix\n",
      "5 7 \n",
      "9 11 \n"
     ]
    }
   ],
   "source": [
    "matrix1 = [[1, 2], [3, 4]]\n",
    "matrix2 = [[4, 5], [6, 7]]\n",
    "\n",
    "print(\"Printing elements of first matrix\")\n",
    "for row in matrix1:\n",
    "    for element in row:\n",
    "        print(element, end=\" \")\n",
    "    print()\n",
    "\n",
    "print(\"Printing elements of second matrix\")\n",
    "for row in matrix2:\n",
    "    for element in row:\n",
    "        print(element, end=\" \")\n",
    "    print()\n",
    "\n",
    "result = [[0, 0], [0, 0]]\n",
    "for row in range(len(matrix1)):\n",
    "    for col in range(len(matrix1[0])):\n",
    "        result[row][col]=matrix1[row][col]+matrix2[row][col]                             \n",
    "    print()\n",
    "                 \n",
    "\n",
    "print(\"Addition of two matrix\")\n",
    "for row in result:\n",
    "    for element in row:\n",
    "        print(element, end=\" \")\n",
    "    print()"
   ]
  },
  {
   "cell_type": "markdown",
   "metadata": {},
   "source": [
    "Python – Group similar elements into Matrix\n"
   ]
  },
  {
   "cell_type": "code",
   "execution_count": 19,
   "metadata": {},
   "outputs": [
    {
     "data": {
      "text/plain": [
       "[[1, 1, 1], [3, 3], [4, 4], [32], [567], [43]]"
      ]
     },
     "execution_count": 19,
     "metadata": {},
     "output_type": "execute_result"
    }
   ],
   "source": [
    "test_list = [1,1,1,3,4,32,3,4,567,43]\n",
    "\n",
    "dict={}\n",
    "list=[]\n",
    "for x in test_list:\n",
    "    dict[x]=0\n",
    "for x in test_list:\n",
    "    dict[x]+=1\n",
    "for x in dict.keys():\n",
    "    lst=[]\n",
    "    m=dict[x]\n",
    "    while m:\n",
    "        lst.append(x)\n",
    "        m-=1\n",
    "    list.append(lst)\n",
    "list"
   ]
  },
  {
   "cell_type": "markdown",
   "metadata": {},
   "source": [
    "Python – Row-wise element Addition in Tuple Matrix\n"
   ]
  },
  {
   "cell_type": "code",
   "execution_count": 27,
   "metadata": {},
   "outputs": [
    {
     "name": "stdout",
     "output_type": "stream",
     "text": [
      "[[('Gfg', 3, 6), ('is', 3, 6)], [('best', 1, 7)], [('for', 5, 8), ('geeks', 1, 8)]]\n"
     ]
    }
   ],
   "source": [
    "test_list = [[('Gfg', 3), ('is', 3)], [('best', 1)], [('for', 5), ('geeks', 1)]]\n",
    "cus_eles = [6, 7, 8]\n",
    "for idx,val in enumerate(test_list):\n",
    "    for id,sval in enumerate(val):\n",
    "        temp=sval+(cus_eles[idx], )\n",
    "        test_list[idx][id]=temp\n",
    "\n",
    "print(test_list)\n",
    "\n",
    "        \n",
    "       "
   ]
  },
  {
   "cell_type": "markdown",
   "metadata": {},
   "source": [
    "using the Zip Method"
   ]
  },
  {
   "cell_type": "code",
   "execution_count": 45,
   "metadata": {},
   "outputs": [],
   "source": [
    "test_list = [[('Gfg', 3), ('is', 3)], [('best', 1)], [('for', 5), ('geeks', 1)]]\n",
    "cus_eles = [6, 7, 8]\n",
    "x=0\n",
    "for val,idx in zip(test_list,cus_eles):\n",
    "    y=0\n",
    "    for ids in val:\n",
    "        temp=ids+(cus_eles[x],)        \n",
    "        test_list[x][y]=temp\n",
    "        y+=1\n",
    "    x+=1\n"
   ]
  },
  {
   "cell_type": "code",
   "execution_count": 46,
   "metadata": {},
   "outputs": [
    {
     "data": {
      "text/plain": [
       "[[('Gfg', 3, 6), ('is', 3, 6)],\n",
       " [('best', 1, 7)],\n",
       " [('for', 5, 8), ('geeks', 1, 8)]]"
      ]
     },
     "execution_count": 46,
     "metadata": {},
     "output_type": "execute_result"
    }
   ],
   "source": [
    "\n",
    "test_list"
   ]
  },
  {
   "cell_type": "code",
   "execution_count": 50,
   "metadata": {},
   "outputs": [
    {
     "name": "stdout",
     "output_type": "stream",
     "text": [
      "[2, 1, 4, 3]\n",
      "[5, 6, 7, 8]\n",
      "[10, 9, 12, 11]\n",
      "[13, 14, 15, 16]\n"
     ]
    }
   ],
   "source": [
    "def create_even_matrix(n):\n",
    "    l=[[0]*n for _ in range(n)]\n",
    "    even=2\n",
    "    odd=1\n",
    "    for i in range(n):\n",
    "        for j in range(n):\n",
    "            if((i+j)%2==0):\n",
    "                l[i][j]=even\n",
    "                even+=2\n",
    "            else:\n",
    "                l[i][j]=odd\n",
    "                odd+=2\n",
    "    return l\n",
    "x=4\n",
    "for y in create_even_matrix(x):\n",
    "    print(y)"
   ]
  },
  {
   "cell_type": "code",
   "execution_count": null,
   "metadata": {},
   "outputs": [],
   "source": []
  }
 ],
 "metadata": {
  "kernelspec": {
   "display_name": "venv",
   "language": "python",
   "name": "python3"
  },
  "language_info": {
   "codemirror_mode": {
    "name": "ipython",
    "version": 3
   },
   "file_extension": ".py",
   "mimetype": "text/x-python",
   "name": "python",
   "nbconvert_exporter": "python",
   "pygments_lexer": "ipython3",
   "version": "3.12.0"
  }
 },
 "nbformat": 4,
 "nbformat_minor": 2
}
