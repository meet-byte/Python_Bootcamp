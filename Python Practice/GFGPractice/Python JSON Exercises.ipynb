{
 "cells": [
  {
   "cell_type": "markdown",
   "metadata": {},
   "source": [
    "Python JSON Exercises\n"
   ]
  },
  {
   "cell_type": "code",
   "execution_count": 1,
   "metadata": {},
   "outputs": [],
   "source": [
    "import json \n",
    "  \n",
    "# custom class \n",
    "class Student: \n",
    "    def __init__(self, roll_no, name, batch): \n",
    "        self.roll_no = roll_no \n",
    "        self.name = name \n",
    "        self.batch = batch "
   ]
  },
  {
   "cell_type": "code",
   "execution_count": 2,
   "metadata": {},
   "outputs": [],
   "source": [
    "s1 = Student(\"85\", \"Swapnil\", \"IMT\") \n",
    "s2 = Student(\"124\", \"Akash\", \"IMT\") "
   ]
  },
  {
   "cell_type": "code",
   "execution_count": 4,
   "metadata": {},
   "outputs": [],
   "source": [
    "jsonstr1 = json.dumps(s1.__dict__) \n",
    "jsonstr2 = json.dumps(s2.__dict__) "
   ]
  },
  {
   "cell_type": "code",
   "execution_count": 5,
   "metadata": {},
   "outputs": [
    {
     "name": "stdout",
     "output_type": "stream",
     "text": [
      "{\"roll_no\": \"85\", \"name\": \"Swapnil\", \"batch\": \"IMT\"}\n",
      "{\"roll_no\": \"124\", \"name\": \"Akash\", \"batch\": \"IMT\"}\n"
     ]
    }
   ],
   "source": [
    "print(jsonstr1) \n",
    "print(jsonstr2) "
   ]
  },
  {
   "cell_type": "code",
   "execution_count": null,
   "metadata": {},
   "outputs": [],
   "source": []
  }
 ],
 "metadata": {
  "kernelspec": {
   "display_name": "venv",
   "language": "python",
   "name": "python3"
  },
  "language_info": {
   "codemirror_mode": {
    "name": "ipython",
    "version": 3
   },
   "file_extension": ".py",
   "mimetype": "text/x-python",
   "name": "python",
   "nbconvert_exporter": "python",
   "pygments_lexer": "ipython3",
   "version": "3.12.0"
  }
 },
 "nbformat": 4,
 "nbformat_minor": 2
}
