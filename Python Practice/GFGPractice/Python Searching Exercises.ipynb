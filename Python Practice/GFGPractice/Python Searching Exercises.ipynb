{
 "cells": [
  {
   "cell_type": "markdown",
   "metadata": {},
   "source": [
    "Python Searching Exercises\n"
   ]
  },
  {
   "cell_type": "markdown",
   "metadata": {},
   "source": [
    "Last Match\n"
   ]
  },
  {
   "cell_type": "code",
   "execution_count": 3,
   "metadata": {},
   "outputs": [],
   "source": [
    "import re\n",
    "def findLastOccurence(self, A, B):\n",
    "        # code here \n",
    "  \n",
    "      demo=list(re.finditer(B,A))\n",
    "      if not demo:\n",
    "          return -1\n",
    "      las_occu=demo[-1]\n",
    "        \n",
    "      return las_occu.start()+1"
   ]
  },
  {
   "cell_type": "markdown",
   "metadata": {},
   "source": [
    "Pattern searching\n"
   ]
  },
  {
   "cell_type": "markdown",
   "metadata": {},
   "source": [
    "Input: txt = \"abcdefh\", pat = \"bcd\"\n",
    "\n",
    "Output: true\n",
    "\n",
    "Explanation: The pattern \"bcd\" exist in \"abcdefh\"."
   ]
  },
  {
   "cell_type": "code",
   "execution_count": 4,
   "metadata": {},
   "outputs": [],
   "source": [
    "import re\n",
    "def searchPattern(txt, pat):\n",
    "    # code here\n",
    "    \n",
    "        demo=list(re.finditer(pat,txt))\n",
    "        if not demo:\n",
    "            return False\n",
    "        else:\n",
    "            return True\n"
   ]
  },
  {
   "cell_type": "markdown",
   "metadata": {},
   "source": [
    "Binary Search\n"
   ]
  },
  {
   "cell_type": "code",
   "execution_count": 1,
   "metadata": {},
   "outputs": [],
   "source": [
    "class Solution:\n",
    "    def binarysearch(self, arr, k):\n",
    "        low=0\n",
    "        high=len(arr)-1\n",
    "        \n",
    "        while(low<=high):\n",
    "            mid=(low+high)//2\n",
    "            if arr[mid]<k:\n",
    "                low=mid+1\n",
    "            elif arr[mid]>=k:\n",
    "                high=mid-1\n",
    "            \n",
    "        if low==len(arr):return -1\n",
    "        if arr[low]!=k: return -1\n",
    "        return low\n",
    "        "
   ]
  },
  {
   "cell_type": "markdown",
   "metadata": {},
   "source": [
    "Python Program for Linear Search\n"
   ]
  },
  {
   "cell_type": "code",
   "execution_count": 2,
   "metadata": {},
   "outputs": [
    {
     "name": "stdout",
     "output_type": "stream",
     "text": [
      "element is found at index:3\n"
     ]
    }
   ],
   "source": [
    "def linear_search(arr, target):\n",
    " \n",
    "    for index in range(len(arr)):\n",
    "\n",
    "        if arr[index] == target:\n",
    "            return index\n",
    "    \n",
    "    return -1\n",
    "\n",
    "arr = [10, 23, 45, 70, 11, 15]\n",
    "target = 70\n",
    "\n",
    "result = linear_search(arr, target)\n",
    "if result!=-1:\n",
    "    print(\"element is found at index:{}\".format(result))\n",
    "else:\n",
    "    print(\"element not present\")"
   ]
  },
  {
   "cell_type": "markdown",
   "metadata": {},
   "source": []
  },
  {
   "cell_type": "code",
   "execution_count": 5,
   "metadata": {},
   "outputs": [
    {
     "name": "stdout",
     "output_type": "stream",
     "text": [
      "element is found at index:3\n"
     ]
    }
   ],
   "source": [
    "def binary_search(arr, low, high, x):\n",
    "     if high >= low:\n",
    " \n",
    "        mid = (high + low) // 2\n",
    " \n",
    "        if arr[mid] == x:\n",
    "            return mid\n",
    " \n",
    "        elif arr[mid] > x:\n",
    "            return binary_search(arr, low, mid - 1, x)\n",
    " \n",
    "        else:\n",
    "            return binary_search(arr, mid + 1, high, x)\n",
    " \n",
    "     else:\n",
    "        return -1\n",
    "arr = [ 2, 3, 4, 10, 40 ]\n",
    "x = 10    \n",
    "result = binary_search(arr,0,len(arr)-1,x )\n",
    "if result!=-1:\n",
    "    print(\"element is found at index:{}\".format(result))\n",
    "else:\n",
    "    print(\"element not present\")"
   ]
  },
  {
   "cell_type": "markdown",
   "metadata": {},
   "source": [
    "Search Pattern (Rabin-Karp Algorithm)\n",
    "\n",
    "Given two strings, one is a text string and the other is a pattern string. The task is to print the starting indexes of all the occurrences of the pattern string in the text string. For printing, the Starting Index of a string should be taken as 1. The strings will only contain lowercase English alphabets ('a' to 'z').\n",
    "\n",
    "Example 1:\n",
    "\n",
    "Input: \n",
    "text = \"birthdayboy\"\n",
    "pattern = \"birth\"\n",
    "Output: \n",
    "[1]\n",
    "Explanation: \n",
    "The string \"birth\" occurs at index 1 in text."
   ]
  },
  {
   "cell_type": "code",
   "execution_count": 6,
   "metadata": {},
   "outputs": [],
   "source": [
    "class Solution:\n",
    "    def search(self, pattern, text):\n",
    "        # code here\n",
    "        n=len(text)\n",
    "        m=len(pattern)\n",
    "        j=0\n",
    "        ls=[]\n",
    "        for i in range(m-1,n):\n",
    "            if text[j:i+1]==pattern:\n",
    "                ls.append(j+1)\n",
    "            j+=1\n",
    "        return ls"
   ]
  },
  {
   "cell_type": "markdown",
   "metadata": {},
   "source": [
    "Count Occurences of Anagrams\n"
   ]
  },
  {
   "cell_type": "code",
   "execution_count": 7,
   "metadata": {},
   "outputs": [],
   "source": [
    "\n",
    "\t\n",
    "\tdef search(self,pat, txt):\n",
    "\t    dict1={}\n",
    "\t    dict2={}\n",
    "\t    m=len(pat)\n",
    "\t    n=len(txt)\n",
    "\t    for text in pat:\n",
    "\t        if text in dict1:\n",
    "\t            dict1[text]+=1\n",
    "\t        else:\n",
    "\t            dict1[text]=1\n",
    "\t            \n",
    "\t    for x in range(len(pat)):\n",
    "\t        if txt[x] in dict2:\n",
    "\t            dict2[txt[x]]+=1\n",
    "\t        else:\n",
    "\t            dict2[txt[x]]=1\n",
    "\t     \n",
    "\t   \n",
    "\t    j=0\n",
    "\t    cnt=0\n",
    "\t    for i in range(m-1,n):\n",
    "\t       if i>m-1:\n",
    "\t           if txt[i] in dict2:\n",
    "\t               dict2[txt[i]]+=1\n",
    "\t           else:\n",
    "\t               dict2[txt[i]]=1\n",
    "\t       if dict1==dict2:\n",
    "\t           cnt+=1\n",
    "\t       dict2[txt[j]]-=1\n",
    "\t       if dict2[txt[j]]==0:\n",
    "\t           del dict2[txt[j]]\n",
    "\t       j+=1\n",
    "\t        \n",
    "\t    return cnt\n",
    "\n"
   ]
  },
  {
   "cell_type": "code",
   "execution_count": null,
   "metadata": {},
   "outputs": [],
   "source": []
  }
 ],
 "metadata": {
  "kernelspec": {
   "display_name": "venv",
   "language": "python",
   "name": "python3"
  },
  "language_info": {
   "codemirror_mode": {
    "name": "ipython",
    "version": 3
   },
   "file_extension": ".py",
   "mimetype": "text/x-python",
   "name": "python",
   "nbconvert_exporter": "python",
   "pygments_lexer": "ipython3",
   "version": "3.12.0"
  }
 },
 "nbformat": 4,
 "nbformat_minor": 2
}
