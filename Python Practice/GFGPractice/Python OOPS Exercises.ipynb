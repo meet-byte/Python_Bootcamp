{
 "cells": [
  {
   "cell_type": "markdown",
   "metadata": {},
   "source": [
    "Python OOPS Exercises\n"
   ]
  },
  {
   "cell_type": "markdown",
   "metadata": {},
   "source": [
    "Python program to build flashcard using class in Python\n"
   ]
  },
  {
   "cell_type": "markdown",
   "metadata": {},
   "source": [
    "we will see how to build a flashcard using class in python. A flashcard is a card having information on both sides, which can be used as an aid in memoization. Flashcards usually have a question on one side and an answer on the other. Particularly in this article, we are going to create flashcards that will be having a word and its meaning.\n",
    "\n"
   ]
  },
  {
   "cell_type": "code",
   "execution_count": 1,
   "metadata": {},
   "outputs": [
    {
     "name": "stdout",
     "output_type": "stream",
     "text": [
      "start the game\n",
      "enter the word that you wanna to add to the list: \n",
      "enter the meaning of the word:\n",
      "dO YOU want to continue? enter 0 for exit and 1 for playing\n",
      "enter the word that you wanna to add to the list: \n",
      "enter the meaning of the word:\n",
      "dO YOU want to continue? enter 0 for exit and 1 for playing\n",
      "enter the word that you wanna to add to the list: \n",
      "enter the meaning of the word:\n",
      "dO YOU want to continue? enter 0 for exit and 1 for playing\n",
      "enter the word that you wanna to add to the list: \n",
      "enter the meaning of the word:\n",
      "dO YOU want to continue? enter 0 for exit and 1 for playing\n",
      "enter the word that you wanna to add to the list: \n",
      "enter the meaning of the word:\n",
      "dO YOU want to continue? enter 0 for exit and 1 for playing\n",
      "enter the word that you wanna to add to the list: \n",
      "enter the meaning of the word:\n",
      "dO YOU want to continue? enter 0 for exit and 1 for playing\n",
      "enter the word that you wanna to add to the list: \n",
      "enter the meaning of the word:\n",
      "dO YOU want to continue? enter 0 for exit and 1 for playing\n",
      "enter the word that you wanna to add to the list: \n",
      "enter the meaning of the word:\n",
      "dO YOU want to continue? enter 0 for exit and 1 for playing\n",
      "enter the word that you wanna to add to the list: \n",
      "enter the meaning of the word:\n",
      "dO YOU want to continue? enter 0 for exit and 1 for playing\n",
      "enter the word that you wanna to add to the list: \n",
      "enter the meaning of the word:\n",
      "dO YOU want to continue? enter 0 for exit and 1 for playing\n",
      "enter the word that you wanna to add to the list: \n",
      "enter the meaning of the word:\n",
      "dO YOU want to continue? enter 0 for exit and 1 for playing\n",
      "enter the word that you wanna to add to the list: \n",
      "enter the meaning of the word:\n",
      "dO YOU want to continue? enter 0 for exit and 1 for playing\n",
      "enter the word that you wanna to add to the list: \n",
      "enter the meaning of the word:\n",
      "dO YOU want to continue? enter 0 for exit and 1 for playing\n",
      "enter the word that you wanna to add to the list: \n",
      "enter the meaning of the word:\n",
      "dO YOU want to continue? enter 0 for exit and 1 for playing\n",
      "enter the word that you wanna to add to the list: \n",
      "enter the meaning of the word:\n",
      "dO YOU want to continue? enter 0 for exit and 1 for playing\n",
      "enter the word that you wanna to add to the list: \n",
      "enter the meaning of the word:\n",
      "dO YOU want to continue? enter 0 for exit and 1 for playing\n",
      "enter the word that you wanna to add to the list: \n",
      "enter the meaning of the word:\n",
      "dO YOU want to continue? enter 0 for exit and 1 for playing\n"
     ]
    }
   ],
   "source": []
  },
  {
   "cell_type": "code",
   "execution_count": null,
   "metadata": {},
   "outputs": [
    {
     "name": "stdout",
     "output_type": "stream",
     "text": [
      "start the game\n",
      "word is :mEET and the meaning is MAVANI\n",
      "word is :mEET and the meaning is MAVANI\n"
     ]
    }
   ],
   "source": [
    "class flashcard:\n",
    "    def __init__(self, word, meaning):\n",
    "        self.word = word\n",
    "        self.meaning = meaning\n",
    "\n",
    "    def __str__(self):\n",
    "        return \"word is :{} and the meaning is {}\".format(word, meaning)\n",
    "\n",
    "\n",
    "cards = []\n",
    "print(\"start the game\")\n",
    "while True:\n",
    "    word = input(\"enter the word that you wanna to add to the list: \")\n",
    "\n",
    "    meaning = input(\"enter the meaning of the word:\")\n",
    "    cards.append(flashcard(word, meaning))\n",
    "\n",
    "    dec = int(input(\"dO YOU want to continue? enter 0 for exit and 1 for playing\"))\n",
    "    if dec == 0:\n",
    "        break\n",
    "    else:\n",
    "        pass\n",
    "\n",
    "for x in cards:\n",
    "    print(x)\n"
   ]
  },
  {
   "cell_type": "markdown",
   "metadata": {},
   "source": [
    "Shuffle a deck of card with OOPS in Python\n"
   ]
  },
  {
   "cell_type": "code",
   "execution_count": 9,
   "metadata": {},
   "outputs": [],
   "source": [
    "class Cards:\n",
    "    global suits, ranks\n",
    "    suits = [\"hearts\", \"clubs\", \"diomonds\", \"spades\"]\n",
    "    ranks = [\"2\", \"3\", \"4\", \"5\", \"6\", \"7\", \"8\", \"9\", \"10\", \"J\", \"Q\", \"K\", \"A\"]\n",
    "\n",
    "    def __init__(self):\n",
    "        pass\n"
   ]
  },
  {
   "cell_type": "code",
   "execution_count": 32,
   "metadata": {},
   "outputs": [],
   "source": [
    "class Deck(Cards):\n",
    "    def __init__(self):\n",
    "        Cards.__init__(self)\n",
    "        self.card_set = []\n",
    "        for x in suits:\n",
    "            for y in ranks:\n",
    "                self.card_set.append((y) + \" of \" + (x))\n",
    "\n",
    "    def pop_card(self):\n",
    "        if len(self.card_set) < 0:\n",
    "            print(\"card cannot be popped\")\n",
    "        else:\n",
    "            popped_card = self.card_set.pop()\n",
    "            print(\"removed card:{}\".format(popped_card))\n"
   ]
  },
  {
   "cell_type": "code",
   "execution_count": 40,
   "metadata": {},
   "outputs": [],
   "source": [
    "from random import shuffle\n",
    "\n",
    "\n",
    "class Shuffle(Deck):\n",
    "    def __init__(self):\n",
    "        Deck.__init__(self)\n",
    "\n",
    "    def shuffle(self):\n",
    "        if len(self.card_set) < 52:\n",
    "            print(\"cannot shuffle the card\")\n",
    "        else:\n",
    "            shuffle(self.card_set)\n",
    "        return self.card_set\n",
    "\n",
    "    def popCard(self):\n",
    "        if len(self.card_set) == 0:\n",
    "            return \"NO CARDS CAN BE POPPED FURTHER\"\n",
    "        else:\n",
    "            cardpopped = self.card_set.pop()\n",
    "            return cardpopped\n"
   ]
  },
  {
   "cell_type": "code",
   "execution_count": 41,
   "metadata": {},
   "outputs": [],
   "source": [
    "objCards = Cards()\n",
    "objDeck = Deck()\n"
   ]
  },
  {
   "cell_type": "code",
   "execution_count": 42,
   "metadata": {},
   "outputs": [
    {
     "name": "stdout",
     "output_type": "stream",
     "text": [
      "['2 of hearts', '3 of hearts', '4 of hearts', '5 of hearts', '6 of hearts', '7 of hearts', '8 of hearts', '9 of hearts', '10 of hearts', '11 of hearts', '12 of hearts', '13 of hearts', '14 of hearts', '2 of clubs', '3 of clubs', '4 of clubs', '5 of clubs', '6 of clubs', '7 of clubs', '8 of clubs', '9 of clubs', '10 of clubs', '11 of clubs', '12 of clubs', '13 of clubs', '14 of clubs', '2 of diomonds', '3 of diomonds', '4 of diomonds', '5 of diomonds', '6 of diomonds', '7 of diomonds', '8 of diomonds', '9 of diomonds', '10 of diomonds', '11 of diomonds', '12 of diomonds', '13 of diomonds', '14 of diomonds', '2 of spades', '3 of spades', '4 of spades', '5 of spades', '6 of spades', '7 of spades', '8 of spades', '9 of spades', '10 of spades', '11 of spades', '12 of spades', '13 of spades', '14 of spades']\n"
     ]
    }
   ],
   "source": [
    "player1card = objDeck.card_set\n",
    "print(player1card)\n"
   ]
  },
  {
   "cell_type": "code",
   "execution_count": 43,
   "metadata": {},
   "outputs": [],
   "source": [
    "shuffle_cards = Shuffle()\n",
    "player_2_cards = shuffle_cards.shuffle()\n"
   ]
  },
  {
   "cell_type": "code",
   "execution_count": 44,
   "metadata": {},
   "outputs": [
    {
     "name": "stdout",
     "output_type": "stream",
     "text": [
      "['4 of diomonds', '2 of clubs', '9 of spades', '13 of clubs', '13 of hearts', '9 of hearts', '12 of hearts', '10 of clubs', '8 of clubs', '13 of spades', '14 of spades', '9 of clubs', '3 of clubs', '10 of spades', '5 of spades', '8 of spades', '7 of spades', '6 of diomonds', '10 of hearts', '13 of diomonds', '5 of hearts', '4 of spades', '4 of hearts', '12 of spades', '9 of diomonds', '11 of diomonds', '11 of spades', '2 of diomonds', '11 of clubs', '5 of diomonds', '3 of spades', '7 of hearts', '10 of diomonds', '6 of hearts', '2 of hearts', '2 of spades', '8 of hearts', '14 of clubs', '4 of clubs', '7 of clubs', '6 of clubs', '3 of diomonds', '7 of diomonds', '6 of spades', '14 of diomonds', '12 of clubs', '3 of hearts', '11 of hearts', '14 of hearts', '12 of diomonds', '5 of clubs', '8 of diomonds']\n"
     ]
    }
   ],
   "source": [
    "print(player_2_cards)\n"
   ]
  },
  {
   "cell_type": "code",
   "execution_count": 46,
   "metadata": {},
   "outputs": [
    {
     "name": "stdout",
     "output_type": "stream",
     "text": [
      "removed card:13 of spades\n",
      "remove card from deck-1 None\n",
      "remove card from deck-2 5 of clubs\n"
     ]
    }
   ],
   "source": [
    "print(\"remove card from deck-1 {}\".format(objDeck.pop_card()))\n",
    "print(\"remove card from deck-2 {}\".format(shuffle_cards.popCard()))\n"
   ]
  },
  {
   "cell_type": "markdown",
   "metadata": {},
   "source": [
    "How to create an empty class in Python?\n"
   ]
  },
  {
   "cell_type": "code",
   "execution_count": 52,
   "metadata": {},
   "outputs": [],
   "source": [
    "class meet:\n",
    "    pass\n",
    "\n",
    "\n",
    "name = meet()\n",
    "name.name1 = \"meet\"\n",
    "name.office = \"GeeksforGeeks\"\n",
    "\n",
    "\n",
    "## in python we can simplally pass the defination of the class program and\n",
    "# then manually define the elemets of the class during the execution of the program\n"
   ]
  },
  {
   "cell_type": "code",
   "execution_count": 16,
   "metadata": {},
   "outputs": [],
   "source": [
    "ls = []\n"
   ]
  },
  {
   "cell_type": "code",
   "execution_count": 32,
   "metadata": {},
   "outputs": [],
   "source": [
    "class student:\n",
    "\n",
    "    def __init__(self, name, rno, mark1, mark2):\n",
    "        self.name = name\n",
    "        self.rno = rno\n",
    "        self.mark1 = mark1\n",
    "        self.mark2 = mark2\n",
    "\n",
    "    def accept(self, Name, Rno, Mark1, Mark2):\n",
    "        ob = student(Name, Rno, Mark1, Mark2)\n",
    "        ls.append(ob)\n",
    "\n",
    "    def display(self, obj):\n",
    "        print(\"name:\", obj.name)\n",
    "        print(\"Roll No:\", obj.rno)\n",
    "        print(\"Mark-1:\", obj.mark1)\n",
    "        print(\"mark-2: \", obj.mark2)\n",
    "\n",
    "    def search(self, obj, rno):\n",
    "        for i in range(self.ls.__len__()):\n",
    "            if ls[i].rno == rno:\n",
    "                return i\n",
    "\n",
    "    def delete(self, rno):\n",
    "        x = self.search(self, rno)\n",
    "        del self.ls[x]\n",
    "\n",
    "    def update(self, rno, upname):\n",
    "        x = self.search(self, rno)\n",
    "        ls[x][name] = upname\n"
   ]
  },
  {
   "cell_type": "code",
   "execution_count": 33,
   "metadata": {},
   "outputs": [],
   "source": [
    "ls = []\n",
    "obj = student(\"\", 0, 0, 0)\n"
   ]
  },
  {
   "cell_type": "code",
   "execution_count": null,
   "metadata": {},
   "outputs": [],
   "source": [
    "print(\"\\nOperations used, \")\n",
    "print(\n",
    "    \"\\n1.Accept Student details\\n2.Display Student Details\\n3.Search Details of a Student\\n4.Delete Details of Student\\n5.Update Student Details\\n6.Exit\"\n",
    ")\n"
   ]
  },
  {
   "cell_type": "code",
   "execution_count": 38,
   "metadata": {},
   "outputs": [
    {
     "name": "stdout",
     "output_type": "stream",
     "text": [
      "\n",
      "\n",
      "\n",
      "List of Students\n",
      "\n",
      "name: A\n",
      "Roll No: 1\n",
      "Mark-1: 100\n",
      "mark-2:  100\n",
      "name: B\n",
      "Roll No: 2\n",
      "Mark-1: 90\n",
      "mark-2:  90\n",
      "name: C\n",
      "Roll No: 3\n",
      "Mark-1: 80\n",
      "mark-2:  80\n",
      "name: A\n",
      "Roll No: 1\n",
      "Mark-1: 100\n",
      "mark-2:  100\n",
      "name: B\n",
      "Roll No: 2\n",
      "Mark-1: 90\n",
      "mark-2:  90\n",
      "name: C\n",
      "Roll No: 3\n",
      "Mark-1: 80\n",
      "mark-2:  80\n",
      "name: A\n",
      "Roll No: 1\n",
      "Mark-1: 100\n",
      "mark-2:  100\n",
      "name: B\n",
      "Roll No: 2\n",
      "Mark-1: 90\n",
      "mark-2:  90\n",
      "name: C\n",
      "Roll No: 3\n",
      "Mark-1: 80\n",
      "mark-2:  80\n",
      "Thank You !\n"
     ]
    }
   ],
   "source": [
    "while True:\n",
    "    ch = int(input(\"Enter choice:\"))\n",
    "    if(ch == 1):\n",
    "        obj.accept(\"A\", 1, 100, 100)\n",
    "        obj.accept(\"B\", 2, 90, 90)\n",
    "        obj.accept(\"C\", 3, 80, 80)\n",
    " \n",
    "    elif(ch == 2):\n",
    "        print(\"\\n\")\n",
    "        print(\"\\nList of Students\\n\")\n",
    "        for i in range(ls.__len__()):\n",
    "            obj.display(ls[i])\n",
    " \n",
    "    elif(ch == 3):\n",
    "        print(\"\\n Student Found, \")\n",
    "        s = obj.search(2)\n",
    "        obj.display(ls[s])\n",
    " \n",
    "    elif(ch == 4):\n",
    "        obj.delete(2)\n",
    "        print(ls.__len__())\n",
    "        print(\"List after deletion\")\n",
    "        for i in range(ls.__len__()):\n",
    "            obj.display(ls[i])\n",
    " \n",
    "    elif(ch == 5):\n",
    "        obj.update(3, 2)\n",
    "        print(ls.__len__())\n",
    "        print(\"List after updation\")\n",
    "        for i in range(ls.__len__()):\n",
    "            obj.display(ls[i])\n",
    "    else:\n",
    "        print(\"Thank You !\")\n",
    "        break"
   ]
  },
  {
   "cell_type": "code",
   "execution_count": 35,
   "metadata": {},
   "outputs": [
    {
     "name": "stdout",
     "output_type": "stream",
     "text": [
      "\n",
      "\n",
      "\n",
      "List of Students\n",
      "\n",
      "name: A\n",
      "Roll No: 1\n",
      "Mark-1: 100\n",
      "mark-2:  100\n",
      "name: B\n",
      "Roll No: 2\n",
      "Mark-1: 90\n",
      "mark-2:  90\n",
      "name: C\n",
      "Roll No: 3\n",
      "Mark-1: 80\n",
      "mark-2:  80\n"
     ]
    }
   ],
   "source": []
  },
  {
   "cell_type": "code",
   "execution_count": null,
   "metadata": {},
   "outputs": [],
   "source": []
  }
 ],
 "metadata": {
  "kernelspec": {
   "display_name": "venv",
   "language": "python",
   "name": "python3"
  },
  "language_info": {
   "codemirror_mode": {
    "name": "ipython",
    "version": 3
   },
   "file_extension": ".py",
   "mimetype": "text/x-python",
   "name": "python",
   "nbconvert_exporter": "python",
   "pygments_lexer": "ipython3",
   "version": "3.12.0"
  }
 },
 "nbformat": 4,
 "nbformat_minor": 2
}
