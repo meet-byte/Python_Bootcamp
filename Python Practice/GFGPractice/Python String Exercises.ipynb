{
 "cells": [
  {
   "cell_type": "markdown",
   "metadata": {},
   "source": [
    "Python String Exercises\n"
   ]
  },
  {
   "cell_type": "markdown",
   "metadata": {},
   "source": [
    "String Functions I - Python\n"
   ]
  },
  {
   "cell_type": "code",
   "execution_count": null,
   "metadata": {},
   "outputs": [],
   "source": [
    "def trim(str):\n",
    "    return str.strip()     \n",
    "\n",
    "def exists(str, x):\n",
    "    return str.find(x)    \n",
    "\n",
    "def titleIt(str):\n",
    "    return str.title()     \n",
    "\n",
    "def casesSwap(str):\n",
    "    if str.islower():\n",
    "        return str.upper()\n",
    "    else:\n",
    "        return str.lower()"
   ]
  },
  {
   "cell_type": "markdown",
   "metadata": {},
   "source": [
    "String Functions - II - Python\n"
   ]
  },
  {
   "cell_type": "code",
   "execution_count": 1,
   "metadata": {},
   "outputs": [],
   "source": [
    "def gfg(S):\n",
    "    b = S.lower()\n",
    "    if(b.startswith('gfg') and b.endswith('gfg')):\n",
    "        print (\"Yes\")\n",
    "    else:\n",
    "        print (\"No\")\n"
   ]
  },
  {
   "cell_type": "markdown",
   "metadata": {},
   "source": [
    "Convert String to LowerCase\n"
   ]
  },
  {
   "cell_type": "code",
   "execution_count": 2,
   "metadata": {},
   "outputs": [],
   "source": [
    "class Solution:\n",
    "    def toLower (self , s : str)-> str :\n",
    "        # code here \n",
    "        return s.lower()"
   ]
  },
  {
   "cell_type": "markdown",
   "metadata": {},
   "source": [
    "Reverse Words\n"
   ]
  },
  {
   "cell_type": "code",
   "execution_count": 3,
   "metadata": {},
   "outputs": [],
   "source": [
    "class Solution:\n",
    "    # Function to reverse words in a given string.\n",
    "    def reverseWords(self, s):\n",
    "        m1=s.split()\n",
    "        m1.reverse()\n",
    "        s=\"\"\n",
    "        for i in range(0,len(m1)):\n",
    "            if i==len(m1)-1:\n",
    "                s+=m1[i]\n",
    "            else:\n",
    "                s+=m1[i]+\" \"\n",
    "        return s\n",
    "        "
   ]
  },
  {
   "cell_type": "markdown",
   "metadata": {},
   "source": [
    "Welcome aboard - Python\n"
   ]
  },
  {
   "cell_type": "code",
   "execution_count": 4,
   "metadata": {},
   "outputs": [],
   "source": [
    "# Function to Welcome the person\n",
    "def welcomeAboard(name):\n",
    "    print (f\"Welcome {name}\") "
   ]
  },
  {
   "cell_type": "markdown",
   "metadata": {},
   "source": [
    "Slicing in String - Python\n"
   ]
  },
  {
   "cell_type": "code",
   "execution_count": 5,
   "metadata": {},
   "outputs": [],
   "source": [
    "def join_middle(bound_by, tag_name):\n",
    "    \n",
    "    n=int(len(bound_by)/2)\n",
    "  # complete the statement below to return the string as required\n",
    "\n",
    "    return bound_by[0 :   n] + tag_name + bound_by[n: ]"
   ]
  },
  {
   "cell_type": "markdown",
   "metadata": {},
   "source": [
    "Repeat the Strings - Python\n"
   ]
  },
  {
   "cell_type": "code",
   "execution_count": 6,
   "metadata": {},
   "outputs": [],
   "source": [
    "def combo_string(a, b):\n",
    "    if len(a)<len(b):\n",
    "        short=a\n",
    "        longer=b\n",
    "    else:\n",
    "        short=b\n",
    "        longer=a\n",
    "  \n",
    "    return short+longer+short"
   ]
  },
  {
   "cell_type": "markdown",
   "metadata": {},
   "source": [
    "Palindrome String\n"
   ]
  },
  {
   "cell_type": "code",
   "execution_count": 8,
   "metadata": {},
   "outputs": [],
   "source": [
    "class Solution:\n",
    "    def isPalindrome(self, s: str) -> bool:\n",
    "       s1=s[::-1]\n",
    "       if s1==s:\n",
    "           return 1\n",
    "       else:\n",
    "           return 0\n",
    "\t"
   ]
  },
  {
   "cell_type": "markdown",
   "metadata": {},
   "source": [
    "String Duplicates Removal\n"
   ]
  },
  {
   "cell_type": "code",
   "execution_count": 10,
   "metadata": {},
   "outputs": [],
   "source": [
    "class Solution:\n",
    "\tdef removeDuplicates(self, s):\n",
    "\t   \n",
    "\t   m=''\n",
    "\t   for st in s:\n",
    "\t       if m.find(st)!=-1:\n",
    "\t           pass\n",
    "\t       else:\n",
    "\t           m+=st\n",
    "\t   return m\n"
   ]
  },
  {
   "cell_type": "markdown",
   "metadata": {},
   "source": [
    "Anagram\n"
   ]
  },
  {
   "cell_type": "code",
   "execution_count": 11,
   "metadata": {},
   "outputs": [],
   "source": [
    "class Solution:\n",
    "    \n",
    "    #Function is to check whether two strings are anagram of each other or not.\n",
    "    def areAnagrams(self, s1, s2):\n",
    "        d1={}\n",
    "        d2={}\n",
    "        for x in s1:\n",
    "            d1[x]=0\n",
    "        for y in s2:\n",
    "            d2[y]=0\n",
    "        for x in s1:\n",
    "            d1[x]+=1\n",
    "        for y in s2:\n",
    "            d2[y]+=1\n",
    "        if d1==d2:\n",
    "            return 1\n",
    "        else:\n",
    "            return 0"
   ]
  },
  {
   "cell_type": "markdown",
   "metadata": {},
   "source": [
    "Reverse Words in a Given String in Python\n"
   ]
  },
  {
   "cell_type": "code",
   "execution_count": 13,
   "metadata": {},
   "outputs": [
    {
     "name": "stdout",
     "output_type": "stream",
     "text": [
      "code practice quiz geeks\n"
     ]
    }
   ],
   "source": [
    "st=input(\"enter a string\")\n",
    "s=st.split()[::-1]\n",
    "l=[]\n",
    "for i in s:\n",
    "    l.append(i)\n",
    "print(\" \".join(l))"
   ]
  },
  {
   "cell_type": "markdown",
   "metadata": {},
   "source": [
    "Find Length of String in Python\n"
   ]
  },
  {
   "cell_type": "code",
   "execution_count": 16,
   "metadata": {},
   "outputs": [
    {
     "name": "stdout",
     "output_type": "stream",
     "text": [
      "method-1:10\n",
      "hello meet\n",
      "10\n"
     ]
    }
   ],
   "source": [
    "st=input(\"enter a string\")\n",
    "print(\"method-1:{}\".format(len(st)))\n",
    "\n",
    "##second method\n",
    "count=0\n",
    "for ch in st:\n",
    "    count+=1\n",
    "print(st)\n",
    "print(count)"
   ]
  },
  {
   "cell_type": "markdown",
   "metadata": {},
   "source": [
    "Python program to print even length words in a string\n"
   ]
  },
  {
   "cell_type": "code",
   "execution_count": 19,
   "metadata": {},
   "outputs": [
    {
     "name": "stdout",
     "output_type": "stream",
     "text": [
      "String:This is a python language\n",
      "This\n",
      "is\n",
      "python\n",
      "language\n"
     ]
    }
   ],
   "source": [
    "st=input(\"enter a string\")\n",
    "s=st.split()\n",
    "print(\"String:{}\".format(st))\n",
    "for ch in s:\n",
    "    if len(ch)%2==0:\n",
    "        print(ch)\n",
    "    else:\n",
    "        pass"
   ]
  },
  {
   "cell_type": "markdown",
   "metadata": {},
   "source": [
    "How to Remove Letters From a String in Python\n"
   ]
  },
  {
   "cell_type": "code",
   "execution_count": 24,
   "metadata": {},
   "outputs": [
    {
     "name": "stdout",
     "output_type": "stream",
     "text": [
      "string:hello\n",
      "removed char:l\n",
      "Updated string:heo\n"
     ]
    }
   ],
   "source": [
    "st=input(\"enter a string\")\n",
    "p=(input(\"enter the char to remove from string\"))\n",
    "print(\"string:{}\".format(st))\n",
    "print(\"removed char:{}\".format(p))\n",
    "      \n",
    "st1=st.replace(p,\"\")\n",
    "print(\"Updated string:{}\".format(st1))"
   ]
  },
  {
   "cell_type": "code",
   "execution_count": 27,
   "metadata": {},
   "outputs": [
    {
     "name": "stdout",
     "output_type": "stream",
     "text": [
      "string:hello\n",
      "removed char:l\n",
      "Updated string:heo\n"
     ]
    }
   ],
   "source": [
    "st=input(\"enter a string\")\n",
    "p=(input(\"enter the char to remove from string\"))\n",
    "print(\"string:{}\".format(st))\n",
    "print(\"removed char:{}\".format(p))\n",
    "\n",
    "\n",
    "s=\"\".join([c for c in st if c!=str(p)])\n",
    "print(\"Updated string:{}\".format(s))"
   ]
  },
  {
   "cell_type": "markdown",
   "metadata": {},
   "source": [
    "Python program to check whether the string is Symmetrical or Palindrome\n"
   ]
  },
  {
   "cell_type": "code",
   "execution_count": 28,
   "metadata": {},
   "outputs": [
    {
     "name": "stdout",
     "output_type": "stream",
     "text": [
      "String is not pallindrome\n"
     ]
    }
   ],
   "source": [
    "st=input(\"enter a string\")\n",
    "s=st[::-1]\n",
    "if(s==st):\n",
    "    print(\"string is pallindrome\")\n",
    "else:\n",
    "    print(\"String is not pallindrome\")"
   ]
  },
  {
   "cell_type": "code",
   "execution_count": 34,
   "metadata": {},
   "outputs": [
    {
     "name": "stdout",
     "output_type": "stream",
     "text": [
      "The entered string is not symmetrical\n"
     ]
    }
   ],
   "source": [
    "st=input(\"enter a string\")\n",
    "m=len(st)\n",
    "if m%2==0:\n",
    "    no=int(m/2)\n",
    "    st1=st[:no]\n",
    "    st2=st[no:]\n",
    "    if st1==st2:\n",
    "        print(\"The entered string is symmetrical\")\n",
    "    else:\n",
    "        print(\"The entered string is not symmetrical\")\n",
    "else:\n",
    "    no=int(m/2)\n",
    "    st1=st[:no]\n",
    "    st2=st[no+1:]\n",
    "    if st1==st2:\n",
    "        print(\"The entered string is symmetrical\")\n",
    "    else:\n",
    "        print(\"The entered string is not symmetrical\")\n",
    "\n",
    "        "
   ]
  },
  {
   "cell_type": "code",
   "execution_count": null,
   "metadata": {},
   "outputs": [],
   "source": []
  }
 ],
 "metadata": {
  "kernelspec": {
   "display_name": "venv",
   "language": "python",
   "name": "python3"
  },
  "language_info": {
   "codemirror_mode": {
    "name": "ipython",
    "version": 3
   },
   "file_extension": ".py",
   "mimetype": "text/x-python",
   "name": "python",
   "nbconvert_exporter": "python",
   "pygments_lexer": "ipython3",
   "version": "3.12.0"
  }
 },
 "nbformat": 4,
 "nbformat_minor": 2
}
