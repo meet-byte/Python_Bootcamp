{
 "cells": [
  {
   "cell_type": "markdown",
   "metadata": {},
   "source": [
    "___\n",
    "\n",
    "<a href='https://www.udemy.com/user/joseportilla/'><img src='../Pierian_Data_Logo.png'/></a>\n",
    "___\n",
    "<center><em>Content Copyright by Pierian Data</em></center>"
   ]
  },
  {
   "cell_type": "markdown",
   "metadata": {},
   "source": [
    "# Guessing Game Challenge\n",
    "\n",
    "Let's use `while` loops to create a guessing game.\n",
    "\n",
    "The Challenge:\n",
    "\n",
    "Write a program that picks a random integer from 1 to 100, and has players guess the number. The rules are:\n",
    "\n",
    "1. If a player's guess is less than 1 or greater than 100, say \"OUT OF BOUNDS\"\n",
    "2. On a player's first turn, if their guess is\n",
    " * within 10 of the number, return \"WARM!\"\n",
    " * further than 10 away from the number, return \"COLD!\"\n",
    "3. On all subsequent turns, if a guess is \n",
    " * closer to the number than the previous guess return \"WARMER!\"\n",
    " * farther from the number than the previous guess, return \"COLDER!\"\n",
    "4. When the player's guess equals the number, tell them they've guessed correctly *and* how many guesses it took!\n",
    "\n",
    "You can try this from scratch, or follow the steps outlined below. A separate Solution notebook has been provided. Good luck!\n"
   ]
  },
  {
   "cell_type": "markdown",
   "metadata": {},
   "source": [
    "#### First, pick a random integer from 1 to 100 using the random module and assign it to a variable\n",
    "\n",
    "Note: `random.randint(a,b)` returns a random integer in range `[a, b]`, including both end points."
   ]
  },
  {
   "cell_type": "code",
   "execution_count": 15,
   "metadata": {},
   "outputs": [],
   "source": [
    "import random\n",
    "\n",
    "num = random.randint(1,100)"
   ]
  },
  {
   "cell_type": "markdown",
   "metadata": {},
   "source": [
    "#### Next, print an introduction to the game and explain the rules"
   ]
  },
  {
   "cell_type": "code",
   "execution_count": 18,
   "metadata": {},
   "outputs": [
    {
     "name": "stdout",
     "output_type": "stream",
     "text": [
      "WELCOME TO GUESS ME!\n",
      "I'm thinking of a number between 1 and 100\n",
      "If guess is more than 10 away from my number, you're COLD\n",
      "If guess is within 10 of my number, you're WARM\n",
      "If guess is farther than your most recent guess, you're getting COLDER\n",
      "If guess is closer than your most recent guess,you're getting WARMER\n",
      "LET'S PLAY!\n"
     ]
    }
   ],
   "source": [
    "print(\"WELCOME TO GUESS ME!\")\n",
    "print(\"I'm thinking of a number between 1 and 100\")\n",
    "print(\"If guess is more than 10 away from my number, you're COLD\")\n",
    "print(\"If guess is within 10 of my number, you're WARM\")\n",
    "print(\"If guess is farther than your most recent guess, you're getting COLDER\")\n",
    "print(\"If guess is closer than your most recent guess,you're getting WARMER\")\n",
    "print(\"LET'S PLAY!\")"
   ]
  },
  {
   "cell_type": "markdown",
   "metadata": {},
   "source": [
    "#### Create a list to store guesses\n",
    "\n",
    "Hint: zero is a good placeholder value. It's useful because it evaluates to \"False\""
   ]
  },
  {
   "cell_type": "code",
   "execution_count": null,
   "metadata": {
    "collapsed": true,
    "jupyter": {
     "outputs_hidden": true
    }
   },
   "outputs": [],
   "source": [
    "guess = [0]"
   ]
  },
  {
   "cell_type": "markdown",
   "metadata": {},
   "source": [
    "#### Write a `while` loop that asks for a valid guess. Test it a few times to make sure it works."
   ]
  },
  {
   "cell_type": "code",
   "execution_count": 31,
   "metadata": {},
   "outputs": [
    {
     "name": "stdin",
     "output_type": "stream",
     "text": [
      " What is your guess?  5\n"
     ]
    }
   ],
   "source": [
    "while True:\n",
    "    \n",
    "    guess = int(input(\" What is your guess? \"))\n",
    "    \n",
    "    if guess < 1 or guess > 100:\n",
    "        print('OUT OF Range Please try again: ')\n",
    "        continue\n",
    "        \n",
    "    break"
   ]
  },
  {
   "cell_type": "markdown",
   "metadata": {},
   "source": [
    "#### Write a `while` loop that compares the player's guess to our number. If the player guesses correctly, break from the loop. Otherwise, tell the player if they're warmer or colder, and continue asking for guesses.\n",
    "\n",
    "Some hints:\n",
    "* it may help to sketch out all possible combinations on paper first!\n",
    "* you can use the `abs()` function to find the positive difference between two numbers\n",
    "* if you append all new guesses to the list, then the previous guess is given as `guesses[-2]`"
   ]
  },
  {
   "cell_type": "code",
   "execution_count": 33,
   "metadata": {},
   "outputs": [
    {
     "name": "stdin",
     "output_type": "stream",
     "text": [
      "I'm thinking of a number between 1 and 100.\n",
      "  What is your guess?  5\n"
     ]
    },
    {
     "ename": "AttributeError",
     "evalue": "'int' object has no attribute 'append'",
     "output_type": "error",
     "traceback": [
      "\u001b[1;31m---------------------------------------------------------------------------\u001b[0m",
      "\u001b[1;31mAttributeError\u001b[0m                            Traceback (most recent call last)",
      "Cell \u001b[1;32mIn[33], line 16\u001b[0m\n\u001b[0;32m     13\u001b[0m     \u001b[38;5;28;01mbreak\u001b[39;00m\n\u001b[0;32m     15\u001b[0m \u001b[38;5;66;03m# if guess is incorrect, add guess to the list\u001b[39;00m\n\u001b[1;32m---> 16\u001b[0m \u001b[43mguesses\u001b[49m\u001b[38;5;241;43m.\u001b[39;49m\u001b[43mappend\u001b[49m(guess)\n\u001b[0;32m     18\u001b[0m \u001b[38;5;66;03m# when testing the first guess, guesses[-2]==0, which evaluates to False\u001b[39;00m\n\u001b[0;32m     19\u001b[0m \u001b[38;5;66;03m# and brings us down to the second section\u001b[39;00m\n\u001b[0;32m     21\u001b[0m \u001b[38;5;28;01mif\u001b[39;00m guesses[\u001b[38;5;241m-\u001b[39m\u001b[38;5;241m2\u001b[39m]:  \n",
      "\u001b[1;31mAttributeError\u001b[0m: 'int' object has no attribute 'append'"
     ]
    }
   ],
   "source": [
    "while True:\n",
    "\n",
    "    # we can copy the code from above to take an input\n",
    "    guess = int(input(\"I'm thinking of a number between 1 and 100.\\n  What is your guess? \"))\n",
    "    \n",
    "    if guess < 1 or guess > 100:\n",
    "        print('OUT OF BOUNDS! Please try again: ')\n",
    "        continue\n",
    "    \n",
    "    # here we compare the player's guess to our number\n",
    "    if guess == num:\n",
    "        print(f'CONGRATULATIONS, YOU GUESSED IT IN ONLY {len(guesses)} GUESSES!!')\n",
    "        break\n",
    "        \n",
    "    # if guess is incorrect, add guess to the list\n",
    "    guesses.append(guess)\n",
    "    \n",
    "    # when testing the first guess, guesses[-2]==0, which evaluates to False\n",
    "    # and brings us down to the second section\n",
    "    \n",
    "    if guesses[-2]:  \n",
    "        if abs(num-guess) < abs(num-guesses[-2]):\n",
    "            print('WARMER!')\n",
    "        else:\n",
    "            print('COLDER!')\n",
    "   \n",
    "    else:\n",
    "        if abs(num-guess) <= 10:\n",
    "            print('WARM!')\n",
    "        else:\n",
    "            print('COLD!')"
   ]
  },
  {
   "cell_type": "markdown",
   "metadata": {},
   "source": [
    "That's it! You've just programmed your first game!\n",
    "\n",
    "In the next section we'll learn how to turn some of these repetitive actions into *functions* that can be called whenever we need them."
   ]
  },
  {
   "cell_type": "markdown",
   "metadata": {},
   "source": [
    "### Good Job!"
   ]
  }
 ],
 "metadata": {
  "kernelspec": {
   "display_name": "Python 3 (ipykernel)",
   "language": "python",
   "name": "python3"
  },
  "language_info": {
   "codemirror_mode": {
    "name": "ipython",
    "version": 3
   },
   "file_extension": ".py",
   "mimetype": "text/x-python",
   "name": "python",
   "nbconvert_exporter": "python",
   "pygments_lexer": "ipython3",
   "version": "3.12.7"
  }
 },
 "nbformat": 4,
 "nbformat_minor": 4
}
