{
 "cells": [
  {
   "cell_type": "code",
   "execution_count": 1,
   "id": "1a581d85-6719-492b-9dbc-639022c0b5d0",
   "metadata": {},
   "outputs": [],
   "source": [
    "my_lsi=['1','2','3']\n",
    "from IPython.display import clear_output\n"
   ]
  },
  {
   "cell_type": "code",
   "execution_count": 2,
   "id": "e73f966d-cb60-4a8b-8ff7-83c235078d02",
   "metadata": {},
   "outputs": [],
   "source": [
    "def get_started():\n",
    "    choice=\"not\"\n",
    "    while choice not in my_lsi:\n",
    "        ip=input(\"enter the number between 0,1,2\")\n",
    "        if ip not in my_lsi:\n",
    "            clear_output()\n",
    "            print(\"enter the correct number\")\n",
    "        else:\n",
    "            break\n",
    "    return int(ip)\n",
    "        "
   ]
  },
  {
   "cell_type": "code",
   "execution_count": null,
   "id": "01f60360-ebaf-4e89-b0cd-51123d5cd5ff",
   "metadata": {},
   "outputs": [],
   "source": []
  },
  {
   "cell_type": "code",
   "execution_count": 3,
   "id": "613b5e2a-dd30-447a-986e-57de68c9f068",
   "metadata": {},
   "outputs": [
    {
     "name": "stdin",
     "output_type": "stream",
     "text": [
      "enter the number between 0,1,2 2\n"
     ]
    }
   ],
   "source": [
    "m1=get_started() \n"
   ]
  },
  {
   "cell_type": "code",
   "execution_count": 41,
   "id": "da1c4142-1065-4bb6-bab6-c17a14cbb6f5",
   "metadata": {},
   "outputs": [],
   "source": [
    "def chlist(my_lsi,m1):\n",
    "    k1=input(\"enter a string:\")\n",
    "   \n",
    "    my_lsi[m1]=k1;\n",
    "\n",
    "    return my_lsi"
   ]
  },
  {
   "cell_type": "code",
   "execution_count": 45,
   "id": "276f7208-7e01-4c00-903d-e1060f00f6f8",
   "metadata": {},
   "outputs": [
    {
     "name": "stdin",
     "output_type": "stream",
     "text": [
      "enter a string: meet\n"
     ]
    }
   ],
   "source": [
    "lst=chlist(my_lsi,2)"
   ]
  },
  {
   "cell_type": "code",
   "execution_count": 47,
   "id": "519a56c6-1431-481e-afda-29d6156080f0",
   "metadata": {},
   "outputs": [
    {
     "data": {
      "text/plain": [
       "['1', '2', 'meet']"
      ]
     },
     "execution_count": 47,
     "metadata": {},
     "output_type": "execute_result"
    }
   ],
   "source": [
    "lst"
   ]
  },
  {
   "cell_type": "code",
   "execution_count": 49,
   "id": "6097786b-0ed2-4d4f-a33d-83c562ff2950",
   "metadata": {},
   "outputs": [],
   "source": [
    "def display_game(my_lsi):\n",
    "    print(\"Here is the current list\")\n",
    "    print(my_lsi)"
   ]
  },
  {
   "cell_type": "code",
   "execution_count": 51,
   "id": "0cb7a5bb-2a2c-4e4f-91a2-520d34ef845b",
   "metadata": {},
   "outputs": [],
   "source": [
    "def gameon_choice():\n",
    "\n",
    "    choice = 'wrong'\n",
    "    while choice not in ['Y','N']:\n",
    "        choice = input(\"Would you like to keep playing? Y or N \")\n",
    "\n",
    "        \n",
    "        if choice not in ['Y','N']:\n",
    "           \n",
    "            clear_output()\n",
    "            \n",
    "            print(\"Sorry, I didn't understand. Please make sure to choose Y or N.\")\n",
    "            \n",
    "    \n",
    " \n",
    "    if choice == \"Y\":\n",
    "      \n",
    "        return True\n",
    "    else:\n",
    "      \n",
    "        return False"
   ]
  },
  {
   "cell_type": "code",
   "execution_count": 53,
   "id": "3413bcc0-2477-49d7-a2d5-ba758e50b545",
   "metadata": {},
   "outputs": [
    {
     "name": "stdout",
     "output_type": "stream",
     "text": [
      "Here is the current list\n",
      "[0, 1, 'meet']\n"
     ]
    },
    {
     "name": "stdin",
     "output_type": "stream",
     "text": [
      "Would you like to keep playing? Y or N  N\n"
     ]
    }
   ],
   "source": [
    "game_on = True\n",
    "game_list = [0,1,2]\n",
    "while game_on:\n",
    "    clear_output()\n",
    "    display_game(game_list)\n",
    "\n",
    "    position = get_started()\n",
    "\n",
    "    game_list = chlist(game_list,position)\n",
    "\n",
    "    clear_output()\n",
    "    display_game(game_list)\n",
    "\n",
    "    game_on = gameon_choice()\n",
    "    "
   ]
  },
  {
   "cell_type": "code",
   "execution_count": null,
   "id": "912358d4-c94c-4ec7-a9f1-f9fdc8cff12e",
   "metadata": {},
   "outputs": [],
   "source": []
  },
  {
   "cell_type": "code",
   "execution_count": null,
   "id": "2c2d9caf-42d6-43d1-8892-738a6a1cbc8c",
   "metadata": {},
   "outputs": [],
   "source": []
  }
 ],
 "metadata": {
  "kernelspec": {
   "display_name": "Python 3 (ipykernel)",
   "language": "python",
   "name": "python3"
  },
  "language_info": {
   "codemirror_mode": {
    "name": "ipython",
    "version": 3
   },
   "file_extension": ".py",
   "mimetype": "text/x-python",
   "name": "python",
   "nbconvert_exporter": "python",
   "pygments_lexer": "ipython3",
   "version": "3.12.7"
  }
 },
 "nbformat": 4,
 "nbformat_minor": 5
}
