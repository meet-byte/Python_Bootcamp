{
 "cells": [
  {
   "cell_type": "code",
   "execution_count": 7,
   "id": "1a581d85-6719-492b-9dbc-639022c0b5d0",
   "metadata": {},
   "outputs": [],
   "source": [
    "my_lsi=['1','2','3']\n",
    "from IPython.display import clear_output\n"
   ]
  },
  {
   "cell_type": "code",
   "execution_count": 16,
   "id": "e73f966d-cb60-4a8b-8ff7-83c235078d02",
   "metadata": {},
   "outputs": [],
   "source": [
    "def get_started():\n",
    "    choice=\"not\"\n",
    "    while choice not in my_lsi:\n",
    "        ip=input(\"enter the number between 0,1,2\")\n",
    "        if ip not in my_lsi:\n",
    "            clear_output()\n",
    "            print(\"enter the correct number\")\n",
    "        else:\n",
    "            break\n",
    "    return int(ip)\n",
    "        "
   ]
  },
  {
   "cell_type": "code",
   "execution_count": null,
   "id": "01f60360-ebaf-4e89-b0cd-51123d5cd5ff",
   "metadata": {},
   "outputs": [],
   "source": []
  },
  {
   "cell_type": "code",
   "execution_count": 21,
   "id": "613b5e2a-dd30-447a-986e-57de68c9f068",
   "metadata": {},
   "outputs": [
    {
     "name": "stdin",
     "output_type": "stream",
     "text": [
      "enter the number between 0,1,2 2\n"
     ]
    }
   ],
   "source": [
    "m1=get_started() \n"
   ]
  },
  {
   "cell_type": "code",
   "execution_count": 39,
   "id": "da1c4142-1065-4bb6-bab6-c17a14cbb6f5",
   "metadata": {},
   "outputs": [],
   "source": [
    "def chlist(my_lsi,m1,upinp):\n",
    "    k1=input(\"enter a string:\")\n",
    "   \n",
    "    my_lsi[m1]=upinp;\n",
    "\n",
    "    return my_lsi"
   ]
  },
  {
   "cell_type": "code",
   "execution_count": null,
   "id": "276f7208-7e01-4c00-903d-e1060f00f6f8",
   "metadata": {},
   "outputs": [],
   "source": [
    "lst=chlist(my_lsi,2,\"meet\")"
   ]
  },
  {
   "cell_type": "code",
   "execution_count": null,
   "id": "519a56c6-1431-481e-afda-29d6156080f0",
   "metadata": {},
   "outputs": [],
   "source": []
  }
 ],
 "metadata": {
  "kernelspec": {
   "display_name": "Python 3 (ipykernel)",
   "language": "python",
   "name": "python3"
  },
  "language_info": {
   "codemirror_mode": {
    "name": "ipython",
    "version": 3
   },
   "file_extension": ".py",
   "mimetype": "text/x-python",
   "name": "python",
   "nbconvert_exporter": "python",
   "pygments_lexer": "ipython3",
   "version": "3.12.7"
  }
 },
 "nbformat": 4,
 "nbformat_minor": 5
}
